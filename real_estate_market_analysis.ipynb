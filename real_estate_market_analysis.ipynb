{
 "cells": [
  {
   "cell_type": "markdown",
   "metadata": {},
   "source": [
    "# Исследование объявлений о продаже квартир\n",
    "\n",
    "В вашем распоряжении данные сервиса Яндекс.Недвижимость — архив объявлений о продаже квартир в Санкт-Петербурге и соседних населённых пунктов за несколько лет. Нужно научиться определять рыночную стоимость объектов недвижимости. Ваша задача — установить параметры. Это позволит построить автоматизированную систему: она отследит аномалии и мошенническую деятельность. \n",
    "\n",
    "По каждой квартире на продажу доступны два вида данных. Первые вписаны пользователем, вторые — получены автоматически на основе картографических данных. Например, расстояние до центра, аэропорта, ближайшего парка и водоёма. "
   ]
  },
  {
   "cell_type": "markdown",
   "metadata": {},
   "source": [
    "### Откройте файл с данными и изучите общую информацию. "
   ]
  },
  {
   "cell_type": "markdown",
   "metadata": {},
   "source": [
    "Импортируем библиотеки, необходимые для исследования (Pandas), cоставляем первое представление о данных: читаем файл и сохраняем его в переменной data:"
   ]
  },
  {
   "cell_type": "code",
   "execution_count": 1,
   "metadata": {},
   "outputs": [],
   "source": [
    "#импорт библиотек\n",
    "import pandas as pd\n",
    "%matplotlib inline\n",
    "import matplotlib.pyplot as plt\n",
    "import seaborn as sns\n",
    "import warnings\n",
    "warnings.filterwarnings('ignore')"
   ]
  },
  {
   "cell_type": "code",
   "execution_count": 2,
   "metadata": {},
   "outputs": [],
   "source": [
    "#открываем и сохраняем как датафрейм файл с данными:\n",
    "\n",
    "data = pd.read_csv('/datasets/real_estate_data.csv', sep='\\t')"
   ]
  },
  {
   "cell_type": "markdown",
   "metadata": {},
   "source": [
    "\n",
    "Выведем на экран первые пять строк таблицы:"
   ]
  },
  {
   "cell_type": "code",
   "execution_count": 3,
   "metadata": {},
   "outputs": [
    {
     "data": {
      "text/html": [
       "<div>\n",
       "<style scoped>\n",
       "    .dataframe tbody tr th:only-of-type {\n",
       "        vertical-align: middle;\n",
       "    }\n",
       "\n",
       "    .dataframe tbody tr th {\n",
       "        vertical-align: top;\n",
       "    }\n",
       "\n",
       "    .dataframe thead th {\n",
       "        text-align: right;\n",
       "    }\n",
       "</style>\n",
       "<table border=\"1\" class=\"dataframe\">\n",
       "  <thead>\n",
       "    <tr style=\"text-align: right;\">\n",
       "      <th></th>\n",
       "      <th>total_images</th>\n",
       "      <th>last_price</th>\n",
       "      <th>total_area</th>\n",
       "      <th>first_day_exposition</th>\n",
       "      <th>rooms</th>\n",
       "      <th>ceiling_height</th>\n",
       "      <th>floors_total</th>\n",
       "      <th>living_area</th>\n",
       "      <th>floor</th>\n",
       "      <th>is_apartment</th>\n",
       "      <th>...</th>\n",
       "      <th>kitchen_area</th>\n",
       "      <th>balcony</th>\n",
       "      <th>locality_name</th>\n",
       "      <th>airports_nearest</th>\n",
       "      <th>cityCenters_nearest</th>\n",
       "      <th>parks_around3000</th>\n",
       "      <th>parks_nearest</th>\n",
       "      <th>ponds_around3000</th>\n",
       "      <th>ponds_nearest</th>\n",
       "      <th>days_exposition</th>\n",
       "    </tr>\n",
       "  </thead>\n",
       "  <tbody>\n",
       "    <tr>\n",
       "      <th>0</th>\n",
       "      <td>20</td>\n",
       "      <td>13000000.0</td>\n",
       "      <td>108.0</td>\n",
       "      <td>2019-03-07T00:00:00</td>\n",
       "      <td>3</td>\n",
       "      <td>2.70</td>\n",
       "      <td>16.0</td>\n",
       "      <td>51.0</td>\n",
       "      <td>8</td>\n",
       "      <td>NaN</td>\n",
       "      <td>...</td>\n",
       "      <td>25.0</td>\n",
       "      <td>NaN</td>\n",
       "      <td>Санкт-Петербург</td>\n",
       "      <td>18863.0</td>\n",
       "      <td>16028.0</td>\n",
       "      <td>1.0</td>\n",
       "      <td>482.0</td>\n",
       "      <td>2.0</td>\n",
       "      <td>755.0</td>\n",
       "      <td>NaN</td>\n",
       "    </tr>\n",
       "    <tr>\n",
       "      <th>1</th>\n",
       "      <td>7</td>\n",
       "      <td>3350000.0</td>\n",
       "      <td>40.4</td>\n",
       "      <td>2018-12-04T00:00:00</td>\n",
       "      <td>1</td>\n",
       "      <td>NaN</td>\n",
       "      <td>11.0</td>\n",
       "      <td>18.6</td>\n",
       "      <td>1</td>\n",
       "      <td>NaN</td>\n",
       "      <td>...</td>\n",
       "      <td>11.0</td>\n",
       "      <td>2.0</td>\n",
       "      <td>посёлок Шушары</td>\n",
       "      <td>12817.0</td>\n",
       "      <td>18603.0</td>\n",
       "      <td>0.0</td>\n",
       "      <td>NaN</td>\n",
       "      <td>0.0</td>\n",
       "      <td>NaN</td>\n",
       "      <td>81.0</td>\n",
       "    </tr>\n",
       "    <tr>\n",
       "      <th>2</th>\n",
       "      <td>10</td>\n",
       "      <td>5196000.0</td>\n",
       "      <td>56.0</td>\n",
       "      <td>2015-08-20T00:00:00</td>\n",
       "      <td>2</td>\n",
       "      <td>NaN</td>\n",
       "      <td>5.0</td>\n",
       "      <td>34.3</td>\n",
       "      <td>4</td>\n",
       "      <td>NaN</td>\n",
       "      <td>...</td>\n",
       "      <td>8.3</td>\n",
       "      <td>0.0</td>\n",
       "      <td>Санкт-Петербург</td>\n",
       "      <td>21741.0</td>\n",
       "      <td>13933.0</td>\n",
       "      <td>1.0</td>\n",
       "      <td>90.0</td>\n",
       "      <td>2.0</td>\n",
       "      <td>574.0</td>\n",
       "      <td>558.0</td>\n",
       "    </tr>\n",
       "    <tr>\n",
       "      <th>3</th>\n",
       "      <td>0</td>\n",
       "      <td>64900000.0</td>\n",
       "      <td>159.0</td>\n",
       "      <td>2015-07-24T00:00:00</td>\n",
       "      <td>3</td>\n",
       "      <td>NaN</td>\n",
       "      <td>14.0</td>\n",
       "      <td>NaN</td>\n",
       "      <td>9</td>\n",
       "      <td>NaN</td>\n",
       "      <td>...</td>\n",
       "      <td>NaN</td>\n",
       "      <td>0.0</td>\n",
       "      <td>Санкт-Петербург</td>\n",
       "      <td>28098.0</td>\n",
       "      <td>6800.0</td>\n",
       "      <td>2.0</td>\n",
       "      <td>84.0</td>\n",
       "      <td>3.0</td>\n",
       "      <td>234.0</td>\n",
       "      <td>424.0</td>\n",
       "    </tr>\n",
       "    <tr>\n",
       "      <th>4</th>\n",
       "      <td>2</td>\n",
       "      <td>10000000.0</td>\n",
       "      <td>100.0</td>\n",
       "      <td>2018-06-19T00:00:00</td>\n",
       "      <td>2</td>\n",
       "      <td>3.03</td>\n",
       "      <td>14.0</td>\n",
       "      <td>32.0</td>\n",
       "      <td>13</td>\n",
       "      <td>NaN</td>\n",
       "      <td>...</td>\n",
       "      <td>41.0</td>\n",
       "      <td>NaN</td>\n",
       "      <td>Санкт-Петербург</td>\n",
       "      <td>31856.0</td>\n",
       "      <td>8098.0</td>\n",
       "      <td>2.0</td>\n",
       "      <td>112.0</td>\n",
       "      <td>1.0</td>\n",
       "      <td>48.0</td>\n",
       "      <td>121.0</td>\n",
       "    </tr>\n",
       "  </tbody>\n",
       "</table>\n",
       "<p>5 rows × 22 columns</p>\n",
       "</div>"
      ],
      "text/plain": [
       "   total_images  last_price  total_area first_day_exposition  rooms  \\\n",
       "0            20  13000000.0       108.0  2019-03-07T00:00:00      3   \n",
       "1             7   3350000.0        40.4  2018-12-04T00:00:00      1   \n",
       "2            10   5196000.0        56.0  2015-08-20T00:00:00      2   \n",
       "3             0  64900000.0       159.0  2015-07-24T00:00:00      3   \n",
       "4             2  10000000.0       100.0  2018-06-19T00:00:00      2   \n",
       "\n",
       "   ceiling_height  floors_total  living_area  floor is_apartment  ...  \\\n",
       "0            2.70          16.0         51.0      8          NaN  ...   \n",
       "1             NaN          11.0         18.6      1          NaN  ...   \n",
       "2             NaN           5.0         34.3      4          NaN  ...   \n",
       "3             NaN          14.0          NaN      9          NaN  ...   \n",
       "4            3.03          14.0         32.0     13          NaN  ...   \n",
       "\n",
       "   kitchen_area  balcony    locality_name  airports_nearest  \\\n",
       "0          25.0      NaN  Санкт-Петербург           18863.0   \n",
       "1          11.0      2.0   посёлок Шушары           12817.0   \n",
       "2           8.3      0.0  Санкт-Петербург           21741.0   \n",
       "3           NaN      0.0  Санкт-Петербург           28098.0   \n",
       "4          41.0      NaN  Санкт-Петербург           31856.0   \n",
       "\n",
       "  cityCenters_nearest  parks_around3000  parks_nearest  ponds_around3000  \\\n",
       "0             16028.0               1.0          482.0               2.0   \n",
       "1             18603.0               0.0            NaN               0.0   \n",
       "2             13933.0               1.0           90.0               2.0   \n",
       "3              6800.0               2.0           84.0               3.0   \n",
       "4              8098.0               2.0          112.0               1.0   \n",
       "\n",
       "   ponds_nearest  days_exposition  \n",
       "0          755.0              NaN  \n",
       "1            NaN             81.0  \n",
       "2          574.0            558.0  \n",
       "3          234.0            424.0  \n",
       "4           48.0            121.0  \n",
       "\n",
       "[5 rows x 22 columns]"
      ]
     },
     "execution_count": 3,
     "metadata": {},
     "output_type": "execute_result"
    }
   ],
   "source": [
    "data.head()"
   ]
  },
  {
   "cell_type": "markdown",
   "metadata": {},
   "source": [
    "Получим общую информацию о таблице:"
   ]
  },
  {
   "cell_type": "code",
   "execution_count": 4,
   "metadata": {},
   "outputs": [
    {
     "name": "stdout",
     "output_type": "stream",
     "text": [
      "<class 'pandas.core.frame.DataFrame'>\n",
      "RangeIndex: 23699 entries, 0 to 23698\n",
      "Data columns (total 22 columns):\n",
      " #   Column                Non-Null Count  Dtype  \n",
      "---  ------                --------------  -----  \n",
      " 0   total_images          23699 non-null  int64  \n",
      " 1   last_price            23699 non-null  float64\n",
      " 2   total_area            23699 non-null  float64\n",
      " 3   first_day_exposition  23699 non-null  object \n",
      " 4   rooms                 23699 non-null  int64  \n",
      " 5   ceiling_height        14504 non-null  float64\n",
      " 6   floors_total          23613 non-null  float64\n",
      " 7   living_area           21796 non-null  float64\n",
      " 8   floor                 23699 non-null  int64  \n",
      " 9   is_apartment          2775 non-null   object \n",
      " 10  studio                23699 non-null  bool   \n",
      " 11  open_plan             23699 non-null  bool   \n",
      " 12  kitchen_area          21421 non-null  float64\n",
      " 13  balcony               12180 non-null  float64\n",
      " 14  locality_name         23650 non-null  object \n",
      " 15  airports_nearest      18157 non-null  float64\n",
      " 16  cityCenters_nearest   18180 non-null  float64\n",
      " 17  parks_around3000      18181 non-null  float64\n",
      " 18  parks_nearest         8079 non-null   float64\n",
      " 19  ponds_around3000      18181 non-null  float64\n",
      " 20  ponds_nearest         9110 non-null   float64\n",
      " 21  days_exposition       20518 non-null  float64\n",
      "dtypes: bool(2), float64(14), int64(3), object(3)\n",
      "memory usage: 3.7+ MB\n"
     ]
    }
   ],
   "source": [
    "data.info()"
   ]
  },
  {
   "cell_type": "markdown",
   "metadata": {},
   "source": [
    "Описание данных:\n",
    "В таблице 22 столбцa. Тип данных в столбцах —bool, object, int64 и float64.\n",
    "\n",
    "- airports_nearest — расстояние до ближайшего аэропорта в метрах (м)\n",
    "- balcony — число балконов\n",
    "- ceiling_height — высота потолков (м)\n",
    "- cityCenters_nearest — расстояние до центра города (м)\n",
    "- days_exposition — сколько дней было размещено объявление (от публикации до снятия)\n",
    "- first_day_exposition — дата публикации\n",
    "- floor — этаж\n",
    "- floors_total — всего этажей в доме\n",
    "- is_apartment — апартаменты (булев тип)\n",
    "- kitchen_area — площадь кухни в квадратных метрах (м²)\n",
    "- last_price — цена на момент снятия с публикации\n",
    "- living_area — жилая площадь в квадратных метрах (м²)\n",
    "- locality_name — название населённого пункта\n",
    "- open_plan — свободная планировка (булев тип)\n",
    "* parks_around3000 — число парков в радиусе 3 км\n",
    "* parks_nearest — расстояние до ближайшего парка (м)\n",
    "+ ponds_around3000 — число водоёмов в радиусе 3 км\n",
    "+ ponds_nearest — расстояние до ближайшего водоёма (м)\n",
    "* rooms — число комнат\n",
    "* studio — квартира-студия (булев тип)\n",
    "* total_area — площадь квартиры в квадратных метрах (м²)\n",
    "+ total_images — число фотографий квартиры в объявлении"
   ]
  },
  {
   "cell_type": "markdown",
   "metadata": {},
   "source": [
    "Для просмотра статистической сводки каждого столбца, чтобы узнать распределение данных в каждом столбце используется метод describe( ). Этот метод показывает нам количество строк в столбце - count, среднее значение столбца - mean, столбец стандартное отклонение - std, минимальные (min) и максимальные (max) значения, а также границу каждого квартиля - 25%, 50% и 75%. Любые значения NaN автоматически пропускаются."
   ]
  },
  {
   "cell_type": "code",
   "execution_count": 5,
   "metadata": {},
   "outputs": [
    {
     "data": {
      "text/html": [
       "<div>\n",
       "<style scoped>\n",
       "    .dataframe tbody tr th:only-of-type {\n",
       "        vertical-align: middle;\n",
       "    }\n",
       "\n",
       "    .dataframe tbody tr th {\n",
       "        vertical-align: top;\n",
       "    }\n",
       "\n",
       "    .dataframe thead th {\n",
       "        text-align: right;\n",
       "    }\n",
       "</style>\n",
       "<table border=\"1\" class=\"dataframe\">\n",
       "  <thead>\n",
       "    <tr style=\"text-align: right;\">\n",
       "      <th></th>\n",
       "      <th>total_images</th>\n",
       "      <th>last_price</th>\n",
       "      <th>total_area</th>\n",
       "      <th>rooms</th>\n",
       "      <th>ceiling_height</th>\n",
       "      <th>floors_total</th>\n",
       "      <th>living_area</th>\n",
       "      <th>floor</th>\n",
       "      <th>kitchen_area</th>\n",
       "      <th>balcony</th>\n",
       "      <th>airports_nearest</th>\n",
       "      <th>cityCenters_nearest</th>\n",
       "      <th>parks_around3000</th>\n",
       "      <th>parks_nearest</th>\n",
       "      <th>ponds_around3000</th>\n",
       "      <th>ponds_nearest</th>\n",
       "      <th>days_exposition</th>\n",
       "    </tr>\n",
       "  </thead>\n",
       "  <tbody>\n",
       "    <tr>\n",
       "      <th>count</th>\n",
       "      <td>23699.000000</td>\n",
       "      <td>2.369900e+04</td>\n",
       "      <td>23699.000000</td>\n",
       "      <td>23699.000000</td>\n",
       "      <td>14504.000000</td>\n",
       "      <td>23613.000000</td>\n",
       "      <td>21796.000000</td>\n",
       "      <td>23699.000000</td>\n",
       "      <td>21421.000000</td>\n",
       "      <td>12180.000000</td>\n",
       "      <td>18157.000000</td>\n",
       "      <td>18180.000000</td>\n",
       "      <td>18181.000000</td>\n",
       "      <td>8079.000000</td>\n",
       "      <td>18181.000000</td>\n",
       "      <td>9110.000000</td>\n",
       "      <td>20518.000000</td>\n",
       "    </tr>\n",
       "    <tr>\n",
       "      <th>mean</th>\n",
       "      <td>9.858475</td>\n",
       "      <td>6.541549e+06</td>\n",
       "      <td>60.348651</td>\n",
       "      <td>2.070636</td>\n",
       "      <td>2.771499</td>\n",
       "      <td>10.673824</td>\n",
       "      <td>34.457852</td>\n",
       "      <td>5.892358</td>\n",
       "      <td>10.569807</td>\n",
       "      <td>1.150082</td>\n",
       "      <td>28793.672193</td>\n",
       "      <td>14191.277833</td>\n",
       "      <td>0.611408</td>\n",
       "      <td>490.804555</td>\n",
       "      <td>0.770255</td>\n",
       "      <td>517.980900</td>\n",
       "      <td>180.888634</td>\n",
       "    </tr>\n",
       "    <tr>\n",
       "      <th>std</th>\n",
       "      <td>5.682529</td>\n",
       "      <td>1.088701e+07</td>\n",
       "      <td>35.654083</td>\n",
       "      <td>1.078405</td>\n",
       "      <td>1.261056</td>\n",
       "      <td>6.597173</td>\n",
       "      <td>22.030445</td>\n",
       "      <td>4.885249</td>\n",
       "      <td>5.905438</td>\n",
       "      <td>1.071300</td>\n",
       "      <td>12630.880622</td>\n",
       "      <td>8608.386210</td>\n",
       "      <td>0.802074</td>\n",
       "      <td>342.317995</td>\n",
       "      <td>0.938346</td>\n",
       "      <td>277.720643</td>\n",
       "      <td>219.727988</td>\n",
       "    </tr>\n",
       "    <tr>\n",
       "      <th>min</th>\n",
       "      <td>0.000000</td>\n",
       "      <td>1.219000e+04</td>\n",
       "      <td>12.000000</td>\n",
       "      <td>0.000000</td>\n",
       "      <td>1.000000</td>\n",
       "      <td>1.000000</td>\n",
       "      <td>2.000000</td>\n",
       "      <td>1.000000</td>\n",
       "      <td>1.300000</td>\n",
       "      <td>0.000000</td>\n",
       "      <td>0.000000</td>\n",
       "      <td>181.000000</td>\n",
       "      <td>0.000000</td>\n",
       "      <td>1.000000</td>\n",
       "      <td>0.000000</td>\n",
       "      <td>13.000000</td>\n",
       "      <td>1.000000</td>\n",
       "    </tr>\n",
       "    <tr>\n",
       "      <th>25%</th>\n",
       "      <td>6.000000</td>\n",
       "      <td>3.400000e+06</td>\n",
       "      <td>40.000000</td>\n",
       "      <td>1.000000</td>\n",
       "      <td>2.520000</td>\n",
       "      <td>5.000000</td>\n",
       "      <td>18.600000</td>\n",
       "      <td>2.000000</td>\n",
       "      <td>7.000000</td>\n",
       "      <td>0.000000</td>\n",
       "      <td>18585.000000</td>\n",
       "      <td>9238.000000</td>\n",
       "      <td>0.000000</td>\n",
       "      <td>288.000000</td>\n",
       "      <td>0.000000</td>\n",
       "      <td>294.000000</td>\n",
       "      <td>45.000000</td>\n",
       "    </tr>\n",
       "    <tr>\n",
       "      <th>50%</th>\n",
       "      <td>9.000000</td>\n",
       "      <td>4.650000e+06</td>\n",
       "      <td>52.000000</td>\n",
       "      <td>2.000000</td>\n",
       "      <td>2.650000</td>\n",
       "      <td>9.000000</td>\n",
       "      <td>30.000000</td>\n",
       "      <td>4.000000</td>\n",
       "      <td>9.100000</td>\n",
       "      <td>1.000000</td>\n",
       "      <td>26726.000000</td>\n",
       "      <td>13098.500000</td>\n",
       "      <td>0.000000</td>\n",
       "      <td>455.000000</td>\n",
       "      <td>1.000000</td>\n",
       "      <td>502.000000</td>\n",
       "      <td>95.000000</td>\n",
       "    </tr>\n",
       "    <tr>\n",
       "      <th>75%</th>\n",
       "      <td>14.000000</td>\n",
       "      <td>6.800000e+06</td>\n",
       "      <td>69.900000</td>\n",
       "      <td>3.000000</td>\n",
       "      <td>2.800000</td>\n",
       "      <td>16.000000</td>\n",
       "      <td>42.300000</td>\n",
       "      <td>8.000000</td>\n",
       "      <td>12.000000</td>\n",
       "      <td>2.000000</td>\n",
       "      <td>37273.000000</td>\n",
       "      <td>16293.000000</td>\n",
       "      <td>1.000000</td>\n",
       "      <td>612.000000</td>\n",
       "      <td>1.000000</td>\n",
       "      <td>729.000000</td>\n",
       "      <td>232.000000</td>\n",
       "    </tr>\n",
       "    <tr>\n",
       "      <th>max</th>\n",
       "      <td>50.000000</td>\n",
       "      <td>7.630000e+08</td>\n",
       "      <td>900.000000</td>\n",
       "      <td>19.000000</td>\n",
       "      <td>100.000000</td>\n",
       "      <td>60.000000</td>\n",
       "      <td>409.700000</td>\n",
       "      <td>33.000000</td>\n",
       "      <td>112.000000</td>\n",
       "      <td>5.000000</td>\n",
       "      <td>84869.000000</td>\n",
       "      <td>65968.000000</td>\n",
       "      <td>3.000000</td>\n",
       "      <td>3190.000000</td>\n",
       "      <td>3.000000</td>\n",
       "      <td>1344.000000</td>\n",
       "      <td>1580.000000</td>\n",
       "    </tr>\n",
       "  </tbody>\n",
       "</table>\n",
       "</div>"
      ],
      "text/plain": [
       "       total_images    last_price    total_area         rooms  ceiling_height  \\\n",
       "count  23699.000000  2.369900e+04  23699.000000  23699.000000    14504.000000   \n",
       "mean       9.858475  6.541549e+06     60.348651      2.070636        2.771499   \n",
       "std        5.682529  1.088701e+07     35.654083      1.078405        1.261056   \n",
       "min        0.000000  1.219000e+04     12.000000      0.000000        1.000000   \n",
       "25%        6.000000  3.400000e+06     40.000000      1.000000        2.520000   \n",
       "50%        9.000000  4.650000e+06     52.000000      2.000000        2.650000   \n",
       "75%       14.000000  6.800000e+06     69.900000      3.000000        2.800000   \n",
       "max       50.000000  7.630000e+08    900.000000     19.000000      100.000000   \n",
       "\n",
       "       floors_total   living_area         floor  kitchen_area       balcony  \\\n",
       "count  23613.000000  21796.000000  23699.000000  21421.000000  12180.000000   \n",
       "mean      10.673824     34.457852      5.892358     10.569807      1.150082   \n",
       "std        6.597173     22.030445      4.885249      5.905438      1.071300   \n",
       "min        1.000000      2.000000      1.000000      1.300000      0.000000   \n",
       "25%        5.000000     18.600000      2.000000      7.000000      0.000000   \n",
       "50%        9.000000     30.000000      4.000000      9.100000      1.000000   \n",
       "75%       16.000000     42.300000      8.000000     12.000000      2.000000   \n",
       "max       60.000000    409.700000     33.000000    112.000000      5.000000   \n",
       "\n",
       "       airports_nearest  cityCenters_nearest  parks_around3000  parks_nearest  \\\n",
       "count      18157.000000         18180.000000      18181.000000    8079.000000   \n",
       "mean       28793.672193         14191.277833          0.611408     490.804555   \n",
       "std        12630.880622          8608.386210          0.802074     342.317995   \n",
       "min            0.000000           181.000000          0.000000       1.000000   \n",
       "25%        18585.000000          9238.000000          0.000000     288.000000   \n",
       "50%        26726.000000         13098.500000          0.000000     455.000000   \n",
       "75%        37273.000000         16293.000000          1.000000     612.000000   \n",
       "max        84869.000000         65968.000000          3.000000    3190.000000   \n",
       "\n",
       "       ponds_around3000  ponds_nearest  days_exposition  \n",
       "count      18181.000000    9110.000000     20518.000000  \n",
       "mean           0.770255     517.980900       180.888634  \n",
       "std            0.938346     277.720643       219.727988  \n",
       "min            0.000000      13.000000         1.000000  \n",
       "25%            0.000000     294.000000        45.000000  \n",
       "50%            1.000000     502.000000        95.000000  \n",
       "75%            1.000000     729.000000       232.000000  \n",
       "max            3.000000    1344.000000      1580.000000  "
      ]
     },
     "execution_count": 5,
     "metadata": {},
     "output_type": "execute_result"
    }
   ],
   "source": [
    "data.describe()"
   ]
  },
  {
   "cell_type": "markdown",
   "metadata": {},
   "source": [
    "Постройм общую гистограмму для всех числовых столбцов таблицы."
   ]
  },
  {
   "cell_type": "code",
   "execution_count": 6,
   "metadata": {},
   "outputs": [
    {
     "data": {
      "text/plain": [
       "array([[<AxesSubplot:title={'center':'total_images'}>,\n",
       "        <AxesSubplot:title={'center':'last_price'}>,\n",
       "        <AxesSubplot:title={'center':'total_area'}>,\n",
       "        <AxesSubplot:title={'center':'rooms'}>],\n",
       "       [<AxesSubplot:title={'center':'ceiling_height'}>,\n",
       "        <AxesSubplot:title={'center':'floors_total'}>,\n",
       "        <AxesSubplot:title={'center':'living_area'}>,\n",
       "        <AxesSubplot:title={'center':'floor'}>],\n",
       "       [<AxesSubplot:title={'center':'kitchen_area'}>,\n",
       "        <AxesSubplot:title={'center':'balcony'}>,\n",
       "        <AxesSubplot:title={'center':'airports_nearest'}>,\n",
       "        <AxesSubplot:title={'center':'cityCenters_nearest'}>],\n",
       "       [<AxesSubplot:title={'center':'parks_around3000'}>,\n",
       "        <AxesSubplot:title={'center':'parks_nearest'}>,\n",
       "        <AxesSubplot:title={'center':'ponds_around3000'}>,\n",
       "        <AxesSubplot:title={'center':'ponds_nearest'}>],\n",
       "       [<AxesSubplot:title={'center':'days_exposition'}>, <AxesSubplot:>,\n",
       "        <AxesSubplot:>, <AxesSubplot:>]], dtype=object)"
      ]
     },
     "execution_count": 6,
     "metadata": {},
     "output_type": "execute_result"
    },
    {
     "data": {
      "image/png": "[encoded data removed]",
      "text/plain": [
       "<Figure size 1080x1440 with 20 Axes>"
      ]
     },
     "metadata": {
      "needs_background": "light"
     },
     "output_type": "display_data"
    }
   ],
   "source": [
    "data.hist(figsize=(15, 20))"
   ]
  },
  {
   "cell_type": "markdown",
   "metadata": {},
   "source": [
    "#### Вывод"
   ]
  },
  {
   "cell_type": "markdown",
   "metadata": {},
   "source": [
    "Возможно это технические ошибки при выгрузке, либо выгрузка из нескольких источников, котоыре были заполнены по-разному, либо просто бессистемное заполнение данных исполнителем.\n",
    "\n",
    "видно явное несоотвествие типов, необходимо перевести данные:\n",
    "\n",
    "в формат int из формата float:\n",
    "\n",
    "last_price\n",
    "floors_total\n",
    "balcony\n",
    "parks_around3000\n",
    "parks_nearest\n",
    "ponds_around3000\n",
    "ponds_nearest\n",
    "airports_nearest\n",
    "cityCenters_nearest\n",
    "days_exposition\n",
    "в формат bool из формата object:\n",
    "\n",
    "is_apartment\n",
    "в формат даты\n",
    "\n",
    "first_day_exposition object\n",
    "в названии колонок 'parks_around3000, 'ponds_around3000', 'cityCenters_nearest' присутствует нарушение стиля:\n",
    "\n",
    "не соблюден snake case,\n",
    "присутствуют прописные буквы.\n",
    "\n",
    "\n",
    "В каждой строке таблицы — данные о конкретной квартире, выставленной на продажу. По каждой квартире доступны два вида данных. Первые вписаны пользователем, вторые — получены автоматически на основе картографических данных. Например, расстояние до центра, аэропорта, ближайшего парка и водоёма.\n",
    "\n",
    "Предварительно можно утверждать, что, данных достаточно для проверки гипотез. Но данные, скорее всего, взяты из разных источников, что является результатом пропусков значений в некоторых столбцах, а также предположительны ошибки при выгрузке и из-за некорректного заполнения первоисточников исполнителем.\n",
    "\n",
    "Для корректного анализа попытаемся устранить выявленные ошибки, для чего проведем более подробную проверку каждого столбца в следующем разделе."
   ]
  },
  {
   "cell_type": "markdown",
   "metadata": {},
   "source": [
    "### Предобработка данных"
   ]
  },
  {
   "cell_type": "markdown",
   "metadata": {},
   "source": [
    "#### Исследование и заполнение пропусков в данных"
   ]
  },
  {
   "cell_type": "markdown",
   "metadata": {},
   "source": [
    "Приведение названия столбцов 'parks_around3000, 'ponds_around3000', 'cityCenters_nearest' к общему стилю:"
   ]
  },
  {
   "cell_type": "code",
   "execution_count": 7,
   "metadata": {},
   "outputs": [
    {
     "data": {
      "text/plain": [
       "Index(['total_images', 'last_price', 'total_area', 'first_day_exposition',\n",
       "       'rooms', 'ceiling_height', 'floors_total', 'living_area', 'floor',\n",
       "       'is_apartment', 'studio', 'open_plan', 'kitchen_area', 'balcony',\n",
       "       'locality_name', 'airports_nearest', 'cityCenters_nearest',\n",
       "       'parks_around3000', 'parks_nearest', 'ponds_around3000',\n",
       "       'ponds_nearest', 'days_exposition'],\n",
       "      dtype='object')"
      ]
     },
     "execution_count": 7,
     "metadata": {},
     "output_type": "execute_result"
    }
   ],
   "source": [
    "data.columns"
   ]
  },
  {
   "cell_type": "code",
   "execution_count": 8,
   "metadata": {},
   "outputs": [
    {
     "data": {
      "text/plain": [
       "Index(['total_images', 'last_price', 'total_area', 'first_day_exposition',\n",
       "       'rooms', 'ceiling_height', 'floors_total', 'living_area', 'floor',\n",
       "       'is_apartment', 'studio', 'open_plan', 'kitchen_area', 'balcony',\n",
       "       'locality_name', 'airports_nearest', 'city_centers_nearest',\n",
       "       'parks_around_3000', 'parks_nearest', 'ponds_around_3000',\n",
       "       'ponds_nearest', 'days_exposition'],\n",
       "      dtype='object')"
      ]
     },
     "execution_count": 8,
     "metadata": {},
     "output_type": "execute_result"
    }
   ],
   "source": [
    "#переименование колонок (исправление стиля)\n",
    "data = data.rename(\n",
    "    columns={'parks_around3000':'parks_around_3000', \n",
    "             'ponds_around3000':'ponds_around_3000', \n",
    "             'cityCenters_nearest':'city_centers_nearest'}\n",
    ")\n",
    "\n",
    "#проверяем внесение изменений:\n",
    "data.columns"
   ]
  },
  {
   "cell_type": "code",
   "execution_count": 9,
   "metadata": {},
   "outputs": [
    {
     "data": {
      "text/html": [
       "<div>\n",
       "<style scoped>\n",
       "    .dataframe tbody tr th:only-of-type {\n",
       "        vertical-align: middle;\n",
       "    }\n",
       "\n",
       "    .dataframe tbody tr th {\n",
       "        vertical-align: top;\n",
       "    }\n",
       "\n",
       "    .dataframe thead th {\n",
       "        text-align: right;\n",
       "    }\n",
       "</style>\n",
       "<table border=\"1\" class=\"dataframe\">\n",
       "  <thead>\n",
       "    <tr style=\"text-align: right;\">\n",
       "      <th></th>\n",
       "      <th>total_images</th>\n",
       "      <th>last_price</th>\n",
       "      <th>total_area</th>\n",
       "      <th>first_day_exposition</th>\n",
       "      <th>rooms</th>\n",
       "      <th>ceiling_height</th>\n",
       "      <th>floors_total</th>\n",
       "      <th>living_area</th>\n",
       "      <th>floor</th>\n",
       "      <th>is_apartment</th>\n",
       "      <th>...</th>\n",
       "      <th>kitchen_area</th>\n",
       "      <th>balcony</th>\n",
       "      <th>locality_name</th>\n",
       "      <th>airports_nearest</th>\n",
       "      <th>city_centers_nearest</th>\n",
       "      <th>parks_around_3000</th>\n",
       "      <th>parks_nearest</th>\n",
       "      <th>ponds_around_3000</th>\n",
       "      <th>ponds_nearest</th>\n",
       "      <th>days_exposition</th>\n",
       "    </tr>\n",
       "  </thead>\n",
       "  <tbody>\n",
       "    <tr>\n",
       "      <th>8793</th>\n",
       "      <td>7</td>\n",
       "      <td>12190.0</td>\n",
       "      <td>109.0</td>\n",
       "      <td>2019-03-20T00:00:00</td>\n",
       "      <td>2</td>\n",
       "      <td>2.75</td>\n",
       "      <td>25.0</td>\n",
       "      <td>32.0</td>\n",
       "      <td>25</td>\n",
       "      <td>NaN</td>\n",
       "      <td>...</td>\n",
       "      <td>40.5</td>\n",
       "      <td>NaN</td>\n",
       "      <td>Санкт-Петербург</td>\n",
       "      <td>36421.0</td>\n",
       "      <td>9176.0</td>\n",
       "      <td>1.0</td>\n",
       "      <td>805.0</td>\n",
       "      <td>0.0</td>\n",
       "      <td>NaN</td>\n",
       "      <td>8.0</td>\n",
       "    </tr>\n",
       "  </tbody>\n",
       "</table>\n",
       "<p>1 rows × 22 columns</p>\n",
       "</div>"
      ],
      "text/plain": [
       "      total_images  last_price  total_area first_day_exposition  rooms  \\\n",
       "8793             7     12190.0       109.0  2019-03-20T00:00:00      2   \n",
       "\n",
       "      ceiling_height  floors_total  living_area  floor is_apartment  ...  \\\n",
       "8793            2.75          25.0         32.0     25          NaN  ...   \n",
       "\n",
       "      kitchen_area  balcony    locality_name  airports_nearest  \\\n",
       "8793          40.5      NaN  Санкт-Петербург           36421.0   \n",
       "\n",
       "     city_centers_nearest  parks_around_3000  parks_nearest  \\\n",
       "8793               9176.0                1.0          805.0   \n",
       "\n",
       "      ponds_around_3000  ponds_nearest  days_exposition  \n",
       "8793                0.0            NaN              8.0  \n",
       "\n",
       "[1 rows x 22 columns]"
      ]
     },
     "metadata": {},
     "output_type": "display_data"
    }
   ],
   "source": [
    "#проверка цены на \"здравый смысл\":\n",
    "display(data.loc[(data['last_price']<1000000)& (data['locality_name']=='Санкт-Петербург' )])"
   ]
  },
  {
   "cell_type": "markdown",
   "metadata": {},
   "source": [
    "Выявлена одна квартира стоимостью 12 190 руб. Вероятно стоимость проставлена в тыс.руб.,- заменим их вручную:"
   ]
  },
  {
   "cell_type": "code",
   "execution_count": 10,
   "metadata": {},
   "outputs": [
    {
     "data": {
      "text/html": [
       "<div>\n",
       "<style scoped>\n",
       "    .dataframe tbody tr th:only-of-type {\n",
       "        vertical-align: middle;\n",
       "    }\n",
       "\n",
       "    .dataframe tbody tr th {\n",
       "        vertical-align: top;\n",
       "    }\n",
       "\n",
       "    .dataframe thead th {\n",
       "        text-align: right;\n",
       "    }\n",
       "</style>\n",
       "<table border=\"1\" class=\"dataframe\">\n",
       "  <thead>\n",
       "    <tr style=\"text-align: right;\">\n",
       "      <th></th>\n",
       "      <th>total_images</th>\n",
       "      <th>last_price</th>\n",
       "      <th>total_area</th>\n",
       "      <th>first_day_exposition</th>\n",
       "      <th>rooms</th>\n",
       "      <th>ceiling_height</th>\n",
       "      <th>floors_total</th>\n",
       "      <th>living_area</th>\n",
       "      <th>floor</th>\n",
       "      <th>is_apartment</th>\n",
       "      <th>...</th>\n",
       "      <th>kitchen_area</th>\n",
       "      <th>balcony</th>\n",
       "      <th>locality_name</th>\n",
       "      <th>airports_nearest</th>\n",
       "      <th>city_centers_nearest</th>\n",
       "      <th>parks_around_3000</th>\n",
       "      <th>parks_nearest</th>\n",
       "      <th>ponds_around_3000</th>\n",
       "      <th>ponds_nearest</th>\n",
       "      <th>days_exposition</th>\n",
       "    </tr>\n",
       "  </thead>\n",
       "  <tbody>\n",
       "  </tbody>\n",
       "</table>\n",
       "<p>0 rows × 22 columns</p>\n",
       "</div>"
      ],
      "text/plain": [
       "Empty DataFrame\n",
       "Columns: [total_images, last_price, total_area, first_day_exposition, rooms, ceiling_height, floors_total, living_area, floor, is_apartment, studio, open_plan, kitchen_area, balcony, locality_name, airports_nearest, city_centers_nearest, parks_around_3000, parks_nearest, ponds_around_3000, ponds_nearest, days_exposition]\n",
       "Index: []\n",
       "\n",
       "[0 rows x 22 columns]"
      ]
     },
     "metadata": {},
     "output_type": "display_data"
    }
   ],
   "source": [
    "data.loc[8793, 'last_price'] = 12190000\n",
    "display(data.loc[(data['last_price']<1000000)& (data['locality_name']=='Санкт-Петербург' )])"
   ]
  },
  {
   "cell_type": "code",
   "execution_count": 11,
   "metadata": {},
   "outputs": [
    {
     "data": {
      "text/plain": [
       "total_images                     int64\n",
       "last_price                     float64\n",
       "total_area                     float64\n",
       "first_day_exposition    datetime64[ns]\n",
       "rooms                            int64\n",
       "ceiling_height                 float64\n",
       "floors_total                   float64\n",
       "living_area                    float64\n",
       "floor                            int64\n",
       "is_apartment                    object\n",
       "studio                            bool\n",
       "open_plan                         bool\n",
       "kitchen_area                   float64\n",
       "balcony                        float64\n",
       "locality_name                   object\n",
       "airports_nearest               float64\n",
       "city_centers_nearest           float64\n",
       "parks_around_3000              float64\n",
       "parks_nearest                  float64\n",
       "ponds_around_3000              float64\n",
       "ponds_nearest                  float64\n",
       "days_exposition                float64\n",
       "dtype: object"
      ]
     },
     "execution_count": 11,
     "metadata": {},
     "output_type": "execute_result"
    }
   ],
   "source": [
    "# перевод данных в формат даты:\n",
    "data['first_day_exposition'] = pd.to_datetime(data['first_day_exposition'], format='%Y-%m-%dT%H:%M:%S')\n",
    "\n",
    "\n",
    "#проверяем внесение изменений в тип данных\n",
    "data.dtypes"
   ]
  },
  {
   "cell_type": "markdown",
   "metadata": {},
   "source": [
    "Проверим данные по недвижимости с нулевым количеством комнат:"
   ]
  },
  {
   "cell_type": "code",
   "execution_count": 12,
   "metadata": {},
   "outputs": [
    {
     "data": {
      "text/html": [
       "<div>\n",
       "<style scoped>\n",
       "    .dataframe tbody tr th:only-of-type {\n",
       "        vertical-align: middle;\n",
       "    }\n",
       "\n",
       "    .dataframe tbody tr th {\n",
       "        vertical-align: top;\n",
       "    }\n",
       "\n",
       "    .dataframe thead th {\n",
       "        text-align: right;\n",
       "    }\n",
       "</style>\n",
       "<table border=\"1\" class=\"dataframe\">\n",
       "  <thead>\n",
       "    <tr style=\"text-align: right;\">\n",
       "      <th></th>\n",
       "      <th>total_images</th>\n",
       "      <th>last_price</th>\n",
       "      <th>total_area</th>\n",
       "      <th>first_day_exposition</th>\n",
       "      <th>rooms</th>\n",
       "      <th>ceiling_height</th>\n",
       "      <th>floors_total</th>\n",
       "      <th>living_area</th>\n",
       "      <th>floor</th>\n",
       "      <th>is_apartment</th>\n",
       "      <th>...</th>\n",
       "      <th>kitchen_area</th>\n",
       "      <th>balcony</th>\n",
       "      <th>locality_name</th>\n",
       "      <th>airports_nearest</th>\n",
       "      <th>city_centers_nearest</th>\n",
       "      <th>parks_around_3000</th>\n",
       "      <th>parks_nearest</th>\n",
       "      <th>ponds_around_3000</th>\n",
       "      <th>ponds_nearest</th>\n",
       "      <th>days_exposition</th>\n",
       "    </tr>\n",
       "  </thead>\n",
       "  <tbody>\n",
       "    <tr>\n",
       "      <th>144</th>\n",
       "      <td>1</td>\n",
       "      <td>2450000.0</td>\n",
       "      <td>27.00</td>\n",
       "      <td>2017-03-30</td>\n",
       "      <td>0</td>\n",
       "      <td>NaN</td>\n",
       "      <td>24.0</td>\n",
       "      <td>15.50</td>\n",
       "      <td>2</td>\n",
       "      <td>NaN</td>\n",
       "      <td>...</td>\n",
       "      <td>NaN</td>\n",
       "      <td>2.0</td>\n",
       "      <td>посёлок Мурино</td>\n",
       "      <td>NaN</td>\n",
       "      <td>NaN</td>\n",
       "      <td>NaN</td>\n",
       "      <td>NaN</td>\n",
       "      <td>NaN</td>\n",
       "      <td>NaN</td>\n",
       "      <td>181.0</td>\n",
       "    </tr>\n",
       "    <tr>\n",
       "      <th>349</th>\n",
       "      <td>4</td>\n",
       "      <td>2320000.0</td>\n",
       "      <td>25.00</td>\n",
       "      <td>2017-09-27</td>\n",
       "      <td>0</td>\n",
       "      <td>NaN</td>\n",
       "      <td>14.0</td>\n",
       "      <td>17.00</td>\n",
       "      <td>1</td>\n",
       "      <td>NaN</td>\n",
       "      <td>...</td>\n",
       "      <td>NaN</td>\n",
       "      <td>0.0</td>\n",
       "      <td>деревня Кудрово</td>\n",
       "      <td>NaN</td>\n",
       "      <td>NaN</td>\n",
       "      <td>NaN</td>\n",
       "      <td>NaN</td>\n",
       "      <td>NaN</td>\n",
       "      <td>NaN</td>\n",
       "      <td>45.0</td>\n",
       "    </tr>\n",
       "    <tr>\n",
       "      <th>440</th>\n",
       "      <td>8</td>\n",
       "      <td>2480000.0</td>\n",
       "      <td>27.11</td>\n",
       "      <td>2018-03-12</td>\n",
       "      <td>0</td>\n",
       "      <td>NaN</td>\n",
       "      <td>17.0</td>\n",
       "      <td>24.75</td>\n",
       "      <td>4</td>\n",
       "      <td>NaN</td>\n",
       "      <td>...</td>\n",
       "      <td>NaN</td>\n",
       "      <td>2.0</td>\n",
       "      <td>Санкт-Петербург</td>\n",
       "      <td>38171.0</td>\n",
       "      <td>15015.0</td>\n",
       "      <td>0.0</td>\n",
       "      <td>NaN</td>\n",
       "      <td>2.0</td>\n",
       "      <td>982.0</td>\n",
       "      <td>64.0</td>\n",
       "    </tr>\n",
       "    <tr>\n",
       "      <th>508</th>\n",
       "      <td>0</td>\n",
       "      <td>3375000.0</td>\n",
       "      <td>34.40</td>\n",
       "      <td>2017-03-28</td>\n",
       "      <td>0</td>\n",
       "      <td>NaN</td>\n",
       "      <td>26.0</td>\n",
       "      <td>24.30</td>\n",
       "      <td>19</td>\n",
       "      <td>NaN</td>\n",
       "      <td>...</td>\n",
       "      <td>NaN</td>\n",
       "      <td>1.0</td>\n",
       "      <td>посёлок Парголово</td>\n",
       "      <td>53115.0</td>\n",
       "      <td>19292.0</td>\n",
       "      <td>0.0</td>\n",
       "      <td>NaN</td>\n",
       "      <td>1.0</td>\n",
       "      <td>593.0</td>\n",
       "      <td>430.0</td>\n",
       "    </tr>\n",
       "    <tr>\n",
       "      <th>608</th>\n",
       "      <td>2</td>\n",
       "      <td>1850000.0</td>\n",
       "      <td>25.00</td>\n",
       "      <td>2019-02-20</td>\n",
       "      <td>0</td>\n",
       "      <td>NaN</td>\n",
       "      <td>10.0</td>\n",
       "      <td>NaN</td>\n",
       "      <td>7</td>\n",
       "      <td>NaN</td>\n",
       "      <td>...</td>\n",
       "      <td>NaN</td>\n",
       "      <td>NaN</td>\n",
       "      <td>посёлок Шушары</td>\n",
       "      <td>NaN</td>\n",
       "      <td>NaN</td>\n",
       "      <td>NaN</td>\n",
       "      <td>NaN</td>\n",
       "      <td>NaN</td>\n",
       "      <td>NaN</td>\n",
       "      <td>29.0</td>\n",
       "    </tr>\n",
       "    <tr>\n",
       "      <th>...</th>\n",
       "      <td>...</td>\n",
       "      <td>...</td>\n",
       "      <td>...</td>\n",
       "      <td>...</td>\n",
       "      <td>...</td>\n",
       "      <td>...</td>\n",
       "      <td>...</td>\n",
       "      <td>...</td>\n",
       "      <td>...</td>\n",
       "      <td>...</td>\n",
       "      <td>...</td>\n",
       "      <td>...</td>\n",
       "      <td>...</td>\n",
       "      <td>...</td>\n",
       "      <td>...</td>\n",
       "      <td>...</td>\n",
       "      <td>...</td>\n",
       "      <td>...</td>\n",
       "      <td>...</td>\n",
       "      <td>...</td>\n",
       "      <td>...</td>\n",
       "    </tr>\n",
       "    <tr>\n",
       "      <th>23210</th>\n",
       "      <td>7</td>\n",
       "      <td>3200000.0</td>\n",
       "      <td>26.00</td>\n",
       "      <td>2017-09-01</td>\n",
       "      <td>0</td>\n",
       "      <td>NaN</td>\n",
       "      <td>25.0</td>\n",
       "      <td>18.00</td>\n",
       "      <td>16</td>\n",
       "      <td>NaN</td>\n",
       "      <td>...</td>\n",
       "      <td>NaN</td>\n",
       "      <td>0.0</td>\n",
       "      <td>Санкт-Петербург</td>\n",
       "      <td>11405.0</td>\n",
       "      <td>13222.0</td>\n",
       "      <td>0.0</td>\n",
       "      <td>NaN</td>\n",
       "      <td>1.0</td>\n",
       "      <td>623.0</td>\n",
       "      <td>14.0</td>\n",
       "    </tr>\n",
       "    <tr>\n",
       "      <th>23442</th>\n",
       "      <td>0</td>\n",
       "      <td>2500000.0</td>\n",
       "      <td>27.70</td>\n",
       "      <td>2017-09-28</td>\n",
       "      <td>0</td>\n",
       "      <td>NaN</td>\n",
       "      <td>24.0</td>\n",
       "      <td>18.00</td>\n",
       "      <td>4</td>\n",
       "      <td>NaN</td>\n",
       "      <td>...</td>\n",
       "      <td>NaN</td>\n",
       "      <td>2.0</td>\n",
       "      <td>посёлок Мурино</td>\n",
       "      <td>NaN</td>\n",
       "      <td>NaN</td>\n",
       "      <td>NaN</td>\n",
       "      <td>NaN</td>\n",
       "      <td>NaN</td>\n",
       "      <td>NaN</td>\n",
       "      <td>4.0</td>\n",
       "    </tr>\n",
       "    <tr>\n",
       "      <th>23554</th>\n",
       "      <td>15</td>\n",
       "      <td>3350000.0</td>\n",
       "      <td>26.00</td>\n",
       "      <td>2018-09-07</td>\n",
       "      <td>0</td>\n",
       "      <td>NaN</td>\n",
       "      <td>19.0</td>\n",
       "      <td>NaN</td>\n",
       "      <td>8</td>\n",
       "      <td>NaN</td>\n",
       "      <td>...</td>\n",
       "      <td>NaN</td>\n",
       "      <td>NaN</td>\n",
       "      <td>Санкт-Петербург</td>\n",
       "      <td>18090.0</td>\n",
       "      <td>17092.0</td>\n",
       "      <td>0.0</td>\n",
       "      <td>NaN</td>\n",
       "      <td>2.0</td>\n",
       "      <td>112.0</td>\n",
       "      <td>31.0</td>\n",
       "    </tr>\n",
       "    <tr>\n",
       "      <th>23592</th>\n",
       "      <td>10</td>\n",
       "      <td>1450000.0</td>\n",
       "      <td>29.00</td>\n",
       "      <td>2017-11-11</td>\n",
       "      <td>0</td>\n",
       "      <td>NaN</td>\n",
       "      <td>9.0</td>\n",
       "      <td>18.00</td>\n",
       "      <td>8</td>\n",
       "      <td>NaN</td>\n",
       "      <td>...</td>\n",
       "      <td>NaN</td>\n",
       "      <td>2.0</td>\n",
       "      <td>Никольское</td>\n",
       "      <td>NaN</td>\n",
       "      <td>NaN</td>\n",
       "      <td>NaN</td>\n",
       "      <td>NaN</td>\n",
       "      <td>NaN</td>\n",
       "      <td>NaN</td>\n",
       "      <td>82.0</td>\n",
       "    </tr>\n",
       "    <tr>\n",
       "      <th>23637</th>\n",
       "      <td>8</td>\n",
       "      <td>2350000.0</td>\n",
       "      <td>26.00</td>\n",
       "      <td>2018-06-26</td>\n",
       "      <td>0</td>\n",
       "      <td>NaN</td>\n",
       "      <td>25.0</td>\n",
       "      <td>17.00</td>\n",
       "      <td>4</td>\n",
       "      <td>NaN</td>\n",
       "      <td>...</td>\n",
       "      <td>NaN</td>\n",
       "      <td>2.0</td>\n",
       "      <td>посёлок Бугры</td>\n",
       "      <td>NaN</td>\n",
       "      <td>NaN</td>\n",
       "      <td>NaN</td>\n",
       "      <td>NaN</td>\n",
       "      <td>NaN</td>\n",
       "      <td>NaN</td>\n",
       "      <td>207.0</td>\n",
       "    </tr>\n",
       "  </tbody>\n",
       "</table>\n",
       "<p>197 rows × 22 columns</p>\n",
       "</div>"
      ],
      "text/plain": [
       "       total_images  last_price  total_area first_day_exposition  rooms  \\\n",
       "144               1   2450000.0       27.00           2017-03-30      0   \n",
       "349               4   2320000.0       25.00           2017-09-27      0   \n",
       "440               8   2480000.0       27.11           2018-03-12      0   \n",
       "508               0   3375000.0       34.40           2017-03-28      0   \n",
       "608               2   1850000.0       25.00           2019-02-20      0   \n",
       "...             ...         ...         ...                  ...    ...   \n",
       "23210             7   3200000.0       26.00           2017-09-01      0   \n",
       "23442             0   2500000.0       27.70           2017-09-28      0   \n",
       "23554            15   3350000.0       26.00           2018-09-07      0   \n",
       "23592            10   1450000.0       29.00           2017-11-11      0   \n",
       "23637             8   2350000.0       26.00           2018-06-26      0   \n",
       "\n",
       "       ceiling_height  floors_total  living_area  floor is_apartment  ...  \\\n",
       "144               NaN          24.0        15.50      2          NaN  ...   \n",
       "349               NaN          14.0        17.00      1          NaN  ...   \n",
       "440               NaN          17.0        24.75      4          NaN  ...   \n",
       "508               NaN          26.0        24.30     19          NaN  ...   \n",
       "608               NaN          10.0          NaN      7          NaN  ...   \n",
       "...               ...           ...          ...    ...          ...  ...   \n",
       "23210             NaN          25.0        18.00     16          NaN  ...   \n",
       "23442             NaN          24.0        18.00      4          NaN  ...   \n",
       "23554             NaN          19.0          NaN      8          NaN  ...   \n",
       "23592             NaN           9.0        18.00      8          NaN  ...   \n",
       "23637             NaN          25.0        17.00      4          NaN  ...   \n",
       "\n",
       "       kitchen_area  balcony      locality_name  airports_nearest  \\\n",
       "144             NaN      2.0     посёлок Мурино               NaN   \n",
       "349             NaN      0.0    деревня Кудрово               NaN   \n",
       "440             NaN      2.0    Санкт-Петербург           38171.0   \n",
       "508             NaN      1.0  посёлок Парголово           53115.0   \n",
       "608             NaN      NaN     посёлок Шушары               NaN   \n",
       "...             ...      ...                ...               ...   \n",
       "23210           NaN      0.0    Санкт-Петербург           11405.0   \n",
       "23442           NaN      2.0     посёлок Мурино               NaN   \n",
       "23554           NaN      NaN    Санкт-Петербург           18090.0   \n",
       "23592           NaN      2.0         Никольское               NaN   \n",
       "23637           NaN      2.0      посёлок Бугры               NaN   \n",
       "\n",
       "      city_centers_nearest  parks_around_3000  parks_nearest  \\\n",
       "144                    NaN                NaN            NaN   \n",
       "349                    NaN                NaN            NaN   \n",
       "440                15015.0                0.0            NaN   \n",
       "508                19292.0                0.0            NaN   \n",
       "608                    NaN                NaN            NaN   \n",
       "...                    ...                ...            ...   \n",
       "23210              13222.0                0.0            NaN   \n",
       "23442                  NaN                NaN            NaN   \n",
       "23554              17092.0                0.0            NaN   \n",
       "23592                  NaN                NaN            NaN   \n",
       "23637                  NaN                NaN            NaN   \n",
       "\n",
       "       ponds_around_3000  ponds_nearest  days_exposition  \n",
       "144                  NaN            NaN            181.0  \n",
       "349                  NaN            NaN             45.0  \n",
       "440                  2.0          982.0             64.0  \n",
       "508                  1.0          593.0            430.0  \n",
       "608                  NaN            NaN             29.0  \n",
       "...                  ...            ...              ...  \n",
       "23210                1.0          623.0             14.0  \n",
       "23442                NaN            NaN              4.0  \n",
       "23554                2.0          112.0             31.0  \n",
       "23592                NaN            NaN             82.0  \n",
       "23637                NaN            NaN            207.0  \n",
       "\n",
       "[197 rows x 22 columns]"
      ]
     },
     "execution_count": 12,
     "metadata": {},
     "output_type": "execute_result"
    }
   ],
   "source": [
    "data.query('rooms == 0 and (open_plan == True or studio == True) ')"
   ]
  },
  {
   "cell_type": "markdown",
   "metadata": {},
   "source": [
    "Как видим, все они- либо с признаком квартиры-студии, либо со свободной планировкой. Будем считать, что это реальная особенность определенного типа жилья.\n",
    "\n",
    "Тем не менее, для единообразия проверим количество комнат во всех студиях:"
   ]
  },
  {
   "cell_type": "code",
   "execution_count": 13,
   "metadata": {},
   "outputs": [
    {
     "name": "stdout",
     "output_type": "stream",
     "text": [
      "149\n"
     ]
    },
    {
     "data": {
      "text/plain": [
       "0    138\n",
       "1     11\n",
       "Name: rooms, dtype: int64"
      ]
     },
     "execution_count": 13,
     "metadata": {},
     "output_type": "execute_result"
    }
   ],
   "source": [
    "print(len(data.query('studio == True')))\n",
    "\n",
    "#уникальные значения кол-ва комнат:\n",
    "data.query('studio == True')['rooms'] .value_counts()"
   ]
  },
  {
   "cell_type": "markdown",
   "metadata": {},
   "source": [
    "Как видим, в основном в студиях указано количество комнат, равное 0 (138 значений). Поскольку студия предполагает одно свободное пространство, совмещающее комнату и кухню и не делится на комнаты, для единообразия заменим 1 (11 значений) на 0:"
   ]
  },
  {
   "cell_type": "code",
   "execution_count": 14,
   "metadata": {},
   "outputs": [
    {
     "data": {
      "text/plain": [
       "0    149\n",
       "Name: rooms, dtype: int64"
      ]
     },
     "execution_count": 14,
     "metadata": {},
     "output_type": "execute_result"
    }
   ],
   "source": [
    "#присваиваем значение '0' в ячейках со значением '1':\n",
    "data.loc[(data['rooms'] == 1) & (data['studio']==True),'rooms'] = 0\n",
    "\n",
    "#проверим внесение изменений\n",
    "data.query('studio == True')['rooms'] .value_counts()"
   ]
  },
  {
   "cell_type": "markdown",
   "metadata": {},
   "source": [
    "В целом не выявлено проблем, связанных со значениями столбца, но для единообразия значения комнат, равные \"1\" , в студиях заменены на \"0\""
   ]
  },
  {
   "cell_type": "code",
   "execution_count": 15,
   "metadata": {},
   "outputs": [
    {
     "data": {
      "text/plain": [
       "total_images                0\n",
       "last_price                  0\n",
       "total_area                  0\n",
       "first_day_exposition        0\n",
       "rooms                       0\n",
       "ceiling_height              0\n",
       "floors_total               86\n",
       "living_area              1903\n",
       "floor                       0\n",
       "is_apartment            20924\n",
       "studio                      0\n",
       "open_plan                   0\n",
       "kitchen_area             2278\n",
       "balcony                 11519\n",
       "locality_name              49\n",
       "airports_nearest         5542\n",
       "city_centers_nearest     5519\n",
       "parks_around_3000        5518\n",
       "parks_nearest           15620\n",
       "ponds_around_3000        5518\n",
       "ponds_nearest           14589\n",
       "days_exposition          3181\n",
       "dtype: int64"
      ]
     },
     "execution_count": 15,
     "metadata": {},
     "output_type": "execute_result"
    }
   ],
   "source": [
    "# Заменяем оставшиеся пустые значения высоты потолков на медианное значение по всему датасету\n",
    "data['ceiling_height'] = data.groupby(['locality_name', 'floors_total'])['ceiling_height'].apply(lambda x: x.fillna(x.median()))\n",
    "data['ceiling_height'].fillna(data['ceiling_height'].median(), inplace=True)\n",
    "\n",
    "# Смотрим количество пропущенных значений\n",
    "data.isnull().sum()"
   ]
  },
  {
   "cell_type": "markdown",
   "metadata": {},
   "source": [
    "Поскольку выяснить количество этажей в доме не представляется возможным, а количество пропусков невелико, удалим пропуски данных этого столбца:"
   ]
  },
  {
   "cell_type": "code",
   "execution_count": 16,
   "metadata": {},
   "outputs": [
    {
     "data": {
      "text/plain": [
       "total_images                0\n",
       "last_price                  0\n",
       "total_area                  0\n",
       "first_day_exposition        0\n",
       "rooms                       0\n",
       "ceiling_height              0\n",
       "floors_total                0\n",
       "living_area              1870\n",
       "floor                       0\n",
       "is_apartment            20838\n",
       "studio                      0\n",
       "open_plan                   0\n",
       "kitchen_area             2231\n",
       "balcony                 11480\n",
       "locality_name              48\n",
       "airports_nearest         5532\n",
       "city_centers_nearest     5509\n",
       "parks_around_3000        5508\n",
       "parks_nearest           15568\n",
       "ponds_around_3000        5508\n",
       "ponds_nearest           14552\n",
       "days_exposition          3172\n",
       "dtype: int64"
      ]
     },
     "execution_count": 16,
     "metadata": {},
     "output_type": "execute_result"
    }
   ],
   "source": [
    "data = data.dropna( subset=['floors_total'])\n",
    "\n",
    "# Смотрим количество пропущенных значений\n",
    "data.isnull().sum()"
   ]
  },
  {
   "cell_type": "markdown",
   "metadata": {},
   "source": [
    "Ввиду того, что выяснить количество этажей в доме невозможно, строки с пропусками значений в столбце floors_total удалены."
   ]
  },
  {
   "cell_type": "code",
   "execution_count": 17,
   "metadata": {},
   "outputs": [
    {
     "data": {
      "text/plain": [
       "total_images                0\n",
       "last_price                  0\n",
       "total_area                  0\n",
       "first_day_exposition        0\n",
       "rooms                       0\n",
       "ceiling_height              0\n",
       "floors_total                0\n",
       "living_area                 0\n",
       "floor                       0\n",
       "is_apartment                0\n",
       "studio                      0\n",
       "open_plan                   0\n",
       "kitchen_area                0\n",
       "balcony                     0\n",
       "locality_name               0\n",
       "airports_nearest         5524\n",
       "city_centers_nearest     5501\n",
       "parks_around_3000           0\n",
       "parks_nearest           15535\n",
       "ponds_around_3000           0\n",
       "ponds_nearest           14529\n",
       "days_exposition          3171\n",
       "dtype: int64"
      ]
     },
     "execution_count": 17,
     "metadata": {},
     "output_type": "execute_result"
    }
   ],
   "source": [
    "\n",
    "# Заменяем пустые значения жилой площади\n",
    "living_ratio = data['living_area'].mean() / data['total_area'].mean()\n",
    "data['living_area'].fillna(living_ratio * data['total_area'], inplace=True)\n",
    "\n",
    "# Выясняем количество значений в аппартаментах. Всего аппартаменты - 50. Заменяем пропущенные значения на нет\n",
    "data['is_apartment'] = data['is_apartment'].fillna(value=False).astype('int')\n",
    "\n",
    "# Заменяем пустые значения площади кухни\n",
    "kitchen_ratio = data['kitchen_area'].mean() / data['total_area'].mean()\n",
    "data['kitchen_area'].fillna(kitchen_ratio * data['total_area'], inplace=True)\n",
    "\n",
    "# Приводим в целочисленный тип количество балконов. Заменяем пропущенные значения на 0\n",
    "data['balcony'] = data['balcony'].fillna(value=0).astype('int')\n",
    "\n",
    "#Пропуски значений столбца parks_around_3000 заполнены значением \"0\"\n",
    "data['parks_around_3000'] = data['parks_around_3000'].fillna(value=0).astype('int')\n",
    "\n",
    "#Пропуски значений столбца ponds_around_3000 заполнены значением \"0\"\n",
    "data['ponds_around_3000'] = data['ponds_around_3000'].fillna(value=0).astype('int')\n",
    "\n",
    "#удаление пропусков столбца locality_name\n",
    "data = data.dropna(subset=['locality_name']) \n",
    "data['locality_name'].isna().sum() #проверка\n",
    "\n",
    "# Проверяем количество пропущенных значений\n",
    "data.isnull().sum()"
   ]
  },
  {
   "cell_type": "markdown",
   "metadata": {},
   "source": [
    "#### Изменение типов данных"
   ]
  },
  {
   "cell_type": "code",
   "execution_count": 18,
   "metadata": {},
   "outputs": [
    {
     "data": {
      "text/plain": [
       "total_images                     int64\n",
       "last_price                       int64\n",
       "total_area                     float64\n",
       "first_day_exposition    datetime64[ns]\n",
       "rooms                            int64\n",
       "ceiling_height                 float64\n",
       "floors_total                     int64\n",
       "living_area                    float64\n",
       "floor                            int64\n",
       "is_apartment                      bool\n",
       "studio                            bool\n",
       "open_plan                         bool\n",
       "kitchen_area                   float64\n",
       "balcony                          int64\n",
       "locality_name                   object\n",
       "airports_nearest               float64\n",
       "city_centers_nearest           float64\n",
       "parks_around_3000                int64\n",
       "parks_nearest                  float64\n",
       "ponds_around_3000                int64\n",
       "ponds_nearest                  float64\n",
       "days_exposition                float64\n",
       "dtype: object"
      ]
     },
     "execution_count": 18,
     "metadata": {},
     "output_type": "execute_result"
    }
   ],
   "source": [
    "#применяем метод astype() для изменения формата столбцов из df_format\n",
    "\n",
    "data['is_apartment'] = data['is_apartment'].astype('bool')\n",
    "data['last_price'] = data['last_price'].astype('int')\n",
    "data['floors_total'] = data['floors_total'].astype('int')\n",
    "\n",
    "#проверяем внесение изменений в тип данных\n",
    "data.dtypes"
   ]
  },
  {
   "cell_type": "code",
   "execution_count": 19,
   "metadata": {},
   "outputs": [
    {
     "name": "stdout",
     "output_type": "stream",
     "text": [
      "<class 'pandas.core.frame.DataFrame'>\n",
      "Int64Index: 23565 entries, 0 to 23698\n",
      "Data columns (total 22 columns):\n",
      " #   Column                Non-Null Count  Dtype         \n",
      "---  ------                --------------  -----         \n",
      " 0   total_images          23565 non-null  int64         \n",
      " 1   last_price            23565 non-null  int64         \n",
      " 2   total_area            23565 non-null  float64       \n",
      " 3   first_day_exposition  23565 non-null  datetime64[ns]\n",
      " 4   rooms                 23565 non-null  int64         \n",
      " 5   ceiling_height        23565 non-null  float64       \n",
      " 6   floors_total          23565 non-null  int64         \n",
      " 7   living_area           23565 non-null  float64       \n",
      " 8   floor                 23565 non-null  int64         \n",
      " 9   is_apartment          23565 non-null  bool          \n",
      " 10  studio                23565 non-null  bool          \n",
      " 11  open_plan             23565 non-null  bool          \n",
      " 12  kitchen_area          23565 non-null  float64       \n",
      " 13  balcony               23565 non-null  int64         \n",
      " 14  locality_name         23565 non-null  object        \n",
      " 15  airports_nearest      18041 non-null  float64       \n",
      " 16  city_centers_nearest  18064 non-null  float64       \n",
      " 17  parks_around_3000     23565 non-null  int64         \n",
      " 18  parks_nearest         8030 non-null   float64       \n",
      " 19  ponds_around_3000     23565 non-null  int64         \n",
      " 20  ponds_nearest         9036 non-null   float64       \n",
      " 21  days_exposition       20394 non-null  float64       \n",
      "dtypes: bool(3), datetime64[ns](1), float64(9), int64(8), object(1)\n",
      "memory usage: 3.7+ MB\n"
     ]
    }
   ],
   "source": [
    "#проверка внесения изменений \n",
    "data.info()"
   ]
  },
  {
   "cell_type": "markdown",
   "metadata": {},
   "source": [
    "#### Обработка неявных дубликатов"
   ]
  },
  {
   "cell_type": "code",
   "execution_count": 20,
   "metadata": {},
   "outputs": [
    {
     "data": {
      "text/plain": [
       "count               23565\n",
       "unique                364\n",
       "top       Санкт-Петербург\n",
       "freq                15651\n",
       "Name: locality_name, dtype: object"
      ]
     },
     "execution_count": 20,
     "metadata": {},
     "output_type": "execute_result"
    }
   ],
   "source": [
    "data['locality_name'].describe()"
   ]
  },
  {
   "cell_type": "code",
   "execution_count": 21,
   "metadata": {},
   "outputs": [
    {
     "data": {
      "text/plain": [
       "array(['Санкт-Петербург', 'посёлок Шушары', 'городской посёлок Янино-1',\n",
       "       'посёлок Парголово', 'посёлок Мурино', 'Ломоносов', 'Сертолово',\n",
       "       'Петергоф', 'Пушкин', 'деревня Кудрово', 'Коммунар', 'Колпино',\n",
       "       'поселок городского типа Красный Бор', 'Гатчина', 'поселок Мурино',\n",
       "       'деревня Фёдоровское', 'Выборг', 'Кронштадт', 'Кировск',\n",
       "       'деревня Новое Девяткино', 'посёлок Металлострой',\n",
       "       'посёлок городского типа Лебяжье',\n",
       "       'посёлок городского типа Сиверский', 'поселок Молодцово',\n",
       "       'поселок городского типа Кузьмоловский',\n",
       "       'садовое товарищество Новая Ропша', 'Павловск',\n",
       "       'деревня Пикколово', 'Всеволожск', 'Волхов', 'Кингисепп',\n",
       "       'Приозерск', 'Сестрорецк', 'деревня Куттузи', 'посёлок Аннино',\n",
       "       'поселок городского типа Ефимовский', 'посёлок Плодовое',\n",
       "       'деревня Заклинье', 'поселок Торковичи', 'поселок Первомайское',\n",
       "       'Красное Село', 'посёлок Понтонный', 'Сясьстрой', 'деревня Старая',\n",
       "       'деревня Лесколово', 'посёлок Новый Свет', 'Сланцы',\n",
       "       'село Путилово', 'Ивангород', 'Мурино', 'Шлиссельбург',\n",
       "       'Никольское', 'Зеленогорск', 'Сосновый Бор', 'поселок Новый Свет',\n",
       "       'деревня Оржицы', 'деревня Кальтино', 'Кудрово',\n",
       "       'поселок Романовка', 'посёлок Бугры', 'поселок Бугры',\n",
       "       'поселок городского типа Рощино', 'Кириши', 'Луга', 'Волосово',\n",
       "       'Отрадное', 'село Павлово', 'поселок Оредеж', 'село Копорье',\n",
       "       'посёлок городского типа Красный Бор', 'посёлок Молодёжное',\n",
       "       'Тихвин', 'посёлок Победа', 'деревня Нурма',\n",
       "       'поселок городского типа Синявино', 'Тосно',\n",
       "       'посёлок городского типа Кузьмоловский', 'посёлок Стрельна',\n",
       "       'Бокситогорск', 'посёлок Александровская', 'деревня Лопухинка',\n",
       "       'Пикалёво', 'поселок Терволово',\n",
       "       'поселок городского типа Советский', 'Подпорожье',\n",
       "       'посёлок Петровское', 'посёлок городского типа Токсово',\n",
       "       'поселок Сельцо', 'посёлок городского типа Вырица',\n",
       "       'деревня Кипень', 'деревня Келози', 'деревня Вартемяги',\n",
       "       'посёлок Тельмана', 'поселок Севастьяново',\n",
       "       'городской поселок Большая Ижора', 'городской посёлок Павлово',\n",
       "       'деревня Агалатово', 'посёлок Новогорелово',\n",
       "       'городской посёлок Лесогорский', 'деревня Лаголово',\n",
       "       'поселок Цвелодубово', 'поселок городского типа Рахья',\n",
       "       'поселок городского типа Вырица', 'деревня Белогорка',\n",
       "       'поселок Заводской', 'городской посёлок Новоселье',\n",
       "       'деревня Большие Колпаны', 'деревня Горбунки', 'деревня Батово',\n",
       "       'деревня Заневка', 'деревня Иссад', 'Приморск',\n",
       "       'городской посёлок Фёдоровское', 'деревня Мистолово',\n",
       "       'Новая Ладога', 'поселок Зимитицы', 'поселок Барышево',\n",
       "       'деревня Разметелево', 'поселок городского типа имени Свердлова',\n",
       "       'деревня Пеники', 'поселок Рябово', 'деревня Пудомяги',\n",
       "       'поселок станции Корнево', 'деревня Низино', 'деревня Бегуницы',\n",
       "       'посёлок Поляны', 'городской посёлок Мга', 'поселок Елизаветино',\n",
       "       'посёлок городского типа Кузнечное', 'деревня Колтуши',\n",
       "       'поселок Запорожское', 'посёлок городского типа Рощино',\n",
       "       'деревня Гостилицы', 'деревня Малое Карлино',\n",
       "       'посёлок Мичуринское', 'посёлок городского типа имени Морозова',\n",
       "       'посёлок Песочный', 'посёлок Сосново', 'деревня Аро',\n",
       "       'поселок Ильичёво', 'посёлок городского типа Тайцы',\n",
       "       'деревня Малое Верево', 'деревня Извара', 'поселок станции Вещево',\n",
       "       'село Паша', 'деревня Калитино',\n",
       "       'посёлок городского типа Ульяновка', 'деревня Чудской Бор',\n",
       "       'поселок городского типа Дубровка', 'деревня Мины',\n",
       "       'поселок Войсковицы', 'посёлок городского типа имени Свердлова',\n",
       "       'деревня Коркино', 'посёлок Ропша',\n",
       "       'поселок городского типа Приладожский', 'посёлок Щеглово',\n",
       "       'посёлок Гаврилово', 'Лодейное Поле', 'деревня Рабитицы',\n",
       "       'поселок городского типа Никольский', 'деревня Кузьмолово',\n",
       "       'деревня Малые Колпаны', 'поселок Тельмана',\n",
       "       'посёлок Петро-Славянка', 'городской посёлок Назия',\n",
       "       'посёлок Репино', 'посёлок Ильичёво', 'поселок Углово',\n",
       "       'поселок Старая Малукса', 'садовое товарищество Рахья',\n",
       "       'поселок Аннино', 'поселок Победа', 'деревня Меньково',\n",
       "       'деревня Старые Бегуницы', 'посёлок Сапёрный', 'поселок Семрино',\n",
       "       'поселок Гаврилово', 'поселок Глажево', 'поселок Кобринское',\n",
       "       'деревня Гарболово', 'деревня Юкки',\n",
       "       'поселок станции Приветнинское', 'деревня Мануйлово',\n",
       "       'деревня Пчева', 'поселок Поляны', 'поселок Цвылёво',\n",
       "       'поселок Мельниково', 'посёлок Пудость', 'посёлок Усть-Луга',\n",
       "       'Светогорск', 'Любань', 'поселок Селезнёво',\n",
       "       'поселок городского типа Рябово', 'Каменногорск', 'деревня Кривко',\n",
       "       'поселок Глебычево', 'деревня Парицы', 'поселок Жилпосёлок',\n",
       "       'посёлок городского типа Мга', 'городской поселок Янино-1',\n",
       "       'посёлок Войскорово', 'село Никольское', 'посёлок Терволово',\n",
       "       'поселок Стеклянный', 'посёлок городского типа Важины',\n",
       "       'посёлок Мыза-Ивановка', 'село Русско-Высоцкое',\n",
       "       'поселок городского типа Лебяжье',\n",
       "       'поселок городского типа Форносово', 'село Старая Ладога',\n",
       "       'поселок Житково', 'городской посёлок Виллози', 'деревня Лампово',\n",
       "       'деревня Шпаньково', 'деревня Лаврики', 'посёлок Сумино',\n",
       "       'посёлок Возрождение', 'деревня Старосиверская',\n",
       "       'посёлок Кикерино', 'поселок Возрождение',\n",
       "       'деревня Старое Хинколово', 'посёлок Пригородный',\n",
       "       'посёлок Торфяное', 'городской посёлок Будогощь',\n",
       "       'поселок Суходолье', 'поселок Красная Долина', 'деревня Хапо-Ое',\n",
       "       'поселок городского типа Дружная Горка', 'поселок Лисий Нос',\n",
       "       'деревня Яльгелево', 'посёлок Стеклянный', 'село Рождествено',\n",
       "       'деревня Старополье', 'посёлок Левашово', 'деревня Сяськелево',\n",
       "       'деревня Камышовка',\n",
       "       'садоводческое некоммерческое товарищество Лесная Поляна',\n",
       "       'деревня Хязельки', 'поселок Жилгородок',\n",
       "       'посёлок городского типа Павлово', 'деревня Ялгино',\n",
       "       'поселок Новый Учхоз', 'городской посёлок Рощино',\n",
       "       'поселок Гончарово', 'поселок Почап', 'посёлок Сапёрное',\n",
       "       'посёлок Платформа 69-й километр', 'поселок Каложицы',\n",
       "       'деревня Фалилеево', 'деревня Пельгора',\n",
       "       'поселок городского типа Лесогорский', 'деревня Торошковичи',\n",
       "       'посёлок Белоостров', 'посёлок Алексеевка', 'поселок Серебрянский',\n",
       "       'поселок Лукаши', 'поселок Петровское', 'деревня Щеглово',\n",
       "       'поселок Мичуринское', 'деревня Тарасово', 'поселок Кингисеппский',\n",
       "       'посёлок при железнодорожной станции Вещево', 'поселок Ушаки',\n",
       "       'деревня Котлы', 'деревня Сижно', 'деревня Торосово',\n",
       "       'посёлок Форт Красная Горка', 'деревня Новолисино',\n",
       "       'посёлок станции Громово', 'деревня Глинка', 'посёлок Мельниково',\n",
       "       'поселок городского типа Назия', 'деревня Старая Пустошь',\n",
       "       'поселок Коммунары', 'поселок Починок',\n",
       "       'посёлок городского типа Вознесенье', 'деревня Разбегаево',\n",
       "       'посёлок городского типа Рябово', 'поселок Гладкое',\n",
       "       'посёлок при железнодорожной станции Приветнинское',\n",
       "       'поселок Тёсово-4', 'посёлок Жилгородок', 'деревня Бор',\n",
       "       'посёлок Коробицыно', 'деревня Большая Вруда', 'деревня Курковицы',\n",
       "       'посёлок Лисий Нос', 'городской посёлок Советский',\n",
       "       'посёлок Кобралово', 'деревня Суоранда', 'поселок Кобралово',\n",
       "       'поселок городского типа Кондратьево',\n",
       "       'коттеджный поселок Счастье', 'поселок Любань', 'деревня Реброво',\n",
       "       'деревня Зимитицы', 'деревня Тойворово', 'поселок Семиозерье',\n",
       "       'поселок Лесное', 'поселок Совхозный', 'поселок Усть-Луга',\n",
       "       'посёлок Ленинское', 'посёлок Суйда',\n",
       "       'посёлок городского типа Форносово', 'деревня Нижние Осельки',\n",
       "       'посёлок станции Свирь', 'поселок Перово', 'Высоцк',\n",
       "       'поселок Гарболово', 'село Шум', 'поселок Котельский',\n",
       "       'поселок станции Лужайка', 'деревня Большая Пустомержа',\n",
       "       'поселок Красносельское', 'деревня Вахнова Кара', 'деревня Пижма',\n",
       "       'коттеджный поселок Кивеннапа Север', 'поселок Коробицыно',\n",
       "       'поселок Ромашки', 'посёлок Перово', 'деревня Каськово',\n",
       "       'деревня Куровицы', 'посёлок Плоское', 'поселок Сумино',\n",
       "       'поселок городского типа Большая Ижора', 'поселок Кирпичное',\n",
       "       'деревня Ям-Тесово', 'деревня Раздолье', 'деревня Терпилицы',\n",
       "       'поселок городского типа Токсово', 'посёлок Шугозеро',\n",
       "       'деревня Ваганово', 'поселок Пушное', 'садовое товарищество Садко',\n",
       "       'посёлок Усть-Ижора', 'деревня Выскатка',\n",
       "       'городской посёлок Свирьстрой', 'поселок Громово',\n",
       "       'деревня Кисельня', 'посёлок Старая Малукса',\n",
       "       'деревня Трубников Бор', 'поселок Калитино',\n",
       "       'посёлок Высокоключевой', 'садовое товарищество Приладожский',\n",
       "       'посёлок Пансионат Зелёный Бор', 'деревня Ненимяки',\n",
       "       'поселок Пансионат Зелёный Бор', 'деревня Снегирёвка',\n",
       "       'деревня Рапполово', 'деревня Пустынка', 'поселок Рабитицы',\n",
       "       'деревня Большой Сабск', 'деревня Русско', 'деревня Лупполово',\n",
       "       'деревня Большое Рейзино', 'деревня Малая Романовка',\n",
       "       'поселок Дружноселье', 'поселок Пчевжа', 'поселок Володарское',\n",
       "       'деревня Нижняя', 'коттеджный посёлок Лесное', 'деревня Тихковицы',\n",
       "       'деревня Борисова Грива', 'посёлок Дзержинского'], dtype=object)"
      ]
     },
     "execution_count": 21,
     "metadata": {},
     "output_type": "execute_result"
    }
   ],
   "source": [
    "data['locality_name'].unique()"
   ]
  },
  {
   "cell_type": "code",
   "execution_count": 22,
   "metadata": {},
   "outputs": [
    {
     "data": {
      "text/plain": [
       "array(['Санкт-Петербург', 'посёлок Шушары', 'городской посёлок Янино-1',\n",
       "       'посёлок Парголово', 'посёлок Мурино', 'Ломоносов', 'Сертолово',\n",
       "       'Петергоф', 'Пушкин', 'деревня Кудрово', 'Коммунар', 'Колпино',\n",
       "       'поселок городского типа Красный Бор', 'Гатчина', 'поселок Мурино',\n",
       "       'деревня Фёдоровское', 'Выборг', 'Кронштадт', 'Кировск',\n",
       "       'деревня Новое Девяткино', 'посёлок Металлострой',\n",
       "       'посёлок городского типа Лебяжье',\n",
       "       'посёлок городского типа Сиверский', 'поселок Молодцово',\n",
       "       'поселок городского типа Кузьмоловский',\n",
       "       'садовое товарищество Новая Ропша', 'Павловск',\n",
       "       'деревня Пикколово', 'Всеволожск', 'Волхов', 'Кингисепп',\n",
       "       'Приозерск', 'Сестрорецк', 'деревня Куттузи', 'посёлок Аннино',\n",
       "       'поселок городского типа Ефимовский', 'посёлок Плодовое',\n",
       "       'деревня Заклинье', 'поселок Торковичи', 'поселок Первомайское',\n",
       "       'Красное Село', 'посёлок Понтонный', 'Сясьстрой', 'деревня Старая',\n",
       "       'деревня Лесколово', 'посёлок Новый Свет', 'Сланцы',\n",
       "       'село Путилово', 'Ивангород', 'Мурино', 'Шлиссельбург',\n",
       "       'Никольское', 'Зеленогорск', 'Сосновый Бор', 'поселок Новый Свет',\n",
       "       'деревня Оржицы', 'деревня Кальтино', 'Кудрово',\n",
       "       'поселок Романовка', 'посёлок Бугры', 'поселок Бугры',\n",
       "       'поселок городского типа Рощино', 'Кириши', 'Луга', 'Волосово',\n",
       "       'Отрадное', 'село Павлово', 'поселок Оредеж', 'село Копорье',\n",
       "       'посёлок городского типа Красный Бор', 'посёлок Молодёжное',\n",
       "       'Тихвин', 'посёлок Победа', 'деревня Нурма',\n",
       "       'поселок городского типа Синявино', 'Тосно',\n",
       "       'посёлок городского типа Кузьмоловский', 'посёлок Стрельна',\n",
       "       'Бокситогорск', 'посёлок Александровская', 'деревня Лопухинка',\n",
       "       'Пикалёво', 'поселок Терволово',\n",
       "       'поселок городского типа Советский', 'Подпорожье',\n",
       "       'посёлок Петровское', 'посёлок городского типа Токсово',\n",
       "       'поселок Сельцо', 'посёлок городского типа Вырица',\n",
       "       'деревня Кипень', 'деревня Келози', 'деревня Вартемяги',\n",
       "       'посёлок Тельмана', 'поселок Севастьяново',\n",
       "       'городской поселок Большая Ижора', 'городской посёлок Павлово',\n",
       "       'деревня Агалатово', 'посёлок Новогорелово',\n",
       "       'городской посёлок Лесогорский', 'деревня Лаголово',\n",
       "       'поселок Цвелодубово', 'поселок городского типа Рахья',\n",
       "       'поселок городского типа Вырица', 'деревня Белогорка',\n",
       "       'поселок Заводской', 'городской посёлок Новоселье',\n",
       "       'деревня Большие Колпаны', 'деревня Горбунки', 'деревня Батово',\n",
       "       'деревня Заневка', 'деревня Иссад', 'Приморск',\n",
       "       'городской посёлок Фёдоровское', 'деревня Мистолово',\n",
       "       'Новая Ладога', 'поселок Зимитицы', 'поселок Барышево',\n",
       "       'деревня Разметелево', 'поселок городского типа имени Свердлова',\n",
       "       'деревня Пеники', 'поселок Рябово', 'деревня Пудомяги',\n",
       "       'поселок станции Корнево', 'деревня Низино', 'деревня Бегуницы',\n",
       "       'посёлок Поляны', 'городской посёлок Мга', 'поселок Елизаветино',\n",
       "       'посёлок городского типа Кузнечное', 'деревня Колтуши',\n",
       "       'поселок Запорожское', 'посёлок городского типа Рощино',\n",
       "       'деревня Гостилицы', 'деревня Малое Карлино',\n",
       "       'посёлок Мичуринское', 'посёлок городского типа имени Морозова',\n",
       "       'посёлок Песочный', 'посёлок Сосново', 'деревня Аро',\n",
       "       'поселок Ильичёво', 'посёлок городского типа Тайцы',\n",
       "       'деревня Малое Верево', 'деревня Извара', 'поселок станции Вещево',\n",
       "       'село Паша', 'деревня Калитино',\n",
       "       'посёлок городского типа Ульяновка', 'деревня Чудской Бор',\n",
       "       'поселок городского типа Дубровка', 'деревня Мины',\n",
       "       'поселок Войсковицы', 'посёлок городского типа имени Свердлова',\n",
       "       'деревня Коркино', 'посёлок Ропша',\n",
       "       'поселок городского типа Приладожский', 'посёлок Щеглово',\n",
       "       'посёлок Гаврилово', 'Лодейное Поле', 'деревня Рабитицы',\n",
       "       'поселок городского типа Никольский', 'деревня Кузьмолово',\n",
       "       'деревня Малые Колпаны', 'поселок Тельмана',\n",
       "       'посёлок Петро-Славянка', 'городской посёлок Назия',\n",
       "       'посёлок Репино', 'посёлок Ильичёво', 'поселок Углово',\n",
       "       'поселок Старая Малукса', 'садовое товарищество Рахья',\n",
       "       'поселок Аннино', 'поселок Победа', 'деревня Меньково',\n",
       "       'деревня Старые Бегуницы', 'посёлок Сапёрный', 'поселок Семрино',\n",
       "       'поселок Гаврилово', 'поселок Глажево', 'поселок Кобринское',\n",
       "       'деревня Гарболово', 'деревня Юкки',\n",
       "       'поселок станции Приветнинское', 'деревня Мануйлово',\n",
       "       'деревня Пчева', 'поселок Поляны', 'поселок Цвылёво',\n",
       "       'поселок Мельниково', 'посёлок Пудость', 'посёлок Усть-Луга',\n",
       "       'Светогорск', 'Любань', 'поселок Селезнёво',\n",
       "       'поселок городского типа Рябово', 'Каменногорск', 'деревня Кривко',\n",
       "       'поселок Глебычево', 'деревня Парицы', 'поселок Жилпосёлок',\n",
       "       'посёлок городского типа Мга', 'городской поселок Янино-1',\n",
       "       'посёлок Войскорово', 'село Никольское', 'посёлок Терволово',\n",
       "       'поселок Стеклянный', 'посёлок городского типа Важины',\n",
       "       'посёлок Мыза-Ивановка', 'село Русско-Высоцкое',\n",
       "       'поселок городского типа Лебяжье',\n",
       "       'поселок городского типа Форносово', 'село Старая Ладога',\n",
       "       'поселок Житково', 'городской посёлок Виллози', 'деревня Лампово',\n",
       "       'деревня Шпаньково', 'деревня Лаврики', 'посёлок Сумино',\n",
       "       'посёлок Возрождение', 'деревня Старосиверская',\n",
       "       'посёлок Кикерино', 'поселок Возрождение',\n",
       "       'деревня Старое Хинколово', 'посёлок Пригородный',\n",
       "       'посёлок Торфяное', 'городской посёлок Будогощь',\n",
       "       'поселок Суходолье', 'поселок Красная Долина', 'деревня Хапо-Ое',\n",
       "       'поселок городского типа Дружная Горка', 'поселок Лисий Нос',\n",
       "       'деревня Яльгелево', 'посёлок Стеклянный', 'село Рождествено',\n",
       "       'деревня Старополье', 'посёлок Левашово', 'деревня Сяськелево',\n",
       "       'деревня Камышовка',\n",
       "       'садоводческое некоммерческое товарищество Лесная Поляна',\n",
       "       'деревня Хязельки', 'поселок Жилгородок',\n",
       "       'посёлок городского типа Павлово', 'деревня Ялгино',\n",
       "       'поселок Новый Учхоз', 'городской посёлок Рощино',\n",
       "       'поселок Гончарово', 'поселок Почап', 'посёлок Сапёрное',\n",
       "       'посёлок Платформа 69-й километр', 'поселок Каложицы',\n",
       "       'деревня Фалилеево', 'деревня Пельгора',\n",
       "       'поселок городского типа Лесогорский', 'деревня Торошковичи',\n",
       "       'посёлок Белоостров', 'посёлок Алексеевка', 'поселок Серебрянский',\n",
       "       'поселок Лукаши', 'поселок Петровское', 'деревня Щеглово',\n",
       "       'поселок Мичуринское', 'деревня Тарасово', 'поселок Кингисеппский',\n",
       "       'посёлок при железнодорожной станции Вещево', 'поселок Ушаки',\n",
       "       'деревня Котлы', 'деревня Сижно', 'деревня Торосово',\n",
       "       'посёлок Форт Красная Горка', 'деревня Новолисино',\n",
       "       'посёлок станции Громово', 'деревня Глинка', 'посёлок Мельниково',\n",
       "       'поселок городского типа Назия', 'деревня Старая Пустошь',\n",
       "       'поселок Коммунары', 'поселок Починок',\n",
       "       'посёлок городского типа Вознесенье', 'деревня Разбегаево',\n",
       "       'посёлок городского типа Рябово', 'поселок Гладкое',\n",
       "       'посёлок при железнодорожной станции Приветнинское',\n",
       "       'поселок Тёсово-4', 'посёлок Жилгородок', 'деревня Бор',\n",
       "       'посёлок Коробицыно', 'деревня Большая Вруда', 'деревня Курковицы',\n",
       "       'посёлок Лисий Нос', 'городской посёлок Советский',\n",
       "       'посёлок Кобралово', 'деревня Суоранда', 'поселок Кобралово',\n",
       "       'поселок городского типа Кондратьево',\n",
       "       'коттеджный поселок Счастье', 'поселок Любань', 'деревня Реброво',\n",
       "       'деревня Зимитицы', 'деревня Тойворово', 'поселок Семиозерье',\n",
       "       'поселок Лесное', 'поселок Совхозный', 'поселок Усть-Луга',\n",
       "       'посёлок Ленинское', 'посёлок Суйда',\n",
       "       'посёлок городского типа Форносово', 'деревня Нижние Осельки',\n",
       "       'посёлок станции Свирь', 'поселок Перово', 'Высоцк',\n",
       "       'поселок Гарболово', 'село Шум', 'поселок Котельский',\n",
       "       'поселок станции Лужайка', 'деревня Большая Пустомержа',\n",
       "       'поселок Красносельское', 'деревня Вахнова Кара', 'деревня Пижма',\n",
       "       'коттеджный поселок Кивеннапа Север', 'поселок Коробицыно',\n",
       "       'поселок Ромашки', 'посёлок Перово', 'деревня Каськово',\n",
       "       'деревня Куровицы', 'посёлок Плоское', 'поселок Сумино',\n",
       "       'поселок городского типа Большая Ижора', 'поселок Кирпичное',\n",
       "       'деревня Ям-Тесово', 'деревня Раздолье', 'деревня Терпилицы',\n",
       "       'поселок городского типа Токсово', 'посёлок Шугозеро',\n",
       "       'деревня Ваганово', 'поселок Пушное', 'садовое товарищество Садко',\n",
       "       'посёлок Усть-Ижора', 'деревня Выскатка',\n",
       "       'городской посёлок Свирьстрой', 'поселок Громово',\n",
       "       'деревня Кисельня', 'посёлок Старая Малукса',\n",
       "       'деревня Трубников Бор', 'поселок Калитино',\n",
       "       'посёлок Высокоключевой', 'садовое товарищество Приладожский',\n",
       "       'посёлок Пансионат Зелёный Бор', 'деревня Ненимяки',\n",
       "       'поселок Пансионат Зелёный Бор', 'деревня Снегирёвка',\n",
       "       'деревня Рапполово', 'деревня Пустынка', 'поселок Рабитицы',\n",
       "       'деревня Большой Сабск', 'деревня Русско', 'деревня Лупполово',\n",
       "       'деревня Большое Рейзино', 'деревня Малая Романовка',\n",
       "       'поселок Дружноселье', 'поселок Пчевжа', 'поселок Володарское',\n",
       "       'деревня Нижняя', 'коттеджный посёлок Лесное', 'деревня Тихковицы',\n",
       "       'деревня Борисова Грива', 'посёлок Дзержинского'], dtype=object)"
      ]
     },
     "execution_count": 22,
     "metadata": {},
     "output_type": "execute_result"
    }
   ],
   "source": [
    "\n",
    "data['locality_name'].replace('поселок|городского типа|городской|деревня|коттеджный|село|посёлок|при железнодорожной станции|станции|садоводческое некоммерческое товарищество|садовое товарищество ', '' ,regex=True)\n",
    "\n",
    "data['locality_name'].unique()"
   ]
  },
  {
   "cell_type": "markdown",
   "metadata": {},
   "source": [
    "#### Обработка и удаление аномалий (редких значений)"
   ]
  },
  {
   "cell_type": "code",
   "execution_count": 23,
   "metadata": {},
   "outputs": [
    {
     "data": {
      "text/html": [
       "<div>\n",
       "<style scoped>\n",
       "    .dataframe tbody tr th:only-of-type {\n",
       "        vertical-align: middle;\n",
       "    }\n",
       "\n",
       "    .dataframe tbody tr th {\n",
       "        vertical-align: top;\n",
       "    }\n",
       "\n",
       "    .dataframe thead th {\n",
       "        text-align: right;\n",
       "    }\n",
       "</style>\n",
       "<table border=\"1\" class=\"dataframe\">\n",
       "  <thead>\n",
       "    <tr style=\"text-align: right;\">\n",
       "      <th></th>\n",
       "      <th>total_images</th>\n",
       "      <th>last_price</th>\n",
       "      <th>total_area</th>\n",
       "      <th>rooms</th>\n",
       "      <th>ceiling_height</th>\n",
       "      <th>floors_total</th>\n",
       "      <th>living_area</th>\n",
       "      <th>floor</th>\n",
       "      <th>kitchen_area</th>\n",
       "      <th>balcony</th>\n",
       "      <th>airports_nearest</th>\n",
       "      <th>city_centers_nearest</th>\n",
       "      <th>parks_around_3000</th>\n",
       "      <th>parks_nearest</th>\n",
       "      <th>ponds_around_3000</th>\n",
       "      <th>ponds_nearest</th>\n",
       "      <th>days_exposition</th>\n",
       "    </tr>\n",
       "  </thead>\n",
       "  <tbody>\n",
       "    <tr>\n",
       "      <th>count</th>\n",
       "      <td>23565.000000</td>\n",
       "      <td>2.151800e+04</td>\n",
       "      <td>22326.000000</td>\n",
       "      <td>23565.000000</td>\n",
       "      <td>21837.000000</td>\n",
       "      <td>23565.000000</td>\n",
       "      <td>22682.000000</td>\n",
       "      <td>23565.000000</td>\n",
       "      <td>22250.000000</td>\n",
       "      <td>23565.000000</td>\n",
       "      <td>18041.000000</td>\n",
       "      <td>18064.000000</td>\n",
       "      <td>23565.000000</td>\n",
       "      <td>8030.000000</td>\n",
       "      <td>23565.000000</td>\n",
       "      <td>9036.000000</td>\n",
       "      <td>18721.000000</td>\n",
       "    </tr>\n",
       "    <tr>\n",
       "      <th>mean</th>\n",
       "      <td>9.878421</td>\n",
       "      <td>4.837339e+06</td>\n",
       "      <td>54.319704</td>\n",
       "      <td>2.013028</td>\n",
       "      <td>2.659333</td>\n",
       "      <td>10.675875</td>\n",
       "      <td>31.526821</td>\n",
       "      <td>5.878124</td>\n",
       "      <td>9.417841</td>\n",
       "      <td>0.593677</td>\n",
       "      <td>28797.082701</td>\n",
       "      <td>14192.656056</td>\n",
       "      <td>0.468831</td>\n",
       "      <td>490.580448</td>\n",
       "      <td>0.589900</td>\n",
       "      <td>518.289509</td>\n",
       "      <td>128.299343</td>\n",
       "    </tr>\n",
       "    <tr>\n",
       "      <th>std</th>\n",
       "      <td>5.681156</td>\n",
       "      <td>2.215581e+06</td>\n",
       "      <td>19.331030</td>\n",
       "      <td>0.987466</td>\n",
       "      <td>0.143003</td>\n",
       "      <td>6.594823</td>\n",
       "      <td>13.752675</td>\n",
       "      <td>4.871485</td>\n",
       "      <td>3.177523</td>\n",
       "      <td>0.960660</td>\n",
       "      <td>12632.499735</td>\n",
       "      <td>8613.348153</td>\n",
       "      <td>0.748403</td>\n",
       "      <td>341.572956</td>\n",
       "      <td>0.883966</td>\n",
       "      <td>278.009558</td>\n",
       "      <td>121.064671</td>\n",
       "    </tr>\n",
       "    <tr>\n",
       "      <th>min</th>\n",
       "      <td>0.000000</td>\n",
       "      <td>4.300000e+05</td>\n",
       "      <td>12.000000</td>\n",
       "      <td>0.000000</td>\n",
       "      <td>2.250000</td>\n",
       "      <td>1.000000</td>\n",
       "      <td>2.000000</td>\n",
       "      <td>1.000000</td>\n",
       "      <td>1.300000</td>\n",
       "      <td>0.000000</td>\n",
       "      <td>0.000000</td>\n",
       "      <td>181.000000</td>\n",
       "      <td>0.000000</td>\n",
       "      <td>1.000000</td>\n",
       "      <td>0.000000</td>\n",
       "      <td>13.000000</td>\n",
       "      <td>1.000000</td>\n",
       "    </tr>\n",
       "    <tr>\n",
       "      <th>25%</th>\n",
       "      <td>6.000000</td>\n",
       "      <td>3.300000e+06</td>\n",
       "      <td>39.400000</td>\n",
       "      <td>1.000000</td>\n",
       "      <td>2.550000</td>\n",
       "      <td>5.000000</td>\n",
       "      <td>18.700000</td>\n",
       "      <td>2.000000</td>\n",
       "      <td>7.000000</td>\n",
       "      <td>0.000000</td>\n",
       "      <td>18565.000000</td>\n",
       "      <td>9238.000000</td>\n",
       "      <td>0.000000</td>\n",
       "      <td>288.000000</td>\n",
       "      <td>0.000000</td>\n",
       "      <td>293.000000</td>\n",
       "      <td>41.000000</td>\n",
       "    </tr>\n",
       "    <tr>\n",
       "      <th>50%</th>\n",
       "      <td>9.000000</td>\n",
       "      <td>4.400000e+06</td>\n",
       "      <td>50.000000</td>\n",
       "      <td>2.000000</td>\n",
       "      <td>2.640000</td>\n",
       "      <td>9.000000</td>\n",
       "      <td>30.000000</td>\n",
       "      <td>4.000000</td>\n",
       "      <td>9.000000</td>\n",
       "      <td>0.000000</td>\n",
       "      <td>26757.000000</td>\n",
       "      <td>13096.500000</td>\n",
       "      <td>0.000000</td>\n",
       "      <td>455.000000</td>\n",
       "      <td>0.000000</td>\n",
       "      <td>503.000000</td>\n",
       "      <td>85.000000</td>\n",
       "    </tr>\n",
       "    <tr>\n",
       "      <th>75%</th>\n",
       "      <td>14.000000</td>\n",
       "      <td>6.000000e+06</td>\n",
       "      <td>65.500000</td>\n",
       "      <td>3.000000</td>\n",
       "      <td>2.750000</td>\n",
       "      <td>16.000000</td>\n",
       "      <td>40.600000</td>\n",
       "      <td>8.000000</td>\n",
       "      <td>11.000000</td>\n",
       "      <td>1.000000</td>\n",
       "      <td>37273.000000</td>\n",
       "      <td>16285.000000</td>\n",
       "      <td>1.000000</td>\n",
       "      <td>612.000000</td>\n",
       "      <td>1.000000</td>\n",
       "      <td>730.000000</td>\n",
       "      <td>182.000000</td>\n",
       "    </tr>\n",
       "    <tr>\n",
       "      <th>max</th>\n",
       "      <td>50.000000</td>\n",
       "      <td>1.186686e+07</td>\n",
       "      <td>114.200000</td>\n",
       "      <td>5.000000</td>\n",
       "      <td>3.050000</td>\n",
       "      <td>60.000000</td>\n",
       "      <td>76.700000</td>\n",
       "      <td>33.000000</td>\n",
       "      <td>19.450000</td>\n",
       "      <td>5.000000</td>\n",
       "      <td>84869.000000</td>\n",
       "      <td>65968.000000</td>\n",
       "      <td>3.000000</td>\n",
       "      <td>3190.000000</td>\n",
       "      <td>3.000000</td>\n",
       "      <td>1344.000000</td>\n",
       "      <td>509.000000</td>\n",
       "    </tr>\n",
       "  </tbody>\n",
       "</table>\n",
       "</div>"
      ],
      "text/plain": [
       "       total_images    last_price    total_area         rooms  ceiling_height  \\\n",
       "count  23565.000000  2.151800e+04  22326.000000  23565.000000    21837.000000   \n",
       "mean       9.878421  4.837339e+06     54.319704      2.013028        2.659333   \n",
       "std        5.681156  2.215581e+06     19.331030      0.987466        0.143003   \n",
       "min        0.000000  4.300000e+05     12.000000      0.000000        2.250000   \n",
       "25%        6.000000  3.300000e+06     39.400000      1.000000        2.550000   \n",
       "50%        9.000000  4.400000e+06     50.000000      2.000000        2.640000   \n",
       "75%       14.000000  6.000000e+06     65.500000      3.000000        2.750000   \n",
       "max       50.000000  1.186686e+07    114.200000      5.000000        3.050000   \n",
       "\n",
       "       floors_total   living_area         floor  kitchen_area       balcony  \\\n",
       "count  23565.000000  22682.000000  23565.000000  22250.000000  23565.000000   \n",
       "mean      10.675875     31.526821      5.878124      9.417841      0.593677   \n",
       "std        6.594823     13.752675      4.871485      3.177523      0.960660   \n",
       "min        1.000000      2.000000      1.000000      1.300000      0.000000   \n",
       "25%        5.000000     18.700000      2.000000      7.000000      0.000000   \n",
       "50%        9.000000     30.000000      4.000000      9.000000      0.000000   \n",
       "75%       16.000000     40.600000      8.000000     11.000000      1.000000   \n",
       "max       60.000000     76.700000     33.000000     19.450000      5.000000   \n",
       "\n",
       "       airports_nearest  city_centers_nearest  parks_around_3000  \\\n",
       "count      18041.000000          18064.000000       23565.000000   \n",
       "mean       28797.082701          14192.656056           0.468831   \n",
       "std        12632.499735           8613.348153           0.748403   \n",
       "min            0.000000            181.000000           0.000000   \n",
       "25%        18565.000000           9238.000000           0.000000   \n",
       "50%        26757.000000          13096.500000           0.000000   \n",
       "75%        37273.000000          16285.000000           1.000000   \n",
       "max        84869.000000          65968.000000           3.000000   \n",
       "\n",
       "       parks_nearest  ponds_around_3000  ponds_nearest  days_exposition  \n",
       "count    8030.000000       23565.000000    9036.000000     18721.000000  \n",
       "mean      490.580448           0.589900     518.289509       128.299343  \n",
       "std       341.572956           0.883966     278.009558       121.064671  \n",
       "min         1.000000           0.000000      13.000000         1.000000  \n",
       "25%       288.000000           0.000000     293.000000        41.000000  \n",
       "50%       455.000000           0.000000     503.000000        85.000000  \n",
       "75%       612.000000           1.000000     730.000000       182.000000  \n",
       "max      3190.000000           3.000000    1344.000000       509.000000  "
      ]
     },
     "execution_count": 23,
     "metadata": {},
     "output_type": "execute_result"
    }
   ],
   "source": [
    "# Функция для подсчёта границ с учетом 1.5 размаха\n",
    "def quartile_range(data, column):\n",
    "    q1 = data[column].quantile(0.25)\n",
    "    q3 = data[column].quantile(0.75)\n",
    "    iqr = q3 - q1\n",
    "    dataq = data.loc[(data[column] < q3 + 1.5*iqr) & (data[column] > q1 - 1.5*iqr), column]\n",
    "    return dataq\n",
    "# Столбцы с выбросами\n",
    "list_features = ['last_price', 'total_area', 'kitchen_area', 'living_area', 'days_exposition', 'ceiling_height', 'rooms']\n",
    "for col in list_features:\n",
    "    data[col] = quartile_range(data, col)\n",
    "\n",
    "# Возвращаем в целочисленный тип число комнат\n",
    "data['rooms'] = data['rooms'].fillna(0).astype(int)\n",
    "\n",
    "# Изучаем, есть ли выбивающиеся значения\n",
    "data.describe()"
   ]
  },
  {
   "cell_type": "markdown",
   "metadata": {},
   "source": [
    "В датафрейме отброшены значения на основе 1.5 размаха. Значения стали лучше и адекватнее."
   ]
  },
  {
   "cell_type": "markdown",
   "metadata": {},
   "source": [
    "### Посчитайте и добавьте в таблицу новые столбцы"
   ]
  },
  {
   "cell_type": "markdown",
   "metadata": {},
   "source": [
    "#### Добавление цены квадратного метра"
   ]
  },
  {
   "cell_type": "code",
   "execution_count": 24,
   "metadata": {},
   "outputs": [],
   "source": [
    "#добавляем столбец price_sq_meter с расчетом 1 кв м\n",
    "data['price_sq_meter'] =data['last_price'] / data['total_area']"
   ]
  },
  {
   "cell_type": "markdown",
   "metadata": {},
   "source": [
    "#### Добавление дня недели, месяца и года публикации объявления"
   ]
  },
  {
   "cell_type": "code",
   "execution_count": 25,
   "metadata": {},
   "outputs": [],
   "source": [
    "#добавление столбца с днем недели публикации объявления\n",
    "data['weekday_exposition'] = data['first_day_exposition'].dt.weekday\n",
    "\n",
    "#добавление столбца с месяцем публикации объявления\n",
    "data['month_exposition'] = data['first_day_exposition'].dt.month\n",
    "\n",
    "#добавление столбца с годом публикации\n",
    "data['year_exposition'] = data['first_day_exposition'].dt.year"
   ]
  },
  {
   "cell_type": "markdown",
   "metadata": {},
   "source": [
    "#### Добавление этажа квартиры (первый, последний и другой)"
   ]
  },
  {
   "cell_type": "code",
   "execution_count": 26,
   "metadata": {},
   "outputs": [],
   "source": [
    "#функция, определяющая категорию этажа:\n",
    "def floors_category(row):\n",
    "    if row['floor'] == 1:\n",
    "        return 'первый'\n",
    "    elif row['floor'] == row['floors_total']:\n",
    "        return 'последний'\n",
    "    else:\n",
    "        return 'другой'\n",
    "\n",
    "#применяем метод apply и функцию floors_category к созданному столбцу floor_group:\n",
    "data['floor_group'] = data.apply(floors_category, axis=1)  "
   ]
  },
  {
   "cell_type": "markdown",
   "metadata": {},
   "source": [
    "#### Добавление соотношения жилой и общей площади, а также площади кухни к общей площади"
   ]
  },
  {
   "cell_type": "code",
   "execution_count": 27,
   "metadata": {},
   "outputs": [],
   "source": [
    "#создаем столбец living_area_ratio и заполняем его соотношением жилой и общей площади:\n",
    "\n",
    "data['living_area_ratio'] = data['living_area'] / data['total_area']\n",
    "\n",
    "#создаем столбец kitchen_area_ratio и заполняем его соотношением площади кухни и общей площади:\n",
    "data['kitchen_area_ratio'] = data['kitchen_area'] / data['total_area']"
   ]
  },
  {
   "cell_type": "markdown",
   "metadata": {},
   "source": [
    "#### Расстояние до центра города в километрах (переведино из м в км и округлите до целых значений)"
   ]
  },
  {
   "cell_type": "code",
   "execution_count": 28,
   "metadata": {},
   "outputs": [
    {
     "data": {
      "text/plain": [
       "0        16.028\n",
       "1        18.603\n",
       "2        13.933\n",
       "3         6.800\n",
       "4         8.098\n",
       "          ...  \n",
       "23694     4.232\n",
       "23695       NaN\n",
       "23696       NaN\n",
       "23697    10.364\n",
       "23698       NaN\n",
       "Name: city_centers_nearest_km, Length: 23565, dtype: float64"
      ]
     },
     "execution_count": 28,
     "metadata": {},
     "output_type": "execute_result"
    }
   ],
   "source": [
    "\n",
    "data['city_centers_nearest_km'] = data['city_centers_nearest'].div(1000)\n",
    "data['city_centers_nearest_km']"
   ]
  },
  {
   "cell_type": "markdown",
   "metadata": {},
   "source": [
    "Проверим добавление столбцов, для чего выведем первые 5 строк датафрейма:"
   ]
  },
  {
   "cell_type": "code",
   "execution_count": 29,
   "metadata": {},
   "outputs": [
    {
     "data": {
      "text/html": [
       "<div>\n",
       "<style scoped>\n",
       "    .dataframe tbody tr th:only-of-type {\n",
       "        vertical-align: middle;\n",
       "    }\n",
       "\n",
       "    .dataframe tbody tr th {\n",
       "        vertical-align: top;\n",
       "    }\n",
       "\n",
       "    .dataframe thead th {\n",
       "        text-align: right;\n",
       "    }\n",
       "</style>\n",
       "<table border=\"1\" class=\"dataframe\">\n",
       "  <thead>\n",
       "    <tr style=\"text-align: right;\">\n",
       "      <th></th>\n",
       "      <th>total_images</th>\n",
       "      <th>last_price</th>\n",
       "      <th>total_area</th>\n",
       "      <th>first_day_exposition</th>\n",
       "      <th>rooms</th>\n",
       "      <th>ceiling_height</th>\n",
       "      <th>floors_total</th>\n",
       "      <th>living_area</th>\n",
       "      <th>floor</th>\n",
       "      <th>is_apartment</th>\n",
       "      <th>...</th>\n",
       "      <th>ponds_nearest</th>\n",
       "      <th>days_exposition</th>\n",
       "      <th>price_sq_meter</th>\n",
       "      <th>weekday_exposition</th>\n",
       "      <th>month_exposition</th>\n",
       "      <th>year_exposition</th>\n",
       "      <th>floor_group</th>\n",
       "      <th>living_area_ratio</th>\n",
       "      <th>kitchen_area_ratio</th>\n",
       "      <th>city_centers_nearest_km</th>\n",
       "    </tr>\n",
       "  </thead>\n",
       "  <tbody>\n",
       "    <tr>\n",
       "      <th>0</th>\n",
       "      <td>20</td>\n",
       "      <td>NaN</td>\n",
       "      <td>108.0</td>\n",
       "      <td>2019-03-07</td>\n",
       "      <td>3</td>\n",
       "      <td>2.70</td>\n",
       "      <td>16</td>\n",
       "      <td>51.0</td>\n",
       "      <td>8</td>\n",
       "      <td>False</td>\n",
       "      <td>...</td>\n",
       "      <td>755.0</td>\n",
       "      <td>NaN</td>\n",
       "      <td>NaN</td>\n",
       "      <td>3</td>\n",
       "      <td>3</td>\n",
       "      <td>2019</td>\n",
       "      <td>другой</td>\n",
       "      <td>0.472222</td>\n",
       "      <td>NaN</td>\n",
       "      <td>16.028</td>\n",
       "    </tr>\n",
       "    <tr>\n",
       "      <th>1</th>\n",
       "      <td>7</td>\n",
       "      <td>3350000.0</td>\n",
       "      <td>40.4</td>\n",
       "      <td>2018-12-04</td>\n",
       "      <td>1</td>\n",
       "      <td>2.65</td>\n",
       "      <td>11</td>\n",
       "      <td>18.6</td>\n",
       "      <td>1</td>\n",
       "      <td>False</td>\n",
       "      <td>...</td>\n",
       "      <td>NaN</td>\n",
       "      <td>81.0</td>\n",
       "      <td>82920.792079</td>\n",
       "      <td>1</td>\n",
       "      <td>12</td>\n",
       "      <td>2018</td>\n",
       "      <td>первый</td>\n",
       "      <td>0.460396</td>\n",
       "      <td>0.272277</td>\n",
       "      <td>18.603</td>\n",
       "    </tr>\n",
       "    <tr>\n",
       "      <th>2</th>\n",
       "      <td>10</td>\n",
       "      <td>5196000.0</td>\n",
       "      <td>56.0</td>\n",
       "      <td>2015-08-20</td>\n",
       "      <td>2</td>\n",
       "      <td>2.60</td>\n",
       "      <td>5</td>\n",
       "      <td>34.3</td>\n",
       "      <td>4</td>\n",
       "      <td>False</td>\n",
       "      <td>...</td>\n",
       "      <td>574.0</td>\n",
       "      <td>NaN</td>\n",
       "      <td>92785.714286</td>\n",
       "      <td>3</td>\n",
       "      <td>8</td>\n",
       "      <td>2015</td>\n",
       "      <td>другой</td>\n",
       "      <td>0.612500</td>\n",
       "      <td>0.148214</td>\n",
       "      <td>13.933</td>\n",
       "    </tr>\n",
       "    <tr>\n",
       "      <th>3</th>\n",
       "      <td>0</td>\n",
       "      <td>NaN</td>\n",
       "      <td>NaN</td>\n",
       "      <td>2015-07-24</td>\n",
       "      <td>3</td>\n",
       "      <td>2.60</td>\n",
       "      <td>14</td>\n",
       "      <td>NaN</td>\n",
       "      <td>9</td>\n",
       "      <td>False</td>\n",
       "      <td>...</td>\n",
       "      <td>234.0</td>\n",
       "      <td>424.0</td>\n",
       "      <td>NaN</td>\n",
       "      <td>4</td>\n",
       "      <td>7</td>\n",
       "      <td>2015</td>\n",
       "      <td>другой</td>\n",
       "      <td>NaN</td>\n",
       "      <td>NaN</td>\n",
       "      <td>6.800</td>\n",
       "    </tr>\n",
       "    <tr>\n",
       "      <th>4</th>\n",
       "      <td>2</td>\n",
       "      <td>10000000.0</td>\n",
       "      <td>100.0</td>\n",
       "      <td>2018-06-19</td>\n",
       "      <td>2</td>\n",
       "      <td>3.03</td>\n",
       "      <td>14</td>\n",
       "      <td>32.0</td>\n",
       "      <td>13</td>\n",
       "      <td>False</td>\n",
       "      <td>...</td>\n",
       "      <td>48.0</td>\n",
       "      <td>121.0</td>\n",
       "      <td>100000.000000</td>\n",
       "      <td>1</td>\n",
       "      <td>6</td>\n",
       "      <td>2018</td>\n",
       "      <td>другой</td>\n",
       "      <td>0.320000</td>\n",
       "      <td>NaN</td>\n",
       "      <td>8.098</td>\n",
       "    </tr>\n",
       "  </tbody>\n",
       "</table>\n",
       "<p>5 rows × 30 columns</p>\n",
       "</div>"
      ],
      "text/plain": [
       "   total_images  last_price  total_area first_day_exposition  rooms  \\\n",
       "0            20         NaN       108.0           2019-03-07      3   \n",
       "1             7   3350000.0        40.4           2018-12-04      1   \n",
       "2            10   5196000.0        56.0           2015-08-20      2   \n",
       "3             0         NaN         NaN           2015-07-24      3   \n",
       "4             2  10000000.0       100.0           2018-06-19      2   \n",
       "\n",
       "   ceiling_height  floors_total  living_area  floor  is_apartment  ...  \\\n",
       "0            2.70            16         51.0      8         False  ...   \n",
       "1            2.65            11         18.6      1         False  ...   \n",
       "2            2.60             5         34.3      4         False  ...   \n",
       "3            2.60            14          NaN      9         False  ...   \n",
       "4            3.03            14         32.0     13         False  ...   \n",
       "\n",
       "   ponds_nearest  days_exposition  price_sq_meter  weekday_exposition  \\\n",
       "0          755.0              NaN             NaN                   3   \n",
       "1            NaN             81.0    82920.792079                   1   \n",
       "2          574.0              NaN    92785.714286                   3   \n",
       "3          234.0            424.0             NaN                   4   \n",
       "4           48.0            121.0   100000.000000                   1   \n",
       "\n",
       "  month_exposition  year_exposition  floor_group  living_area_ratio  \\\n",
       "0                3             2019       другой           0.472222   \n",
       "1               12             2018       первый           0.460396   \n",
       "2                8             2015       другой           0.612500   \n",
       "3                7             2015       другой                NaN   \n",
       "4                6             2018       другой           0.320000   \n",
       "\n",
       "   kitchen_area_ratio  city_centers_nearest_km  \n",
       "0                 NaN                   16.028  \n",
       "1            0.272277                   18.603  \n",
       "2            0.148214                   13.933  \n",
       "3                 NaN                    6.800  \n",
       "4                 NaN                    8.098  \n",
       "\n",
       "[5 rows x 30 columns]"
      ]
     },
     "execution_count": 29,
     "metadata": {},
     "output_type": "execute_result"
    }
   ],
   "source": [
    "data.head()"
   ]
  },
  {
   "cell_type": "markdown",
   "metadata": {},
   "source": [
    "#### Вывод"
   ]
  },
  {
   "cell_type": "markdown",
   "metadata": {},
   "source": [
    "Для дальнейшего анализа рассчитаны и добавлены отдельными столбцами значения цены 1 кв.м., дня недели, месяца и года объявления, категории этажа, соотношения жилой площади и площади кухни к общей."
   ]
  },
  {
   "cell_type": "markdown",
   "metadata": {},
   "source": [
    "### Проведите исследовательский анализ данных"
   ]
  },
  {
   "cell_type": "markdown",
   "metadata": {},
   "source": [
    "#### Исследование параметров объектов: общей площади, жилой площади, площади кухни, цены, количества комнат и т.д."
   ]
  },
  {
   "cell_type": "code",
   "execution_count": 30,
   "metadata": {},
   "outputs": [],
   "source": [
    "#функция, получающая на вход название признака, и возвращающая границы \"усов\"\n",
    "def kingston(column):\n",
    "    stat = data[column].describe()\n",
    "    \n",
    "    # межквартирльный размах\n",
    "    iqr = stat[6] - stat[4]\n",
    "    \n",
    "    # левый и правый \"ус\"    \n",
    "    left_kingston = round(stat[4] - 1.5 * iqr, 2)\n",
    "    right_kingston = round(stat[6] + 1.5 * iqr, 2)\n",
    "\n",
    "    # левый \"ус\" не должен быть меньше минимального значения\n",
    "    if left_kingston < stat[3]: left_kingston = stat[3] \n",
    "        \n",
    "    # правый \"ус\" не должен быть больше максимального значения\n",
    "    if right_kingston > stat[7]: right_kingston = stat[7]\n",
    "        \n",
    "    return [left_kingston, right_kingston]"
   ]
  },
  {
   "cell_type": "markdown",
   "metadata": {},
   "source": [
    "##### Общая площадь"
   ]
  },
  {
   "cell_type": "code",
   "execution_count": 31,
   "metadata": {},
   "outputs": [
    {
     "data": {
      "text/plain": [
       "[12.0, 104.65]"
      ]
     },
     "execution_count": 31,
     "metadata": {},
     "output_type": "execute_result"
    }
   ],
   "source": [
    "kingston('total_area')"
   ]
  },
  {
   "cell_type": "code",
   "execution_count": 32,
   "metadata": {},
   "outputs": [
    {
     "data": {
      "text/plain": [
       "count    22326.000000\n",
       "mean        54.319704\n",
       "std         19.331030\n",
       "min         12.000000\n",
       "25%         39.400000\n",
       "50%         50.000000\n",
       "75%         65.500000\n",
       "max        114.200000\n",
       "Name: total_area, dtype: float64"
      ]
     },
     "execution_count": 32,
     "metadata": {},
     "output_type": "execute_result"
    }
   ],
   "source": [
    "data['total_area'].describe()"
   ]
  },
  {
   "cell_type": "code",
   "execution_count": 33,
   "metadata": {},
   "outputs": [
    {
     "data": {
      "image/png": "[encoded data removed]",
      "text/plain": [
       "<Figure size 432x288 with 1 Axes>"
      ]
     },
     "metadata": {
      "needs_background": "light"
     },
     "output_type": "display_data"
    }
   ],
   "source": [
    "# Построим диаграмму для объектов с площадью менее 120 кв.м.\n",
    "sns.distplot(data['total_area'], kde=False, bins=20, color='tab:blue')\n",
    "plt.xlim(0, 120)\n",
    "plt.title('Гистограмма общей площади')\n",
    "plt.xlabel('Общая площадь, кв.м')\n",
    "plt.ylabel('Количество квартир')\n",
    "plt.show()"
   ]
  },
  {
   "cell_type": "markdown",
   "metadata": {},
   "source": [
    "##### Жилая площадь"
   ]
  },
  {
   "cell_type": "code",
   "execution_count": 34,
   "metadata": {},
   "outputs": [
    {
     "data": {
      "text/plain": [
       "[2.0, 73.45]"
      ]
     },
     "execution_count": 34,
     "metadata": {},
     "output_type": "execute_result"
    }
   ],
   "source": [
    "kingston('living_area')"
   ]
  },
  {
   "cell_type": "code",
   "execution_count": 35,
   "metadata": {},
   "outputs": [
    {
     "data": {
      "text/plain": [
       "count    22682.000000\n",
       "mean        31.526821\n",
       "std         13.752675\n",
       "min          2.000000\n",
       "25%         18.700000\n",
       "50%         30.000000\n",
       "75%         40.600000\n",
       "max         76.700000\n",
       "Name: living_area, dtype: float64"
      ]
     },
     "execution_count": 35,
     "metadata": {},
     "output_type": "execute_result"
    }
   ],
   "source": [
    "data['living_area'].describe()"
   ]
  },
  {
   "cell_type": "code",
   "execution_count": 36,
   "metadata": {},
   "outputs": [
    {
     "data": {
      "image/png": "[encoded data removed]",
      "text/plain": [
       "<Figure size 432x288 with 1 Axes>"
      ]
     },
     "metadata": {
      "needs_background": "light"
     },
     "output_type": "display_data"
    }
   ],
   "source": [
    "# Построим диаграмму для объектов с площадью менее 80 кв.м.\n",
    "sns.distplot(data['living_area'], kde=False, bins=20, color='tab:green')\n",
    "plt.xlim(0, 80)\n",
    "plt.title('Гистограмма жилой площади')\n",
    "plt.xlabel('Жилая площадь, кв.м')\n",
    "plt.ylabel('Количество квартир')\n",
    "plt.show()"
   ]
  },
  {
   "cell_type": "markdown",
   "metadata": {},
   "source": [
    "##### Площадь кухни"
   ]
  },
  {
   "cell_type": "code",
   "execution_count": 37,
   "metadata": {},
   "outputs": [
    {
     "data": {
      "text/plain": [
       "[1.3, 17.0]"
      ]
     },
     "execution_count": 37,
     "metadata": {},
     "output_type": "execute_result"
    }
   ],
   "source": [
    "kingston('kitchen_area')"
   ]
  },
  {
   "cell_type": "code",
   "execution_count": 38,
   "metadata": {},
   "outputs": [
    {
     "data": {
      "text/plain": [
       "count    22250.000000\n",
       "mean         9.417841\n",
       "std          3.177523\n",
       "min          1.300000\n",
       "25%          7.000000\n",
       "50%          9.000000\n",
       "75%         11.000000\n",
       "max         19.450000\n",
       "Name: kitchen_area, dtype: float64"
      ]
     },
     "execution_count": 38,
     "metadata": {},
     "output_type": "execute_result"
    }
   ],
   "source": [
    "data['kitchen_area'].describe()"
   ]
  },
  {
   "cell_type": "code",
   "execution_count": 39,
   "metadata": {},
   "outputs": [
    {
     "data": {
      "image/png": "[encoded data removed]",
      "text/plain": [
       "<Figure size 432x288 with 1 Axes>"
      ]
     },
     "metadata": {
      "needs_background": "light"
     },
     "output_type": "display_data"
    }
   ],
   "source": [
    "# Построим диаграмму для объектов с площадью менее 20 кв.м.\n",
    "sns.distplot(data['kitchen_area'], kde=False, bins=20, color='tab:red')\n",
    "plt.xlim(0, 20)\n",
    "plt.title('Гистограмма площади кухни')\n",
    "plt.xlabel('Площади кухни, кв.м')\n",
    "plt.ylabel('Количество квартир')\n",
    "plt.show()"
   ]
  },
  {
   "cell_type": "markdown",
   "metadata": {},
   "source": [
    "##### Цена объекта"
   ]
  },
  {
   "cell_type": "code",
   "execution_count": 40,
   "metadata": {},
   "outputs": [
    {
     "data": {
      "text/plain": [
       "[430000.0, 10049999.38]"
      ]
     },
     "execution_count": 40,
     "metadata": {},
     "output_type": "execute_result"
    }
   ],
   "source": [
    "kingston('last_price')"
   ]
  },
  {
   "cell_type": "code",
   "execution_count": 41,
   "metadata": {},
   "outputs": [
    {
     "data": {
      "text/plain": [
       "[22604.17, 161437.5]"
      ]
     },
     "execution_count": 41,
     "metadata": {},
     "output_type": "execute_result"
    }
   ],
   "source": [
    "kingston('price_sq_meter')"
   ]
  },
  {
   "cell_type": "code",
   "execution_count": 42,
   "metadata": {},
   "outputs": [
    {
     "data": {
      "text/plain": [
       "count    2.151800e+04\n",
       "mean     4.837339e+06\n",
       "std      2.215581e+06\n",
       "min      4.300000e+05\n",
       "25%      3.300000e+06\n",
       "50%      4.400000e+06\n",
       "75%      6.000000e+06\n",
       "max      1.186686e+07\n",
       "Name: last_price, dtype: float64"
      ]
     },
     "execution_count": 42,
     "metadata": {},
     "output_type": "execute_result"
    }
   ],
   "source": [
    "data['last_price'].describe()"
   ]
  },
  {
   "cell_type": "code",
   "execution_count": 43,
   "metadata": {},
   "outputs": [
    {
     "data": {
      "text/plain": [
       "count     21337.000000\n",
       "mean      92035.920662\n",
       "std       29556.304607\n",
       "min        7962.962963\n",
       "25%       74666.666667\n",
       "50%       92727.272727\n",
       "75%      109375.000000\n",
       "max      312240.000000\n",
       "Name: price_sq_meter, dtype: float64"
      ]
     },
     "execution_count": 43,
     "metadata": {},
     "output_type": "execute_result"
    }
   ],
   "source": [
    "data['price_sq_meter'].describe()"
   ]
  },
  {
   "cell_type": "code",
   "execution_count": 44,
   "metadata": {},
   "outputs": [
    {
     "data": {
      "image/png": "[encoded data removed]",
      "text/plain": [
       "<Figure size 432x288 with 1 Axes>"
      ]
     },
     "metadata": {
      "needs_background": "light"
     },
     "output_type": "display_data"
    }
   ],
   "source": [
    "sns.distplot(data['last_price'], kde=False, bins=20, color='tab:green')\n",
    "plt.xlim(0, 13000000)\n",
    "plt.title('Гистограмма цен на момент снятия публикации')\n",
    "plt.xlabel('Цены, 10 млн рублей')\n",
    "_ = plt.ylabel('Количество квартир')"
   ]
  },
  {
   "cell_type": "code",
   "execution_count": 45,
   "metadata": {},
   "outputs": [
    {
     "data": {
      "image/png": "[encoded data removed]",
      "text/plain": [
       "<Figure size 432x288 with 1 Axes>"
      ]
     },
     "metadata": {
      "needs_background": "light"
     },
     "output_type": "display_data"
    }
   ],
   "source": [
    "# Работаем с ценой за квадрат\n",
    "sns.distplot(data['price_sq_meter'], kde=False, bins=30, color='tab:blue')\n",
    "plt.xlim(0, 250000)\n",
    "plt.title('Стоимость квадратного метра')\n",
    "plt.xlabel('Стоимость')\n",
    "_ = plt.ylabel('Количество квартир')"
   ]
  },
  {
   "cell_type": "markdown",
   "metadata": {},
   "source": [
    "##### Количество комнат"
   ]
  },
  {
   "cell_type": "code",
   "execution_count": 46,
   "metadata": {},
   "outputs": [
    {
     "data": {
      "text/plain": [
       "[0.0, 5.0]"
      ]
     },
     "execution_count": 46,
     "metadata": {},
     "output_type": "execute_result"
    }
   ],
   "source": [
    "kingston('rooms')"
   ]
  },
  {
   "cell_type": "code",
   "execution_count": 47,
   "metadata": {},
   "outputs": [
    {
     "data": {
      "text/plain": [
       "count    23565.000000\n",
       "mean         2.013028\n",
       "std          0.987466\n",
       "min          0.000000\n",
       "25%          1.000000\n",
       "50%          2.000000\n",
       "75%          3.000000\n",
       "max          5.000000\n",
       "Name: rooms, dtype: float64"
      ]
     },
     "execution_count": 47,
     "metadata": {},
     "output_type": "execute_result"
    }
   ],
   "source": [
    "data['rooms'].describe()"
   ]
  },
  {
   "cell_type": "code",
   "execution_count": 48,
   "metadata": {},
   "outputs": [
    {
     "data": {
      "image/png": "[encoded data removed]",
      "text/plain": [
       "<Figure size 432x288 with 1 Axes>"
      ]
     },
     "metadata": {
      "needs_background": "light"
     },
     "output_type": "display_data"
    }
   ],
   "source": [
    "sns.distplot(data['rooms'], kde=False, bins=7, color='tab:red')\n",
    "plt.xlim(0, 6)\n",
    "plt.title('Гистограмма числа комнат')\n",
    "plt.xlabel('Число комнат, шт.')\n",
    "_ = plt.ylabel('Количество квартир')"
   ]
  },
  {
   "cell_type": "markdown",
   "metadata": {},
   "source": [
    "##### Высота потолков"
   ]
  },
  {
   "cell_type": "code",
   "execution_count": 49,
   "metadata": {},
   "outputs": [
    {
     "data": {
      "text/plain": [
       "[2.25, 3.05]"
      ]
     },
     "execution_count": 49,
     "metadata": {},
     "output_type": "execute_result"
    }
   ],
   "source": [
    "kingston('ceiling_height')"
   ]
  },
  {
   "cell_type": "code",
   "execution_count": 50,
   "metadata": {},
   "outputs": [
    {
     "data": {
      "text/plain": [
       "count    21837.000000\n",
       "mean         2.659333\n",
       "std          0.143003\n",
       "min          2.250000\n",
       "25%          2.550000\n",
       "50%          2.640000\n",
       "75%          2.750000\n",
       "max          3.050000\n",
       "Name: ceiling_height, dtype: float64"
      ]
     },
     "execution_count": 50,
     "metadata": {},
     "output_type": "execute_result"
    }
   ],
   "source": [
    "data['ceiling_height'].describe()"
   ]
  },
  {
   "cell_type": "code",
   "execution_count": 51,
   "metadata": {},
   "outputs": [
    {
     "data": {
      "image/png": "[encoded data removed]",
      "text/plain": [
       "<Figure size 432x288 with 1 Axes>"
      ]
     },
     "metadata": {
      "needs_background": "light"
     },
     "output_type": "display_data"
    }
   ],
   "source": [
    "sns.distplot(data['ceiling_height'], kde=False, bins=5, color='tab:red')\n",
    "plt.xlim(0, 4)\n",
    "plt.title('Высота потолков')\n",
    "plt.xlabel('Метры')\n",
    "_ = plt.ylabel('Количество квартир')"
   ]
  },
  {
   "cell_type": "markdown",
   "metadata": {},
   "source": [
    "##### Этаж квартиры"
   ]
  },
  {
   "cell_type": "code",
   "execution_count": 52,
   "metadata": {},
   "outputs": [
    {
     "data": {
      "text/plain": [
       "[1.0, 17.0]"
      ]
     },
     "execution_count": 52,
     "metadata": {},
     "output_type": "execute_result"
    }
   ],
   "source": [
    "kingston('floor')"
   ]
  },
  {
   "cell_type": "code",
   "execution_count": 53,
   "metadata": {},
   "outputs": [
    {
     "data": {
      "text/plain": [
       "count    23565.000000\n",
       "mean         5.878124\n",
       "std          4.871485\n",
       "min          1.000000\n",
       "25%          2.000000\n",
       "50%          4.000000\n",
       "75%          8.000000\n",
       "max         33.000000\n",
       "Name: floor, dtype: float64"
      ]
     },
     "execution_count": 53,
     "metadata": {},
     "output_type": "execute_result"
    }
   ],
   "source": [
    "data['floor'].describe()"
   ]
  },
  {
   "cell_type": "code",
   "execution_count": 54,
   "metadata": {},
   "outputs": [
    {
     "data": {
      "image/png": "[encoded data removed]",
      "text/plain": [
       "<Figure size 432x288 with 1 Axes>"
      ]
     },
     "metadata": {
      "needs_background": "light"
     },
     "output_type": "display_data"
    }
   ],
   "source": [
    "sns.distplot(data['floor'], kde=False, bins=10, color='tab:purple')\n",
    "plt.xlim(0, 35)\n",
    "plt.title('Этажность')\n",
    "plt.xlabel('Этажа')\n",
    "_ = plt.ylabel('Количество квартир')"
   ]
  },
  {
   "cell_type": "markdown",
   "metadata": {},
   "source": [
    "##### Тип этажа квартиры («первый», «последний», «другой»)"
   ]
  },
  {
   "cell_type": "code",
   "execution_count": 55,
   "metadata": {},
   "outputs": [
    {
     "data": {
      "text/plain": [
       "count      23565\n",
       "unique         3\n",
       "top       другой\n",
       "freq       17326\n",
       "Name: floor_group, dtype: object"
      ]
     },
     "execution_count": 55,
     "metadata": {},
     "output_type": "execute_result"
    }
   ],
   "source": [
    "data['floor_group'].describe()"
   ]
  },
  {
   "cell_type": "code",
   "execution_count": 56,
   "metadata": {},
   "outputs": [
    {
     "data": {
      "image/png": "[encoded data removed]",
      "text/plain": [
       "<Figure size 432x288 with 1 Axes>"
      ]
     },
     "metadata": {
      "needs_background": "light"
     },
     "output_type": "display_data"
    }
   ],
   "source": [
    "plt.hist(data['floor_group'], bins=10, range=(0,3))\n",
    "plt.title('Тип этажа квартиры')\n",
    "plt.xlabel('Тип этажа')\n",
    "plt.ylabel('Количество квартир')\n",
    "plt.show()"
   ]
  },
  {
   "cell_type": "markdown",
   "metadata": {},
   "source": [
    "##### Общее количество этажей в доме"
   ]
  },
  {
   "cell_type": "code",
   "execution_count": 57,
   "metadata": {},
   "outputs": [
    {
     "data": {
      "text/plain": [
       "[1.0, 32.5]"
      ]
     },
     "execution_count": 57,
     "metadata": {},
     "output_type": "execute_result"
    }
   ],
   "source": [
    "kingston('floors_total')"
   ]
  },
  {
   "cell_type": "code",
   "execution_count": 58,
   "metadata": {},
   "outputs": [
    {
     "data": {
      "text/plain": [
       "count    23565.000000\n",
       "mean        10.675875\n",
       "std          6.594823\n",
       "min          1.000000\n",
       "25%          5.000000\n",
       "50%          9.000000\n",
       "75%         16.000000\n",
       "max         60.000000\n",
       "Name: floors_total, dtype: float64"
      ]
     },
     "execution_count": 58,
     "metadata": {},
     "output_type": "execute_result"
    }
   ],
   "source": [
    "data['floors_total'].describe()"
   ]
  },
  {
   "cell_type": "code",
   "execution_count": 59,
   "metadata": {},
   "outputs": [
    {
     "data": {
      "image/png": "[encoded data removed]",
      "text/plain": [
       "<Figure size 432x288 with 1 Axes>"
      ]
     },
     "metadata": {
      "needs_background": "light"
     },
     "output_type": "display_data"
    }
   ],
   "source": [
    "sns.distplot(data['floors_total'], kde=False, bins=4, color='tab:blue')\n",
    "plt.xlim(0, 40)\n",
    "plt.title('Гистограмма числа этажей')\n",
    "plt.xlabel('Kоличество этажей, шт.')\n",
    "_ = plt.ylabel('Количество квартир')"
   ]
  },
  {
   "cell_type": "markdown",
   "metadata": {},
   "source": [
    "##### Расстояние до центра города в метрах"
   ]
  },
  {
   "cell_type": "code",
   "execution_count": 60,
   "metadata": {},
   "outputs": [
    {
     "data": {
      "text/plain": [
       "[181.0, 26855.5]"
      ]
     },
     "execution_count": 60,
     "metadata": {},
     "output_type": "execute_result"
    }
   ],
   "source": [
    "kingston('city_centers_nearest')"
   ]
  },
  {
   "cell_type": "code",
   "execution_count": 61,
   "metadata": {},
   "outputs": [
    {
     "data": {
      "text/plain": [
       "count    18064.000000\n",
       "mean     14192.656056\n",
       "std       8613.348153\n",
       "min        181.000000\n",
       "25%       9238.000000\n",
       "50%      13096.500000\n",
       "75%      16285.000000\n",
       "max      65968.000000\n",
       "Name: city_centers_nearest, dtype: float64"
      ]
     },
     "execution_count": 61,
     "metadata": {},
     "output_type": "execute_result"
    }
   ],
   "source": [
    "data['city_centers_nearest'].describe()"
   ]
  },
  {
   "cell_type": "code",
   "execution_count": 62,
   "metadata": {},
   "outputs": [
    {
     "data": {
      "image/png": "[encoded data removed]",
      "text/plain": [
       "<Figure size 432x288 with 1 Axes>"
      ]
     },
     "metadata": {
      "needs_background": "light"
     },
     "output_type": "display_data"
    }
   ],
   "source": [
    "sns.distplot(data['city_centers_nearest'], kde=False, bins=10, color='tab:grey')\n",
    "plt.xlim(0,60000 )\n",
    "plt.title('Расстояние до центра города в метрах')\n",
    "plt.xlabel('Расстояние в метр')\n",
    "_ = plt.ylabel('Количество квартир')"
   ]
  },
  {
   "cell_type": "markdown",
   "metadata": {},
   "source": [
    "##### Расстояние до ближайшего аэропорта"
   ]
  },
  {
   "cell_type": "code",
   "execution_count": 63,
   "metadata": {},
   "outputs": [
    {
     "data": {
      "text/plain": [
       "[0.0, 65335.0]"
      ]
     },
     "execution_count": 63,
     "metadata": {},
     "output_type": "execute_result"
    }
   ],
   "source": [
    "kingston('airports_nearest')"
   ]
  },
  {
   "cell_type": "code",
   "execution_count": 64,
   "metadata": {},
   "outputs": [
    {
     "data": {
      "text/plain": [
       "count    18041.000000\n",
       "mean     28797.082701\n",
       "std      12632.499735\n",
       "min          0.000000\n",
       "25%      18565.000000\n",
       "50%      26757.000000\n",
       "75%      37273.000000\n",
       "max      84869.000000\n",
       "Name: airports_nearest, dtype: float64"
      ]
     },
     "execution_count": 64,
     "metadata": {},
     "output_type": "execute_result"
    }
   ],
   "source": [
    "data['airports_nearest'].describe()"
   ]
  },
  {
   "cell_type": "code",
   "execution_count": 65,
   "metadata": {},
   "outputs": [
    {
     "data": {
      "image/png": "[encoded data removed]",
      "text/plain": [
       "<Figure size 432x288 with 1 Axes>"
      ]
     },
     "metadata": {
      "needs_background": "light"
     },
     "output_type": "display_data"
    }
   ],
   "source": [
    "sns.distplot(data['airports_nearest'], kde=False, bins=30, color='tab:brown')\n",
    "plt.xlim(0,80000 )\n",
    "plt.title('Расстояние до ближайшего аэропорта')\n",
    "plt.xlabel('Расстояние в метр')\n",
    "_ = plt.ylabel('Количество квартир')"
   ]
  },
  {
   "cell_type": "markdown",
   "metadata": {},
   "source": [
    "##### Расстояние до ближайшего парка"
   ]
  },
  {
   "cell_type": "code",
   "execution_count": 66,
   "metadata": {},
   "outputs": [
    {
     "data": {
      "text/plain": [
       "[13.0, 1344.0]"
      ]
     },
     "execution_count": 66,
     "metadata": {},
     "output_type": "execute_result"
    }
   ],
   "source": [
    "kingston('ponds_nearest')"
   ]
  },
  {
   "cell_type": "code",
   "execution_count": 67,
   "metadata": {},
   "outputs": [
    {
     "data": {
      "text/plain": [
       "count    9036.000000\n",
       "mean      518.289509\n",
       "std       278.009558\n",
       "min        13.000000\n",
       "25%       293.000000\n",
       "50%       503.000000\n",
       "75%       730.000000\n",
       "max      1344.000000\n",
       "Name: ponds_nearest, dtype: float64"
      ]
     },
     "execution_count": 67,
     "metadata": {},
     "output_type": "execute_result"
    }
   ],
   "source": [
    "data['ponds_nearest'].describe()"
   ]
  },
  {
   "cell_type": "code",
   "execution_count": 68,
   "metadata": {},
   "outputs": [
    {
     "data": {
      "image/png": "[encoded data removed]",
      "text/plain": [
       "<Figure size 432x288 with 1 Axes>"
      ]
     },
     "metadata": {
      "needs_background": "light"
     },
     "output_type": "display_data"
    }
   ],
   "source": [
    "sns.distplot(data['ponds_nearest'], kde=False, bins=30, color='tab:brown')\n",
    "plt.xlim(0,1500)\n",
    "plt.title('Расстояние до ближайшего парка')\n",
    "plt.xlabel('Расстояние в метр')\n",
    "_ = plt.ylabel('Количество квартир')"
   ]
  },
  {
   "cell_type": "markdown",
   "metadata": {},
   "source": [
    "##### День и месяц публикации объявления"
   ]
  },
  {
   "cell_type": "code",
   "execution_count": 69,
   "metadata": {},
   "outputs": [
    {
     "data": {
      "text/plain": [
       "[0.0, 6.0]"
      ]
     },
     "execution_count": 69,
     "metadata": {},
     "output_type": "execute_result"
    }
   ],
   "source": [
    "kingston('weekday_exposition')"
   ]
  },
  {
   "cell_type": "code",
   "execution_count": 70,
   "metadata": {},
   "outputs": [
    {
     "data": {
      "text/plain": [
       "count    23565.000000\n",
       "mean         2.567367\n",
       "std          1.788279\n",
       "min          0.000000\n",
       "25%          1.000000\n",
       "50%          3.000000\n",
       "75%          4.000000\n",
       "max          6.000000\n",
       "Name: weekday_exposition, dtype: float64"
      ]
     },
     "execution_count": 70,
     "metadata": {},
     "output_type": "execute_result"
    }
   ],
   "source": [
    "data['weekday_exposition'].describe()"
   ]
  },
  {
   "cell_type": "code",
   "execution_count": 71,
   "metadata": {},
   "outputs": [
    {
     "data": {
      "image/png": "[encoded data removed]",
      "text/plain": [
       "<Figure size 432x288 with 1 Axes>"
      ]
     },
     "metadata": {
      "needs_background": "light"
     },
     "output_type": "display_data"
    }
   ],
   "source": [
    "plt.hist(data['weekday_exposition'], bins=20, range=(0,7))\n",
    "plt.title('День публикация объявления')\n",
    "plt.xlabel('Количество дней')\n",
    "plt.ylabel('Количество квартир')\n",
    "plt.show()"
   ]
  },
  {
   "cell_type": "code",
   "execution_count": 72,
   "metadata": {},
   "outputs": [
    {
     "data": {
      "text/plain": [
       "[1.0, 12.0]"
      ]
     },
     "execution_count": 72,
     "metadata": {},
     "output_type": "execute_result"
    }
   ],
   "source": [
    "kingston('month_exposition')"
   ]
  },
  {
   "cell_type": "code",
   "execution_count": 73,
   "metadata": {},
   "outputs": [
    {
     "data": {
      "text/plain": [
       "count    23565.000000\n",
       "mean         6.401570\n",
       "std          3.492948\n",
       "min          1.000000\n",
       "25%          3.000000\n",
       "50%          6.000000\n",
       "75%         10.000000\n",
       "max         12.000000\n",
       "Name: month_exposition, dtype: float64"
      ]
     },
     "execution_count": 73,
     "metadata": {},
     "output_type": "execute_result"
    }
   ],
   "source": [
    "data['month_exposition'].describe()"
   ]
  },
  {
   "cell_type": "code",
   "execution_count": 74,
   "metadata": {},
   "outputs": [
    {
     "data": {
      "image/png": "[encoded data removed]",
      "text/plain": [
       "<Figure size 432x288 with 1 Axes>"
      ]
     },
     "metadata": {
      "needs_background": "light"
     },
     "output_type": "display_data"
    }
   ],
   "source": [
    "plt.hist(data['month_exposition'], bins=20, range=(0,13))\n",
    "plt.title('Месяц публикация объявления')\n",
    "plt.xlabel('Количество месяц')\n",
    "plt.ylabel('Количество квартир')\n",
    "plt.show()"
   ]
  },
  {
   "cell_type": "markdown",
   "metadata": {},
   "source": [
    "##### Вывод"
   ]
  },
  {
   "cell_type": "markdown",
   "metadata": {},
   "source": [
    "Рынок жилья представлен объектами общей площадью от 12 до 115 кв.м. В основном это жилье общей площадью от 30 до 65 кв.м. В жилой площади квартиры преобладает диапазон 13-76 кв.м., и с несколько меньшим, но ожидаемым ожидаемым пиком в диапазоне 18-40 кв.м. Размер площади кухни-в основном от 5 до 19 кв.м., и с несколько меньшим, с пиком 9 кв.м. Это стандартные небольшие квартиры, которые очень распространены в наших городах и являются типичными для среднестатистической квартиры эконом-класса. Подавляющее большинство квартир- 1-3 комнатные, с высотой потолка 2,25-3,05 м..\n",
    "\n",
    "Цены на квартиры в основном находятся в диапазоне 4- 12 млн.руб. с пиком в области 3-5 млн.руб.(небольшие квартиры эконом-класса). Стоимость квадратного метра недвижимости варьируется от 70 до 312 тыс.руб. с пиком в области 100 тыс.руб..\n",
    "\n",
    "Этаж квартиры находится в диапазоне 1- 17 этажность, с пиком 5 этажей и бывает до 33 этажей. В основном продажей квартиры находится ни на первом и последным этажей. Количество этажей в доме от 1 -до 32 шт., с пиком 15 этажность,но встречаются редкие варианты до 60 этажей.\n",
    "\n",
    "Расстояние до центра города находится в диапазоне 181 - 65965 м., с пиком до 20000 метр до центр. Расстояние до ближайшего аэропорта от 0 до 84865 метрб с пиком 15000 м. до 30.000 м. Расстояние до ближайшего парка в метрах от 113 до 1400 б с пиком от 293 до 730 м.\n",
    "\n",
    "Общее время продажи жилой можно увидеть, что пик продаж приходится на 60 день с момента публикации. "
   ]
  },
  {
   "cell_type": "markdown",
   "metadata": {},
   "source": [
    "#### Исследование количества дней для продажи квартиры."
   ]
  },
  {
   "cell_type": "code",
   "execution_count": 75,
   "metadata": {},
   "outputs": [
    {
     "name": "stdout",
     "output_type": "stream",
     "text": [
      "Время продажи (медиана): 85 \n",
      "\n",
      "Время продажи (среднее): 128 \n",
      "\n"
     ]
    },
    {
     "data": {
      "image/png": "[encoded data removed]",
      "text/plain": [
       "<Figure size 432x288 with 1 Axes>"
      ]
     },
     "metadata": {
      "needs_background": "light"
     },
     "output_type": "display_data"
    },
    {
     "data": {
      "text/plain": [
       "count    18721.000000\n",
       "mean       128.299343\n",
       "std        121.064671\n",
       "min          1.000000\n",
       "25%         41.000000\n",
       "50%         85.000000\n",
       "75%        182.000000\n",
       "max        509.000000\n",
       "Name: days_exposition, dtype: float64"
      ]
     },
     "execution_count": 75,
     "metadata": {},
     "output_type": "execute_result"
    }
   ],
   "source": [
    "# Отбрасываем маркеры пустых значений\n",
    "print('Время продажи (медиана):', round(data.query('days_exposition != 9999')['days_exposition'].median()),'\\n')\n",
    "print('Время продажи (среднее):', round(data.query('days_exposition != 9999')['days_exposition'].mean()),'\\n')\n",
    "# Гистограма времени продажи\n",
    "plt.hist(data.query('days_exposition != 9999')['days_exposition'], bins=100, range=(0,250))\n",
    "plt.title('Время продажи')\n",
    "plt.xlabel('Дни')\n",
    "plt.ylabel('Количество квартир')\n",
    "plt.show()\n",
    "# Изучаем значения срока продажи\n",
    "data.query('days_exposition != 9999')['days_exposition'].describe()"
   ]
  },
  {
   "cell_type": "markdown",
   "metadata": {},
   "source": [
    "##### Вывод"
   ]
  },
  {
   "cell_type": "markdown",
   "metadata": {},
   "source": [
    "Медианное время продажи - 94 дней. Среднее время продажи - 186 день.\n",
    "В основном квартиры продаются за срок в 100 дней. Есть большое число квартир, проданных всего за несколько дней после публикации. А также есть варианты, которые продавались несколько десятков месяцев.\n",
    "\n",
    "Быстрой продажей можно назвать срок в 43 дней и меньше. Долгой продажей - 237 дней  и дольше."
   ]
  },
  {
   "cell_type": "markdown",
   "metadata": {},
   "source": [
    "#### Исследование факторов, влияющих на полную стоимость квартиры."
   ]
  },
  {
   "cell_type": "markdown",
   "metadata": {},
   "source": [
    "##### Общей площади"
   ]
  },
  {
   "cell_type": "code",
   "execution_count": 76,
   "metadata": {},
   "outputs": [
    {
     "data": {
      "image/png": "[encoded data removed]",
      "text/plain": [
       "<Figure size 360x360 with 1 Axes>"
      ]
     },
     "metadata": {
      "needs_background": "light"
     },
     "output_type": "display_data"
    },
    {
     "data": {
      "text/plain": [
       "'Корреляция цены и общей площади:'"
      ]
     },
     "metadata": {},
     "output_type": "display_data"
    },
    {
     "data": {
      "text/html": [
       "<div>\n",
       "<style scoped>\n",
       "    .dataframe tbody tr th:only-of-type {\n",
       "        vertical-align: middle;\n",
       "    }\n",
       "\n",
       "    .dataframe tbody tr th {\n",
       "        vertical-align: top;\n",
       "    }\n",
       "\n",
       "    .dataframe thead th {\n",
       "        text-align: right;\n",
       "    }\n",
       "</style>\n",
       "<table border=\"1\" class=\"dataframe\">\n",
       "  <thead>\n",
       "    <tr style=\"text-align: right;\">\n",
       "      <th></th>\n",
       "      <th>last_price</th>\n",
       "      <th>total_area</th>\n",
       "    </tr>\n",
       "  </thead>\n",
       "  <tbody>\n",
       "    <tr>\n",
       "      <th>last_price</th>\n",
       "      <td>1.000000</td>\n",
       "      <td>0.905474</td>\n",
       "    </tr>\n",
       "    <tr>\n",
       "      <th>total_area</th>\n",
       "      <td>0.905474</td>\n",
       "      <td>1.000000</td>\n",
       "    </tr>\n",
       "  </tbody>\n",
       "</table>\n",
       "</div>"
      ],
      "text/plain": [
       "            last_price  total_area\n",
       "last_price    1.000000    0.905474\n",
       "total_area    0.905474    1.000000"
      ]
     },
     "metadata": {},
     "output_type": "display_data"
    }
   ],
   "source": [
    "(\n",
    "    data.pivot_table(index='total_area', values='last_price')\n",
    "    .plot(grid=True, style='o', figsize=(5, 5))\n",
    ")\n",
    "plt.show()\n",
    "display('Корреляция цены и общей площади:')\n",
    "display(data.pivot_table(index='floor', values=['total_area', 'last_price']).corr())"
   ]
  },
  {
   "cell_type": "markdown",
   "metadata": {},
   "source": [
    "##### Жилой площади"
   ]
  },
  {
   "cell_type": "code",
   "execution_count": 77,
   "metadata": {},
   "outputs": [
    {
     "data": {
      "image/png": "[encoded data removed]",
      "text/plain": [
       "<Figure size 360x360 with 1 Axes>"
      ]
     },
     "metadata": {
      "needs_background": "light"
     },
     "output_type": "display_data"
    },
    {
     "data": {
      "text/plain": [
       "'Корреляция цены и  Жилой площади:'"
      ]
     },
     "metadata": {},
     "output_type": "display_data"
    },
    {
     "data": {
      "text/html": [
       "<div>\n",
       "<style scoped>\n",
       "    .dataframe tbody tr th:only-of-type {\n",
       "        vertical-align: middle;\n",
       "    }\n",
       "\n",
       "    .dataframe tbody tr th {\n",
       "        vertical-align: top;\n",
       "    }\n",
       "\n",
       "    .dataframe thead th {\n",
       "        text-align: right;\n",
       "    }\n",
       "</style>\n",
       "<table border=\"1\" class=\"dataframe\">\n",
       "  <thead>\n",
       "    <tr style=\"text-align: right;\">\n",
       "      <th></th>\n",
       "      <th>last_price</th>\n",
       "      <th>living_area</th>\n",
       "    </tr>\n",
       "  </thead>\n",
       "  <tbody>\n",
       "    <tr>\n",
       "      <th>last_price</th>\n",
       "      <td>1.000000</td>\n",
       "      <td>0.728792</td>\n",
       "    </tr>\n",
       "    <tr>\n",
       "      <th>living_area</th>\n",
       "      <td>0.728792</td>\n",
       "      <td>1.000000</td>\n",
       "    </tr>\n",
       "  </tbody>\n",
       "</table>\n",
       "</div>"
      ],
      "text/plain": [
       "             last_price  living_area\n",
       "last_price     1.000000     0.728792\n",
       "living_area    0.728792     1.000000"
      ]
     },
     "metadata": {},
     "output_type": "display_data"
    }
   ],
   "source": [
    "(\n",
    "    data.pivot_table(index='living_area', values='last_price')\n",
    "    .plot(grid=True, style='o', figsize=(5, 5))\n",
    ")\n",
    "plt.show()\n",
    "display('Корреляция цены и  Жилой площади:')\n",
    "display(data.pivot_table(index='floor', values=['living_area', 'last_price']).corr())"
   ]
  },
  {
   "cell_type": "markdown",
   "metadata": {},
   "source": [
    "##### Площади кухни"
   ]
  },
  {
   "cell_type": "code",
   "execution_count": 78,
   "metadata": {},
   "outputs": [
    {
     "data": {
      "image/png": "[encoded data removed]",
      "text/plain": [
       "<Figure size 360x360 with 1 Axes>"
      ]
     },
     "metadata": {
      "needs_background": "light"
     },
     "output_type": "display_data"
    },
    {
     "data": {
      "text/plain": [
       "'Корреляция цены и  площади кухни:'"
      ]
     },
     "metadata": {},
     "output_type": "display_data"
    },
    {
     "data": {
      "text/html": [
       "<div>\n",
       "<style scoped>\n",
       "    .dataframe tbody tr th:only-of-type {\n",
       "        vertical-align: middle;\n",
       "    }\n",
       "\n",
       "    .dataframe tbody tr th {\n",
       "        vertical-align: top;\n",
       "    }\n",
       "\n",
       "    .dataframe thead th {\n",
       "        text-align: right;\n",
       "    }\n",
       "</style>\n",
       "<table border=\"1\" class=\"dataframe\">\n",
       "  <thead>\n",
       "    <tr style=\"text-align: right;\">\n",
       "      <th></th>\n",
       "      <th>kitchen_area</th>\n",
       "      <th>last_price</th>\n",
       "    </tr>\n",
       "  </thead>\n",
       "  <tbody>\n",
       "    <tr>\n",
       "      <th>kitchen_area</th>\n",
       "      <td>1.000000</td>\n",
       "      <td>0.445589</td>\n",
       "    </tr>\n",
       "    <tr>\n",
       "      <th>last_price</th>\n",
       "      <td>0.445589</td>\n",
       "      <td>1.000000</td>\n",
       "    </tr>\n",
       "  </tbody>\n",
       "</table>\n",
       "</div>"
      ],
      "text/plain": [
       "              kitchen_area  last_price\n",
       "kitchen_area      1.000000    0.445589\n",
       "last_price        0.445589    1.000000"
      ]
     },
     "metadata": {},
     "output_type": "display_data"
    }
   ],
   "source": [
    "(\n",
    "     data.pivot_table(index='kitchen_area', values='last_price')\n",
    "    .plot(grid=True, style='o', figsize=(5, 5))\n",
    ")\n",
    "plt.show()\n",
    "display('Корреляция цены и  площади кухни:')\n",
    "display(data.pivot_table(index='floor', values=['kitchen_area', 'last_price']).corr())"
   ]
  },
  {
   "cell_type": "markdown",
   "metadata": {},
   "source": [
    "##### Количество комнат"
   ]
  },
  {
   "cell_type": "code",
   "execution_count": 79,
   "metadata": {},
   "outputs": [
    {
     "data": {
      "image/png": "[encoded data removed]",
      "text/plain": [
       "<Figure size 360x360 with 1 Axes>"
      ]
     },
     "metadata": {
      "needs_background": "light"
     },
     "output_type": "display_data"
    },
    {
     "data": {
      "text/plain": [
       "'Корреляция цены и количество комнат:'"
      ]
     },
     "metadata": {},
     "output_type": "display_data"
    },
    {
     "data": {
      "text/html": [
       "<div>\n",
       "<style scoped>\n",
       "    .dataframe tbody tr th:only-of-type {\n",
       "        vertical-align: middle;\n",
       "    }\n",
       "\n",
       "    .dataframe tbody tr th {\n",
       "        vertical-align: top;\n",
       "    }\n",
       "\n",
       "    .dataframe thead th {\n",
       "        text-align: right;\n",
       "    }\n",
       "</style>\n",
       "<table border=\"1\" class=\"dataframe\">\n",
       "  <thead>\n",
       "    <tr style=\"text-align: right;\">\n",
       "      <th></th>\n",
       "      <th>last_price</th>\n",
       "      <th>rooms</th>\n",
       "    </tr>\n",
       "  </thead>\n",
       "  <tbody>\n",
       "    <tr>\n",
       "      <th>last_price</th>\n",
       "      <td>1.00000</td>\n",
       "      <td>0.53674</td>\n",
       "    </tr>\n",
       "    <tr>\n",
       "      <th>rooms</th>\n",
       "      <td>0.53674</td>\n",
       "      <td>1.00000</td>\n",
       "    </tr>\n",
       "  </tbody>\n",
       "</table>\n",
       "</div>"
      ],
      "text/plain": [
       "            last_price    rooms\n",
       "last_price     1.00000  0.53674\n",
       "rooms          0.53674  1.00000"
      ]
     },
     "metadata": {},
     "output_type": "display_data"
    }
   ],
   "source": [
    "(\n",
    "    data.query('rooms > 0').pivot_table(index='rooms', values='last_price')\n",
    "    .plot(grid=True, style='o-', figsize=(5, 5))\n",
    ")\n",
    "plt.show()\n",
    "display('Корреляция цены и количество комнат:')\n",
    "display(data.query('rooms > 0').pivot_table(index='floor', values=['rooms', 'last_price']).corr())"
   ]
  },
  {
   "cell_type": "markdown",
   "metadata": {},
   "source": [
    "##### Типа этажа, на котором расположена квартира (первый, последний, другой)"
   ]
  },
  {
   "cell_type": "code",
   "execution_count": 80,
   "metadata": {},
   "outputs": [
    {
     "data": {
      "image/png": "[encoded data removed]",
      "text/plain": [
       "<Figure size 360x360 with 1 Axes>"
      ]
     },
     "metadata": {
      "needs_background": "light"
     },
     "output_type": "display_data"
    }
   ],
   "source": [
    "(\n",
    "    data.pivot_table(index='floor_group', values='last_price', aggfunc='median')\n",
    "    .plot(grid=True, style='o-', figsize=(5, 5))\n",
    ")\n",
    "plt.show()\n"
   ]
  },
  {
   "cell_type": "markdown",
   "metadata": {},
   "source": [
    "##### Даты размещения (день недели, месяц, год)"
   ]
  },
  {
   "cell_type": "code",
   "execution_count": 81,
   "metadata": {},
   "outputs": [
    {
     "data": {
      "image/png": "[encoded data removed]",
      "text/plain": [
       "<Figure size 360x360 with 1 Axes>"
      ]
     },
     "metadata": {
      "needs_background": "light"
     },
     "output_type": "display_data"
    },
    {
     "data": {
      "image/png": "[encoded data removed]",
      "text/plain": [
       "<Figure size 720x360 with 1 Axes>"
      ]
     },
     "metadata": {
      "needs_background": "light"
     },
     "output_type": "display_data"
    },
    {
     "data": {
      "image/png": "[encoded data removed]",
      "text/plain": [
       "<Figure size 360x360 with 1 Axes>"
      ]
     },
     "metadata": {
      "needs_background": "light"
     },
     "output_type": "display_data"
    }
   ],
   "source": [
    "\n",
    "# Зависимость от дня размещения\n",
    "(\n",
    "    data.pivot_table(index='weekday_exposition', values='last_price')\n",
    "    .plot(grid=True, style='o-', figsize=(5, 5))\n",
    ")\n",
    "plt.show()\n",
    "# Зависимость от месяца размещения\n",
    "(\n",
    "    data.pivot_table(index='month_exposition', values='last_price')\n",
    "    .plot(grid=True, style='o-', xlim=(1,12), figsize=(10, 5))\n",
    ")\n",
    "plt.show()\n",
    "# Зависимость от года размещения\n",
    "(\n",
    "    data.pivot_table(index='year_exposition', values='last_price')\n",
    "    .plot(grid=True, style='o-', figsize=(5, 5))\n",
    ")\n",
    "plt.show()"
   ]
  },
  {
   "cell_type": "markdown",
   "metadata": {},
   "source": [
    "##### Вывод"
   ]
  },
  {
   "cell_type": "markdown",
   "metadata": {},
   "source": [
    "Влияние на цену 1 кв.м. жилья выглядит следующим образом:\n",
    "\n",
    "+  Общей площади:\n",
    "\n",
    "Чем больше площадь, тем выше стоимость. Корреляция этих параметров крайне высокая.\n",
    "\n",
    "+ Жилой площади:\n",
    "\n",
    "У квартир, находящихся в радиусе до 25 км от центра, верхняя граница стоимости кв.метра обратно пропорциональна удалению от центра, далее можно проследить падение верхней границы цены после незначительного пика в районе 25-35 км, и на расстоянии более 60 км стоимость падает значительно.\n",
    "\n",
    "\n",
    "* Площади кухни:\n",
    "\n",
    "Чем больше площадь кухни, тем выше стоимость.\n",
    "\n",
    "\n",
    "* Количество комнат:\n",
    "\n",
    "Чем больше количество комнаты, тем выше стоимость.\n",
    "\n",
    "* Типа этажа, на котором расположена квартира (первый, последний, другой):\n",
    "\n",
    "\n",
    "Самая низкая цена 1 кв.м.- у квартир на 1 этаже, последний этаж также \"проседает\" в стоимости. Цена остальных квартир также может зависеть от этажа, но на этот фактор будут наслаиваться еще и другие условия (вид из окна, качество жилья, район и тд)\n",
    "\n",
    "\n",
    "- Даты размещения (день недели, месяц, год):\n",
    "\n",
    "День недели: дороже всего квартиры, опубликованные в понедельник, дешевле всего - в субботу.\n",
    "Месяц: дороже всего квартиры, продающиеся с апреля, дешевле всего - с июня.\n",
    "Год: квартиры очень сильно подешевели в 2016-2018 годах, что, вероятно, вызвано некоторым кризисом 2014-2015 годов. В 2019 году цены снова стали повышаться, т.к. экономика и зарплаты скорее на подъёме."
   ]
  },
  {
   "cell_type": "markdown",
   "metadata": {},
   "source": [
    "#### Анализ десяти населённых пунктов с наибольшим числом объявлений, анализ стоимости квадратного метра."
   ]
  },
  {
   "cell_type": "code",
   "execution_count": 82,
   "metadata": {},
   "outputs": [
    {
     "data": {
      "text/html": [
       "<div>\n",
       "<style scoped>\n",
       "    .dataframe tbody tr th:only-of-type {\n",
       "        vertical-align: middle;\n",
       "    }\n",
       "\n",
       "    .dataframe tbody tr th {\n",
       "        vertical-align: top;\n",
       "    }\n",
       "\n",
       "    .dataframe thead th {\n",
       "        text-align: right;\n",
       "    }\n",
       "</style>\n",
       "<table border=\"1\" class=\"dataframe\">\n",
       "  <thead>\n",
       "    <tr style=\"text-align: right;\">\n",
       "      <th></th>\n",
       "      <th>price_sq_meter</th>\n",
       "    </tr>\n",
       "    <tr>\n",
       "      <th>locality_name</th>\n",
       "      <th></th>\n",
       "    </tr>\n",
       "  </thead>\n",
       "  <tbody>\n",
       "    <tr>\n",
       "      <th>посёлок Лисий Нос</th>\n",
       "      <td>121616.221359</td>\n",
       "    </tr>\n",
       "    <tr>\n",
       "      <th>Санкт-Петербург</th>\n",
       "      <td>105694.046907</td>\n",
       "    </tr>\n",
       "    <tr>\n",
       "      <th>Зеленогорск</th>\n",
       "      <td>102890.466601</td>\n",
       "    </tr>\n",
       "    <tr>\n",
       "      <th>Сестрорецк</th>\n",
       "      <td>101262.332858</td>\n",
       "    </tr>\n",
       "    <tr>\n",
       "      <th>Пушкин</th>\n",
       "      <td>100462.063435</td>\n",
       "    </tr>\n",
       "    <tr>\n",
       "      <th>Кудрово</th>\n",
       "      <td>99780.035133</td>\n",
       "    </tr>\n",
       "    <tr>\n",
       "      <th>деревня Мистолово</th>\n",
       "      <td>98549.976709</td>\n",
       "    </tr>\n",
       "    <tr>\n",
       "      <th>посёлок Левашово</th>\n",
       "      <td>96997.690531</td>\n",
       "    </tr>\n",
       "    <tr>\n",
       "      <th>Мурино</th>\n",
       "      <td>92722.708914</td>\n",
       "    </tr>\n",
       "    <tr>\n",
       "      <th>деревня Кудрово</th>\n",
       "      <td>92409.726322</td>\n",
       "    </tr>\n",
       "    <tr>\n",
       "      <th>посёлок Парголово</th>\n",
       "      <td>90332.263023</td>\n",
       "    </tr>\n",
       "    <tr>\n",
       "      <th>посёлок Стрельна</th>\n",
       "      <td>87898.547791</td>\n",
       "    </tr>\n",
       "    <tr>\n",
       "      <th>посёлок Репино</th>\n",
       "      <td>86542.207792</td>\n",
       "    </tr>\n",
       "    <tr>\n",
       "      <th>посёлок Мурино</th>\n",
       "      <td>85673.259928</td>\n",
       "    </tr>\n",
       "    <tr>\n",
       "      <th>поселок Мурино</th>\n",
       "      <td>84919.585863</td>\n",
       "    </tr>\n",
       "    <tr>\n",
       "      <th>Павловск</th>\n",
       "      <td>84890.994230</td>\n",
       "    </tr>\n",
       "    <tr>\n",
       "      <th>Петергоф</th>\n",
       "      <td>83461.538326</td>\n",
       "    </tr>\n",
       "    <tr>\n",
       "      <th>поселок станции Корнево</th>\n",
       "      <td>82568.807339</td>\n",
       "    </tr>\n",
       "    <tr>\n",
       "      <th>посёлок Бугры</th>\n",
       "      <td>82107.450465</td>\n",
       "    </tr>\n",
       "    <tr>\n",
       "      <th>посёлок Ильичёво</th>\n",
       "      <td>81674.992986</td>\n",
       "    </tr>\n",
       "  </tbody>\n",
       "</table>\n",
       "</div>"
      ],
      "text/plain": [
       "                         price_sq_meter\n",
       "locality_name                          \n",
       "посёлок Лисий Нос         121616.221359\n",
       "Санкт-Петербург           105694.046907\n",
       "Зеленогорск               102890.466601\n",
       "Сестрорецк                101262.332858\n",
       "Пушкин                    100462.063435\n",
       "Кудрово                    99780.035133\n",
       "деревня Мистолово          98549.976709\n",
       "посёлок Левашово           96997.690531\n",
       "Мурино                     92722.708914\n",
       "деревня Кудрово            92409.726322\n",
       "посёлок Парголово          90332.263023\n",
       "посёлок Стрельна           87898.547791\n",
       "посёлок Репино             86542.207792\n",
       "посёлок Мурино             85673.259928\n",
       "поселок Мурино             84919.585863\n",
       "Павловск                   84890.994230\n",
       "Петергоф                   83461.538326\n",
       "поселок станции Корнево    82568.807339\n",
       "посёлок Бугры              82107.450465\n",
       "посёлок Ильичёво           81674.992986"
      ]
     },
     "execution_count": 82,
     "metadata": {},
     "output_type": "execute_result"
    }
   ],
   "source": [
    "\n",
    "data.groupby('locality_name').agg({'price_sq_meter':'mean'}).sort_values(by='price_sq_meter', ascending=False).head(20)"
   ]
  },
  {
   "cell_type": "code",
   "execution_count": 83,
   "metadata": {},
   "outputs": [],
   "source": [
    "def locality_status(row):\n",
    "    if row['locality_name'] == 'Санкт-Петербург':\n",
    "        return 'Питер'\n",
    "    else:\n",
    "        return 'За Питером'"
   ]
  },
  {
   "cell_type": "code",
   "execution_count": 84,
   "metadata": {},
   "outputs": [],
   "source": [
    "data['locality_status'] = data.apply(locality_status, axis=1)"
   ]
  },
  {
   "cell_type": "code",
   "execution_count": 85,
   "metadata": {},
   "outputs": [
    {
     "data": {
      "text/html": [
       "<div>\n",
       "<style scoped>\n",
       "    .dataframe tbody tr th:only-of-type {\n",
       "        vertical-align: middle;\n",
       "    }\n",
       "\n",
       "    .dataframe tbody tr th {\n",
       "        vertical-align: top;\n",
       "    }\n",
       "\n",
       "    .dataframe thead th {\n",
       "        text-align: right;\n",
       "    }\n",
       "</style>\n",
       "<table border=\"1\" class=\"dataframe\">\n",
       "  <thead>\n",
       "    <tr style=\"text-align: right;\">\n",
       "      <th></th>\n",
       "      <th>price_sq_meter</th>\n",
       "    </tr>\n",
       "    <tr>\n",
       "      <th>locality_status</th>\n",
       "      <th></th>\n",
       "    </tr>\n",
       "  </thead>\n",
       "  <tbody>\n",
       "    <tr>\n",
       "      <th>За Питером</th>\n",
       "      <td>68293.708138</td>\n",
       "    </tr>\n",
       "    <tr>\n",
       "      <th>Питер</th>\n",
       "      <td>105694.046907</td>\n",
       "    </tr>\n",
       "  </tbody>\n",
       "</table>\n",
       "</div>"
      ],
      "text/plain": [
       "                 price_sq_meter\n",
       "locality_status                \n",
       "За Питером         68293.708138\n",
       "Питер             105694.046907"
      ]
     },
     "execution_count": 85,
     "metadata": {},
     "output_type": "execute_result"
    }
   ],
   "source": [
    "data.groupby('locality_status').agg({'price_sq_meter':'mean'}).sort_values(by='price_sq_meter')"
   ]
  },
  {
   "cell_type": "code",
   "execution_count": 86,
   "metadata": {},
   "outputs": [
    {
     "data": {
      "text/html": [
       "<div>\n",
       "<style scoped>\n",
       "    .dataframe tbody tr th:only-of-type {\n",
       "        vertical-align: middle;\n",
       "    }\n",
       "\n",
       "    .dataframe tbody tr th {\n",
       "        vertical-align: top;\n",
       "    }\n",
       "\n",
       "    .dataframe thead th {\n",
       "        text-align: right;\n",
       "    }\n",
       "</style>\n",
       "<table border=\"1\" class=\"dataframe\">\n",
       "  <thead>\n",
       "    <tr style=\"text-align: right;\">\n",
       "      <th></th>\n",
       "      <th>price_sq_meter</th>\n",
       "    </tr>\n",
       "    <tr>\n",
       "      <th>locality_status</th>\n",
       "      <th></th>\n",
       "    </tr>\n",
       "  </thead>\n",
       "  <tbody>\n",
       "    <tr>\n",
       "      <th>За Питером</th>\n",
       "      <td>68571.428571</td>\n",
       "    </tr>\n",
       "    <tr>\n",
       "      <th>Питер</th>\n",
       "      <td>102063.492063</td>\n",
       "    </tr>\n",
       "  </tbody>\n",
       "</table>\n",
       "</div>"
      ],
      "text/plain": [
       "                 price_sq_meter\n",
       "locality_status                \n",
       "За Питером         68571.428571\n",
       "Питер             102063.492063"
      ]
     },
     "execution_count": 86,
     "metadata": {},
     "output_type": "execute_result"
    }
   ],
   "source": [
    "data.groupby('locality_status').agg({'price_sq_meter':'median'}).sort_values(by='price_sq_meter')"
   ]
  },
  {
   "cell_type": "code",
   "execution_count": 87,
   "metadata": {},
   "outputs": [
    {
     "data": {
      "text/plain": [
       "(0.0, 200000.0)"
      ]
     },
     "execution_count": 87,
     "metadata": {},
     "output_type": "execute_result"
    },
    {
     "data": {
      "image/png": "[encoded data removed]",
      "text/plain": [
       "<Figure size 720x720 with 1 Axes>"
      ]
     },
     "metadata": {
      "needs_background": "light"
     },
     "output_type": "display_data"
    }
   ],
   "source": [
    "plot = data.boxplot('price_sq_meter', by='locality_status', figsize=(10,10))\n",
    "plot.set_ylim(0,200000)"
   ]
  },
  {
   "cell_type": "code",
   "execution_count": 88,
   "metadata": {},
   "outputs": [],
   "source": [
    "top_10_data = data.groupby('locality_name')\\\n",
    "    .agg({'locality_status':'count','price_sq_meter':'mean'})\n",
    "top_10_data = top_10_data.sort_values('locality_status', ascending=False).head(11)"
   ]
  },
  {
   "cell_type": "code",
   "execution_count": 89,
   "metadata": {},
   "outputs": [
    {
     "data": {
      "text/html": [
       "<div>\n",
       "<style scoped>\n",
       "    .dataframe tbody tr th:only-of-type {\n",
       "        vertical-align: middle;\n",
       "    }\n",
       "\n",
       "    .dataframe tbody tr th {\n",
       "        vertical-align: top;\n",
       "    }\n",
       "\n",
       "    .dataframe thead th {\n",
       "        text-align: right;\n",
       "    }\n",
       "</style>\n",
       "<table border=\"1\" class=\"dataframe\">\n",
       "  <thead>\n",
       "    <tr style=\"text-align: right;\">\n",
       "      <th></th>\n",
       "      <th>locality_status</th>\n",
       "      <th>price_sq_meter</th>\n",
       "    </tr>\n",
       "    <tr>\n",
       "      <th>locality_name</th>\n",
       "      <th></th>\n",
       "      <th></th>\n",
       "    </tr>\n",
       "  </thead>\n",
       "  <tbody>\n",
       "    <tr>\n",
       "      <th>Санкт-Петербург</th>\n",
       "      <td>15651</td>\n",
       "      <td>105694</td>\n",
       "    </tr>\n",
       "    <tr>\n",
       "      <th>Пушкин</th>\n",
       "      <td>369</td>\n",
       "      <td>100462</td>\n",
       "    </tr>\n",
       "    <tr>\n",
       "      <th>деревня Кудрово</th>\n",
       "      <td>299</td>\n",
       "      <td>92409</td>\n",
       "    </tr>\n",
       "    <tr>\n",
       "      <th>посёлок Парголово</th>\n",
       "      <td>327</td>\n",
       "      <td>90332</td>\n",
       "    </tr>\n",
       "    <tr>\n",
       "      <th>посёлок Мурино</th>\n",
       "      <td>520</td>\n",
       "      <td>85673</td>\n",
       "    </tr>\n",
       "    <tr>\n",
       "      <th>Петергоф</th>\n",
       "      <td>201</td>\n",
       "      <td>83461</td>\n",
       "    </tr>\n",
       "    <tr>\n",
       "      <th>посёлок Шушары</th>\n",
       "      <td>439</td>\n",
       "      <td>78578</td>\n",
       "    </tr>\n",
       "    <tr>\n",
       "      <th>Колпино</th>\n",
       "      <td>338</td>\n",
       "      <td>75221</td>\n",
       "    </tr>\n",
       "    <tr>\n",
       "      <th>Гатчина</th>\n",
       "      <td>307</td>\n",
       "      <td>68664</td>\n",
       "    </tr>\n",
       "    <tr>\n",
       "      <th>Всеволожск</th>\n",
       "      <td>398</td>\n",
       "      <td>67222</td>\n",
       "    </tr>\n",
       "    <tr>\n",
       "      <th>Выборг</th>\n",
       "      <td>237</td>\n",
       "      <td>58225</td>\n",
       "    </tr>\n",
       "  </tbody>\n",
       "</table>\n",
       "</div>"
      ],
      "text/plain": [
       "                   locality_status  price_sq_meter\n",
       "locality_name                                     \n",
       "Санкт-Петербург              15651          105694\n",
       "Пушкин                         369          100462\n",
       "деревня Кудрово                299           92409\n",
       "посёлок Парголово              327           90332\n",
       "посёлок Мурино                 520           85673\n",
       "Петергоф                       201           83461\n",
       "посёлок Шушары                 439           78578\n",
       "Колпино                        338           75221\n",
       "Гатчина                        307           68664\n",
       "Всеволожск                     398           67222\n",
       "Выборг                         237           58225"
      ]
     },
     "execution_count": 89,
     "metadata": {},
     "output_type": "execute_result"
    }
   ],
   "source": [
    "top_10_data = top_10_data.astype(int)\n",
    "top_10_data.sort_values('price_sq_meter', ascending=False).head(11)"
   ]
  },
  {
   "cell_type": "code",
   "execution_count": 90,
   "metadata": {},
   "outputs": [
    {
     "data": {
      "text/plain": [
       "<AxesSubplot:ylabel='locality_name'>"
      ]
     },
     "execution_count": 90,
     "metadata": {},
     "output_type": "execute_result"
    },
    {
     "data": {
      "image/png": "[encoded data removed]",
      "text/plain": [
       "<Figure size 432x288 with 1 Axes>"
      ]
     },
     "metadata": {
      "needs_background": "light"
     },
     "output_type": "display_data"
    }
   ],
   "source": [
    "\n",
    "top_10_data.sort_values('price_sq_meter', ascending=True)\\\n",
    "    .drop('locality_status', axis=1).plot(kind='barh')"
   ]
  },
  {
   "cell_type": "markdown",
   "metadata": {},
   "source": [
    "##### Вывод"
   ]
  },
  {
   "cell_type": "markdown",
   "metadata": {},
   "source": [
    "Наибольшая средняя стоимость квадратного метра, как и ожидалось, в Санкт-Петербурге. Затем идёт Пушкин, что, вероятно, вызвано хорошей застройкой и большим количеством парков. Затем идут районы, фактически являющиеся Санкт-Петербургом и непосредственно к нему примыкают. Из топ-10 наименьшая стоимость в Гатчине и Всеволожске, из которых далеко ехать до Санкт-Петербурга, а также неболшой по численности населения Выборг, расположенный на большом расстоянии от Санкт-Петербурга."
   ]
  },
  {
   "cell_type": "markdown",
   "metadata": {},
   "source": [
    "#### Анализ изменения цены квадратного метра в Санкт-Петербурге для каждого километра по степени удалённости от центра."
   ]
  },
  {
   "cell_type": "code",
   "execution_count": 91,
   "metadata": {},
   "outputs": [
    {
     "data": {
      "image/png": "[encoded data removed]",
      "text/plain": [
       "<Figure size 720x360 with 1 Axes>"
      ]
     },
     "metadata": {
      "needs_background": "light"
     },
     "output_type": "display_data"
    }
   ],
   "source": [
    "# Добавляем столбец с расстоянием до центра в км, округляем до целого\n",
    " \n",
    "data['city_centers_nearest_km']  = data['city_centers_nearest_km'] .fillna(value=0).astype(int)\n",
    "# Выбираем Санкт-Петербург, смотрим на график, где указана средняя стоимость для каждого км\n",
    "(\n",
    "    data.query('locality_name == \"Санкт-Петербург\"')\n",
    "    .pivot_table(index='city_centers_nearest_km', values='last_price')\n",
    "    .plot(grid=True, style='o-', xlim=(0,15), figsize=(10, 5))\n",
    ")\n",
    "plt.show()"
   ]
  },
  {
   "cell_type": "markdown",
   "metadata": {},
   "source": [
    "Центральная зона - это 7 км и меньше. Дальше 8 км средняя цена на квартиры резко снижается."
   ]
  }
 ],
 "metadata": {
  "ExecuteTimeLog": [
   {
    "duration": 754,
    "start_time": "2022-11-21T11:03:52.608Z"
   },
   {
    "duration": 30,
    "start_time": "2022-11-21T11:04:48.393Z"
   },
   {
    "duration": 16,
    "start_time": "2022-11-21T11:05:16.195Z"
   },
   {
    "duration": 80,
    "start_time": "2022-11-21T11:11:52.492Z"
   },
   {
    "duration": 1882,
    "start_time": "2022-11-21T11:14:41.510Z"
   },
   {
    "duration": 50,
    "start_time": "2022-11-21T11:38:53.245Z"
   },
   {
    "duration": 5,
    "start_time": "2022-11-21T11:40:10.015Z"
   },
   {
    "duration": 8,
    "start_time": "2022-11-21T11:40:23.016Z"
   },
   {
    "duration": 28,
    "start_time": "2022-11-21T11:51:08.235Z"
   },
   {
    "duration": 383,
    "start_time": "2022-11-21T11:51:50.428Z"
   },
   {
    "duration": 898,
    "start_time": "2022-11-24T04:43:17.892Z"
   },
   {
    "duration": 27,
    "start_time": "2022-11-24T04:43:25.014Z"
   },
   {
    "duration": 14,
    "start_time": "2022-11-24T04:43:29.352Z"
   },
   {
    "duration": 67,
    "start_time": "2022-11-24T04:43:36.704Z"
   },
   {
    "duration": 1758,
    "start_time": "2022-11-24T04:43:42.239Z"
   },
   {
    "duration": 4,
    "start_time": "2022-11-24T04:44:56.146Z"
   },
   {
    "duration": 7,
    "start_time": "2022-11-24T04:45:02.596Z"
   },
   {
    "duration": 21,
    "start_time": "2022-11-24T04:45:20.328Z"
   },
   {
    "duration": 338,
    "start_time": "2022-11-24T04:45:27.509Z"
   },
   {
    "duration": 15,
    "start_time": "2022-11-24T04:46:25.432Z"
   },
   {
    "duration": 18,
    "start_time": "2022-11-24T04:47:28.079Z"
   },
   {
    "duration": 7,
    "start_time": "2022-11-24T04:47:32.544Z"
   },
   {
    "duration": 9,
    "start_time": "2022-11-24T04:51:07.693Z"
   },
   {
    "duration": 9,
    "start_time": "2022-11-24T04:51:26.987Z"
   },
   {
    "duration": 11,
    "start_time": "2022-11-24T04:52:28.309Z"
   },
   {
    "duration": 114,
    "start_time": "2022-11-24T04:54:37.581Z"
   },
   {
    "duration": 7,
    "start_time": "2022-11-24T04:57:04.471Z"
   },
   {
    "duration": 4,
    "start_time": "2022-11-24T05:09:53.751Z"
   },
   {
    "duration": 11,
    "start_time": "2022-11-24T05:11:25.128Z"
   },
   {
    "duration": 299,
    "start_time": "2022-11-24T05:12:37.160Z"
   },
   {
    "duration": 6,
    "start_time": "2022-11-24T05:14:01.666Z"
   },
   {
    "duration": 23,
    "start_time": "2022-11-24T05:14:46.089Z"
   },
   {
    "duration": 79,
    "start_time": "2022-11-24T07:39:24.355Z"
   },
   {
    "duration": 25,
    "start_time": "2022-11-24T07:39:29.289Z"
   },
   {
    "duration": 13,
    "start_time": "2022-11-24T07:39:47.858Z"
   },
   {
    "duration": 67,
    "start_time": "2022-11-24T07:39:52.748Z"
   },
   {
    "duration": 1767,
    "start_time": "2022-11-24T07:40:01.610Z"
   },
   {
    "duration": 4,
    "start_time": "2022-11-24T07:40:10.193Z"
   },
   {
    "duration": 6,
    "start_time": "2022-11-24T07:40:14.834Z"
   },
   {
    "duration": 20,
    "start_time": "2022-11-24T07:40:18.699Z"
   },
   {
    "duration": 14,
    "start_time": "2022-11-24T07:40:24.060Z"
   },
   {
    "duration": 18,
    "start_time": "2022-11-24T07:40:42.252Z"
   },
   {
    "duration": 9,
    "start_time": "2022-11-24T07:40:47.538Z"
   },
   {
    "duration": 6,
    "start_time": "2022-11-24T07:40:51.726Z"
   },
   {
    "duration": 114,
    "start_time": "2022-11-24T07:41:09.229Z"
   },
   {
    "duration": 82,
    "start_time": "2022-11-24T07:41:58.955Z"
   },
   {
    "duration": 25,
    "start_time": "2022-11-24T07:41:59.039Z"
   },
   {
    "duration": 15,
    "start_time": "2022-11-24T07:41:59.065Z"
   },
   {
    "duration": 83,
    "start_time": "2022-11-24T07:41:59.083Z"
   },
   {
    "duration": 1911,
    "start_time": "2022-11-24T07:41:59.168Z"
   },
   {
    "duration": 4,
    "start_time": "2022-11-24T07:42:01.081Z"
   },
   {
    "duration": 15,
    "start_time": "2022-11-24T07:42:01.086Z"
   },
   {
    "duration": 37,
    "start_time": "2022-11-24T07:42:01.102Z"
   },
   {
    "duration": 374,
    "start_time": "2022-11-24T07:42:01.141Z"
   },
   {
    "duration": 14,
    "start_time": "2022-11-24T07:42:01.517Z"
   },
   {
    "duration": 17,
    "start_time": "2022-11-24T07:42:01.532Z"
   },
   {
    "duration": 8,
    "start_time": "2022-11-24T07:42:01.550Z"
   },
   {
    "duration": 8,
    "start_time": "2022-11-24T07:42:01.560Z"
   },
   {
    "duration": 235,
    "start_time": "2022-11-24T07:42:01.570Z"
   },
   {
    "duration": 10,
    "start_time": "2022-11-24T07:42:01.807Z"
   },
   {
    "duration": 7,
    "start_time": "2022-11-24T07:42:01.818Z"
   },
   {
    "duration": 30,
    "start_time": "2022-11-24T07:42:01.826Z"
   },
   {
    "duration": 446,
    "start_time": "2022-11-24T07:42:01.858Z"
   },
   {
    "duration": 5,
    "start_time": "2022-11-24T07:42:02.305Z"
   },
   {
    "duration": 24,
    "start_time": "2022-11-24T07:42:02.313Z"
   },
   {
    "duration": 83,
    "start_time": "2022-11-24T07:42:37.695Z"
   },
   {
    "duration": 23,
    "start_time": "2022-11-24T07:42:37.780Z"
   },
   {
    "duration": 19,
    "start_time": "2022-11-24T07:42:37.804Z"
   },
   {
    "duration": 89,
    "start_time": "2022-11-24T07:42:37.826Z"
   },
   {
    "duration": 1810,
    "start_time": "2022-11-24T07:42:37.917Z"
   },
   {
    "duration": 5,
    "start_time": "2022-11-24T07:42:39.729Z"
   },
   {
    "duration": 8,
    "start_time": "2022-11-24T07:42:39.736Z"
   },
   {
    "duration": 22,
    "start_time": "2022-11-24T07:42:39.746Z"
   },
   {
    "duration": 533,
    "start_time": "2022-11-24T07:42:39.770Z"
   },
   {
    "duration": 19,
    "start_time": "2022-11-24T07:42:40.307Z"
   },
   {
    "duration": 26,
    "start_time": "2022-11-24T07:42:40.328Z"
   },
   {
    "duration": 14,
    "start_time": "2022-11-24T07:42:40.356Z"
   },
   {
    "duration": 13,
    "start_time": "2022-11-24T07:42:40.372Z"
   },
   {
    "duration": 156,
    "start_time": "2022-11-24T07:42:40.387Z"
   },
   {
    "duration": 7,
    "start_time": "2022-11-24T07:42:40.544Z"
   },
   {
    "duration": 3,
    "start_time": "2022-11-24T07:42:40.553Z"
   },
   {
    "duration": 30,
    "start_time": "2022-11-24T07:42:40.558Z"
   },
   {
    "duration": 305,
    "start_time": "2022-11-24T07:42:40.589Z"
   },
   {
    "duration": 5,
    "start_time": "2022-11-24T07:42:40.896Z"
   },
   {
    "duration": 31,
    "start_time": "2022-11-24T07:42:40.903Z"
   },
   {
    "duration": 97,
    "start_time": "2022-11-24T07:42:46.535Z"
   },
   {
    "duration": 34,
    "start_time": "2022-11-24T07:42:50.387Z"
   },
   {
    "duration": 88,
    "start_time": "2022-11-24T07:43:24.067Z"
   },
   {
    "duration": 24,
    "start_time": "2022-11-24T07:43:24.157Z"
   },
   {
    "duration": 15,
    "start_time": "2022-11-24T07:43:24.182Z"
   },
   {
    "duration": 69,
    "start_time": "2022-11-24T07:43:24.214Z"
   },
   {
    "duration": 1983,
    "start_time": "2022-11-24T07:43:24.284Z"
   },
   {
    "duration": 5,
    "start_time": "2022-11-24T07:43:26.268Z"
   },
   {
    "duration": 16,
    "start_time": "2022-11-24T07:43:26.274Z"
   },
   {
    "duration": 46,
    "start_time": "2022-11-24T07:43:26.292Z"
   },
   {
    "duration": 368,
    "start_time": "2022-11-24T07:43:26.340Z"
   },
   {
    "duration": 14,
    "start_time": "2022-11-24T07:43:26.710Z"
   },
   {
    "duration": 16,
    "start_time": "2022-11-24T07:43:26.726Z"
   },
   {
    "duration": 8,
    "start_time": "2022-11-24T07:43:26.743Z"
   },
   {
    "duration": 10,
    "start_time": "2022-11-24T07:43:26.753Z"
   },
   {
    "duration": 159,
    "start_time": "2022-11-24T07:43:26.765Z"
   },
   {
    "duration": 8,
    "start_time": "2022-11-24T07:43:26.926Z"
   },
   {
    "duration": 12,
    "start_time": "2022-11-24T07:43:26.936Z"
   },
   {
    "duration": 20,
    "start_time": "2022-11-24T07:43:26.950Z"
   },
   {
    "duration": 329,
    "start_time": "2022-11-24T07:43:26.973Z"
   },
   {
    "duration": 9,
    "start_time": "2022-11-24T07:43:27.304Z"
   },
   {
    "duration": 22,
    "start_time": "2022-11-24T07:43:27.314Z"
   },
   {
    "duration": 24,
    "start_time": "2022-11-24T07:45:37.237Z"
   },
   {
    "duration": 88,
    "start_time": "2022-11-24T07:46:05.758Z"
   },
   {
    "duration": 26,
    "start_time": "2022-11-24T07:46:09.383Z"
   },
   {
    "duration": 14,
    "start_time": "2022-11-24T07:46:16.417Z"
   },
   {
    "duration": 79,
    "start_time": "2022-11-24T07:46:21.016Z"
   },
   {
    "duration": 1719,
    "start_time": "2022-11-24T07:46:26.750Z"
   },
   {
    "duration": 4,
    "start_time": "2022-11-24T07:46:31.717Z"
   },
   {
    "duration": 8,
    "start_time": "2022-11-24T07:46:35.717Z"
   },
   {
    "duration": 21,
    "start_time": "2022-11-24T07:46:41.453Z"
   },
   {
    "duration": 14,
    "start_time": "2022-11-24T07:46:48.534Z"
   },
   {
    "duration": 26,
    "start_time": "2022-11-24T07:46:54.067Z"
   },
   {
    "duration": 186,
    "start_time": "2022-11-24T07:47:24.781Z"
   },
   {
    "duration": 9,
    "start_time": "2022-11-24T07:47:28.743Z"
   },
   {
    "duration": 6,
    "start_time": "2022-11-24T07:47:31.734Z"
   },
   {
    "duration": 119,
    "start_time": "2022-11-24T07:47:37.070Z"
   },
   {
    "duration": 68,
    "start_time": "2022-11-24T07:47:39.911Z"
   },
   {
    "duration": 5,
    "start_time": "2022-11-24T07:48:23.318Z"
   },
   {
    "duration": 12,
    "start_time": "2022-11-24T07:48:26.669Z"
   },
   {
    "duration": 284,
    "start_time": "2022-11-24T07:48:29.574Z"
   },
   {
    "duration": 6,
    "start_time": "2022-11-24T07:48:34.735Z"
   },
   {
    "duration": 27,
    "start_time": "2022-11-24T07:48:40.304Z"
   },
   {
    "duration": 6,
    "start_time": "2022-11-24T07:49:38.352Z"
   },
   {
    "duration": 4,
    "start_time": "2022-11-24T07:50:17.570Z"
   },
   {
    "duration": 48,
    "start_time": "2022-11-24T09:15:10.598Z"
   },
   {
    "duration": 8,
    "start_time": "2022-11-24T09:15:28.833Z"
   },
   {
    "duration": 888,
    "start_time": "2022-11-24T09:15:35.879Z"
   },
   {
    "duration": 30,
    "start_time": "2022-11-24T09:15:36.770Z"
   },
   {
    "duration": 13,
    "start_time": "2022-11-24T09:15:36.802Z"
   },
   {
    "duration": 78,
    "start_time": "2022-11-24T09:15:36.817Z"
   },
   {
    "duration": 1918,
    "start_time": "2022-11-24T09:15:36.897Z"
   },
   {
    "duration": 6,
    "start_time": "2022-11-24T09:15:38.817Z"
   },
   {
    "duration": 18,
    "start_time": "2022-11-24T09:15:38.825Z"
   },
   {
    "duration": 30,
    "start_time": "2022-11-24T09:15:38.845Z"
   },
   {
    "duration": 414,
    "start_time": "2022-11-24T09:15:38.877Z"
   },
   {
    "duration": 14,
    "start_time": "2022-11-24T09:15:39.293Z"
   },
   {
    "duration": 35,
    "start_time": "2022-11-24T09:15:39.309Z"
   },
   {
    "duration": 10,
    "start_time": "2022-11-24T09:15:39.345Z"
   },
   {
    "duration": 14,
    "start_time": "2022-11-24T09:15:39.356Z"
   },
   {
    "duration": 135,
    "start_time": "2022-11-24T09:15:39.373Z"
   },
   {
    "duration": 6,
    "start_time": "2022-11-24T09:15:39.509Z"
   },
   {
    "duration": 13,
    "start_time": "2022-11-24T09:15:39.517Z"
   },
   {
    "duration": 22,
    "start_time": "2022-11-24T09:15:39.531Z"
   },
   {
    "duration": 326,
    "start_time": "2022-11-24T09:15:39.554Z"
   },
   {
    "duration": 6,
    "start_time": "2022-11-24T09:15:39.881Z"
   },
   {
    "duration": 48,
    "start_time": "2022-11-24T09:15:39.889Z"
   },
   {
    "duration": 0,
    "start_time": "2022-11-24T09:15:39.939Z"
   },
   {
    "duration": 1309,
    "start_time": "2022-11-24T09:16:03.894Z"
   },
   {
    "duration": 4,
    "start_time": "2022-11-24T09:21:50.235Z"
   },
   {
    "duration": 89,
    "start_time": "2022-11-24T09:21:59.132Z"
   },
   {
    "duration": 26,
    "start_time": "2022-11-24T09:21:59.223Z"
   },
   {
    "duration": 16,
    "start_time": "2022-11-24T09:21:59.251Z"
   },
   {
    "duration": 89,
    "start_time": "2022-11-24T09:21:59.269Z"
   },
   {
    "duration": 1891,
    "start_time": "2022-11-24T09:21:59.359Z"
   },
   {
    "duration": 5,
    "start_time": "2022-11-24T09:22:01.251Z"
   },
   {
    "duration": 9,
    "start_time": "2022-11-24T09:22:01.257Z"
   },
   {
    "duration": 22,
    "start_time": "2022-11-24T09:22:01.268Z"
   },
   {
    "duration": 481,
    "start_time": "2022-11-24T09:22:01.292Z"
   },
   {
    "duration": 14,
    "start_time": "2022-11-24T09:22:01.776Z"
   },
   {
    "duration": 16,
    "start_time": "2022-11-24T09:22:01.792Z"
   },
   {
    "duration": 32,
    "start_time": "2022-11-24T09:22:01.809Z"
   },
   {
    "duration": 14,
    "start_time": "2022-11-24T09:22:01.843Z"
   },
   {
    "duration": 132,
    "start_time": "2022-11-24T09:22:01.858Z"
   },
   {
    "duration": 7,
    "start_time": "2022-11-24T09:22:01.991Z"
   },
   {
    "duration": 5,
    "start_time": "2022-11-24T09:22:02.000Z"
   },
   {
    "duration": 30,
    "start_time": "2022-11-24T09:22:02.007Z"
   },
   {
    "duration": 320,
    "start_time": "2022-11-24T09:22:02.039Z"
   },
   {
    "duration": 4,
    "start_time": "2022-11-24T09:22:02.361Z"
   },
   {
    "duration": 6,
    "start_time": "2022-11-24T09:22:02.367Z"
   },
   {
    "duration": 23,
    "start_time": "2022-11-24T09:22:02.374Z"
   },
   {
    "duration": 4,
    "start_time": "2022-11-24T09:23:09.631Z"
   },
   {
    "duration": 25,
    "start_time": "2022-11-24T09:23:13.448Z"
   },
   {
    "duration": 81,
    "start_time": "2022-11-24T09:29:45.802Z"
   },
   {
    "duration": 194,
    "start_time": "2022-11-24T09:30:19.820Z"
   },
   {
    "duration": 1053,
    "start_time": "2022-11-25T09:44:03.574Z"
   },
   {
    "duration": 28,
    "start_time": "2022-11-25T09:44:04.629Z"
   },
   {
    "duration": 14,
    "start_time": "2022-11-25T09:44:04.659Z"
   },
   {
    "duration": 66,
    "start_time": "2022-11-25T09:44:04.675Z"
   },
   {
    "duration": 1967,
    "start_time": "2022-11-25T09:44:04.742Z"
   },
   {
    "duration": 4,
    "start_time": "2022-11-25T09:44:06.711Z"
   },
   {
    "duration": 9,
    "start_time": "2022-11-25T09:44:06.717Z"
   },
   {
    "duration": 23,
    "start_time": "2022-11-25T09:44:06.728Z"
   },
   {
    "duration": 361,
    "start_time": "2022-11-25T09:44:06.752Z"
   },
   {
    "duration": 12,
    "start_time": "2022-11-25T09:44:07.115Z"
   },
   {
    "duration": 30,
    "start_time": "2022-11-25T09:44:07.129Z"
   },
   {
    "duration": 8,
    "start_time": "2022-11-25T09:44:07.160Z"
   },
   {
    "duration": 5,
    "start_time": "2022-11-25T09:44:07.176Z"
   },
   {
    "duration": 127,
    "start_time": "2022-11-25T09:44:07.183Z"
   },
   {
    "duration": 7,
    "start_time": "2022-11-25T09:44:07.311Z"
   },
   {
    "duration": 10,
    "start_time": "2022-11-25T09:44:07.320Z"
   },
   {
    "duration": 31,
    "start_time": "2022-11-25T09:44:07.331Z"
   },
   {
    "duration": 337,
    "start_time": "2022-11-25T09:44:07.364Z"
   },
   {
    "duration": 6,
    "start_time": "2022-11-25T09:44:07.702Z"
   },
   {
    "duration": 24,
    "start_time": "2022-11-25T09:44:07.710Z"
   },
   {
    "duration": 42,
    "start_time": "2022-11-25T09:44:07.736Z"
   },
   {
    "duration": 33,
    "start_time": "2022-11-25T09:44:07.780Z"
   },
   {
    "duration": 251,
    "start_time": "2022-11-25T09:44:07.815Z"
   },
   {
    "duration": 5,
    "start_time": "2022-11-25T10:13:15.336Z"
   },
   {
    "duration": 6,
    "start_time": "2022-11-25T10:13:19.664Z"
   },
   {
    "duration": 87,
    "start_time": "2022-11-25T10:13:36.382Z"
   },
   {
    "duration": 18,
    "start_time": "2022-11-25T10:13:48.676Z"
   },
   {
    "duration": 4,
    "start_time": "2022-11-25T10:14:45.522Z"
   },
   {
    "duration": 5,
    "start_time": "2022-11-25T10:14:53.305Z"
   },
   {
    "duration": 96,
    "start_time": "2022-11-25T10:15:02.281Z"
   },
   {
    "duration": 26,
    "start_time": "2022-11-25T10:15:02.379Z"
   },
   {
    "duration": 32,
    "start_time": "2022-11-25T10:15:02.407Z"
   },
   {
    "duration": 96,
    "start_time": "2022-11-25T10:15:02.441Z"
   },
   {
    "duration": 2063,
    "start_time": "2022-11-25T10:15:02.540Z"
   },
   {
    "duration": 4,
    "start_time": "2022-11-25T10:15:04.605Z"
   },
   {
    "duration": 17,
    "start_time": "2022-11-25T10:15:04.611Z"
   },
   {
    "duration": 45,
    "start_time": "2022-11-25T10:15:04.629Z"
   },
   {
    "duration": 552,
    "start_time": "2022-11-25T10:15:04.676Z"
   },
   {
    "duration": 16,
    "start_time": "2022-11-25T10:15:05.230Z"
   },
   {
    "duration": 34,
    "start_time": "2022-11-25T10:15:05.248Z"
   },
   {
    "duration": 14,
    "start_time": "2022-11-25T10:15:05.284Z"
   },
   {
    "duration": 47,
    "start_time": "2022-11-25T10:15:05.300Z"
   },
   {
    "duration": 143,
    "start_time": "2022-11-25T10:15:05.351Z"
   },
   {
    "duration": 7,
    "start_time": "2022-11-25T10:15:05.496Z"
   },
   {
    "duration": 33,
    "start_time": "2022-11-25T10:15:05.505Z"
   },
   {
    "duration": 29,
    "start_time": "2022-11-25T10:15:05.540Z"
   },
   {
    "duration": 329,
    "start_time": "2022-11-25T10:15:05.571Z"
   },
   {
    "duration": 6,
    "start_time": "2022-11-25T10:15:05.902Z"
   },
   {
    "duration": 20,
    "start_time": "2022-11-25T10:15:05.910Z"
   },
   {
    "duration": 33,
    "start_time": "2022-11-25T10:15:05.931Z"
   },
   {
    "duration": 6,
    "start_time": "2022-11-25T10:15:05.966Z"
   },
   {
    "duration": 16,
    "start_time": "2022-11-25T10:15:05.977Z"
   },
   {
    "duration": 183,
    "start_time": "2022-11-25T10:15:05.995Z"
   },
   {
    "duration": 90,
    "start_time": "2022-11-25T10:15:51.657Z"
   },
   {
    "duration": 41,
    "start_time": "2022-11-25T10:15:51.750Z"
   },
   {
    "duration": 22,
    "start_time": "2022-11-25T10:15:51.793Z"
   },
   {
    "duration": 107,
    "start_time": "2022-11-25T10:15:51.817Z"
   },
   {
    "duration": 2126,
    "start_time": "2022-11-25T10:15:51.926Z"
   },
   {
    "duration": 5,
    "start_time": "2022-11-25T10:15:54.054Z"
   },
   {
    "duration": 17,
    "start_time": "2022-11-25T10:15:54.060Z"
   },
   {
    "duration": 24,
    "start_time": "2022-11-25T10:15:54.079Z"
   },
   {
    "duration": 473,
    "start_time": "2022-11-25T10:15:54.104Z"
   },
   {
    "duration": 19,
    "start_time": "2022-11-25T10:15:54.579Z"
   },
   {
    "duration": 23,
    "start_time": "2022-11-25T10:15:54.600Z"
   },
   {
    "duration": 13,
    "start_time": "2022-11-25T10:15:54.626Z"
   },
   {
    "duration": 36,
    "start_time": "2022-11-25T10:15:54.641Z"
   },
   {
    "duration": 174,
    "start_time": "2022-11-25T10:15:54.679Z"
   },
   {
    "duration": 20,
    "start_time": "2022-11-25T10:15:54.857Z"
   },
   {
    "duration": 5,
    "start_time": "2022-11-25T10:15:54.880Z"
   },
   {
    "duration": 35,
    "start_time": "2022-11-25T10:15:54.887Z"
   },
   {
    "duration": 397,
    "start_time": "2022-11-25T10:15:54.924Z"
   },
   {
    "duration": 6,
    "start_time": "2022-11-25T10:15:55.323Z"
   },
   {
    "duration": 53,
    "start_time": "2022-11-25T10:15:55.330Z"
   },
   {
    "duration": 12,
    "start_time": "2022-11-25T10:15:55.385Z"
   },
   {
    "duration": 11,
    "start_time": "2022-11-25T10:15:55.399Z"
   },
   {
    "duration": 199,
    "start_time": "2022-11-25T10:15:55.412Z"
   },
   {
    "duration": 85,
    "start_time": "2022-11-25T10:23:07.065Z"
   },
   {
    "duration": 25,
    "start_time": "2022-11-25T10:23:07.152Z"
   },
   {
    "duration": 16,
    "start_time": "2022-11-25T10:23:07.179Z"
   },
   {
    "duration": 84,
    "start_time": "2022-11-25T10:23:07.197Z"
   },
   {
    "duration": 1912,
    "start_time": "2022-11-25T10:23:07.282Z"
   },
   {
    "duration": 4,
    "start_time": "2022-11-25T10:23:09.196Z"
   },
   {
    "duration": 8,
    "start_time": "2022-11-25T10:23:09.202Z"
   },
   {
    "duration": 23,
    "start_time": "2022-11-25T10:23:09.212Z"
   },
   {
    "duration": 365,
    "start_time": "2022-11-25T10:23:09.236Z"
   },
   {
    "duration": 18,
    "start_time": "2022-11-25T10:23:09.604Z"
   },
   {
    "duration": 0,
    "start_time": "2022-11-25T10:23:09.623Z"
   },
   {
    "duration": 0,
    "start_time": "2022-11-25T10:23:09.624Z"
   },
   {
    "duration": 0,
    "start_time": "2022-11-25T10:23:09.625Z"
   },
   {
    "duration": 0,
    "start_time": "2022-11-25T10:23:09.626Z"
   },
   {
    "duration": 0,
    "start_time": "2022-11-25T10:23:09.628Z"
   },
   {
    "duration": 0,
    "start_time": "2022-11-25T10:23:09.629Z"
   },
   {
    "duration": 0,
    "start_time": "2022-11-25T10:23:09.631Z"
   },
   {
    "duration": 0,
    "start_time": "2022-11-25T10:23:09.632Z"
   },
   {
    "duration": 0,
    "start_time": "2022-11-25T10:23:09.634Z"
   },
   {
    "duration": 0,
    "start_time": "2022-11-25T10:23:09.635Z"
   },
   {
    "duration": 0,
    "start_time": "2022-11-25T10:23:09.636Z"
   },
   {
    "duration": 0,
    "start_time": "2022-11-25T10:23:09.638Z"
   },
   {
    "duration": 0,
    "start_time": "2022-11-25T10:23:09.675Z"
   },
   {
    "duration": 86,
    "start_time": "2022-11-25T10:23:27.741Z"
   },
   {
    "duration": 29,
    "start_time": "2022-11-25T10:23:27.830Z"
   },
   {
    "duration": 15,
    "start_time": "2022-11-25T10:23:27.877Z"
   },
   {
    "duration": 122,
    "start_time": "2022-11-25T10:23:27.894Z"
   },
   {
    "duration": 1858,
    "start_time": "2022-11-25T10:23:28.018Z"
   },
   {
    "duration": 4,
    "start_time": "2022-11-25T10:23:29.878Z"
   },
   {
    "duration": 26,
    "start_time": "2022-11-25T10:23:29.883Z"
   },
   {
    "duration": 31,
    "start_time": "2022-11-25T10:23:29.911Z"
   },
   {
    "duration": 351,
    "start_time": "2022-11-25T10:23:29.944Z"
   },
   {
    "duration": 21,
    "start_time": "2022-11-25T10:23:30.298Z"
   },
   {
    "duration": 0,
    "start_time": "2022-11-25T10:23:30.320Z"
   },
   {
    "duration": 0,
    "start_time": "2022-11-25T10:23:30.321Z"
   },
   {
    "duration": 0,
    "start_time": "2022-11-25T10:23:30.322Z"
   },
   {
    "duration": 0,
    "start_time": "2022-11-25T10:23:30.324Z"
   },
   {
    "duration": 0,
    "start_time": "2022-11-25T10:23:30.325Z"
   },
   {
    "duration": 0,
    "start_time": "2022-11-25T10:23:30.326Z"
   },
   {
    "duration": 0,
    "start_time": "2022-11-25T10:23:30.327Z"
   },
   {
    "duration": 0,
    "start_time": "2022-11-25T10:23:30.328Z"
   },
   {
    "duration": 0,
    "start_time": "2022-11-25T10:23:30.329Z"
   },
   {
    "duration": 0,
    "start_time": "2022-11-25T10:23:30.331Z"
   },
   {
    "duration": 0,
    "start_time": "2022-11-25T10:23:30.332Z"
   },
   {
    "duration": 0,
    "start_time": "2022-11-25T10:23:30.333Z"
   },
   {
    "duration": 0,
    "start_time": "2022-11-25T10:23:30.334Z"
   },
   {
    "duration": 93,
    "start_time": "2022-11-25T10:24:03.964Z"
   },
   {
    "duration": 28,
    "start_time": "2022-11-25T10:24:04.060Z"
   },
   {
    "duration": 27,
    "start_time": "2022-11-25T10:24:04.090Z"
   },
   {
    "duration": 94,
    "start_time": "2022-11-25T10:24:04.120Z"
   },
   {
    "duration": 2160,
    "start_time": "2022-11-25T10:24:04.216Z"
   },
   {
    "duration": 4,
    "start_time": "2022-11-25T10:24:06.378Z"
   },
   {
    "duration": 30,
    "start_time": "2022-11-25T10:24:06.384Z"
   },
   {
    "duration": 76,
    "start_time": "2022-11-25T10:24:06.415Z"
   },
   {
    "duration": 398,
    "start_time": "2022-11-25T10:24:06.493Z"
   },
   {
    "duration": 14,
    "start_time": "2022-11-25T10:24:06.895Z"
   },
   {
    "duration": 39,
    "start_time": "2022-11-25T10:24:06.910Z"
   },
   {
    "duration": 15,
    "start_time": "2022-11-25T10:24:06.951Z"
   },
   {
    "duration": 25,
    "start_time": "2022-11-25T10:24:06.968Z"
   },
   {
    "duration": 157,
    "start_time": "2022-11-25T10:24:06.995Z"
   },
   {
    "duration": 7,
    "start_time": "2022-11-25T10:24:07.154Z"
   },
   {
    "duration": 29,
    "start_time": "2022-11-25T10:24:07.163Z"
   },
   {
    "duration": 34,
    "start_time": "2022-11-25T10:24:07.194Z"
   },
   {
    "duration": 360,
    "start_time": "2022-11-25T10:24:07.229Z"
   },
   {
    "duration": 6,
    "start_time": "2022-11-25T10:24:07.590Z"
   },
   {
    "duration": 50,
    "start_time": "2022-11-25T10:24:07.598Z"
   },
   {
    "duration": 10,
    "start_time": "2022-11-25T10:24:07.650Z"
   },
   {
    "duration": 30,
    "start_time": "2022-11-25T10:24:07.662Z"
   },
   {
    "duration": 194,
    "start_time": "2022-11-25T10:24:07.694Z"
   },
   {
    "duration": 94,
    "start_time": "2022-11-25T11:49:30.714Z"
   },
   {
    "duration": 23,
    "start_time": "2022-11-25T11:49:30.810Z"
   },
   {
    "duration": 40,
    "start_time": "2022-11-25T11:49:30.835Z"
   },
   {
    "duration": 111,
    "start_time": "2022-11-25T11:49:30.877Z"
   },
   {
    "duration": 1913,
    "start_time": "2022-11-25T11:49:30.989Z"
   },
   {
    "duration": 4,
    "start_time": "2022-11-25T11:49:32.904Z"
   },
   {
    "duration": 10,
    "start_time": "2022-11-25T11:49:32.909Z"
   },
   {
    "duration": 24,
    "start_time": "2022-11-25T11:49:32.920Z"
   },
   {
    "duration": 371,
    "start_time": "2022-11-25T11:49:32.946Z"
   },
   {
    "duration": 2,
    "start_time": "2022-11-25T11:49:33.321Z"
   },
   {
    "duration": 25,
    "start_time": "2022-11-25T11:49:33.325Z"
   },
   {
    "duration": 27,
    "start_time": "2022-11-25T11:49:33.352Z"
   },
   {
    "duration": 14,
    "start_time": "2022-11-25T11:49:33.382Z"
   },
   {
    "duration": 161,
    "start_time": "2022-11-25T11:49:33.398Z"
   },
   {
    "duration": 6,
    "start_time": "2022-11-25T11:49:33.561Z"
   },
   {
    "duration": 5,
    "start_time": "2022-11-25T11:49:33.576Z"
   },
   {
    "duration": 13,
    "start_time": "2022-11-25T11:49:33.583Z"
   },
   {
    "duration": 331,
    "start_time": "2022-11-25T11:49:33.598Z"
   },
   {
    "duration": 4,
    "start_time": "2022-11-25T11:49:33.931Z"
   },
   {
    "duration": 5,
    "start_time": "2022-11-25T11:49:33.937Z"
   },
   {
    "duration": 37,
    "start_time": "2022-11-25T11:49:33.943Z"
   },
   {
    "duration": 23,
    "start_time": "2022-11-25T11:49:33.981Z"
   },
   {
    "duration": 15,
    "start_time": "2022-11-25T11:49:34.005Z"
   },
   {
    "duration": 163,
    "start_time": "2022-11-25T11:49:34.022Z"
   },
   {
    "duration": 88,
    "start_time": "2022-11-25T13:42:33.368Z"
   },
   {
    "duration": 35,
    "start_time": "2022-11-25T13:42:37.888Z"
   },
   {
    "duration": 14,
    "start_time": "2022-11-25T13:42:42.830Z"
   },
   {
    "duration": 91,
    "start_time": "2022-11-25T13:42:48.622Z"
   },
   {
    "duration": 2177,
    "start_time": "2022-11-25T13:42:53.110Z"
   },
   {
    "duration": 4,
    "start_time": "2022-11-25T13:43:09.588Z"
   },
   {
    "duration": 6,
    "start_time": "2022-11-25T13:43:12.542Z"
   },
   {
    "duration": 21,
    "start_time": "2022-11-25T13:43:25.337Z"
   },
   {
    "duration": 28,
    "start_time": "2022-11-25T13:45:52.105Z"
   },
   {
    "duration": 9,
    "start_time": "2022-11-25T13:49:09.189Z"
   },
   {
    "duration": 29,
    "start_time": "2022-11-25T13:49:33.517Z"
   },
   {
    "duration": 19,
    "start_time": "2022-11-25T13:50:53.666Z"
   },
   {
    "duration": 9,
    "start_time": "2022-11-25T13:52:48.392Z"
   },
   {
    "duration": 7,
    "start_time": "2022-11-25T13:54:03.120Z"
   },
   {
    "duration": 8,
    "start_time": "2022-11-25T13:54:33.914Z"
   },
   {
    "duration": 5,
    "start_time": "2022-11-25T13:55:51.731Z"
   },
   {
    "duration": 6,
    "start_time": "2022-11-25T13:56:03.690Z"
   },
   {
    "duration": 12,
    "start_time": "2022-11-25T13:56:31.373Z"
   },
   {
    "duration": 16,
    "start_time": "2022-11-25T13:56:49.298Z"
   },
   {
    "duration": 20,
    "start_time": "2022-11-25T13:57:05.521Z"
   },
   {
    "duration": 8,
    "start_time": "2022-11-25T13:58:14.764Z"
   },
   {
    "duration": 36,
    "start_time": "2022-11-25T14:00:48.485Z"
   },
   {
    "duration": 8,
    "start_time": "2022-11-25T14:03:37.079Z"
   },
   {
    "duration": 11,
    "start_time": "2022-11-25T14:04:12.666Z"
   },
   {
    "duration": 11,
    "start_time": "2022-11-25T14:06:36.528Z"
   },
   {
    "duration": 8,
    "start_time": "2022-11-25T14:11:11.037Z"
   },
   {
    "duration": 388,
    "start_time": "2022-11-25T14:11:19.193Z"
   },
   {
    "duration": 359,
    "start_time": "2022-11-25T14:12:21.221Z"
   },
   {
    "duration": 14,
    "start_time": "2022-11-25T14:17:25.088Z"
   },
   {
    "duration": 13,
    "start_time": "2022-11-25T14:17:30.808Z"
   },
   {
    "duration": 6,
    "start_time": "2022-11-25T14:19:36.990Z"
   },
   {
    "duration": 9,
    "start_time": "2022-11-25T14:21:06.266Z"
   },
   {
    "duration": 39,
    "start_time": "2022-11-25T14:31:57.130Z"
   },
   {
    "duration": 92,
    "start_time": "2022-11-25T14:53:15.367Z"
   },
   {
    "duration": 27,
    "start_time": "2022-11-25T14:53:15.462Z"
   },
   {
    "duration": 17,
    "start_time": "2022-11-25T14:53:15.490Z"
   },
   {
    "duration": 111,
    "start_time": "2022-11-25T14:53:15.509Z"
   },
   {
    "duration": 2037,
    "start_time": "2022-11-25T14:53:15.621Z"
   },
   {
    "duration": 4,
    "start_time": "2022-11-25T14:53:17.660Z"
   },
   {
    "duration": 14,
    "start_time": "2022-11-25T14:53:17.676Z"
   },
   {
    "duration": 23,
    "start_time": "2022-11-25T14:53:17.692Z"
   },
   {
    "duration": 16,
    "start_time": "2022-11-25T14:53:17.716Z"
   },
   {
    "duration": 9,
    "start_time": "2022-11-25T14:53:17.735Z"
   },
   {
    "duration": 52,
    "start_time": "2022-11-25T14:53:17.745Z"
   },
   {
    "duration": 10,
    "start_time": "2022-11-25T14:53:17.799Z"
   },
   {
    "duration": 25,
    "start_time": "2022-11-25T14:53:17.810Z"
   },
   {
    "duration": 345,
    "start_time": "2022-11-25T14:53:17.837Z"
   },
   {
    "duration": 12,
    "start_time": "2022-11-25T14:53:18.184Z"
   },
   {
    "duration": 33,
    "start_time": "2022-11-25T14:53:18.197Z"
   },
   {
    "duration": 24,
    "start_time": "2022-11-25T14:53:18.231Z"
   },
   {
    "duration": 0,
    "start_time": "2022-11-25T14:53:18.257Z"
   },
   {
    "duration": 0,
    "start_time": "2022-11-25T14:53:18.258Z"
   },
   {
    "duration": 0,
    "start_time": "2022-11-25T14:53:18.259Z"
   },
   {
    "duration": 0,
    "start_time": "2022-11-25T14:53:18.260Z"
   },
   {
    "duration": 0,
    "start_time": "2022-11-25T14:53:18.261Z"
   },
   {
    "duration": 0,
    "start_time": "2022-11-25T14:53:18.262Z"
   },
   {
    "duration": 0,
    "start_time": "2022-11-25T14:53:18.263Z"
   },
   {
    "duration": 0,
    "start_time": "2022-11-25T14:53:18.264Z"
   },
   {
    "duration": 0,
    "start_time": "2022-11-25T14:53:18.265Z"
   },
   {
    "duration": 0,
    "start_time": "2022-11-25T14:53:18.266Z"
   },
   {
    "duration": 0,
    "start_time": "2022-11-25T14:53:18.266Z"
   },
   {
    "duration": 0,
    "start_time": "2022-11-25T14:53:18.276Z"
   },
   {
    "duration": 0,
    "start_time": "2022-11-25T14:53:18.277Z"
   },
   {
    "duration": 0,
    "start_time": "2022-11-25T14:53:18.278Z"
   },
   {
    "duration": 0,
    "start_time": "2022-11-25T14:53:18.279Z"
   },
   {
    "duration": 0,
    "start_time": "2022-11-25T14:53:18.280Z"
   },
   {
    "duration": 0,
    "start_time": "2022-11-25T14:53:18.281Z"
   },
   {
    "duration": 0,
    "start_time": "2022-11-25T14:53:18.282Z"
   },
   {
    "duration": 0,
    "start_time": "2022-11-25T14:53:18.283Z"
   },
   {
    "duration": 14,
    "start_time": "2022-11-25T14:56:18.144Z"
   },
   {
    "duration": 14,
    "start_time": "2022-11-25T14:56:33.033Z"
   },
   {
    "duration": 15,
    "start_time": "2022-11-25T14:57:59.112Z"
   },
   {
    "duration": 4,
    "start_time": "2022-11-25T14:58:04.558Z"
   },
   {
    "duration": 13,
    "start_time": "2022-11-25T14:58:07.568Z"
   },
   {
    "duration": 20,
    "start_time": "2022-11-25T15:02:58.644Z"
   },
   {
    "duration": 17,
    "start_time": "2022-11-25T15:03:58.101Z"
   },
   {
    "duration": 1071,
    "start_time": "2022-11-27T10:20:54.333Z"
   },
   {
    "duration": 35,
    "start_time": "2022-11-27T10:20:55.407Z"
   },
   {
    "duration": 18,
    "start_time": "2022-11-27T10:20:55.443Z"
   },
   {
    "duration": 87,
    "start_time": "2022-11-27T10:20:55.463Z"
   },
   {
    "duration": 1796,
    "start_time": "2022-11-27T10:20:55.552Z"
   },
   {
    "duration": 5,
    "start_time": "2022-11-27T10:20:57.350Z"
   },
   {
    "duration": 25,
    "start_time": "2022-11-27T10:20:57.357Z"
   },
   {
    "duration": 25,
    "start_time": "2022-11-27T10:20:57.384Z"
   },
   {
    "duration": 15,
    "start_time": "2022-11-27T10:20:57.411Z"
   },
   {
    "duration": 10,
    "start_time": "2022-11-27T10:20:57.429Z"
   },
   {
    "duration": 52,
    "start_time": "2022-11-27T10:20:57.441Z"
   },
   {
    "duration": 10,
    "start_time": "2022-11-27T10:20:57.495Z"
   },
   {
    "duration": 22,
    "start_time": "2022-11-27T10:20:57.507Z"
   },
   {
    "duration": 325,
    "start_time": "2022-11-27T10:20:57.531Z"
   },
   {
    "duration": 13,
    "start_time": "2022-11-27T10:20:57.858Z"
   },
   {
    "duration": 49,
    "start_time": "2022-11-27T10:20:57.873Z"
   },
   {
    "duration": 89,
    "start_time": "2022-11-27T10:20:57.924Z"
   },
   {
    "duration": 0,
    "start_time": "2022-11-27T10:20:58.015Z"
   },
   {
    "duration": 0,
    "start_time": "2022-11-27T10:20:58.017Z"
   },
   {
    "duration": 0,
    "start_time": "2022-11-27T10:20:58.019Z"
   },
   {
    "duration": 0,
    "start_time": "2022-11-27T10:20:58.020Z"
   },
   {
    "duration": 0,
    "start_time": "2022-11-27T10:20:58.021Z"
   },
   {
    "duration": 0,
    "start_time": "2022-11-27T10:20:58.022Z"
   },
   {
    "duration": 0,
    "start_time": "2022-11-27T10:20:58.024Z"
   },
   {
    "duration": 0,
    "start_time": "2022-11-27T10:20:58.025Z"
   },
   {
    "duration": 0,
    "start_time": "2022-11-27T10:20:58.027Z"
   },
   {
    "duration": 0,
    "start_time": "2022-11-27T10:20:58.028Z"
   },
   {
    "duration": 0,
    "start_time": "2022-11-27T10:20:58.030Z"
   },
   {
    "duration": 0,
    "start_time": "2022-11-27T10:20:58.031Z"
   },
   {
    "duration": 0,
    "start_time": "2022-11-27T10:20:58.033Z"
   },
   {
    "duration": 0,
    "start_time": "2022-11-27T10:20:58.034Z"
   },
   {
    "duration": 0,
    "start_time": "2022-11-27T10:20:58.036Z"
   },
   {
    "duration": 0,
    "start_time": "2022-11-27T10:20:58.037Z"
   },
   {
    "duration": 0,
    "start_time": "2022-11-27T10:20:58.039Z"
   },
   {
    "duration": 0,
    "start_time": "2022-11-27T10:20:58.040Z"
   },
   {
    "duration": 0,
    "start_time": "2022-11-27T10:20:58.042Z"
   },
   {
    "duration": 10,
    "start_time": "2022-11-27T10:22:01.969Z"
   },
   {
    "duration": 3,
    "start_time": "2022-11-27T10:23:05.747Z"
   },
   {
    "duration": 3,
    "start_time": "2022-11-27T10:23:37.099Z"
   },
   {
    "duration": 3,
    "start_time": "2022-11-27T10:24:13.019Z"
   },
   {
    "duration": 54,
    "start_time": "2022-11-27T10:32:34.958Z"
   },
   {
    "duration": 20,
    "start_time": "2022-11-27T10:33:10.321Z"
   },
   {
    "duration": 17,
    "start_time": "2022-11-27T10:33:53.672Z"
   },
   {
    "duration": 19,
    "start_time": "2022-11-27T10:36:43.010Z"
   },
   {
    "duration": 13,
    "start_time": "2022-11-27T10:36:51.820Z"
   },
   {
    "duration": 8,
    "start_time": "2022-11-27T10:37:36.260Z"
   },
   {
    "duration": 8,
    "start_time": "2022-11-27T10:38:47.652Z"
   },
   {
    "duration": 12,
    "start_time": "2022-11-27T10:39:20.789Z"
   },
   {
    "duration": 14,
    "start_time": "2022-11-27T10:39:38.206Z"
   },
   {
    "duration": 8,
    "start_time": "2022-11-27T10:39:52.724Z"
   },
   {
    "duration": 14,
    "start_time": "2022-11-27T10:39:59.058Z"
   },
   {
    "duration": 9,
    "start_time": "2022-11-27T10:40:21.493Z"
   },
   {
    "duration": 6,
    "start_time": "2022-11-27T10:40:30.507Z"
   },
   {
    "duration": 111,
    "start_time": "2022-11-27T10:40:36.874Z"
   },
   {
    "duration": 8,
    "start_time": "2022-11-27T10:40:40.709Z"
   },
   {
    "duration": 116,
    "start_time": "2022-11-27T10:41:57.143Z"
   },
   {
    "duration": 43,
    "start_time": "2022-11-27T10:45:21.660Z"
   },
   {
    "duration": 50,
    "start_time": "2022-11-27T10:46:00.015Z"
   },
   {
    "duration": 69,
    "start_time": "2022-11-27T10:46:25.194Z"
   },
   {
    "duration": 43,
    "start_time": "2022-11-27T10:47:05.808Z"
   },
   {
    "duration": 7,
    "start_time": "2022-11-27T10:47:47.136Z"
   },
   {
    "duration": 32,
    "start_time": "2022-11-27T10:50:09.178Z"
   },
   {
    "duration": 10,
    "start_time": "2022-11-27T10:50:54.978Z"
   },
   {
    "duration": 24,
    "start_time": "2022-11-27T10:51:21.338Z"
   },
   {
    "duration": 4,
    "start_time": "2022-11-27T10:51:41.979Z"
   },
   {
    "duration": 12,
    "start_time": "2022-11-27T10:51:46.266Z"
   },
   {
    "duration": 381,
    "start_time": "2022-11-27T10:51:51.521Z"
   },
   {
    "duration": 6,
    "start_time": "2022-11-27T10:51:57.076Z"
   },
   {
    "duration": 3,
    "start_time": "2022-11-27T10:52:02.979Z"
   },
   {
    "duration": 23,
    "start_time": "2022-11-27T10:52:12.940Z"
   },
   {
    "duration": 332,
    "start_time": "2022-11-27T10:52:43.603Z"
   },
   {
    "duration": 287,
    "start_time": "2022-11-27T10:52:52.707Z"
   },
   {
    "duration": 990,
    "start_time": "2022-11-27T10:52:58.908Z"
   },
   {
    "duration": 522,
    "start_time": "2022-11-27T10:54:31.161Z"
   },
   {
    "duration": 84,
    "start_time": "2022-11-27T12:00:26.649Z"
   },
   {
    "duration": 24,
    "start_time": "2022-11-27T12:00:26.735Z"
   },
   {
    "duration": 15,
    "start_time": "2022-11-27T12:00:26.761Z"
   },
   {
    "duration": 182,
    "start_time": "2022-11-27T12:00:26.778Z"
   },
   {
    "duration": 1682,
    "start_time": "2022-11-27T12:00:26.961Z"
   },
   {
    "duration": 4,
    "start_time": "2022-11-27T12:00:28.644Z"
   },
   {
    "duration": 10,
    "start_time": "2022-11-27T12:00:28.649Z"
   },
   {
    "duration": 21,
    "start_time": "2022-11-27T12:00:28.660Z"
   },
   {
    "duration": 13,
    "start_time": "2022-11-27T12:00:28.683Z"
   },
   {
    "duration": 10,
    "start_time": "2022-11-27T12:00:28.720Z"
   },
   {
    "duration": 35,
    "start_time": "2022-11-27T12:00:28.731Z"
   },
   {
    "duration": 10,
    "start_time": "2022-11-27T12:00:28.767Z"
   },
   {
    "duration": 9,
    "start_time": "2022-11-27T12:00:28.778Z"
   },
   {
    "duration": 437,
    "start_time": "2022-11-27T12:00:28.788Z"
   },
   {
    "duration": 12,
    "start_time": "2022-11-27T12:00:29.227Z"
   },
   {
    "duration": 27,
    "start_time": "2022-11-27T12:00:29.240Z"
   },
   {
    "duration": 8,
    "start_time": "2022-11-27T12:00:29.269Z"
   },
   {
    "duration": 14,
    "start_time": "2022-11-27T12:00:29.278Z"
   },
   {
    "duration": 33,
    "start_time": "2022-11-27T12:00:29.293Z"
   },
   {
    "duration": 8,
    "start_time": "2022-11-27T12:00:29.327Z"
   },
   {
    "duration": 32,
    "start_time": "2022-11-27T12:00:29.337Z"
   },
   {
    "duration": 7,
    "start_time": "2022-11-27T12:00:29.371Z"
   },
   {
    "duration": 47,
    "start_time": "2022-11-27T12:00:29.379Z"
   },
   {
    "duration": 3,
    "start_time": "2022-11-27T12:00:29.428Z"
   },
   {
    "duration": 13,
    "start_time": "2022-11-27T12:00:29.433Z"
   },
   {
    "duration": 311,
    "start_time": "2022-11-27T12:00:29.447Z"
   },
   {
    "duration": 5,
    "start_time": "2022-11-27T12:00:29.759Z"
   },
   {
    "duration": 5,
    "start_time": "2022-11-27T12:00:29.767Z"
   },
   {
    "duration": 22,
    "start_time": "2022-11-27T12:00:29.773Z"
   },
   {
    "duration": 327,
    "start_time": "2022-11-27T12:00:29.797Z"
   },
   {
    "duration": 309,
    "start_time": "2022-11-27T12:00:30.125Z"
   },
   {
    "duration": 537,
    "start_time": "2022-11-27T12:00:30.435Z"
   },
   {
    "duration": 37,
    "start_time": "2022-11-27T12:03:59.672Z"
   },
   {
    "duration": 33,
    "start_time": "2022-11-27T12:04:27.984Z"
   },
   {
    "duration": 34,
    "start_time": "2022-11-27T12:05:09.370Z"
   },
   {
    "duration": 351,
    "start_time": "2022-11-27T12:08:42.381Z"
   },
   {
    "duration": 89,
    "start_time": "2022-11-27T12:09:05.863Z"
   },
   {
    "duration": 25,
    "start_time": "2022-11-27T12:09:05.954Z"
   },
   {
    "duration": 34,
    "start_time": "2022-11-27T12:09:05.980Z"
   },
   {
    "duration": 71,
    "start_time": "2022-11-27T12:09:06.016Z"
   },
   {
    "duration": 1721,
    "start_time": "2022-11-27T12:09:06.088Z"
   },
   {
    "duration": 4,
    "start_time": "2022-11-27T12:09:07.810Z"
   },
   {
    "duration": 26,
    "start_time": "2022-11-27T12:09:07.821Z"
   },
   {
    "duration": 23,
    "start_time": "2022-11-27T12:09:07.849Z"
   },
   {
    "duration": 22,
    "start_time": "2022-11-27T12:09:07.874Z"
   },
   {
    "duration": 19,
    "start_time": "2022-11-27T12:09:07.899Z"
   },
   {
    "duration": 149,
    "start_time": "2022-11-27T12:09:07.920Z"
   },
   {
    "duration": 9,
    "start_time": "2022-11-27T12:09:08.071Z"
   },
   {
    "duration": 16,
    "start_time": "2022-11-27T12:09:08.081Z"
   },
   {
    "duration": 332,
    "start_time": "2022-11-27T12:09:08.098Z"
   },
   {
    "duration": 11,
    "start_time": "2022-11-27T12:09:08.432Z"
   },
   {
    "duration": 29,
    "start_time": "2022-11-27T12:09:08.444Z"
   },
   {
    "duration": 30,
    "start_time": "2022-11-27T12:09:08.475Z"
   },
   {
    "duration": 44,
    "start_time": "2022-11-27T12:09:08.506Z"
   },
   {
    "duration": 9,
    "start_time": "2022-11-27T12:09:08.552Z"
   },
   {
    "duration": 8,
    "start_time": "2022-11-27T12:09:08.563Z"
   },
   {
    "duration": 37,
    "start_time": "2022-11-27T12:09:08.573Z"
   },
   {
    "duration": 10,
    "start_time": "2022-11-27T12:09:08.611Z"
   },
   {
    "duration": 21,
    "start_time": "2022-11-27T12:09:08.622Z"
   },
   {
    "duration": 4,
    "start_time": "2022-11-27T12:09:08.644Z"
   },
   {
    "duration": 15,
    "start_time": "2022-11-27T12:09:08.649Z"
   },
   {
    "duration": 317,
    "start_time": "2022-11-27T12:09:08.666Z"
   },
   {
    "duration": 6,
    "start_time": "2022-11-27T12:09:08.984Z"
   },
   {
    "duration": 6,
    "start_time": "2022-11-27T12:09:08.992Z"
   },
   {
    "duration": 33,
    "start_time": "2022-11-27T12:09:09.000Z"
   },
   {
    "duration": 341,
    "start_time": "2022-11-27T12:09:09.034Z"
   },
   {
    "duration": 285,
    "start_time": "2022-11-27T12:09:09.377Z"
   },
   {
    "duration": 510,
    "start_time": "2022-11-27T12:09:09.663Z"
   },
   {
    "duration": 362,
    "start_time": "2022-11-27T12:09:10.174Z"
   },
   {
    "duration": 52,
    "start_time": "2022-11-27T12:09:10.538Z"
   },
   {
    "duration": 306,
    "start_time": "2022-11-27T12:20:18.525Z"
   },
   {
    "duration": 470,
    "start_time": "2022-11-27T12:21:46.552Z"
   },
   {
    "duration": 272,
    "start_time": "2022-11-27T12:23:00.878Z"
   },
   {
    "duration": 21,
    "start_time": "2022-11-27T12:55:08.524Z"
   },
   {
    "duration": 45,
    "start_time": "2022-11-27T13:13:35.321Z"
   },
   {
    "duration": 797,
    "start_time": "2022-11-27T13:14:45.720Z"
   },
   {
    "duration": 164,
    "start_time": "2022-11-27T13:15:41.540Z"
   },
   {
    "duration": 158,
    "start_time": "2022-11-27T13:15:59.520Z"
   },
   {
    "duration": 473,
    "start_time": "2022-11-27T13:16:11.506Z"
   },
   {
    "duration": 154,
    "start_time": "2022-11-27T13:25:32.486Z"
   },
   {
    "duration": 148,
    "start_time": "2022-11-27T13:29:58.789Z"
   },
   {
    "duration": 149,
    "start_time": "2022-11-27T13:30:21.306Z"
   },
   {
    "duration": 288,
    "start_time": "2022-11-27T13:30:59.545Z"
   },
   {
    "duration": 147,
    "start_time": "2022-11-27T13:31:16.689Z"
   },
   {
    "duration": 261,
    "start_time": "2022-11-27T13:31:34.169Z"
   },
   {
    "duration": 15,
    "start_time": "2022-11-27T13:31:41.297Z"
   },
   {
    "duration": 13,
    "start_time": "2022-11-27T13:32:11.041Z"
   },
   {
    "duration": 151,
    "start_time": "2022-11-27T13:33:03.454Z"
   },
   {
    "duration": 149,
    "start_time": "2022-11-27T13:34:15.958Z"
   },
   {
    "duration": 146,
    "start_time": "2022-11-27T13:34:26.702Z"
   },
   {
    "duration": 152,
    "start_time": "2022-11-27T13:34:38.021Z"
   },
   {
    "duration": 155,
    "start_time": "2022-11-27T13:35:02.180Z"
   },
   {
    "duration": 14,
    "start_time": "2022-11-27T13:35:12.715Z"
   },
   {
    "duration": 159,
    "start_time": "2022-11-27T13:35:54.836Z"
   },
   {
    "duration": 155,
    "start_time": "2022-11-27T13:50:11.708Z"
   },
   {
    "duration": 146,
    "start_time": "2022-11-27T13:50:46.060Z"
   },
   {
    "duration": 172,
    "start_time": "2022-11-27T13:51:23.580Z"
   },
   {
    "duration": 144,
    "start_time": "2022-11-27T13:59:02.666Z"
   },
   {
    "duration": 97,
    "start_time": "2022-11-27T14:00:11.513Z"
   },
   {
    "duration": 24,
    "start_time": "2022-11-27T14:00:11.611Z"
   },
   {
    "duration": 38,
    "start_time": "2022-11-27T14:00:11.636Z"
   },
   {
    "duration": 76,
    "start_time": "2022-11-27T14:00:11.676Z"
   },
   {
    "duration": 1808,
    "start_time": "2022-11-27T14:00:11.754Z"
   },
   {
    "duration": 4,
    "start_time": "2022-11-27T14:00:13.563Z"
   },
   {
    "duration": 23,
    "start_time": "2022-11-27T14:00:13.569Z"
   },
   {
    "duration": 46,
    "start_time": "2022-11-27T14:00:13.593Z"
   },
   {
    "duration": 35,
    "start_time": "2022-11-27T14:00:13.640Z"
   },
   {
    "duration": 16,
    "start_time": "2022-11-27T14:00:13.678Z"
   },
   {
    "duration": 49,
    "start_time": "2022-11-27T14:00:13.695Z"
   },
   {
    "duration": 10,
    "start_time": "2022-11-27T14:00:13.746Z"
   },
   {
    "duration": 21,
    "start_time": "2022-11-27T14:00:13.757Z"
   },
   {
    "duration": 353,
    "start_time": "2022-11-27T14:00:13.780Z"
   },
   {
    "duration": 13,
    "start_time": "2022-11-27T14:00:14.135Z"
   },
   {
    "duration": 28,
    "start_time": "2022-11-27T14:00:14.150Z"
   },
   {
    "duration": 7,
    "start_time": "2022-11-27T14:00:14.180Z"
   },
   {
    "duration": 40,
    "start_time": "2022-11-27T14:00:14.189Z"
   },
   {
    "duration": 8,
    "start_time": "2022-11-27T14:00:14.231Z"
   },
   {
    "duration": 9,
    "start_time": "2022-11-27T14:00:14.240Z"
   },
   {
    "duration": 32,
    "start_time": "2022-11-27T14:00:14.251Z"
   },
   {
    "duration": 7,
    "start_time": "2022-11-27T14:00:14.284Z"
   },
   {
    "duration": 45,
    "start_time": "2022-11-27T14:00:14.292Z"
   },
   {
    "duration": 3,
    "start_time": "2022-11-27T14:00:14.339Z"
   },
   {
    "duration": 14,
    "start_time": "2022-11-27T14:00:14.344Z"
   },
   {
    "duration": 311,
    "start_time": "2022-11-27T14:00:14.360Z"
   },
   {
    "duration": 5,
    "start_time": "2022-11-27T14:00:14.673Z"
   },
   {
    "duration": 4,
    "start_time": "2022-11-27T14:00:14.681Z"
   },
   {
    "duration": 35,
    "start_time": "2022-11-27T14:00:14.687Z"
   },
   {
    "duration": 326,
    "start_time": "2022-11-27T14:00:14.723Z"
   },
   {
    "duration": 481,
    "start_time": "2022-11-27T14:00:15.051Z"
   },
   {
    "duration": 533,
    "start_time": "2022-11-27T14:00:15.533Z"
   },
   {
    "duration": 262,
    "start_time": "2022-11-27T14:00:16.068Z"
   },
   {
    "duration": 493,
    "start_time": "2022-11-27T14:00:16.332Z"
   },
   {
    "duration": 0,
    "start_time": "2022-11-27T14:00:16.826Z"
   },
   {
    "duration": 0,
    "start_time": "2022-11-27T14:00:16.827Z"
   },
   {
    "duration": 0,
    "start_time": "2022-11-27T14:00:16.828Z"
   },
   {
    "duration": 0,
    "start_time": "2022-11-27T14:00:16.829Z"
   },
   {
    "duration": 0,
    "start_time": "2022-11-27T14:00:16.830Z"
   },
   {
    "duration": 0,
    "start_time": "2022-11-27T14:00:16.831Z"
   },
   {
    "duration": 0,
    "start_time": "2022-11-27T14:00:16.832Z"
   },
   {
    "duration": 289,
    "start_time": "2022-11-27T14:01:31.320Z"
   },
   {
    "duration": 21,
    "start_time": "2022-11-27T14:01:38.563Z"
   },
   {
    "duration": 163,
    "start_time": "2022-11-27T14:01:42.708Z"
   },
   {
    "duration": 448,
    "start_time": "2022-11-27T14:01:56.974Z"
   },
   {
    "duration": 154,
    "start_time": "2022-11-27T14:02:03.924Z"
   },
   {
    "duration": 139,
    "start_time": "2022-11-27T14:02:12.092Z"
   },
   {
    "duration": 559,
    "start_time": "2022-11-27T14:02:23.557Z"
   },
   {
    "duration": 15,
    "start_time": "2022-11-27T14:05:50.415Z"
   },
   {
    "duration": 110,
    "start_time": "2022-11-27T14:06:37.223Z"
   },
   {
    "duration": 97,
    "start_time": "2022-11-27T14:07:13.615Z"
   },
   {
    "duration": 23,
    "start_time": "2022-11-27T14:07:13.714Z"
   },
   {
    "duration": 15,
    "start_time": "2022-11-27T14:07:13.738Z"
   },
   {
    "duration": 77,
    "start_time": "2022-11-27T14:07:13.755Z"
   },
   {
    "duration": 1714,
    "start_time": "2022-11-27T14:07:13.834Z"
   },
   {
    "duration": 6,
    "start_time": "2022-11-27T14:07:15.550Z"
   },
   {
    "duration": 26,
    "start_time": "2022-11-27T14:07:15.558Z"
   },
   {
    "duration": 42,
    "start_time": "2022-11-27T14:07:15.586Z"
   },
   {
    "duration": 14,
    "start_time": "2022-11-27T14:07:15.630Z"
   },
   {
    "duration": 16,
    "start_time": "2022-11-27T14:07:15.647Z"
   },
   {
    "duration": 40,
    "start_time": "2022-11-27T14:07:15.664Z"
   },
   {
    "duration": 16,
    "start_time": "2022-11-27T14:07:15.706Z"
   },
   {
    "duration": 28,
    "start_time": "2022-11-27T14:07:15.723Z"
   },
   {
    "duration": 473,
    "start_time": "2022-11-27T14:07:15.753Z"
   },
   {
    "duration": 12,
    "start_time": "2022-11-27T14:07:16.228Z"
   },
   {
    "duration": 47,
    "start_time": "2022-11-27T14:07:16.242Z"
   },
   {
    "duration": 8,
    "start_time": "2022-11-27T14:07:16.291Z"
   },
   {
    "duration": 21,
    "start_time": "2022-11-27T14:07:16.300Z"
   },
   {
    "duration": 9,
    "start_time": "2022-11-27T14:07:16.322Z"
   },
   {
    "duration": 8,
    "start_time": "2022-11-27T14:07:16.332Z"
   },
   {
    "duration": 34,
    "start_time": "2022-11-27T14:07:16.341Z"
   },
   {
    "duration": 109,
    "start_time": "2022-11-27T14:07:16.377Z"
   },
   {
    "duration": 3,
    "start_time": "2022-11-27T14:07:16.488Z"
   },
   {
    "duration": 26,
    "start_time": "2022-11-27T14:07:16.493Z"
   },
   {
    "duration": 312,
    "start_time": "2022-11-27T14:07:16.520Z"
   },
   {
    "duration": 6,
    "start_time": "2022-11-27T14:07:16.834Z"
   },
   {
    "duration": 6,
    "start_time": "2022-11-27T14:07:16.841Z"
   },
   {
    "duration": 28,
    "start_time": "2022-11-27T14:07:16.850Z"
   },
   {
    "duration": 364,
    "start_time": "2022-11-27T14:07:16.880Z"
   },
   {
    "duration": 288,
    "start_time": "2022-11-27T14:07:17.246Z"
   },
   {
    "duration": 542,
    "start_time": "2022-11-27T14:07:17.535Z"
   },
   {
    "duration": 242,
    "start_time": "2022-11-27T14:07:18.079Z"
   },
   {
    "duration": 464,
    "start_time": "2022-11-27T14:07:18.323Z"
   },
   {
    "duration": 0,
    "start_time": "2022-11-27T14:07:18.788Z"
   },
   {
    "duration": 0,
    "start_time": "2022-11-27T14:07:18.790Z"
   },
   {
    "duration": 0,
    "start_time": "2022-11-27T14:07:18.791Z"
   },
   {
    "duration": 0,
    "start_time": "2022-11-27T14:07:18.792Z"
   },
   {
    "duration": 0,
    "start_time": "2022-11-27T14:07:18.793Z"
   },
   {
    "duration": 0,
    "start_time": "2022-11-27T14:07:18.794Z"
   },
   {
    "duration": 0,
    "start_time": "2022-11-27T14:07:18.795Z"
   },
   {
    "duration": 304,
    "start_time": "2022-11-27T15:06:42.623Z"
   },
   {
    "duration": 20,
    "start_time": "2022-11-27T15:06:56.159Z"
   },
   {
    "duration": 147,
    "start_time": "2022-11-27T15:07:01.127Z"
   },
   {
    "duration": 140,
    "start_time": "2022-11-27T15:07:13.443Z"
   },
   {
    "duration": 644,
    "start_time": "2022-11-27T15:07:21.591Z"
   },
   {
    "duration": 179,
    "start_time": "2022-11-27T15:07:27.421Z"
   },
   {
    "duration": 149,
    "start_time": "2022-11-27T15:07:36.445Z"
   },
   {
    "duration": 420,
    "start_time": "2022-11-27T15:07:42.566Z"
   },
   {
    "duration": 87,
    "start_time": "2022-11-27T15:10:44.909Z"
   },
   {
    "duration": 24,
    "start_time": "2022-11-27T15:10:44.998Z"
   },
   {
    "duration": 25,
    "start_time": "2022-11-27T15:10:45.024Z"
   },
   {
    "duration": 82,
    "start_time": "2022-11-27T15:10:45.051Z"
   },
   {
    "duration": 1806,
    "start_time": "2022-11-27T15:10:45.134Z"
   },
   {
    "duration": 4,
    "start_time": "2022-11-27T15:10:46.941Z"
   },
   {
    "duration": 11,
    "start_time": "2022-11-27T15:10:46.946Z"
   },
   {
    "duration": 27,
    "start_time": "2022-11-27T15:10:46.959Z"
   },
   {
    "duration": 13,
    "start_time": "2022-11-27T15:10:46.987Z"
   },
   {
    "duration": 11,
    "start_time": "2022-11-27T15:10:47.021Z"
   },
   {
    "duration": 40,
    "start_time": "2022-11-27T15:10:47.034Z"
   },
   {
    "duration": 10,
    "start_time": "2022-11-27T15:10:47.075Z"
   },
   {
    "duration": 35,
    "start_time": "2022-11-27T15:10:47.087Z"
   },
   {
    "duration": 333,
    "start_time": "2022-11-27T15:10:47.123Z"
   },
   {
    "duration": 11,
    "start_time": "2022-11-27T15:10:47.458Z"
   },
   {
    "duration": 27,
    "start_time": "2022-11-27T15:10:47.471Z"
   },
   {
    "duration": 27,
    "start_time": "2022-11-27T15:10:47.500Z"
   },
   {
    "duration": 20,
    "start_time": "2022-11-27T15:10:47.529Z"
   },
   {
    "duration": 9,
    "start_time": "2022-11-27T15:10:47.551Z"
   },
   {
    "duration": 11,
    "start_time": "2022-11-27T15:10:47.561Z"
   },
   {
    "duration": 50,
    "start_time": "2022-11-27T15:10:47.574Z"
   },
   {
    "duration": 102,
    "start_time": "2022-11-27T15:10:47.626Z"
   },
   {
    "duration": 4,
    "start_time": "2022-11-27T15:10:47.730Z"
   },
   {
    "duration": 19,
    "start_time": "2022-11-27T15:10:47.735Z"
   },
   {
    "duration": 481,
    "start_time": "2022-11-27T15:10:47.755Z"
   },
   {
    "duration": 5,
    "start_time": "2022-11-27T15:10:48.237Z"
   },
   {
    "duration": 13,
    "start_time": "2022-11-27T15:10:48.243Z"
   },
   {
    "duration": 22,
    "start_time": "2022-11-27T15:10:48.259Z"
   },
   {
    "duration": 338,
    "start_time": "2022-11-27T15:10:48.283Z"
   },
   {
    "duration": 286,
    "start_time": "2022-11-27T15:10:48.623Z"
   },
   {
    "duration": 554,
    "start_time": "2022-11-27T15:10:48.910Z"
   },
   {
    "duration": 250,
    "start_time": "2022-11-27T15:10:49.466Z"
   },
   {
    "duration": 466,
    "start_time": "2022-11-27T15:10:49.721Z"
   },
   {
    "duration": 0,
    "start_time": "2022-11-27T15:10:50.189Z"
   },
   {
    "duration": 0,
    "start_time": "2022-11-27T15:10:50.190Z"
   },
   {
    "duration": 0,
    "start_time": "2022-11-27T15:10:50.191Z"
   },
   {
    "duration": 0,
    "start_time": "2022-11-27T15:10:50.192Z"
   },
   {
    "duration": 0,
    "start_time": "2022-11-27T15:10:50.193Z"
   },
   {
    "duration": 0,
    "start_time": "2022-11-27T15:10:50.194Z"
   },
   {
    "duration": 0,
    "start_time": "2022-11-27T15:10:50.195Z"
   },
   {
    "duration": 292,
    "start_time": "2022-11-27T15:11:10.140Z"
   },
   {
    "duration": 21,
    "start_time": "2022-11-27T15:11:16.039Z"
   },
   {
    "duration": 146,
    "start_time": "2022-11-27T15:11:20.149Z"
   },
   {
    "duration": 479,
    "start_time": "2022-11-27T15:11:24.154Z"
   },
   {
    "duration": 180,
    "start_time": "2022-11-27T15:11:30.330Z"
   },
   {
    "duration": 152,
    "start_time": "2022-11-27T15:11:42.089Z"
   },
   {
    "duration": 432,
    "start_time": "2022-11-27T15:11:48.973Z"
   },
   {
    "duration": 1040,
    "start_time": "2022-11-27T15:30:48.643Z"
   },
   {
    "duration": 26,
    "start_time": "2022-11-27T15:30:49.685Z"
   },
   {
    "duration": 14,
    "start_time": "2022-11-27T15:30:49.712Z"
   },
   {
    "duration": 72,
    "start_time": "2022-11-27T15:30:49.727Z"
   },
   {
    "duration": 1813,
    "start_time": "2022-11-27T15:30:49.801Z"
   },
   {
    "duration": 4,
    "start_time": "2022-11-27T15:30:51.616Z"
   },
   {
    "duration": 10,
    "start_time": "2022-11-27T15:30:51.622Z"
   },
   {
    "duration": 25,
    "start_time": "2022-11-27T15:30:51.633Z"
   },
   {
    "duration": 15,
    "start_time": "2022-11-27T15:30:51.659Z"
   },
   {
    "duration": 27,
    "start_time": "2022-11-27T15:30:51.675Z"
   },
   {
    "duration": 37,
    "start_time": "2022-11-27T15:30:51.703Z"
   },
   {
    "duration": 10,
    "start_time": "2022-11-27T15:30:51.741Z"
   },
   {
    "duration": 9,
    "start_time": "2022-11-27T15:30:51.752Z"
   },
   {
    "duration": 377,
    "start_time": "2022-11-27T15:30:51.763Z"
   },
   {
    "duration": 12,
    "start_time": "2022-11-27T15:30:52.142Z"
   },
   {
    "duration": 45,
    "start_time": "2022-11-27T15:30:52.155Z"
   },
   {
    "duration": 9,
    "start_time": "2022-11-27T15:30:52.201Z"
   },
   {
    "duration": 12,
    "start_time": "2022-11-27T15:30:52.212Z"
   },
   {
    "duration": 9,
    "start_time": "2022-11-27T15:30:52.226Z"
   },
   {
    "duration": 6,
    "start_time": "2022-11-27T15:30:52.237Z"
   },
   {
    "duration": 67,
    "start_time": "2022-11-27T15:30:52.245Z"
   },
   {
    "duration": 99,
    "start_time": "2022-11-27T15:30:52.314Z"
   },
   {
    "duration": 4,
    "start_time": "2022-11-27T15:30:52.414Z"
   },
   {
    "duration": 16,
    "start_time": "2022-11-27T15:30:52.419Z"
   },
   {
    "duration": 376,
    "start_time": "2022-11-27T15:30:52.436Z"
   },
   {
    "duration": 5,
    "start_time": "2022-11-27T15:30:52.814Z"
   },
   {
    "duration": 11,
    "start_time": "2022-11-27T15:30:52.820Z"
   },
   {
    "duration": 24,
    "start_time": "2022-11-27T15:30:52.832Z"
   },
   {
    "duration": 330,
    "start_time": "2022-11-27T15:30:52.858Z"
   },
   {
    "duration": 275,
    "start_time": "2022-11-27T15:30:53.190Z"
   },
   {
    "duration": 536,
    "start_time": "2022-11-27T15:30:53.467Z"
   },
   {
    "duration": 239,
    "start_time": "2022-11-27T15:30:54.005Z"
   },
   {
    "duration": 624,
    "start_time": "2022-11-27T15:30:54.246Z"
   },
   {
    "duration": 0,
    "start_time": "2022-11-27T15:30:54.872Z"
   },
   {
    "duration": 0,
    "start_time": "2022-11-27T15:30:54.875Z"
   },
   {
    "duration": 0,
    "start_time": "2022-11-27T15:30:54.877Z"
   },
   {
    "duration": 0,
    "start_time": "2022-11-27T15:30:54.878Z"
   },
   {
    "duration": 0,
    "start_time": "2022-11-27T15:30:54.879Z"
   },
   {
    "duration": 0,
    "start_time": "2022-11-27T15:30:54.880Z"
   },
   {
    "duration": 0,
    "start_time": "2022-11-27T15:30:54.881Z"
   },
   {
    "duration": 1005,
    "start_time": "2022-11-28T07:15:19.489Z"
   },
   {
    "duration": 29,
    "start_time": "2022-11-28T07:15:20.496Z"
   },
   {
    "duration": 16,
    "start_time": "2022-11-28T07:15:20.527Z"
   },
   {
    "duration": 72,
    "start_time": "2022-11-28T07:15:20.545Z"
   },
   {
    "duration": 1938,
    "start_time": "2022-11-28T07:15:20.620Z"
   },
   {
    "duration": 5,
    "start_time": "2022-11-28T07:15:22.560Z"
   },
   {
    "duration": 22,
    "start_time": "2022-11-28T07:15:22.567Z"
   },
   {
    "duration": 28,
    "start_time": "2022-11-28T07:15:22.591Z"
   },
   {
    "duration": 16,
    "start_time": "2022-11-28T07:15:22.621Z"
   },
   {
    "duration": 20,
    "start_time": "2022-11-28T07:15:22.641Z"
   },
   {
    "duration": 41,
    "start_time": "2022-11-28T07:15:22.663Z"
   },
   {
    "duration": 10,
    "start_time": "2022-11-28T07:15:22.706Z"
   },
   {
    "duration": 22,
    "start_time": "2022-11-28T07:15:22.717Z"
   },
   {
    "duration": 352,
    "start_time": "2022-11-28T07:15:22.741Z"
   },
   {
    "duration": 12,
    "start_time": "2022-11-28T07:15:23.095Z"
   },
   {
    "duration": 49,
    "start_time": "2022-11-28T07:15:23.109Z"
   },
   {
    "duration": 8,
    "start_time": "2022-11-28T07:15:23.160Z"
   },
   {
    "duration": 32,
    "start_time": "2022-11-28T07:15:23.169Z"
   },
   {
    "duration": 11,
    "start_time": "2022-11-28T07:15:23.204Z"
   },
   {
    "duration": 12,
    "start_time": "2022-11-28T07:15:23.216Z"
   },
   {
    "duration": 39,
    "start_time": "2022-11-28T07:15:23.230Z"
   },
   {
    "duration": 104,
    "start_time": "2022-11-28T07:15:23.270Z"
   },
   {
    "duration": 3,
    "start_time": "2022-11-28T07:15:23.376Z"
   },
   {
    "duration": 22,
    "start_time": "2022-11-28T07:15:23.381Z"
   },
   {
    "duration": 388,
    "start_time": "2022-11-28T07:15:23.404Z"
   },
   {
    "duration": 5,
    "start_time": "2022-11-28T07:15:23.794Z"
   },
   {
    "duration": 4,
    "start_time": "2022-11-28T07:15:23.801Z"
   },
   {
    "duration": 44,
    "start_time": "2022-11-28T07:15:23.808Z"
   },
   {
    "duration": 360,
    "start_time": "2022-11-28T07:15:23.854Z"
   },
   {
    "duration": 301,
    "start_time": "2022-11-28T07:15:24.216Z"
   },
   {
    "duration": 584,
    "start_time": "2022-11-28T07:15:24.519Z"
   },
   {
    "duration": 266,
    "start_time": "2022-11-28T07:15:25.104Z"
   },
   {
    "duration": 689,
    "start_time": "2022-11-28T07:15:25.372Z"
   },
   {
    "duration": 0,
    "start_time": "2022-11-28T07:15:26.062Z"
   },
   {
    "duration": 0,
    "start_time": "2022-11-28T07:15:26.063Z"
   },
   {
    "duration": 0,
    "start_time": "2022-11-28T07:15:26.065Z"
   },
   {
    "duration": 0,
    "start_time": "2022-11-28T07:15:26.066Z"
   },
   {
    "duration": 0,
    "start_time": "2022-11-28T07:15:26.066Z"
   },
   {
    "duration": 0,
    "start_time": "2022-11-28T07:15:26.068Z"
   },
   {
    "duration": 0,
    "start_time": "2022-11-28T07:15:26.069Z"
   },
   {
    "duration": 331,
    "start_time": "2022-11-28T07:17:39.759Z"
   },
   {
    "duration": 27,
    "start_time": "2022-11-28T07:17:46.015Z"
   },
   {
    "duration": 151,
    "start_time": "2022-11-28T07:17:50.822Z"
   },
   {
    "duration": 472,
    "start_time": "2022-11-28T07:17:55.930Z"
   },
   {
    "duration": 184,
    "start_time": "2022-11-28T07:18:03.893Z"
   },
   {
    "duration": 160,
    "start_time": "2022-11-28T07:18:14.947Z"
   },
   {
    "duration": 571,
    "start_time": "2022-11-28T07:18:25.437Z"
   },
   {
    "duration": 888,
    "start_time": "2022-11-28T18:02:14.092Z"
   },
   {
    "duration": 40,
    "start_time": "2022-11-28T18:02:14.982Z"
   },
   {
    "duration": 14,
    "start_time": "2022-11-28T18:02:15.024Z"
   },
   {
    "duration": 79,
    "start_time": "2022-11-28T18:02:15.040Z"
   },
   {
    "duration": 2001,
    "start_time": "2022-11-28T18:02:15.120Z"
   },
   {
    "duration": 4,
    "start_time": "2022-11-28T18:02:17.123Z"
   },
   {
    "duration": 18,
    "start_time": "2022-11-28T18:02:17.129Z"
   },
   {
    "duration": 27,
    "start_time": "2022-11-28T18:02:17.149Z"
   },
   {
    "duration": 15,
    "start_time": "2022-11-28T18:02:17.178Z"
   },
   {
    "duration": 22,
    "start_time": "2022-11-28T18:02:17.195Z"
   },
   {
    "duration": 41,
    "start_time": "2022-11-28T18:02:17.218Z"
   },
   {
    "duration": 10,
    "start_time": "2022-11-28T18:02:17.260Z"
   },
   {
    "duration": 14,
    "start_time": "2022-11-28T18:02:17.272Z"
   },
   {
    "duration": 360,
    "start_time": "2022-11-28T18:02:17.288Z"
   },
   {
    "duration": 16,
    "start_time": "2022-11-28T18:02:17.650Z"
   },
   {
    "duration": 40,
    "start_time": "2022-11-28T18:02:17.667Z"
   },
   {
    "duration": 9,
    "start_time": "2022-11-28T18:02:17.709Z"
   },
   {
    "duration": 25,
    "start_time": "2022-11-28T18:02:17.720Z"
   },
   {
    "duration": 8,
    "start_time": "2022-11-28T18:02:17.747Z"
   },
   {
    "duration": 9,
    "start_time": "2022-11-28T18:02:17.756Z"
   },
   {
    "duration": 34,
    "start_time": "2022-11-28T18:02:17.767Z"
   },
   {
    "duration": 113,
    "start_time": "2022-11-28T18:02:17.803Z"
   },
   {
    "duration": 4,
    "start_time": "2022-11-28T18:02:17.918Z"
   },
   {
    "duration": 22,
    "start_time": "2022-11-28T18:02:17.923Z"
   },
   {
    "duration": 378,
    "start_time": "2022-11-28T18:02:17.946Z"
   },
   {
    "duration": 13,
    "start_time": "2022-11-28T18:02:18.326Z"
   },
   {
    "duration": 20,
    "start_time": "2022-11-28T18:02:18.341Z"
   },
   {
    "duration": 38,
    "start_time": "2022-11-28T18:02:18.364Z"
   },
   {
    "duration": 375,
    "start_time": "2022-11-28T18:02:18.403Z"
   },
   {
    "duration": 313,
    "start_time": "2022-11-28T18:02:18.779Z"
   },
   {
    "duration": 628,
    "start_time": "2022-11-28T18:02:19.094Z"
   },
   {
    "duration": 276,
    "start_time": "2022-11-28T18:02:19.724Z"
   },
   {
    "duration": 671,
    "start_time": "2022-11-28T18:02:20.001Z"
   },
   {
    "duration": 0,
    "start_time": "2022-11-28T18:02:20.674Z"
   },
   {
    "duration": 0,
    "start_time": "2022-11-28T18:02:20.674Z"
   },
   {
    "duration": 0,
    "start_time": "2022-11-28T18:02:20.675Z"
   },
   {
    "duration": 0,
    "start_time": "2022-11-28T18:02:20.677Z"
   },
   {
    "duration": 0,
    "start_time": "2022-11-28T18:02:20.678Z"
   },
   {
    "duration": 0,
    "start_time": "2022-11-28T18:02:20.679Z"
   },
   {
    "duration": 0,
    "start_time": "2022-11-28T18:02:20.680Z"
   },
   {
    "duration": 325,
    "start_time": "2022-11-28T18:03:29.910Z"
   },
   {
    "duration": 23,
    "start_time": "2022-11-28T18:03:32.088Z"
   },
   {
    "duration": 168,
    "start_time": "2022-11-28T18:03:33.186Z"
   },
   {
    "duration": 507,
    "start_time": "2022-11-28T18:03:33.864Z"
   },
   {
    "duration": 212,
    "start_time": "2022-11-28T18:03:34.632Z"
   },
   {
    "duration": 159,
    "start_time": "2022-11-28T18:03:34.883Z"
   },
   {
    "duration": 566,
    "start_time": "2022-11-28T18:03:35.099Z"
   },
   {
    "duration": 1000,
    "start_time": "2022-11-29T10:38:20.597Z"
   },
   {
    "duration": 31,
    "start_time": "2022-11-29T10:38:21.599Z"
   },
   {
    "duration": 20,
    "start_time": "2022-11-29T10:38:21.631Z"
   },
   {
    "duration": 82,
    "start_time": "2022-11-29T10:38:21.654Z"
   },
   {
    "duration": 2050,
    "start_time": "2022-11-29T10:38:21.738Z"
   },
   {
    "duration": 4,
    "start_time": "2022-11-29T10:38:23.790Z"
   },
   {
    "duration": 9,
    "start_time": "2022-11-29T10:38:23.796Z"
   },
   {
    "duration": 29,
    "start_time": "2022-11-29T10:38:23.807Z"
   },
   {
    "duration": 17,
    "start_time": "2022-11-29T10:38:23.838Z"
   },
   {
    "duration": 11,
    "start_time": "2022-11-29T10:38:23.859Z"
   },
   {
    "duration": 44,
    "start_time": "2022-11-29T10:38:23.872Z"
   },
   {
    "duration": 14,
    "start_time": "2022-11-29T10:38:23.919Z"
   },
   {
    "duration": 18,
    "start_time": "2022-11-29T10:38:23.950Z"
   },
   {
    "duration": 382,
    "start_time": "2022-11-29T10:38:23.969Z"
   },
   {
    "duration": 18,
    "start_time": "2022-11-29T10:38:24.353Z"
   },
   {
    "duration": 37,
    "start_time": "2022-11-29T10:38:24.374Z"
   },
   {
    "duration": 9,
    "start_time": "2022-11-29T10:38:24.413Z"
   },
   {
    "duration": 46,
    "start_time": "2022-11-29T10:38:24.424Z"
   },
   {
    "duration": 15,
    "start_time": "2022-11-29T10:38:24.471Z"
   },
   {
    "duration": 9,
    "start_time": "2022-11-29T10:38:24.488Z"
   },
   {
    "duration": 37,
    "start_time": "2022-11-29T10:38:24.499Z"
   },
   {
    "duration": 102,
    "start_time": "2022-11-29T10:38:24.550Z"
   },
   {
    "duration": 4,
    "start_time": "2022-11-29T10:38:24.654Z"
   },
   {
    "duration": 23,
    "start_time": "2022-11-29T10:38:24.660Z"
   },
   {
    "duration": 396,
    "start_time": "2022-11-29T10:38:24.685Z"
   },
   {
    "duration": 6,
    "start_time": "2022-11-29T10:38:25.083Z"
   },
   {
    "duration": 14,
    "start_time": "2022-11-29T10:38:25.091Z"
   },
   {
    "duration": 30,
    "start_time": "2022-11-29T10:38:25.108Z"
   },
   {
    "duration": 390,
    "start_time": "2022-11-29T10:38:25.140Z"
   },
   {
    "duration": 329,
    "start_time": "2022-11-29T10:38:25.533Z"
   },
   {
    "duration": 644,
    "start_time": "2022-11-29T10:38:25.864Z"
   },
   {
    "duration": 274,
    "start_time": "2022-11-29T10:38:26.509Z"
   },
   {
    "duration": 720,
    "start_time": "2022-11-29T10:38:26.785Z"
   },
   {
    "duration": 1,
    "start_time": "2022-11-29T10:38:27.507Z"
   },
   {
    "duration": 0,
    "start_time": "2022-11-29T10:38:27.510Z"
   },
   {
    "duration": 0,
    "start_time": "2022-11-29T10:38:27.511Z"
   },
   {
    "duration": 0,
    "start_time": "2022-11-29T10:38:27.513Z"
   },
   {
    "duration": 0,
    "start_time": "2022-11-29T10:38:27.514Z"
   },
   {
    "duration": 0,
    "start_time": "2022-11-29T10:38:27.516Z"
   },
   {
    "duration": 0,
    "start_time": "2022-11-29T10:38:27.517Z"
   },
   {
    "duration": 654,
    "start_time": "2022-11-29T10:40:45.940Z"
   },
   {
    "duration": 91,
    "start_time": "2022-11-29T10:41:06.384Z"
   },
   {
    "duration": 29,
    "start_time": "2022-11-29T10:41:06.477Z"
   },
   {
    "duration": 19,
    "start_time": "2022-11-29T10:41:06.507Z"
   },
   {
    "duration": 101,
    "start_time": "2022-11-29T10:41:06.528Z"
   },
   {
    "duration": 2198,
    "start_time": "2022-11-29T10:41:06.631Z"
   },
   {
    "duration": 6,
    "start_time": "2022-11-29T10:41:08.831Z"
   },
   {
    "duration": 8,
    "start_time": "2022-11-29T10:41:08.850Z"
   },
   {
    "duration": 41,
    "start_time": "2022-11-29T10:41:08.860Z"
   },
   {
    "duration": 42,
    "start_time": "2022-11-29T10:41:08.903Z"
   },
   {
    "duration": 19,
    "start_time": "2022-11-29T10:41:08.948Z"
   },
   {
    "duration": 48,
    "start_time": "2022-11-29T10:41:08.968Z"
   },
   {
    "duration": 12,
    "start_time": "2022-11-29T10:41:09.017Z"
   },
   {
    "duration": 22,
    "start_time": "2022-11-29T10:41:09.030Z"
   },
   {
    "duration": 427,
    "start_time": "2022-11-29T10:41:09.055Z"
   },
   {
    "duration": 13,
    "start_time": "2022-11-29T10:41:09.484Z"
   },
   {
    "duration": 35,
    "start_time": "2022-11-29T10:41:09.498Z"
   },
   {
    "duration": 21,
    "start_time": "2022-11-29T10:41:09.535Z"
   },
   {
    "duration": 59,
    "start_time": "2022-11-29T10:41:09.558Z"
   },
   {
    "duration": 22,
    "start_time": "2022-11-29T10:41:09.620Z"
   },
   {
    "duration": 21,
    "start_time": "2022-11-29T10:41:09.644Z"
   },
   {
    "duration": 65,
    "start_time": "2022-11-29T10:41:09.667Z"
   },
   {
    "duration": 118,
    "start_time": "2022-11-29T10:41:09.734Z"
   },
   {
    "duration": 4,
    "start_time": "2022-11-29T10:41:09.853Z"
   },
   {
    "duration": 31,
    "start_time": "2022-11-29T10:41:09.859Z"
   },
   {
    "duration": 335,
    "start_time": "2022-11-29T10:41:09.892Z"
   },
   {
    "duration": 6,
    "start_time": "2022-11-29T10:41:10.229Z"
   },
   {
    "duration": 17,
    "start_time": "2022-11-29T10:41:10.237Z"
   },
   {
    "duration": 46,
    "start_time": "2022-11-29T10:41:10.258Z"
   },
   {
    "duration": 481,
    "start_time": "2022-11-29T10:41:10.306Z"
   },
   {
    "duration": 320,
    "start_time": "2022-11-29T10:41:10.789Z"
   },
   {
    "duration": 609,
    "start_time": "2022-11-29T10:41:11.111Z"
   },
   {
    "duration": 298,
    "start_time": "2022-11-29T10:41:11.721Z"
   },
   {
    "duration": 786,
    "start_time": "2022-11-29T10:41:12.021Z"
   },
   {
    "duration": 342,
    "start_time": "2022-11-29T10:41:12.809Z"
   },
   {
    "duration": 23,
    "start_time": "2022-11-29T10:41:13.153Z"
   },
   {
    "duration": 187,
    "start_time": "2022-11-29T10:41:13.177Z"
   },
   {
    "duration": 510,
    "start_time": "2022-11-29T10:41:13.366Z"
   },
   {
    "duration": 214,
    "start_time": "2022-11-29T10:41:13.879Z"
   },
   {
    "duration": 0,
    "start_time": "2022-11-29T10:41:14.095Z"
   },
   {
    "duration": 0,
    "start_time": "2022-11-29T10:41:14.096Z"
   },
   {
    "duration": 466,
    "start_time": "2022-11-29T10:43:25.390Z"
   },
   {
    "duration": 161,
    "start_time": "2022-11-29T10:43:50.348Z"
   },
   {
    "duration": 428,
    "start_time": "2022-11-29T10:45:19.834Z"
   },
   {
    "duration": 583,
    "start_time": "2022-11-29T10:45:25.684Z"
   },
   {
    "duration": 94,
    "start_time": "2022-11-29T10:48:17.830Z"
   },
   {
    "duration": 34,
    "start_time": "2022-11-29T10:48:17.926Z"
   },
   {
    "duration": 15,
    "start_time": "2022-11-29T10:48:17.962Z"
   },
   {
    "duration": 90,
    "start_time": "2022-11-29T10:48:17.979Z"
   },
   {
    "duration": 2054,
    "start_time": "2022-11-29T10:48:18.071Z"
   },
   {
    "duration": 5,
    "start_time": "2022-11-29T10:48:20.126Z"
   },
   {
    "duration": 20,
    "start_time": "2022-11-29T10:48:20.132Z"
   },
   {
    "duration": 27,
    "start_time": "2022-11-29T10:48:20.156Z"
   },
   {
    "duration": 25,
    "start_time": "2022-11-29T10:48:20.185Z"
   },
   {
    "duration": 11,
    "start_time": "2022-11-29T10:48:20.213Z"
   },
   {
    "duration": 169,
    "start_time": "2022-11-29T10:48:20.226Z"
   },
   {
    "duration": 12,
    "start_time": "2022-11-29T10:48:20.396Z"
   },
   {
    "duration": 11,
    "start_time": "2022-11-29T10:48:20.409Z"
   },
   {
    "duration": 418,
    "start_time": "2022-11-29T10:48:20.421Z"
   },
   {
    "duration": 21,
    "start_time": "2022-11-29T10:48:20.841Z"
   },
   {
    "duration": 32,
    "start_time": "2022-11-29T10:48:20.864Z"
   },
   {
    "duration": 10,
    "start_time": "2022-11-29T10:48:20.898Z"
   },
   {
    "duration": 42,
    "start_time": "2022-11-29T10:48:20.909Z"
   },
   {
    "duration": 10,
    "start_time": "2022-11-29T10:48:20.953Z"
   },
   {
    "duration": 8,
    "start_time": "2022-11-29T10:48:20.965Z"
   },
   {
    "duration": 40,
    "start_time": "2022-11-29T10:48:20.975Z"
   },
   {
    "duration": 123,
    "start_time": "2022-11-29T10:48:21.017Z"
   },
   {
    "duration": 11,
    "start_time": "2022-11-29T10:48:21.142Z"
   },
   {
    "duration": 21,
    "start_time": "2022-11-29T10:48:21.155Z"
   },
   {
    "duration": 315,
    "start_time": "2022-11-29T10:48:21.178Z"
   },
   {
    "duration": 6,
    "start_time": "2022-11-29T10:48:21.494Z"
   },
   {
    "duration": 6,
    "start_time": "2022-11-29T10:48:21.502Z"
   },
   {
    "duration": 23,
    "start_time": "2022-11-29T10:48:21.511Z"
   },
   {
    "duration": 371,
    "start_time": "2022-11-29T10:48:21.535Z"
   },
   {
    "duration": 317,
    "start_time": "2022-11-29T10:48:21.907Z"
   },
   {
    "duration": 610,
    "start_time": "2022-11-29T10:48:22.225Z"
   },
   {
    "duration": 430,
    "start_time": "2022-11-29T10:48:22.837Z"
   },
   {
    "duration": 655,
    "start_time": "2022-11-29T10:48:23.268Z"
   },
   {
    "duration": 355,
    "start_time": "2022-11-29T10:48:23.925Z"
   },
   {
    "duration": 23,
    "start_time": "2022-11-29T10:48:24.281Z"
   },
   {
    "duration": 185,
    "start_time": "2022-11-29T10:48:24.306Z"
   },
   {
    "duration": 503,
    "start_time": "2022-11-29T10:48:24.493Z"
   },
   {
    "duration": 536,
    "start_time": "2022-11-29T10:48:24.998Z"
   },
   {
    "duration": 384,
    "start_time": "2022-11-29T10:48:25.536Z"
   },
   {
    "duration": 523,
    "start_time": "2022-11-29T10:48:25.922Z"
   },
   {
    "duration": 95,
    "start_time": "2022-11-29T10:54:55.387Z"
   },
   {
    "duration": 28,
    "start_time": "2022-11-29T10:54:55.484Z"
   },
   {
    "duration": 18,
    "start_time": "2022-11-29T10:54:55.513Z"
   },
   {
    "duration": 272,
    "start_time": "2022-11-29T10:54:55.533Z"
   },
   {
    "duration": 1956,
    "start_time": "2022-11-29T10:54:55.807Z"
   },
   {
    "duration": 5,
    "start_time": "2022-11-29T10:54:57.764Z"
   },
   {
    "duration": 15,
    "start_time": "2022-11-29T10:54:57.771Z"
   },
   {
    "duration": 38,
    "start_time": "2022-11-29T10:54:57.788Z"
   },
   {
    "duration": 16,
    "start_time": "2022-11-29T10:54:57.828Z"
   },
   {
    "duration": 10,
    "start_time": "2022-11-29T10:54:57.852Z"
   },
   {
    "duration": 40,
    "start_time": "2022-11-29T10:54:57.864Z"
   },
   {
    "duration": 11,
    "start_time": "2022-11-29T10:54:57.905Z"
   },
   {
    "duration": 37,
    "start_time": "2022-11-29T10:54:57.918Z"
   },
   {
    "duration": 520,
    "start_time": "2022-11-29T10:54:57.957Z"
   },
   {
    "duration": 14,
    "start_time": "2022-11-29T10:54:58.479Z"
   },
   {
    "duration": 32,
    "start_time": "2022-11-29T10:54:58.495Z"
   },
   {
    "duration": 30,
    "start_time": "2022-11-29T10:54:58.528Z"
   },
   {
    "duration": 13,
    "start_time": "2022-11-29T10:54:58.559Z"
   },
   {
    "duration": 9,
    "start_time": "2022-11-29T10:54:58.574Z"
   },
   {
    "duration": 10,
    "start_time": "2022-11-29T10:54:58.585Z"
   },
   {
    "duration": 62,
    "start_time": "2022-11-29T10:54:58.596Z"
   },
   {
    "duration": 106,
    "start_time": "2022-11-29T10:54:58.659Z"
   },
   {
    "duration": 5,
    "start_time": "2022-11-29T10:54:58.766Z"
   },
   {
    "duration": 16,
    "start_time": "2022-11-29T10:54:58.772Z"
   },
   {
    "duration": 320,
    "start_time": "2022-11-29T10:54:58.789Z"
   },
   {
    "duration": 5,
    "start_time": "2022-11-29T10:54:59.111Z"
   },
   {
    "duration": 9,
    "start_time": "2022-11-29T10:54:59.118Z"
   },
   {
    "duration": 39,
    "start_time": "2022-11-29T10:54:59.131Z"
   },
   {
    "duration": 363,
    "start_time": "2022-11-29T10:54:59.171Z"
   },
   {
    "duration": 372,
    "start_time": "2022-11-29T10:54:59.536Z"
   },
   {
    "duration": 613,
    "start_time": "2022-11-29T10:54:59.910Z"
   },
   {
    "duration": 317,
    "start_time": "2022-11-29T10:55:00.525Z"
   },
   {
    "duration": 688,
    "start_time": "2022-11-29T10:55:00.844Z"
   },
   {
    "duration": 360,
    "start_time": "2022-11-29T10:55:01.534Z"
   },
   {
    "duration": 22,
    "start_time": "2022-11-29T10:55:01.896Z"
   },
   {
    "duration": 365,
    "start_time": "2022-11-29T10:55:01.920Z"
   },
   {
    "duration": 513,
    "start_time": "2022-11-29T10:55:02.287Z"
   },
   {
    "duration": 519,
    "start_time": "2022-11-29T10:55:02.802Z"
   },
   {
    "duration": 337,
    "start_time": "2022-11-29T10:55:03.322Z"
   },
   {
    "duration": 466,
    "start_time": "2022-11-29T10:55:03.661Z"
   },
   {
    "duration": 1043,
    "start_time": "2022-11-29T14:31:23.105Z"
   },
   {
    "duration": 33,
    "start_time": "2022-11-29T14:31:24.151Z"
   },
   {
    "duration": 16,
    "start_time": "2022-11-29T14:31:24.186Z"
   },
   {
    "duration": 97,
    "start_time": "2022-11-29T14:31:24.205Z"
   },
   {
    "duration": 2206,
    "start_time": "2022-11-29T14:31:24.304Z"
   },
   {
    "duration": 4,
    "start_time": "2022-11-29T14:31:26.512Z"
   },
   {
    "duration": 36,
    "start_time": "2022-11-29T14:31:26.518Z"
   },
   {
    "duration": 45,
    "start_time": "2022-11-29T14:31:26.556Z"
   },
   {
    "duration": 56,
    "start_time": "2022-11-29T14:31:26.603Z"
   },
   {
    "duration": 20,
    "start_time": "2022-11-29T14:31:26.661Z"
   },
   {
    "duration": 89,
    "start_time": "2022-11-29T14:31:26.682Z"
   },
   {
    "duration": 10,
    "start_time": "2022-11-29T14:31:26.772Z"
   },
   {
    "duration": 19,
    "start_time": "2022-11-29T14:31:26.784Z"
   },
   {
    "duration": 405,
    "start_time": "2022-11-29T14:31:26.805Z"
   },
   {
    "duration": 14,
    "start_time": "2022-11-29T14:31:27.212Z"
   },
   {
    "duration": 47,
    "start_time": "2022-11-29T14:31:27.228Z"
   },
   {
    "duration": 9,
    "start_time": "2022-11-29T14:31:27.277Z"
   },
   {
    "duration": 40,
    "start_time": "2022-11-29T14:31:27.287Z"
   },
   {
    "duration": 31,
    "start_time": "2022-11-29T14:31:27.329Z"
   },
   {
    "duration": 34,
    "start_time": "2022-11-29T14:31:27.362Z"
   },
   {
    "duration": 44,
    "start_time": "2022-11-29T14:31:27.399Z"
   },
   {
    "duration": 117,
    "start_time": "2022-11-29T14:31:27.446Z"
   },
   {
    "duration": 5,
    "start_time": "2022-11-29T14:31:27.565Z"
   },
   {
    "duration": 17,
    "start_time": "2022-11-29T14:31:27.571Z"
   },
   {
    "duration": 426,
    "start_time": "2022-11-29T14:31:27.590Z"
   },
   {
    "duration": 6,
    "start_time": "2022-11-29T14:31:28.018Z"
   },
   {
    "duration": 12,
    "start_time": "2022-11-29T14:31:28.025Z"
   },
   {
    "duration": 29,
    "start_time": "2022-11-29T14:31:28.041Z"
   },
   {
    "duration": 398,
    "start_time": "2022-11-29T14:31:28.071Z"
   },
   {
    "duration": 340,
    "start_time": "2022-11-29T14:31:28.471Z"
   },
   {
    "duration": 737,
    "start_time": "2022-11-29T14:31:28.814Z"
   },
   {
    "duration": 303,
    "start_time": "2022-11-29T14:31:29.554Z"
   },
   {
    "duration": 845,
    "start_time": "2022-11-29T14:31:29.859Z"
   },
   {
    "duration": 373,
    "start_time": "2022-11-29T14:31:30.706Z"
   },
   {
    "duration": 20,
    "start_time": "2022-11-29T14:31:31.081Z"
   },
   {
    "duration": 193,
    "start_time": "2022-11-29T14:31:31.103Z"
   },
   {
    "duration": 553,
    "start_time": "2022-11-29T14:31:31.298Z"
   },
   {
    "duration": 624,
    "start_time": "2022-11-29T14:31:31.854Z"
   },
   {
    "duration": 373,
    "start_time": "2022-11-29T14:31:32.479Z"
   },
   {
    "duration": 499,
    "start_time": "2022-11-29T14:31:32.854Z"
   },
   {
    "duration": 776,
    "start_time": "2022-11-29T15:01:53.087Z"
   },
   {
    "duration": 314,
    "start_time": "2022-11-29T15:01:53.865Z"
   },
   {
    "duration": 29,
    "start_time": "2022-11-29T15:01:54.180Z"
   },
   {
    "duration": 14,
    "start_time": "2022-11-29T15:01:54.211Z"
   },
   {
    "duration": 127,
    "start_time": "2022-11-29T15:01:54.227Z"
   },
   {
    "duration": 2121,
    "start_time": "2022-11-29T15:01:54.356Z"
   },
   {
    "duration": 4,
    "start_time": "2022-11-29T15:01:56.479Z"
   },
   {
    "duration": 28,
    "start_time": "2022-11-29T15:01:56.485Z"
   },
   {
    "duration": 32,
    "start_time": "2022-11-29T15:01:56.515Z"
   },
   {
    "duration": 15,
    "start_time": "2022-11-29T15:01:56.549Z"
   },
   {
    "duration": 19,
    "start_time": "2022-11-29T15:01:56.565Z"
   },
   {
    "duration": 50,
    "start_time": "2022-11-29T15:01:56.586Z"
   },
   {
    "duration": 10,
    "start_time": "2022-11-29T15:01:56.638Z"
   },
   {
    "duration": 34,
    "start_time": "2022-11-29T15:01:56.651Z"
   },
   {
    "duration": 367,
    "start_time": "2022-11-29T15:01:56.686Z"
   },
   {
    "duration": 22,
    "start_time": "2022-11-29T15:01:57.055Z"
   },
   {
    "duration": 26,
    "start_time": "2022-11-29T15:01:57.079Z"
   },
   {
    "duration": 8,
    "start_time": "2022-11-29T15:01:57.106Z"
   },
   {
    "duration": 20,
    "start_time": "2022-11-29T15:01:57.116Z"
   },
   {
    "duration": 19,
    "start_time": "2022-11-29T15:01:57.138Z"
   },
   {
    "duration": 19,
    "start_time": "2022-11-29T15:01:57.159Z"
   },
   {
    "duration": 40,
    "start_time": "2022-11-29T15:01:57.179Z"
   },
   {
    "duration": 116,
    "start_time": "2022-11-29T15:01:57.221Z"
   },
   {
    "duration": 4,
    "start_time": "2022-11-29T15:01:57.339Z"
   },
   {
    "duration": 39,
    "start_time": "2022-11-29T15:01:57.345Z"
   },
   {
    "duration": 330,
    "start_time": "2022-11-29T15:01:57.386Z"
   },
   {
    "duration": 6,
    "start_time": "2022-11-29T15:01:57.718Z"
   },
   {
    "duration": 10,
    "start_time": "2022-11-29T15:01:57.726Z"
   },
   {
    "duration": 40,
    "start_time": "2022-11-29T15:01:57.738Z"
   },
   {
    "duration": 420,
    "start_time": "2022-11-29T15:01:57.780Z"
   },
   {
    "duration": 314,
    "start_time": "2022-11-29T15:01:58.203Z"
   },
   {
    "duration": 600,
    "start_time": "2022-11-29T15:01:58.519Z"
   },
   {
    "duration": 283,
    "start_time": "2022-11-29T15:01:59.121Z"
   },
   {
    "duration": 716,
    "start_time": "2022-11-29T15:01:59.407Z"
   },
   {
    "duration": 344,
    "start_time": "2022-11-29T15:02:00.125Z"
   },
   {
    "duration": 23,
    "start_time": "2022-11-29T15:02:00.477Z"
   },
   {
    "duration": 202,
    "start_time": "2022-11-29T15:02:00.502Z"
   },
   {
    "duration": 445,
    "start_time": "2022-11-29T15:02:00.706Z"
   },
   {
    "duration": 573,
    "start_time": "2022-11-29T15:02:01.153Z"
   },
   {
    "duration": 351,
    "start_time": "2022-11-29T15:02:01.727Z"
   },
   {
    "duration": 429,
    "start_time": "2022-11-29T15:02:02.081Z"
   },
   {
    "duration": 88,
    "start_time": "2022-11-29T15:03:16.718Z"
   },
   {
    "duration": 22,
    "start_time": "2022-11-29T15:03:37.552Z"
   },
   {
    "duration": 8,
    "start_time": "2022-11-29T15:15:21.581Z"
   },
   {
    "duration": 20,
    "start_time": "2022-11-29T15:15:55.561Z"
   },
   {
    "duration": 8,
    "start_time": "2022-11-29T15:18:20.512Z"
   },
   {
    "duration": 7,
    "start_time": "2022-11-29T15:18:48.921Z"
   },
   {
    "duration": 10,
    "start_time": "2022-11-29T15:19:04.060Z"
   },
   {
    "duration": 68,
    "start_time": "2022-11-29T15:19:31.323Z"
   },
   {
    "duration": 12,
    "start_time": "2022-11-29T15:19:47.471Z"
   },
   {
    "duration": 18,
    "start_time": "2022-11-29T15:20:24.518Z"
   },
   {
    "duration": 18,
    "start_time": "2022-11-29T15:21:13.208Z"
   },
   {
    "duration": 17,
    "start_time": "2022-11-29T15:21:34.954Z"
   },
   {
    "duration": 13,
    "start_time": "2022-11-29T15:21:55.138Z"
   },
   {
    "duration": 14,
    "start_time": "2022-11-29T15:22:17.776Z"
   },
   {
    "duration": 9,
    "start_time": "2022-11-29T15:22:42.146Z"
   },
   {
    "duration": 9,
    "start_time": "2022-11-29T15:26:01.441Z"
   },
   {
    "duration": 12,
    "start_time": "2022-11-29T15:26:14.322Z"
   },
   {
    "duration": 16,
    "start_time": "2022-11-29T15:26:32.569Z"
   },
   {
    "duration": 15,
    "start_time": "2022-11-29T15:26:39.894Z"
   },
   {
    "duration": 1048,
    "start_time": "2022-11-29T15:27:21.317Z"
   },
   {
    "duration": 14,
    "start_time": "2022-11-29T15:27:51.165Z"
   },
   {
    "duration": 16,
    "start_time": "2022-11-29T15:28:12.673Z"
   },
   {
    "duration": 18,
    "start_time": "2022-11-29T15:28:25.671Z"
   },
   {
    "duration": 852,
    "start_time": "2022-11-29T15:39:02.095Z"
   },
   {
    "duration": 645,
    "start_time": "2022-11-29T15:39:13.735Z"
   },
   {
    "duration": 95,
    "start_time": "2022-11-29T15:39:14.382Z"
   },
   {
    "duration": 31,
    "start_time": "2022-11-29T15:39:14.478Z"
   },
   {
    "duration": 15,
    "start_time": "2022-11-29T15:39:14.512Z"
   },
   {
    "duration": 97,
    "start_time": "2022-11-29T15:39:14.529Z"
   },
   {
    "duration": 2029,
    "start_time": "2022-11-29T15:39:14.628Z"
   },
   {
    "duration": 4,
    "start_time": "2022-11-29T15:39:16.659Z"
   },
   {
    "duration": 25,
    "start_time": "2022-11-29T15:39:16.664Z"
   },
   {
    "duration": 24,
    "start_time": "2022-11-29T15:39:16.691Z"
   },
   {
    "duration": 16,
    "start_time": "2022-11-29T15:39:16.719Z"
   },
   {
    "duration": 18,
    "start_time": "2022-11-29T15:39:16.737Z"
   },
   {
    "duration": 51,
    "start_time": "2022-11-29T15:39:16.757Z"
   },
   {
    "duration": 11,
    "start_time": "2022-11-29T15:39:16.810Z"
   },
   {
    "duration": 10,
    "start_time": "2022-11-29T15:39:16.824Z"
   },
   {
    "duration": 415,
    "start_time": "2022-11-29T15:39:16.836Z"
   },
   {
    "duration": 19,
    "start_time": "2022-11-29T15:39:17.253Z"
   },
   {
    "duration": 27,
    "start_time": "2022-11-29T15:39:17.275Z"
   },
   {
    "duration": 13,
    "start_time": "2022-11-29T15:39:17.303Z"
   },
   {
    "duration": 18,
    "start_time": "2022-11-29T15:39:17.317Z"
   },
   {
    "duration": 21,
    "start_time": "2022-11-29T15:39:17.337Z"
   },
   {
    "duration": 22,
    "start_time": "2022-11-29T15:39:17.360Z"
   },
   {
    "duration": 40,
    "start_time": "2022-11-29T15:39:17.383Z"
   },
   {
    "duration": 117,
    "start_time": "2022-11-29T15:39:17.424Z"
   },
   {
    "duration": 5,
    "start_time": "2022-11-29T15:39:17.542Z"
   },
   {
    "duration": 36,
    "start_time": "2022-11-29T15:39:17.548Z"
   },
   {
    "duration": 320,
    "start_time": "2022-11-29T15:39:17.586Z"
   },
   {
    "duration": 6,
    "start_time": "2022-11-29T15:39:17.908Z"
   },
   {
    "duration": 978,
    "start_time": "2022-11-29T15:39:17.917Z"
   },
   {
    "duration": 0,
    "start_time": "2022-11-29T15:39:18.896Z"
   },
   {
    "duration": 0,
    "start_time": "2022-11-29T15:39:18.897Z"
   },
   {
    "duration": 0,
    "start_time": "2022-11-29T15:39:18.899Z"
   },
   {
    "duration": 0,
    "start_time": "2022-11-29T15:39:18.901Z"
   },
   {
    "duration": 0,
    "start_time": "2022-11-29T15:39:18.902Z"
   },
   {
    "duration": 1,
    "start_time": "2022-11-29T15:39:18.903Z"
   },
   {
    "duration": 0,
    "start_time": "2022-11-29T15:39:18.904Z"
   },
   {
    "duration": 0,
    "start_time": "2022-11-29T15:39:18.905Z"
   },
   {
    "duration": 0,
    "start_time": "2022-11-29T15:39:18.906Z"
   },
   {
    "duration": 0,
    "start_time": "2022-11-29T15:39:18.907Z"
   },
   {
    "duration": 0,
    "start_time": "2022-11-29T15:39:18.908Z"
   },
   {
    "duration": 0,
    "start_time": "2022-11-29T15:39:18.909Z"
   },
   {
    "duration": 0,
    "start_time": "2022-11-29T15:39:18.910Z"
   },
   {
    "duration": 13,
    "start_time": "2022-11-29T15:40:09.366Z"
   },
   {
    "duration": 66,
    "start_time": "2022-11-29T15:40:25.208Z"
   },
   {
    "duration": 4,
    "start_time": "2022-11-29T15:40:34.167Z"
   },
   {
    "duration": 6,
    "start_time": "2022-11-29T15:40:48.446Z"
   },
   {
    "duration": 13,
    "start_time": "2022-11-29T15:42:02.935Z"
   },
   {
    "duration": 11,
    "start_time": "2022-11-29T15:42:16.632Z"
   },
   {
    "duration": 707,
    "start_time": "2022-11-29T15:42:44.346Z"
   },
   {
    "duration": 90,
    "start_time": "2022-11-29T15:42:45.055Z"
   },
   {
    "duration": 27,
    "start_time": "2022-11-29T15:42:45.147Z"
   },
   {
    "duration": 13,
    "start_time": "2022-11-29T15:42:45.177Z"
   },
   {
    "duration": 86,
    "start_time": "2022-11-29T15:42:45.192Z"
   },
   {
    "duration": 1842,
    "start_time": "2022-11-29T15:42:45.279Z"
   },
   {
    "duration": 4,
    "start_time": "2022-11-29T15:42:47.123Z"
   },
   {
    "duration": 10,
    "start_time": "2022-11-29T15:42:47.129Z"
   },
   {
    "duration": 22,
    "start_time": "2022-11-29T15:42:47.141Z"
   },
   {
    "duration": 14,
    "start_time": "2022-11-29T15:42:47.166Z"
   },
   {
    "duration": 17,
    "start_time": "2022-11-29T15:42:47.181Z"
   },
   {
    "duration": 38,
    "start_time": "2022-11-29T15:42:47.199Z"
   },
   {
    "duration": 10,
    "start_time": "2022-11-29T15:42:47.238Z"
   },
   {
    "duration": 29,
    "start_time": "2022-11-29T15:42:47.249Z"
   },
   {
    "duration": 354,
    "start_time": "2022-11-29T15:42:47.280Z"
   },
   {
    "duration": 12,
    "start_time": "2022-11-29T15:42:47.636Z"
   },
   {
    "duration": 37,
    "start_time": "2022-11-29T15:42:47.649Z"
   },
   {
    "duration": 8,
    "start_time": "2022-11-29T15:42:47.687Z"
   },
   {
    "duration": 22,
    "start_time": "2022-11-29T15:42:47.696Z"
   },
   {
    "duration": 24,
    "start_time": "2022-11-29T15:42:47.720Z"
   },
   {
    "duration": 7,
    "start_time": "2022-11-29T15:42:47.746Z"
   },
   {
    "duration": 38,
    "start_time": "2022-11-29T15:42:47.754Z"
   },
   {
    "duration": 99,
    "start_time": "2022-11-29T15:42:47.794Z"
   },
   {
    "duration": 4,
    "start_time": "2022-11-29T15:42:47.894Z"
   },
   {
    "duration": 34,
    "start_time": "2022-11-29T15:42:47.899Z"
   },
   {
    "duration": 296,
    "start_time": "2022-11-29T15:42:47.935Z"
   },
   {
    "duration": 4,
    "start_time": "2022-11-29T15:42:48.233Z"
   },
   {
    "duration": 25,
    "start_time": "2022-11-29T15:42:48.240Z"
   },
   {
    "duration": 25,
    "start_time": "2022-11-29T15:42:48.266Z"
   },
   {
    "duration": 389,
    "start_time": "2022-11-29T15:42:48.292Z"
   },
   {
    "duration": 283,
    "start_time": "2022-11-29T15:42:48.683Z"
   },
   {
    "duration": 551,
    "start_time": "2022-11-29T15:42:48.976Z"
   },
   {
    "duration": 263,
    "start_time": "2022-11-29T15:42:49.529Z"
   },
   {
    "duration": 714,
    "start_time": "2022-11-29T15:42:49.794Z"
   },
   {
    "duration": 304,
    "start_time": "2022-11-29T15:42:50.510Z"
   },
   {
    "duration": 19,
    "start_time": "2022-11-29T15:42:50.816Z"
   },
   {
    "duration": 217,
    "start_time": "2022-11-29T15:42:50.836Z"
   },
   {
    "duration": 445,
    "start_time": "2022-11-29T15:42:51.054Z"
   },
   {
    "duration": 602,
    "start_time": "2022-11-29T15:42:51.501Z"
   },
   {
    "duration": 356,
    "start_time": "2022-11-29T15:42:52.105Z"
   },
   {
    "duration": 425,
    "start_time": "2022-11-29T15:42:52.462Z"
   },
   {
    "duration": 48,
    "start_time": "2022-12-03T10:47:02.013Z"
   },
   {
    "duration": 819,
    "start_time": "2022-12-03T10:47:12.469Z"
   },
   {
    "duration": 157,
    "start_time": "2022-12-03T10:47:13.291Z"
   },
   {
    "duration": 30,
    "start_time": "2022-12-03T10:47:13.450Z"
   },
   {
    "duration": 15,
    "start_time": "2022-12-03T10:47:13.483Z"
   },
   {
    "duration": 92,
    "start_time": "2022-12-03T10:47:13.499Z"
   },
   {
    "duration": 2121,
    "start_time": "2022-12-03T10:47:13.592Z"
   },
   {
    "duration": 5,
    "start_time": "2022-12-03T10:47:15.714Z"
   },
   {
    "duration": 24,
    "start_time": "2022-12-03T10:47:15.721Z"
   },
   {
    "duration": 27,
    "start_time": "2022-12-03T10:47:15.747Z"
   },
   {
    "duration": 17,
    "start_time": "2022-12-03T10:47:15.777Z"
   },
   {
    "duration": 12,
    "start_time": "2022-12-03T10:47:15.796Z"
   },
   {
    "duration": 70,
    "start_time": "2022-12-03T10:47:15.810Z"
   },
   {
    "duration": 11,
    "start_time": "2022-12-03T10:47:15.882Z"
   },
   {
    "duration": 11,
    "start_time": "2022-12-03T10:47:15.895Z"
   },
   {
    "duration": 428,
    "start_time": "2022-12-03T10:47:15.907Z"
   },
   {
    "duration": 23,
    "start_time": "2022-12-03T10:47:16.337Z"
   },
   {
    "duration": 30,
    "start_time": "2022-12-03T10:47:16.363Z"
   },
   {
    "duration": 9,
    "start_time": "2022-12-03T10:47:16.395Z"
   },
   {
    "duration": 14,
    "start_time": "2022-12-03T10:47:16.406Z"
   },
   {
    "duration": 11,
    "start_time": "2022-12-03T10:47:16.451Z"
   },
   {
    "duration": 9,
    "start_time": "2022-12-03T10:47:16.464Z"
   },
   {
    "duration": 40,
    "start_time": "2022-12-03T10:47:16.475Z"
   },
   {
    "duration": 134,
    "start_time": "2022-12-03T10:47:16.517Z"
   },
   {
    "duration": 4,
    "start_time": "2022-12-03T10:47:16.653Z"
   },
   {
    "duration": 18,
    "start_time": "2022-12-03T10:47:16.659Z"
   },
   {
    "duration": 381,
    "start_time": "2022-12-03T10:47:16.679Z"
   },
   {
    "duration": 5,
    "start_time": "2022-12-03T10:47:17.062Z"
   },
   {
    "duration": 9,
    "start_time": "2022-12-03T10:47:17.071Z"
   },
   {
    "duration": 25,
    "start_time": "2022-12-03T10:47:17.082Z"
   },
   {
    "duration": 10,
    "start_time": "2022-12-03T10:47:17.109Z"
   },
   {
    "duration": 489,
    "start_time": "2022-12-03T10:47:17.121Z"
   },
   {
    "duration": 347,
    "start_time": "2022-12-03T10:47:17.613Z"
   },
   {
    "duration": 633,
    "start_time": "2022-12-03T10:47:17.962Z"
   },
   {
    "duration": 297,
    "start_time": "2022-12-03T10:47:18.596Z"
   },
   {
    "duration": 894,
    "start_time": "2022-12-03T10:47:18.894Z"
   },
   {
    "duration": 404,
    "start_time": "2022-12-03T10:47:19.791Z"
   },
   {
    "duration": 24,
    "start_time": "2022-12-03T10:47:20.197Z"
   },
   {
    "duration": 196,
    "start_time": "2022-12-03T10:47:20.223Z"
   },
   {
    "duration": 547,
    "start_time": "2022-12-03T10:47:20.421Z"
   },
   {
    "duration": 633,
    "start_time": "2022-12-03T10:47:20.970Z"
   },
   {
    "duration": 357,
    "start_time": "2022-12-03T10:47:21.605Z"
   },
   {
    "duration": 511,
    "start_time": "2022-12-03T10:47:21.964Z"
   },
   {
    "duration": 118,
    "start_time": "2022-12-03T10:48:03.221Z"
   },
   {
    "duration": 373,
    "start_time": "2022-12-03T10:53:16.673Z"
   },
   {
    "duration": 31,
    "start_time": "2022-12-03T11:09:05.616Z"
   },
   {
    "duration": 359,
    "start_time": "2022-12-03T11:11:03.234Z"
   },
   {
    "duration": 701,
    "start_time": "2022-12-03T11:13:53.460Z"
   },
   {
    "duration": 108,
    "start_time": "2022-12-03T11:13:54.164Z"
   },
   {
    "duration": 33,
    "start_time": "2022-12-03T11:13:54.274Z"
   },
   {
    "duration": 16,
    "start_time": "2022-12-03T11:13:54.309Z"
   },
   {
    "duration": 99,
    "start_time": "2022-12-03T11:13:54.327Z"
   },
   {
    "duration": 2241,
    "start_time": "2022-12-03T11:13:54.427Z"
   },
   {
    "duration": 6,
    "start_time": "2022-12-03T11:13:56.671Z"
   },
   {
    "duration": 19,
    "start_time": "2022-12-03T11:13:56.680Z"
   },
   {
    "duration": 41,
    "start_time": "2022-12-03T11:13:56.701Z"
   },
   {
    "duration": 18,
    "start_time": "2022-12-03T11:13:56.744Z"
   },
   {
    "duration": 12,
    "start_time": "2022-12-03T11:13:56.764Z"
   },
   {
    "duration": 53,
    "start_time": "2022-12-03T11:13:56.778Z"
   },
   {
    "duration": 13,
    "start_time": "2022-12-03T11:13:56.851Z"
   },
   {
    "duration": 14,
    "start_time": "2022-12-03T11:13:56.866Z"
   },
   {
    "duration": 422,
    "start_time": "2022-12-03T11:13:56.883Z"
   },
   {
    "duration": 14,
    "start_time": "2022-12-03T11:13:57.307Z"
   },
   {
    "duration": 55,
    "start_time": "2022-12-03T11:13:57.323Z"
   },
   {
    "duration": 11,
    "start_time": "2022-12-03T11:13:57.379Z"
   },
   {
    "duration": 22,
    "start_time": "2022-12-03T11:13:57.392Z"
   },
   {
    "duration": 12,
    "start_time": "2022-12-03T11:13:57.415Z"
   },
   {
    "duration": 32,
    "start_time": "2022-12-03T11:13:57.429Z"
   },
   {
    "duration": 44,
    "start_time": "2022-12-03T11:13:57.463Z"
   },
   {
    "duration": 117,
    "start_time": "2022-12-03T11:13:57.508Z"
   },
   {
    "duration": 4,
    "start_time": "2022-12-03T11:13:57.627Z"
   },
   {
    "duration": 22,
    "start_time": "2022-12-03T11:13:57.632Z"
   },
   {
    "duration": 336,
    "start_time": "2022-12-03T11:13:57.656Z"
   },
   {
    "duration": 5,
    "start_time": "2022-12-03T11:13:57.994Z"
   },
   {
    "duration": 17,
    "start_time": "2022-12-03T11:13:58.003Z"
   },
   {
    "duration": 34,
    "start_time": "2022-12-03T11:13:58.022Z"
   },
   {
    "duration": 50,
    "start_time": "2022-12-03T11:13:58.058Z"
   },
   {
    "duration": 449,
    "start_time": "2022-12-03T11:13:58.109Z"
   },
   {
    "duration": 366,
    "start_time": "2022-12-03T11:13:58.559Z"
   },
   {
    "duration": 340,
    "start_time": "2022-12-03T11:13:58.927Z"
   },
   {
    "duration": 745,
    "start_time": "2022-12-03T11:13:59.269Z"
   },
   {
    "duration": 425,
    "start_time": "2022-12-03T11:14:00.016Z"
   },
   {
    "duration": 700,
    "start_time": "2022-12-03T11:14:00.443Z"
   },
   {
    "duration": 358,
    "start_time": "2022-12-03T11:14:01.150Z"
   },
   {
    "duration": 25,
    "start_time": "2022-12-03T11:14:01.511Z"
   },
   {
    "duration": 184,
    "start_time": "2022-12-03T11:14:01.551Z"
   },
   {
    "duration": 542,
    "start_time": "2022-12-03T11:14:01.736Z"
   },
   {
    "duration": 655,
    "start_time": "2022-12-03T11:14:02.281Z"
   },
   {
    "duration": 364,
    "start_time": "2022-12-03T11:14:02.938Z"
   },
   {
    "duration": 522,
    "start_time": "2022-12-03T11:14:03.304Z"
   },
   {
    "duration": 72,
    "start_time": "2022-12-03T11:21:07.220Z"
   },
   {
    "duration": 5,
    "start_time": "2022-12-03T11:22:12.463Z"
   },
   {
    "duration": 8,
    "start_time": "2022-12-03T11:23:37.174Z"
   },
   {
    "duration": 9,
    "start_time": "2022-12-03T11:23:53.853Z"
   },
   {
    "duration": 75,
    "start_time": "2022-12-03T11:24:26.681Z"
   },
   {
    "duration": 10,
    "start_time": "2022-12-03T11:29:00.168Z"
   },
   {
    "duration": 99,
    "start_time": "2022-12-03T11:29:28.276Z"
   },
   {
    "duration": 1316,
    "start_time": "2022-12-03T11:32:02.610Z"
   },
   {
    "duration": 108,
    "start_time": "2022-12-03T11:32:03.929Z"
   },
   {
    "duration": 39,
    "start_time": "2022-12-03T11:32:04.038Z"
   },
   {
    "duration": 15,
    "start_time": "2022-12-03T11:32:04.079Z"
   },
   {
    "duration": 105,
    "start_time": "2022-12-03T11:32:04.096Z"
   },
   {
    "duration": 2293,
    "start_time": "2022-12-03T11:32:04.203Z"
   },
   {
    "duration": 5,
    "start_time": "2022-12-03T11:32:06.498Z"
   },
   {
    "duration": 13,
    "start_time": "2022-12-03T11:32:06.505Z"
   },
   {
    "duration": 32,
    "start_time": "2022-12-03T11:32:06.520Z"
   },
   {
    "duration": 25,
    "start_time": "2022-12-03T11:32:06.557Z"
   },
   {
    "duration": 11,
    "start_time": "2022-12-03T11:32:06.584Z"
   },
   {
    "duration": 171,
    "start_time": "2022-12-03T11:32:06.597Z"
   },
   {
    "duration": 14,
    "start_time": "2022-12-03T11:32:06.771Z"
   },
   {
    "duration": 13,
    "start_time": "2022-12-03T11:32:06.787Z"
   },
   {
    "duration": 479,
    "start_time": "2022-12-03T11:32:06.802Z"
   },
   {
    "duration": 21,
    "start_time": "2022-12-03T11:32:07.283Z"
   },
   {
    "duration": 56,
    "start_time": "2022-12-03T11:32:07.307Z"
   },
   {
    "duration": 12,
    "start_time": "2022-12-03T11:32:07.366Z"
   },
   {
    "duration": 18,
    "start_time": "2022-12-03T11:32:07.380Z"
   },
   {
    "duration": 10,
    "start_time": "2022-12-03T11:32:07.400Z"
   },
   {
    "duration": 41,
    "start_time": "2022-12-03T11:32:07.412Z"
   },
   {
    "duration": 53,
    "start_time": "2022-12-03T11:32:07.455Z"
   },
   {
    "duration": 125,
    "start_time": "2022-12-03T11:32:07.510Z"
   },
   {
    "duration": 4,
    "start_time": "2022-12-03T11:32:07.637Z"
   },
   {
    "duration": 18,
    "start_time": "2022-12-03T11:32:07.651Z"
   },
   {
    "duration": 380,
    "start_time": "2022-12-03T11:32:07.671Z"
   },
   {
    "duration": 8,
    "start_time": "2022-12-03T11:32:08.053Z"
   },
   {
    "duration": 20,
    "start_time": "2022-12-03T11:32:08.065Z"
   },
   {
    "duration": 28,
    "start_time": "2022-12-03T11:32:08.086Z"
   },
   {
    "duration": 6,
    "start_time": "2022-12-03T11:32:08.116Z"
   },
   {
    "duration": 32,
    "start_time": "2022-12-03T11:32:08.124Z"
   },
   {
    "duration": 12,
    "start_time": "2022-12-03T11:32:08.158Z"
   },
   {
    "duration": 140,
    "start_time": "2022-12-03T11:32:08.173Z"
   },
   {
    "duration": 438,
    "start_time": "2022-12-03T11:32:08.315Z"
   },
   {
    "duration": 386,
    "start_time": "2022-12-03T11:32:08.756Z"
   },
   {
    "duration": 974,
    "start_time": "2022-12-03T11:32:09.149Z"
   },
   {
    "duration": 334,
    "start_time": "2022-12-03T11:32:10.125Z"
   },
   {
    "duration": 817,
    "start_time": "2022-12-03T11:32:10.462Z"
   },
   {
    "duration": 501,
    "start_time": "2022-12-03T11:32:11.280Z"
   },
   {
    "duration": 22,
    "start_time": "2022-12-03T11:32:11.783Z"
   },
   {
    "duration": 202,
    "start_time": "2022-12-03T11:32:11.806Z"
   },
   {
    "duration": 576,
    "start_time": "2022-12-03T11:32:12.010Z"
   },
   {
    "duration": 556,
    "start_time": "2022-12-03T11:32:12.588Z"
   },
   {
    "duration": 372,
    "start_time": "2022-12-03T11:32:13.150Z"
   },
   {
    "duration": 539,
    "start_time": "2022-12-03T11:32:13.524Z"
   },
   {
    "duration": 324,
    "start_time": "2022-12-03T11:33:32.441Z"
   },
   {
    "duration": 11,
    "start_time": "2022-12-03T11:37:27.766Z"
   },
   {
    "duration": 124,
    "start_time": "2022-12-03T11:38:49.167Z"
   },
   {
    "duration": 9,
    "start_time": "2022-12-03T11:39:10.852Z"
   },
   {
    "duration": 10,
    "start_time": "2022-12-03T11:41:16.411Z"
   },
   {
    "duration": 10,
    "start_time": "2022-12-03T11:41:27.898Z"
   },
   {
    "duration": 101,
    "start_time": "2022-12-03T11:42:22.870Z"
   },
   {
    "duration": 719,
    "start_time": "2022-12-03T11:43:01.636Z"
   },
   {
    "duration": 840,
    "start_time": "2022-12-03T11:43:22.449Z"
   },
   {
    "duration": 179,
    "start_time": "2022-12-03T11:45:59.318Z"
   },
   {
    "duration": 189,
    "start_time": "2022-12-03T11:47:34.837Z"
   },
   {
    "duration": 13,
    "start_time": "2022-12-03T11:48:24.765Z"
   },
   {
    "duration": 11,
    "start_time": "2022-12-03T11:50:02.880Z"
   },
   {
    "duration": 11,
    "start_time": "2022-12-03T11:51:24.486Z"
   },
   {
    "duration": 13,
    "start_time": "2022-12-03T11:51:26.366Z"
   },
   {
    "duration": 174,
    "start_time": "2022-12-03T11:52:01.784Z"
   },
   {
    "duration": 213,
    "start_time": "2022-12-03T11:52:47.433Z"
   },
   {
    "duration": 212,
    "start_time": "2022-12-03T11:55:41.321Z"
   },
   {
    "duration": 1370,
    "start_time": "2022-12-05T11:31:17.182Z"
   },
   {
    "duration": 157,
    "start_time": "2022-12-05T11:31:18.553Z"
   },
   {
    "duration": 33,
    "start_time": "2022-12-05T11:31:18.712Z"
   },
   {
    "duration": 16,
    "start_time": "2022-12-05T11:31:18.748Z"
   },
   {
    "duration": 94,
    "start_time": "2022-12-05T11:31:18.765Z"
   },
   {
    "duration": 2160,
    "start_time": "2022-12-05T11:31:18.861Z"
   },
   {
    "duration": 5,
    "start_time": "2022-12-05T11:31:21.023Z"
   },
   {
    "duration": 14,
    "start_time": "2022-12-05T11:31:21.030Z"
   },
   {
    "duration": 27,
    "start_time": "2022-12-05T11:31:21.045Z"
   },
   {
    "duration": 104,
    "start_time": "2022-12-05T11:31:21.075Z"
   },
   {
    "duration": 13,
    "start_time": "2022-12-05T11:31:21.180Z"
   },
   {
    "duration": 53,
    "start_time": "2022-12-05T11:31:21.194Z"
   },
   {
    "duration": 11,
    "start_time": "2022-12-05T11:31:21.249Z"
   },
   {
    "duration": 14,
    "start_time": "2022-12-05T11:31:21.262Z"
   },
   {
    "duration": 381,
    "start_time": "2022-12-05T11:31:21.278Z"
   },
   {
    "duration": 12,
    "start_time": "2022-12-05T11:31:21.661Z"
   },
   {
    "duration": 39,
    "start_time": "2022-12-05T11:31:21.675Z"
   },
   {
    "duration": 9,
    "start_time": "2022-12-05T11:31:21.716Z"
   },
   {
    "duration": 15,
    "start_time": "2022-12-05T11:31:21.726Z"
   },
   {
    "duration": 9,
    "start_time": "2022-12-05T11:31:21.743Z"
   },
   {
    "duration": 10,
    "start_time": "2022-12-05T11:31:21.754Z"
   },
   {
    "duration": 84,
    "start_time": "2022-12-05T11:31:21.766Z"
   },
   {
    "duration": 110,
    "start_time": "2022-12-05T11:31:21.852Z"
   },
   {
    "duration": 4,
    "start_time": "2022-12-05T11:31:21.965Z"
   },
   {
    "duration": 15,
    "start_time": "2022-12-05T11:31:21.971Z"
   },
   {
    "duration": 344,
    "start_time": "2022-12-05T11:31:21.988Z"
   },
   {
    "duration": 5,
    "start_time": "2022-12-05T11:31:22.334Z"
   },
   {
    "duration": 8,
    "start_time": "2022-12-05T11:31:22.342Z"
   },
   {
    "duration": 29,
    "start_time": "2022-12-05T11:31:22.352Z"
   },
   {
    "duration": 5,
    "start_time": "2022-12-05T11:31:22.383Z"
   },
   {
    "duration": 29,
    "start_time": "2022-12-05T11:31:22.390Z"
   },
   {
    "duration": 9,
    "start_time": "2022-12-05T11:31:22.421Z"
   },
   {
    "duration": 116,
    "start_time": "2022-12-05T11:31:22.432Z"
   },
   {
    "duration": 191,
    "start_time": "2022-12-05T11:31:22.550Z"
   },
   {
    "duration": 13,
    "start_time": "2022-12-05T11:31:22.742Z"
   },
   {
    "duration": 8,
    "start_time": "2022-12-05T11:31:22.756Z"
   },
   {
    "duration": 7,
    "start_time": "2022-12-05T11:31:22.766Z"
   },
   {
    "duration": 9,
    "start_time": "2022-12-05T11:31:22.775Z"
   },
   {
    "duration": 106,
    "start_time": "2022-12-05T11:31:22.813Z"
   },
   {
    "duration": 213,
    "start_time": "2022-12-05T11:31:22.921Z"
   },
   {
    "duration": 10,
    "start_time": "2022-12-05T11:31:23.135Z"
   },
   {
    "duration": 8,
    "start_time": "2022-12-05T11:31:23.147Z"
   },
   {
    "duration": 13,
    "start_time": "2022-12-05T11:31:23.156Z"
   },
   {
    "duration": 8,
    "start_time": "2022-12-05T11:31:23.171Z"
   },
   {
    "duration": 116,
    "start_time": "2022-12-05T11:31:23.181Z"
   },
   {
    "duration": 257,
    "start_time": "2022-12-05T11:31:23.298Z"
   },
   {
    "duration": 157,
    "start_time": "2022-12-05T11:31:23.556Z"
   },
   {
    "duration": 9,
    "start_time": "2022-12-05T11:31:23.715Z"
   },
   {
    "duration": 362,
    "start_time": "2022-12-05T11:31:23.725Z"
   },
   {
    "duration": 315,
    "start_time": "2022-12-05T11:31:24.089Z"
   },
   {
    "duration": 607,
    "start_time": "2022-12-05T11:31:24.406Z"
   },
   {
    "duration": 385,
    "start_time": "2022-12-05T11:31:25.015Z"
   },
   {
    "duration": 658,
    "start_time": "2022-12-05T11:31:25.401Z"
   },
   {
    "duration": 358,
    "start_time": "2022-12-05T11:31:26.060Z"
   },
   {
    "duration": 22,
    "start_time": "2022-12-05T11:31:26.420Z"
   },
   {
    "duration": 173,
    "start_time": "2022-12-05T11:31:26.444Z"
   },
   {
    "duration": 509,
    "start_time": "2022-12-05T11:31:26.620Z"
   },
   {
    "duration": 599,
    "start_time": "2022-12-05T11:31:27.131Z"
   },
   {
    "duration": 332,
    "start_time": "2022-12-05T11:31:27.731Z"
   },
   {
    "duration": 455,
    "start_time": "2022-12-05T11:31:28.065Z"
   },
   {
    "duration": 193,
    "start_time": "2022-12-05T11:56:18.407Z"
   },
   {
    "duration": 177,
    "start_time": "2022-12-05T11:56:56.638Z"
   },
   {
    "duration": 8,
    "start_time": "2022-12-05T12:02:33.445Z"
   },
   {
    "duration": 13,
    "start_time": "2022-12-05T12:02:38.178Z"
   },
   {
    "duration": 188,
    "start_time": "2022-12-05T12:05:28.851Z"
   },
   {
    "duration": 185,
    "start_time": "2022-12-05T12:05:43.031Z"
   },
   {
    "duration": 182,
    "start_time": "2022-12-05T12:06:05.266Z"
   },
   {
    "duration": 4,
    "start_time": "2022-12-05T12:08:43.878Z"
   },
   {
    "duration": 319,
    "start_time": "2022-12-05T12:09:01.829Z"
   },
   {
    "duration": 184,
    "start_time": "2022-12-05T12:09:29.147Z"
   },
   {
    "duration": 93,
    "start_time": "2022-12-05T12:11:02.118Z"
   },
   {
    "duration": 9,
    "start_time": "2022-12-05T12:11:11.774Z"
   },
   {
    "duration": 6,
    "start_time": "2022-12-05T12:11:24.192Z"
   },
   {
    "duration": 10,
    "start_time": "2022-12-05T12:11:42.011Z"
   },
   {
    "duration": 205,
    "start_time": "2022-12-05T12:14:13.411Z"
   },
   {
    "duration": 202,
    "start_time": "2022-12-05T12:14:47.313Z"
   },
   {
    "duration": 193,
    "start_time": "2022-12-05T12:15:30.701Z"
   },
   {
    "duration": 195,
    "start_time": "2022-12-05T12:15:44.429Z"
   },
   {
    "duration": 9,
    "start_time": "2022-12-05T12:19:29.890Z"
   },
   {
    "duration": 12,
    "start_time": "2022-12-05T12:19:58.717Z"
   },
   {
    "duration": 186,
    "start_time": "2022-12-05T12:21:23.168Z"
   },
   {
    "duration": 199,
    "start_time": "2022-12-05T12:25:03.488Z"
   },
   {
    "duration": 156,
    "start_time": "2022-12-05T12:26:01.855Z"
   },
   {
    "duration": 9,
    "start_time": "2022-12-05T12:32:51.910Z"
   },
   {
    "duration": 11,
    "start_time": "2022-12-05T12:32:57.490Z"
   },
   {
    "duration": 71,
    "start_time": "2022-12-05T12:33:11.918Z"
   },
   {
    "duration": 222,
    "start_time": "2022-12-05T12:33:23.608Z"
   },
   {
    "duration": 186,
    "start_time": "2022-12-05T12:36:53.652Z"
   },
   {
    "duration": 316,
    "start_time": "2022-12-05T12:37:09.073Z"
   },
   {
    "duration": 200,
    "start_time": "2022-12-05T12:37:22.993Z"
   },
   {
    "duration": 180,
    "start_time": "2022-12-05T12:37:36.354Z"
   },
   {
    "duration": 188,
    "start_time": "2022-12-05T12:37:49.136Z"
   },
   {
    "duration": 10,
    "start_time": "2022-12-05T12:41:40.438Z"
   },
   {
    "duration": 13,
    "start_time": "2022-12-05T12:42:05.400Z"
   },
   {
    "duration": 145,
    "start_time": "2022-12-05T12:45:38.906Z"
   },
   {
    "duration": 143,
    "start_time": "2022-12-05T12:45:54.378Z"
   },
   {
    "duration": 132,
    "start_time": "2022-12-05T12:50:19.734Z"
   },
   {
    "duration": 119,
    "start_time": "2022-12-05T12:50:31.264Z"
   },
   {
    "duration": 136,
    "start_time": "2022-12-05T12:50:46.094Z"
   },
   {
    "duration": 132,
    "start_time": "2022-12-05T12:52:11.218Z"
   },
   {
    "duration": 149,
    "start_time": "2022-12-05T12:52:36.011Z"
   },
   {
    "duration": 174,
    "start_time": "2022-12-05T12:52:46.967Z"
   },
   {
    "duration": 286,
    "start_time": "2022-12-05T12:53:00.672Z"
   },
   {
    "duration": 149,
    "start_time": "2022-12-05T12:53:15.284Z"
   },
   {
    "duration": 9,
    "start_time": "2022-12-05T13:03:04.567Z"
   },
   {
    "duration": 9,
    "start_time": "2022-12-05T13:03:24.323Z"
   },
   {
    "duration": 130,
    "start_time": "2022-12-05T13:05:23.264Z"
   },
   {
    "duration": 137,
    "start_time": "2022-12-05T13:05:44.162Z"
   },
   {
    "duration": 140,
    "start_time": "2022-12-05T13:08:35.912Z"
   },
   {
    "duration": 140,
    "start_time": "2022-12-05T13:23:18.230Z"
   },
   {
    "duration": 1320,
    "start_time": "2022-12-05T13:25:56.695Z"
   },
   {
    "duration": 9,
    "start_time": "2022-12-05T13:26:07.283Z"
   },
   {
    "duration": 11,
    "start_time": "2022-12-05T13:26:42.799Z"
   },
   {
    "duration": 133,
    "start_time": "2022-12-05T13:29:07.667Z"
   },
   {
    "duration": 152,
    "start_time": "2022-12-05T13:29:17.545Z"
   },
   {
    "duration": 142,
    "start_time": "2022-12-05T13:29:35.757Z"
   },
   {
    "duration": 9,
    "start_time": "2022-12-05T13:36:21.887Z"
   },
   {
    "duration": 1227,
    "start_time": "2022-12-05T13:36:57.344Z"
   },
   {
    "duration": 103,
    "start_time": "2022-12-05T13:36:58.573Z"
   },
   {
    "duration": 36,
    "start_time": "2022-12-05T13:36:58.678Z"
   },
   {
    "duration": 19,
    "start_time": "2022-12-05T13:36:58.717Z"
   },
   {
    "duration": 93,
    "start_time": "2022-12-05T13:36:58.737Z"
   },
   {
    "duration": 2254,
    "start_time": "2022-12-05T13:36:58.831Z"
   },
   {
    "duration": 5,
    "start_time": "2022-12-05T13:37:01.087Z"
   },
   {
    "duration": 16,
    "start_time": "2022-12-05T13:37:01.093Z"
   },
   {
    "duration": 57,
    "start_time": "2022-12-05T13:37:01.111Z"
   },
   {
    "duration": 21,
    "start_time": "2022-12-05T13:37:01.172Z"
   },
   {
    "duration": 13,
    "start_time": "2022-12-05T13:37:01.196Z"
   },
   {
    "duration": 163,
    "start_time": "2022-12-05T13:37:01.211Z"
   },
   {
    "duration": 12,
    "start_time": "2022-12-05T13:37:01.376Z"
   },
   {
    "duration": 59,
    "start_time": "2022-12-05T13:37:01.390Z"
   },
   {
    "duration": 409,
    "start_time": "2022-12-05T13:37:01.451Z"
   },
   {
    "duration": 20,
    "start_time": "2022-12-05T13:37:01.862Z"
   },
   {
    "duration": 49,
    "start_time": "2022-12-05T13:37:01.884Z"
   },
   {
    "duration": 11,
    "start_time": "2022-12-05T13:37:01.935Z"
   },
   {
    "duration": 35,
    "start_time": "2022-12-05T13:37:01.949Z"
   },
   {
    "duration": 33,
    "start_time": "2022-12-05T13:37:01.987Z"
   },
   {
    "duration": 8,
    "start_time": "2022-12-05T13:37:02.024Z"
   },
   {
    "duration": 41,
    "start_time": "2022-12-05T13:37:02.034Z"
   },
   {
    "duration": 108,
    "start_time": "2022-12-05T13:37:02.077Z"
   },
   {
    "duration": 4,
    "start_time": "2022-12-05T13:37:02.187Z"
   },
   {
    "duration": 26,
    "start_time": "2022-12-05T13:37:02.193Z"
   },
   {
    "duration": 345,
    "start_time": "2022-12-05T13:37:02.225Z"
   },
   {
    "duration": 6,
    "start_time": "2022-12-05T13:37:02.572Z"
   },
   {
    "duration": 8,
    "start_time": "2022-12-05T13:37:02.582Z"
   },
   {
    "duration": 44,
    "start_time": "2022-12-05T13:37:02.592Z"
   },
   {
    "duration": 4,
    "start_time": "2022-12-05T13:37:02.638Z"
   },
   {
    "duration": 19,
    "start_time": "2022-12-05T13:37:02.645Z"
   },
   {
    "duration": 9,
    "start_time": "2022-12-05T13:37:02.666Z"
   },
   {
    "duration": 185,
    "start_time": "2022-12-05T13:37:02.678Z"
   },
   {
    "duration": 9,
    "start_time": "2022-12-05T13:37:02.865Z"
   },
   {
    "duration": 9,
    "start_time": "2022-12-05T13:37:02.876Z"
   },
   {
    "duration": 216,
    "start_time": "2022-12-05T13:37:02.887Z"
   },
   {
    "duration": 17,
    "start_time": "2022-12-05T13:37:03.104Z"
   },
   {
    "duration": 16,
    "start_time": "2022-12-05T13:37:03.125Z"
   },
   {
    "duration": 160,
    "start_time": "2022-12-05T13:37:03.143Z"
   },
   {
    "duration": 16,
    "start_time": "2022-12-05T13:37:03.318Z"
   },
   {
    "duration": 16,
    "start_time": "2022-12-05T13:37:03.336Z"
   },
   {
    "duration": 180,
    "start_time": "2022-12-05T13:37:03.354Z"
   },
   {
    "duration": 10,
    "start_time": "2022-12-05T13:37:03.536Z"
   },
   {
    "duration": 13,
    "start_time": "2022-12-05T13:37:03.548Z"
   },
   {
    "duration": 178,
    "start_time": "2022-12-05T13:37:03.562Z"
   },
   {
    "duration": 9,
    "start_time": "2022-12-05T13:37:03.742Z"
   },
   {
    "duration": 9,
    "start_time": "2022-12-05T13:37:03.753Z"
   },
   {
    "duration": 270,
    "start_time": "2022-12-05T13:37:03.764Z"
   },
   {
    "duration": 9,
    "start_time": "2022-12-05T13:37:04.035Z"
   },
   {
    "duration": 9,
    "start_time": "2022-12-05T13:37:04.045Z"
   },
   {
    "duration": 177,
    "start_time": "2022-12-05T13:37:04.056Z"
   },
   {
    "duration": 8,
    "start_time": "2022-12-05T13:37:04.235Z"
   },
   {
    "duration": 12,
    "start_time": "2022-12-05T13:37:04.245Z"
   },
   {
    "duration": 182,
    "start_time": "2022-12-05T13:37:04.259Z"
   },
   {
    "duration": 240,
    "start_time": "2022-12-05T13:37:04.443Z"
   },
   {
    "duration": 168,
    "start_time": "2022-12-05T13:37:04.686Z"
   },
   {
    "duration": 0,
    "start_time": "2022-12-05T13:37:04.856Z"
   },
   {
    "duration": 0,
    "start_time": "2022-12-05T13:37:04.858Z"
   },
   {
    "duration": 0,
    "start_time": "2022-12-05T13:37:04.860Z"
   },
   {
    "duration": 0,
    "start_time": "2022-12-05T13:37:04.861Z"
   },
   {
    "duration": 0,
    "start_time": "2022-12-05T13:37:04.862Z"
   },
   {
    "duration": 0,
    "start_time": "2022-12-05T13:37:04.864Z"
   },
   {
    "duration": 0,
    "start_time": "2022-12-05T13:37:04.868Z"
   },
   {
    "duration": 0,
    "start_time": "2022-12-05T13:37:04.870Z"
   },
   {
    "duration": 0,
    "start_time": "2022-12-05T13:37:04.871Z"
   },
   {
    "duration": 0,
    "start_time": "2022-12-05T13:37:04.873Z"
   },
   {
    "duration": 0,
    "start_time": "2022-12-05T13:37:04.874Z"
   },
   {
    "duration": 0,
    "start_time": "2022-12-05T13:37:04.875Z"
   },
   {
    "duration": 0,
    "start_time": "2022-12-05T13:37:04.876Z"
   },
   {
    "duration": 0,
    "start_time": "2022-12-05T13:37:04.878Z"
   },
   {
    "duration": 0,
    "start_time": "2022-12-05T13:37:04.879Z"
   },
   {
    "duration": 0,
    "start_time": "2022-12-05T13:37:04.915Z"
   },
   {
    "duration": 0,
    "start_time": "2022-12-05T13:37:04.917Z"
   },
   {
    "duration": 0,
    "start_time": "2022-12-05T13:37:04.918Z"
   },
   {
    "duration": 0,
    "start_time": "2022-12-05T13:37:04.919Z"
   },
   {
    "duration": 9,
    "start_time": "2022-12-05T13:39:52.256Z"
   },
   {
    "duration": 14,
    "start_time": "2022-12-05T13:40:09.613Z"
   },
   {
    "duration": 189,
    "start_time": "2022-12-05T13:44:27.556Z"
   },
   {
    "duration": 166,
    "start_time": "2022-12-05T13:44:43.578Z"
   },
   {
    "duration": 176,
    "start_time": "2022-12-05T13:45:02.878Z"
   },
   {
    "duration": 154,
    "start_time": "2022-12-05T13:45:17.821Z"
   },
   {
    "duration": 173,
    "start_time": "2022-12-05T13:45:41.515Z"
   },
   {
    "duration": 11,
    "start_time": "2022-12-05T13:48:04.155Z"
   },
   {
    "duration": 11,
    "start_time": "2022-12-05T13:48:31.329Z"
   },
   {
    "duration": 175,
    "start_time": "2022-12-05T13:55:07.407Z"
   },
   {
    "duration": 170,
    "start_time": "2022-12-05T13:55:18.372Z"
   },
   {
    "duration": 191,
    "start_time": "2022-12-05T13:55:46.552Z"
   },
   {
    "duration": 377,
    "start_time": "2022-12-05T13:56:13.959Z"
   },
   {
    "duration": 27,
    "start_time": "2022-12-05T13:58:33.892Z"
   },
   {
    "duration": 7,
    "start_time": "2022-12-05T13:58:54.946Z"
   },
   {
    "duration": 13,
    "start_time": "2022-12-05T13:59:12.934Z"
   },
   {
    "duration": 1246,
    "start_time": "2022-12-05T14:01:20.703Z"
   },
   {
    "duration": 135,
    "start_time": "2022-12-05T14:01:39.770Z"
   },
   {
    "duration": 138,
    "start_time": "2022-12-05T14:02:14.671Z"
   },
   {
    "duration": 152,
    "start_time": "2022-12-05T14:02:54.626Z"
   },
   {
    "duration": 188,
    "start_time": "2022-12-05T14:04:15.997Z"
   },
   {
    "duration": 144,
    "start_time": "2022-12-05T14:05:39.674Z"
   },
   {
    "duration": 126,
    "start_time": "2022-12-05T14:05:57.232Z"
   },
   {
    "duration": 152,
    "start_time": "2022-12-05T14:06:07.515Z"
   },
   {
    "duration": 216,
    "start_time": "2022-12-05T14:07:01.334Z"
   },
   {
    "duration": 171,
    "start_time": "2022-12-05T14:07:12.698Z"
   },
   {
    "duration": 10,
    "start_time": "2022-12-05T14:10:39.206Z"
   },
   {
    "duration": 14,
    "start_time": "2022-12-05T14:11:05.205Z"
   },
   {
    "duration": 159,
    "start_time": "2022-12-05T14:12:52.640Z"
   },
   {
    "duration": 233,
    "start_time": "2022-12-05T14:13:16.203Z"
   },
   {
    "duration": 289,
    "start_time": "2022-12-05T14:13:32.341Z"
   },
   {
    "duration": 374,
    "start_time": "2022-12-05T14:13:45.104Z"
   },
   {
    "duration": 11,
    "start_time": "2022-12-05T14:15:45.633Z"
   },
   {
    "duration": 10,
    "start_time": "2022-12-05T14:16:01.746Z"
   },
   {
    "duration": 211,
    "start_time": "2022-12-05T14:17:06.301Z"
   },
   {
    "duration": 10,
    "start_time": "2022-12-05T14:20:17.049Z"
   },
   {
    "duration": 11,
    "start_time": "2022-12-05T14:20:34.887Z"
   },
   {
    "duration": 132,
    "start_time": "2022-12-05T14:22:46.736Z"
   },
   {
    "duration": 242,
    "start_time": "2022-12-05T14:26:14.842Z"
   },
   {
    "duration": 167,
    "start_time": "2022-12-05T14:26:28.334Z"
   },
   {
    "duration": 10,
    "start_time": "2022-12-05T14:27:12.082Z"
   },
   {
    "duration": 13,
    "start_time": "2022-12-05T14:27:41.884Z"
   },
   {
    "duration": 204,
    "start_time": "2022-12-05T14:28:44.080Z"
   },
   {
    "duration": 190,
    "start_time": "2022-12-05T14:28:57.081Z"
   },
   {
    "duration": 185,
    "start_time": "2022-12-05T14:29:13.091Z"
   },
   {
    "duration": 1208,
    "start_time": "2022-12-05T14:32:04.408Z"
   },
   {
    "duration": 95,
    "start_time": "2022-12-05T14:32:05.627Z"
   },
   {
    "duration": 29,
    "start_time": "2022-12-05T14:32:05.728Z"
   },
   {
    "duration": 14,
    "start_time": "2022-12-05T14:32:05.759Z"
   },
   {
    "duration": 81,
    "start_time": "2022-12-05T14:32:05.774Z"
   },
   {
    "duration": 1989,
    "start_time": "2022-12-05T14:32:05.856Z"
   },
   {
    "duration": 4,
    "start_time": "2022-12-05T14:32:07.847Z"
   },
   {
    "duration": 10,
    "start_time": "2022-12-05T14:32:07.853Z"
   },
   {
    "duration": 24,
    "start_time": "2022-12-05T14:32:07.865Z"
   },
   {
    "duration": 16,
    "start_time": "2022-12-05T14:32:07.892Z"
   },
   {
    "duration": 28,
    "start_time": "2022-12-05T14:32:07.910Z"
   },
   {
    "duration": 132,
    "start_time": "2022-12-05T14:32:07.940Z"
   },
   {
    "duration": 10,
    "start_time": "2022-12-05T14:32:08.074Z"
   },
   {
    "duration": 12,
    "start_time": "2022-12-05T14:32:08.086Z"
   },
   {
    "duration": 393,
    "start_time": "2022-12-05T14:32:08.100Z"
   },
   {
    "duration": 22,
    "start_time": "2022-12-05T14:32:08.495Z"
   },
   {
    "duration": 31,
    "start_time": "2022-12-05T14:32:08.525Z"
   },
   {
    "duration": 11,
    "start_time": "2022-12-05T14:32:08.557Z"
   },
   {
    "duration": 18,
    "start_time": "2022-12-05T14:32:08.570Z"
   },
   {
    "duration": 30,
    "start_time": "2022-12-05T14:32:08.590Z"
   },
   {
    "duration": 18,
    "start_time": "2022-12-05T14:32:08.621Z"
   },
   {
    "duration": 35,
    "start_time": "2022-12-05T14:32:08.640Z"
   },
   {
    "duration": 107,
    "start_time": "2022-12-05T14:32:08.677Z"
   },
   {
    "duration": 4,
    "start_time": "2022-12-05T14:32:08.785Z"
   },
   {
    "duration": 25,
    "start_time": "2022-12-05T14:32:08.791Z"
   },
   {
    "duration": 334,
    "start_time": "2022-12-05T14:32:08.817Z"
   },
   {
    "duration": 5,
    "start_time": "2022-12-05T14:32:09.153Z"
   },
   {
    "duration": 8,
    "start_time": "2022-12-05T14:32:09.162Z"
   },
   {
    "duration": 26,
    "start_time": "2022-12-05T14:32:09.171Z"
   },
   {
    "duration": 21,
    "start_time": "2022-12-05T14:32:09.198Z"
   },
   {
    "duration": 17,
    "start_time": "2022-12-05T14:32:09.226Z"
   },
   {
    "duration": 9,
    "start_time": "2022-12-05T14:32:09.245Z"
   },
   {
    "duration": 175,
    "start_time": "2022-12-05T14:32:09.256Z"
   },
   {
    "duration": 11,
    "start_time": "2022-12-05T14:32:09.433Z"
   },
   {
    "duration": 9,
    "start_time": "2022-12-05T14:32:09.446Z"
   },
   {
    "duration": 188,
    "start_time": "2022-12-05T14:32:09.457Z"
   },
   {
    "duration": 9,
    "start_time": "2022-12-05T14:32:09.647Z"
   },
   {
    "duration": 14,
    "start_time": "2022-12-05T14:32:09.657Z"
   },
   {
    "duration": 183,
    "start_time": "2022-12-05T14:32:09.673Z"
   },
   {
    "duration": 9,
    "start_time": "2022-12-05T14:32:09.858Z"
   },
   {
    "duration": 9,
    "start_time": "2022-12-05T14:32:09.869Z"
   },
   {
    "duration": 34,
    "start_time": "2022-12-05T14:32:09.880Z"
   },
   {
    "duration": 18,
    "start_time": "2022-12-05T14:32:09.915Z"
   },
   {
    "duration": 160,
    "start_time": "2022-12-05T14:32:09.935Z"
   },
   {
    "duration": 194,
    "start_time": "2022-12-05T14:32:10.097Z"
   },
   {
    "duration": 21,
    "start_time": "2022-12-05T14:32:10.293Z"
   },
   {
    "duration": 36,
    "start_time": "2022-12-05T14:32:10.316Z"
   },
   {
    "duration": 332,
    "start_time": "2022-12-05T14:32:10.355Z"
   },
   {
    "duration": 9,
    "start_time": "2022-12-05T14:32:10.689Z"
   },
   {
    "duration": 28,
    "start_time": "2022-12-05T14:32:10.699Z"
   },
   {
    "duration": 138,
    "start_time": "2022-12-05T14:32:10.730Z"
   },
   {
    "duration": 7,
    "start_time": "2022-12-05T14:32:10.870Z"
   },
   {
    "duration": 8,
    "start_time": "2022-12-05T14:32:10.879Z"
   },
   {
    "duration": 172,
    "start_time": "2022-12-05T14:32:10.889Z"
   },
   {
    "duration": 10,
    "start_time": "2022-12-05T14:32:11.062Z"
   },
   {
    "duration": 143,
    "start_time": "2022-12-05T14:32:11.073Z"
   },
   {
    "duration": 12,
    "start_time": "2022-12-05T14:32:11.220Z"
   },
   {
    "duration": 10,
    "start_time": "2022-12-05T14:32:11.234Z"
   },
   {
    "duration": 153,
    "start_time": "2022-12-05T14:32:11.246Z"
   },
   {
    "duration": 15,
    "start_time": "2022-12-05T14:32:11.401Z"
   },
   {
    "duration": 15,
    "start_time": "2022-12-05T14:32:11.417Z"
   },
   {
    "duration": 148,
    "start_time": "2022-12-05T14:32:11.434Z"
   },
   {
    "duration": 9,
    "start_time": "2022-12-05T14:32:11.584Z"
   },
   {
    "duration": 22,
    "start_time": "2022-12-05T14:32:11.594Z"
   },
   {
    "duration": 183,
    "start_time": "2022-12-05T14:32:11.618Z"
   },
   {
    "duration": 20,
    "start_time": "2022-12-05T14:32:11.802Z"
   },
   {
    "duration": 9,
    "start_time": "2022-12-05T14:32:11.829Z"
   },
   {
    "duration": 170,
    "start_time": "2022-12-05T14:32:11.840Z"
   },
   {
    "duration": 20,
    "start_time": "2022-12-05T14:32:12.011Z"
   },
   {
    "duration": 16,
    "start_time": "2022-12-05T14:32:12.033Z"
   },
   {
    "duration": 167,
    "start_time": "2022-12-05T14:32:12.051Z"
   },
   {
    "duration": 11,
    "start_time": "2022-12-05T14:32:12.219Z"
   },
   {
    "duration": 26,
    "start_time": "2022-12-05T14:32:12.232Z"
   },
   {
    "duration": 146,
    "start_time": "2022-12-05T14:32:12.259Z"
   },
   {
    "duration": 276,
    "start_time": "2022-12-05T14:32:12.407Z"
   },
   {
    "duration": 795,
    "start_time": "2022-12-05T14:32:12.685Z"
   },
   {
    "duration": 355,
    "start_time": "2022-12-05T14:32:13.482Z"
   },
   {
    "duration": 22,
    "start_time": "2022-12-05T14:32:13.839Z"
   },
   {
    "duration": 183,
    "start_time": "2022-12-05T14:32:13.862Z"
   },
   {
    "duration": 521,
    "start_time": "2022-12-05T14:32:14.046Z"
   },
   {
    "duration": 485,
    "start_time": "2022-12-05T14:32:14.569Z"
   },
   {
    "duration": 0,
    "start_time": "2022-12-05T14:32:15.056Z"
   },
   {
    "duration": 0,
    "start_time": "2022-12-05T14:32:15.058Z"
   },
   {
    "duration": 171,
    "start_time": "2022-12-05T14:33:38.706Z"
   },
   {
    "duration": 271,
    "start_time": "2022-12-05T14:33:48.563Z"
   },
   {
    "duration": 682,
    "start_time": "2022-12-05T14:35:06.785Z"
   },
   {
    "duration": 674,
    "start_time": "2022-12-05T14:35:49.609Z"
   },
   {
    "duration": 714,
    "start_time": "2022-12-05T14:36:36.535Z"
   },
   {
    "duration": 815,
    "start_time": "2022-12-05T14:37:13.228Z"
   },
   {
    "duration": 93,
    "start_time": "2022-12-05T14:37:44.383Z"
   },
   {
    "duration": 684,
    "start_time": "2022-12-05T14:37:57.565Z"
   },
   {
    "duration": 702,
    "start_time": "2022-12-05T14:38:35.896Z"
   },
   {
    "duration": 1405,
    "start_time": "2022-12-06T11:34:25.178Z"
   },
   {
    "duration": 155,
    "start_time": "2022-12-06T11:34:26.585Z"
   },
   {
    "duration": 28,
    "start_time": "2022-12-06T11:34:26.741Z"
   },
   {
    "duration": 17,
    "start_time": "2022-12-06T11:34:26.771Z"
   },
   {
    "duration": 77,
    "start_time": "2022-12-06T11:34:26.790Z"
   },
   {
    "duration": 1946,
    "start_time": "2022-12-06T11:34:26.868Z"
   },
   {
    "duration": 4,
    "start_time": "2022-12-06T11:34:28.815Z"
   },
   {
    "duration": 11,
    "start_time": "2022-12-06T11:34:28.821Z"
   },
   {
    "duration": 23,
    "start_time": "2022-12-06T11:34:28.833Z"
   },
   {
    "duration": 14,
    "start_time": "2022-12-06T11:34:28.859Z"
   },
   {
    "duration": 34,
    "start_time": "2022-12-06T11:34:28.875Z"
   },
   {
    "duration": 123,
    "start_time": "2022-12-06T11:34:28.910Z"
   },
   {
    "duration": 11,
    "start_time": "2022-12-06T11:34:29.035Z"
   },
   {
    "duration": 12,
    "start_time": "2022-12-06T11:34:29.047Z"
   },
   {
    "duration": 366,
    "start_time": "2022-12-06T11:34:29.062Z"
   },
   {
    "duration": 13,
    "start_time": "2022-12-06T11:34:29.429Z"
   },
   {
    "duration": 25,
    "start_time": "2022-12-06T11:34:29.444Z"
   },
   {
    "duration": 9,
    "start_time": "2022-12-06T11:34:29.471Z"
   },
   {
    "duration": 11,
    "start_time": "2022-12-06T11:34:29.506Z"
   },
   {
    "duration": 8,
    "start_time": "2022-12-06T11:34:29.519Z"
   },
   {
    "duration": 8,
    "start_time": "2022-12-06T11:34:29.528Z"
   },
   {
    "duration": 35,
    "start_time": "2022-12-06T11:34:29.538Z"
   },
   {
    "duration": 137,
    "start_time": "2022-12-06T11:34:29.574Z"
   },
   {
    "duration": 3,
    "start_time": "2022-12-06T11:34:29.713Z"
   },
   {
    "duration": 14,
    "start_time": "2022-12-06T11:34:29.717Z"
   },
   {
    "duration": 322,
    "start_time": "2022-12-06T11:34:29.732Z"
   },
   {
    "duration": 5,
    "start_time": "2022-12-06T11:34:30.055Z"
   },
   {
    "duration": 15,
    "start_time": "2022-12-06T11:34:30.064Z"
   },
   {
    "duration": 36,
    "start_time": "2022-12-06T11:34:30.081Z"
   },
   {
    "duration": 20,
    "start_time": "2022-12-06T11:34:30.119Z"
   },
   {
    "duration": 23,
    "start_time": "2022-12-06T11:34:30.141Z"
   },
   {
    "duration": 12,
    "start_time": "2022-12-06T11:34:30.166Z"
   },
   {
    "duration": 167,
    "start_time": "2022-12-06T11:34:30.180Z"
   },
   {
    "duration": 8,
    "start_time": "2022-12-06T11:34:30.349Z"
   },
   {
    "duration": 24,
    "start_time": "2022-12-06T11:34:30.358Z"
   },
   {
    "duration": 158,
    "start_time": "2022-12-06T11:34:30.383Z"
   },
   {
    "duration": 7,
    "start_time": "2022-12-06T11:34:30.543Z"
   },
   {
    "duration": 32,
    "start_time": "2022-12-06T11:34:30.552Z"
   },
   {
    "duration": 160,
    "start_time": "2022-12-06T11:34:30.586Z"
   },
   {
    "duration": 10,
    "start_time": "2022-12-06T11:34:30.748Z"
   },
   {
    "duration": 28,
    "start_time": "2022-12-06T11:34:30.760Z"
   },
   {
    "duration": 27,
    "start_time": "2022-12-06T11:34:30.790Z"
   },
   {
    "duration": 23,
    "start_time": "2022-12-06T11:34:30.819Z"
   },
   {
    "duration": 171,
    "start_time": "2022-12-06T11:34:30.843Z"
   },
   {
    "duration": 159,
    "start_time": "2022-12-06T11:34:31.016Z"
   },
   {
    "duration": 7,
    "start_time": "2022-12-06T11:34:31.176Z"
   },
   {
    "duration": 20,
    "start_time": "2022-12-06T11:34:31.185Z"
   },
   {
    "duration": 235,
    "start_time": "2022-12-06T11:34:31.207Z"
   },
   {
    "duration": 11,
    "start_time": "2022-12-06T11:34:31.444Z"
   },
   {
    "duration": 34,
    "start_time": "2022-12-06T11:34:31.457Z"
   },
   {
    "duration": 150,
    "start_time": "2022-12-06T11:34:31.493Z"
   },
   {
    "duration": 9,
    "start_time": "2022-12-06T11:34:31.646Z"
   },
   {
    "duration": 31,
    "start_time": "2022-12-06T11:34:31.657Z"
   },
   {
    "duration": 146,
    "start_time": "2022-12-06T11:34:31.690Z"
   },
   {
    "duration": 9,
    "start_time": "2022-12-06T11:34:31.838Z"
   },
   {
    "duration": 140,
    "start_time": "2022-12-06T11:34:31.850Z"
   },
   {
    "duration": 14,
    "start_time": "2022-12-06T11:34:31.992Z"
   },
   {
    "duration": 10,
    "start_time": "2022-12-06T11:34:32.007Z"
   },
   {
    "duration": 164,
    "start_time": "2022-12-06T11:34:32.019Z"
   },
   {
    "duration": 9,
    "start_time": "2022-12-06T11:34:32.184Z"
   },
   {
    "duration": 16,
    "start_time": "2022-12-06T11:34:32.194Z"
   },
   {
    "duration": 154,
    "start_time": "2022-12-06T11:34:32.212Z"
   },
   {
    "duration": 8,
    "start_time": "2022-12-06T11:34:32.367Z"
   },
   {
    "duration": 29,
    "start_time": "2022-12-06T11:34:32.377Z"
   },
   {
    "duration": 191,
    "start_time": "2022-12-06T11:34:32.408Z"
   },
   {
    "duration": 10,
    "start_time": "2022-12-06T11:34:32.601Z"
   },
   {
    "duration": 9,
    "start_time": "2022-12-06T11:34:32.612Z"
   },
   {
    "duration": 184,
    "start_time": "2022-12-06T11:34:32.622Z"
   },
   {
    "duration": 9,
    "start_time": "2022-12-06T11:34:32.807Z"
   },
   {
    "duration": 9,
    "start_time": "2022-12-06T11:34:32.818Z"
   },
   {
    "duration": 177,
    "start_time": "2022-12-06T11:34:32.829Z"
   },
   {
    "duration": 7,
    "start_time": "2022-12-06T11:34:33.008Z"
   },
   {
    "duration": 7,
    "start_time": "2022-12-06T11:34:33.017Z"
   },
   {
    "duration": 166,
    "start_time": "2022-12-06T11:34:33.026Z"
   },
   {
    "duration": 281,
    "start_time": "2022-12-06T11:34:33.193Z"
   },
   {
    "duration": 819,
    "start_time": "2022-12-06T11:34:33.476Z"
   },
   {
    "duration": 330,
    "start_time": "2022-12-06T11:34:34.304Z"
   },
   {
    "duration": 21,
    "start_time": "2022-12-06T11:34:34.636Z"
   },
   {
    "duration": 182,
    "start_time": "2022-12-06T11:34:34.659Z"
   },
   {
    "duration": 491,
    "start_time": "2022-12-06T11:34:34.843Z"
   },
   {
    "duration": 428,
    "start_time": "2022-12-06T11:34:35.335Z"
   },
   {
    "duration": 0,
    "start_time": "2022-12-06T11:34:35.765Z"
   },
   {
    "duration": 0,
    "start_time": "2022-12-06T11:34:35.767Z"
   },
   {
    "duration": 699,
    "start_time": "2022-12-06T11:37:13.080Z"
   },
   {
    "duration": 141,
    "start_time": "2022-12-06T11:37:59.877Z"
   },
   {
    "duration": 138,
    "start_time": "2022-12-06T11:38:21.913Z"
   },
   {
    "duration": 626,
    "start_time": "2022-12-06T11:38:49.149Z"
   },
   {
    "duration": 336,
    "start_time": "2022-12-06T11:43:30.976Z"
   },
   {
    "duration": 12,
    "start_time": "2022-12-06T11:50:27.713Z"
   },
   {
    "duration": 10,
    "start_time": "2022-12-06T11:51:11.653Z"
   },
   {
    "duration": 12,
    "start_time": "2022-12-06T11:51:27.114Z"
   },
   {
    "duration": 11,
    "start_time": "2022-12-06T11:52:06.717Z"
   },
   {
    "duration": 14,
    "start_time": "2022-12-06T11:52:23.587Z"
   },
   {
    "duration": 12,
    "start_time": "2022-12-06T11:52:55.495Z"
   },
   {
    "duration": 15,
    "start_time": "2022-12-06T11:55:03.928Z"
   },
   {
    "duration": 13,
    "start_time": "2022-12-06T11:55:31.132Z"
   },
   {
    "duration": 12,
    "start_time": "2022-12-06T11:56:18.639Z"
   },
   {
    "duration": 1182,
    "start_time": "2022-12-06T11:58:23.481Z"
   },
   {
    "duration": 626,
    "start_time": "2022-12-06T11:59:16.035Z"
   },
   {
    "duration": 317,
    "start_time": "2022-12-06T15:24:51.842Z"
   },
   {
    "duration": 306,
    "start_time": "2022-12-06T15:25:08.618Z"
   },
   {
    "duration": 624,
    "start_time": "2022-12-06T15:25:41.919Z"
   },
   {
    "duration": 309,
    "start_time": "2022-12-06T15:26:15.760Z"
   },
   {
    "duration": 914,
    "start_time": "2022-12-06T15:26:58.558Z"
   },
   {
    "duration": 1028,
    "start_time": "2022-12-06T15:28:08.916Z"
   },
   {
    "duration": 948,
    "start_time": "2022-12-06T15:29:16.965Z"
   },
   {
    "duration": 535,
    "start_time": "2022-12-06T15:47:45.787Z"
   },
   {
    "duration": 1366,
    "start_time": "2022-12-07T10:13:06.480Z"
   },
   {
    "duration": 324,
    "start_time": "2022-12-07T10:13:07.848Z"
   },
   {
    "duration": 32,
    "start_time": "2022-12-07T10:13:08.173Z"
   },
   {
    "duration": 16,
    "start_time": "2022-12-07T10:13:08.207Z"
   },
   {
    "duration": 91,
    "start_time": "2022-12-07T10:13:08.225Z"
   },
   {
    "duration": 1928,
    "start_time": "2022-12-07T10:13:08.318Z"
   },
   {
    "duration": 5,
    "start_time": "2022-12-07T10:13:10.248Z"
   },
   {
    "duration": 31,
    "start_time": "2022-12-07T10:13:10.255Z"
   },
   {
    "duration": 28,
    "start_time": "2022-12-07T10:13:10.287Z"
   },
   {
    "duration": 104,
    "start_time": "2022-12-07T10:13:10.318Z"
   },
   {
    "duration": 10,
    "start_time": "2022-12-07T10:13:10.424Z"
   },
   {
    "duration": 40,
    "start_time": "2022-12-07T10:13:10.436Z"
   },
   {
    "duration": 27,
    "start_time": "2022-12-07T10:13:10.478Z"
   },
   {
    "duration": 11,
    "start_time": "2022-12-07T10:13:10.506Z"
   },
   {
    "duration": 396,
    "start_time": "2022-12-07T10:13:10.518Z"
   },
   {
    "duration": 15,
    "start_time": "2022-12-07T10:13:10.916Z"
   },
   {
    "duration": 47,
    "start_time": "2022-12-07T10:13:10.934Z"
   },
   {
    "duration": 15,
    "start_time": "2022-12-07T10:13:10.982Z"
   },
   {
    "duration": 32,
    "start_time": "2022-12-07T10:13:10.999Z"
   },
   {
    "duration": 33,
    "start_time": "2022-12-07T10:13:11.032Z"
   },
   {
    "duration": 26,
    "start_time": "2022-12-07T10:13:11.066Z"
   },
   {
    "duration": 57,
    "start_time": "2022-12-07T10:13:11.093Z"
   },
   {
    "duration": 101,
    "start_time": "2022-12-07T10:13:11.152Z"
   },
   {
    "duration": 3,
    "start_time": "2022-12-07T10:13:11.255Z"
   },
   {
    "duration": 29,
    "start_time": "2022-12-07T10:13:11.260Z"
   },
   {
    "duration": 335,
    "start_time": "2022-12-07T10:13:11.291Z"
   },
   {
    "duration": 5,
    "start_time": "2022-12-07T10:13:11.628Z"
   },
   {
    "duration": 6,
    "start_time": "2022-12-07T10:13:11.638Z"
   },
   {
    "duration": 26,
    "start_time": "2022-12-07T10:13:11.646Z"
   },
   {
    "duration": 26,
    "start_time": "2022-12-07T10:13:11.674Z"
   },
   {
    "duration": 9,
    "start_time": "2022-12-07T10:13:11.702Z"
   },
   {
    "duration": 8,
    "start_time": "2022-12-07T10:13:11.713Z"
   },
   {
    "duration": 169,
    "start_time": "2022-12-07T10:13:11.722Z"
   },
   {
    "duration": 8,
    "start_time": "2022-12-07T10:13:11.896Z"
   },
   {
    "duration": 14,
    "start_time": "2022-12-07T10:13:11.906Z"
   },
   {
    "duration": 177,
    "start_time": "2022-12-07T10:13:11.921Z"
   },
   {
    "duration": 8,
    "start_time": "2022-12-07T10:13:12.100Z"
   },
   {
    "duration": 9,
    "start_time": "2022-12-07T10:13:12.110Z"
   },
   {
    "duration": 199,
    "start_time": "2022-12-07T10:13:12.120Z"
   },
   {
    "duration": 9,
    "start_time": "2022-12-07T10:13:12.321Z"
   },
   {
    "duration": 9,
    "start_time": "2022-12-07T10:13:12.332Z"
   },
   {
    "duration": 10,
    "start_time": "2022-12-07T10:13:12.342Z"
   },
   {
    "duration": 45,
    "start_time": "2022-12-07T10:13:12.353Z"
   },
   {
    "duration": 165,
    "start_time": "2022-12-07T10:13:12.400Z"
   },
   {
    "duration": 171,
    "start_time": "2022-12-07T10:13:12.567Z"
   },
   {
    "duration": 8,
    "start_time": "2022-12-07T10:13:12.740Z"
   },
   {
    "duration": 11,
    "start_time": "2022-12-07T10:13:12.750Z"
   },
   {
    "duration": 256,
    "start_time": "2022-12-07T10:13:12.763Z"
   },
   {
    "duration": 9,
    "start_time": "2022-12-07T10:13:13.020Z"
   },
   {
    "duration": 9,
    "start_time": "2022-12-07T10:13:13.030Z"
   },
   {
    "duration": 166,
    "start_time": "2022-12-07T10:13:13.041Z"
   },
   {
    "duration": 9,
    "start_time": "2022-12-07T10:13:13.209Z"
   },
   {
    "duration": 8,
    "start_time": "2022-12-07T10:13:13.220Z"
   },
   {
    "duration": 169,
    "start_time": "2022-12-07T10:13:13.230Z"
   },
   {
    "duration": 8,
    "start_time": "2022-12-07T10:13:13.401Z"
   },
   {
    "duration": 140,
    "start_time": "2022-12-07T10:13:13.411Z"
   },
   {
    "duration": 7,
    "start_time": "2022-12-07T10:13:13.552Z"
   },
   {
    "duration": 8,
    "start_time": "2022-12-07T10:13:13.561Z"
   },
   {
    "duration": 152,
    "start_time": "2022-12-07T10:13:13.571Z"
   },
   {
    "duration": 8,
    "start_time": "2022-12-07T10:13:13.725Z"
   },
   {
    "duration": 9,
    "start_time": "2022-12-07T10:13:13.734Z"
   },
   {
    "duration": 161,
    "start_time": "2022-12-07T10:13:13.744Z"
   },
   {
    "duration": 9,
    "start_time": "2022-12-07T10:13:13.907Z"
   },
   {
    "duration": 11,
    "start_time": "2022-12-07T10:13:13.918Z"
   },
   {
    "duration": 203,
    "start_time": "2022-12-07T10:13:13.931Z"
   },
   {
    "duration": 8,
    "start_time": "2022-12-07T10:13:14.136Z"
   },
   {
    "duration": 20,
    "start_time": "2022-12-07T10:13:14.145Z"
   },
   {
    "duration": 177,
    "start_time": "2022-12-07T10:13:14.167Z"
   },
   {
    "duration": 8,
    "start_time": "2022-12-07T10:13:14.346Z"
   },
   {
    "duration": 14,
    "start_time": "2022-12-07T10:13:14.355Z"
   },
   {
    "duration": 178,
    "start_time": "2022-12-07T10:13:14.371Z"
   },
   {
    "duration": 9,
    "start_time": "2022-12-07T10:13:14.551Z"
   },
   {
    "duration": 24,
    "start_time": "2022-12-07T10:13:14.561Z"
   },
   {
    "duration": 168,
    "start_time": "2022-12-07T10:13:14.587Z"
   },
   {
    "duration": 280,
    "start_time": "2022-12-07T10:13:14.756Z"
   },
   {
    "duration": 1158,
    "start_time": "2022-12-07T10:13:15.038Z"
   },
   {
    "duration": 23,
    "start_time": "2022-12-07T10:13:16.198Z"
   },
   {
    "duration": 577,
    "start_time": "2022-12-07T10:13:16.222Z"
   },
   {
    "duration": 166,
    "start_time": "2022-12-07T10:13:16.800Z"
   },
   {
    "duration": 608,
    "start_time": "2022-12-07T10:13:16.968Z"
   },
   {
    "duration": 465,
    "start_time": "2022-12-07T10:13:17.578Z"
   },
   {
    "duration": 0,
    "start_time": "2022-12-07T10:13:18.045Z"
   },
   {
    "duration": 0,
    "start_time": "2022-12-07T10:13:18.047Z"
   },
   {
    "duration": 154,
    "start_time": "2022-12-07T10:18:10.622Z"
   },
   {
    "duration": 181,
    "start_time": "2022-12-07T10:18:31.454Z"
   },
   {
    "duration": 177,
    "start_time": "2022-12-07T10:18:44.244Z"
   },
   {
    "duration": 150,
    "start_time": "2022-12-07T10:18:54.030Z"
   },
   {
    "duration": 163,
    "start_time": "2022-12-07T10:20:31.734Z"
   },
   {
    "duration": 157,
    "start_time": "2022-12-07T10:20:41.920Z"
   },
   {
    "duration": 181,
    "start_time": "2022-12-07T10:21:43.371Z"
   },
   {
    "duration": 184,
    "start_time": "2022-12-07T10:26:53.523Z"
   },
   {
    "duration": 18,
    "start_time": "2022-12-07T10:28:14.541Z"
   },
   {
    "duration": 568,
    "start_time": "2022-12-07T10:29:24.389Z"
   },
   {
    "duration": 1321,
    "start_time": "2022-12-07T10:56:37.757Z"
   },
   {
    "duration": 108,
    "start_time": "2022-12-07T10:56:39.080Z"
   },
   {
    "duration": 42,
    "start_time": "2022-12-07T10:56:39.190Z"
   },
   {
    "duration": 15,
    "start_time": "2022-12-07T10:56:39.234Z"
   },
   {
    "duration": 109,
    "start_time": "2022-12-07T10:56:39.250Z"
   },
   {
    "duration": 2285,
    "start_time": "2022-12-07T10:56:39.361Z"
   },
   {
    "duration": 4,
    "start_time": "2022-12-07T10:56:41.648Z"
   },
   {
    "duration": 11,
    "start_time": "2022-12-07T10:56:41.653Z"
   },
   {
    "duration": 26,
    "start_time": "2022-12-07T10:56:41.666Z"
   },
   {
    "duration": 23,
    "start_time": "2022-12-07T10:56:41.694Z"
   },
   {
    "duration": 21,
    "start_time": "2022-12-07T10:56:41.720Z"
   },
   {
    "duration": 120,
    "start_time": "2022-12-07T10:56:41.742Z"
   },
   {
    "duration": 11,
    "start_time": "2022-12-07T10:56:41.863Z"
   },
   {
    "duration": 30,
    "start_time": "2022-12-07T10:56:41.876Z"
   },
   {
    "duration": 411,
    "start_time": "2022-12-07T10:56:41.909Z"
   },
   {
    "duration": 15,
    "start_time": "2022-12-07T10:56:42.322Z"
   },
   {
    "duration": 27,
    "start_time": "2022-12-07T10:56:42.339Z"
   },
   {
    "duration": 31,
    "start_time": "2022-12-07T10:56:42.367Z"
   },
   {
    "duration": 19,
    "start_time": "2022-12-07T10:56:42.399Z"
   },
   {
    "duration": 10,
    "start_time": "2022-12-07T10:56:42.420Z"
   },
   {
    "duration": 10,
    "start_time": "2022-12-07T10:56:42.432Z"
   },
   {
    "duration": 69,
    "start_time": "2022-12-07T10:56:42.443Z"
   },
   {
    "duration": 115,
    "start_time": "2022-12-07T10:56:42.515Z"
   },
   {
    "duration": 4,
    "start_time": "2022-12-07T10:56:42.632Z"
   },
   {
    "duration": 16,
    "start_time": "2022-12-07T10:56:42.637Z"
   },
   {
    "duration": 415,
    "start_time": "2022-12-07T10:56:42.655Z"
   },
   {
    "duration": 5,
    "start_time": "2022-12-07T10:56:43.073Z"
   },
   {
    "duration": 39,
    "start_time": "2022-12-07T10:56:43.082Z"
   },
   {
    "duration": 32,
    "start_time": "2022-12-07T10:56:43.123Z"
   },
   {
    "duration": 4,
    "start_time": "2022-12-07T10:56:43.157Z"
   },
   {
    "duration": 11,
    "start_time": "2022-12-07T10:56:43.162Z"
   },
   {
    "duration": 8,
    "start_time": "2022-12-07T10:56:43.175Z"
   },
   {
    "duration": 165,
    "start_time": "2022-12-07T10:56:43.185Z"
   },
   {
    "duration": 9,
    "start_time": "2022-12-07T10:56:43.352Z"
   },
   {
    "duration": 13,
    "start_time": "2022-12-07T10:56:43.362Z"
   },
   {
    "duration": 202,
    "start_time": "2022-12-07T10:56:43.377Z"
   },
   {
    "duration": 17,
    "start_time": "2022-12-07T10:56:43.581Z"
   },
   {
    "duration": 17,
    "start_time": "2022-12-07T10:56:43.600Z"
   },
   {
    "duration": 186,
    "start_time": "2022-12-07T10:56:43.619Z"
   },
   {
    "duration": 12,
    "start_time": "2022-12-07T10:56:43.807Z"
   },
   {
    "duration": 17,
    "start_time": "2022-12-07T10:56:43.821Z"
   },
   {
    "duration": 10,
    "start_time": "2022-12-07T10:56:43.840Z"
   },
   {
    "duration": 10,
    "start_time": "2022-12-07T10:56:43.852Z"
   },
   {
    "duration": 208,
    "start_time": "2022-12-07T10:56:43.863Z"
   },
   {
    "duration": 185,
    "start_time": "2022-12-07T10:56:44.072Z"
   },
   {
    "duration": 9,
    "start_time": "2022-12-07T10:56:44.259Z"
   },
   {
    "duration": 28,
    "start_time": "2022-12-07T10:56:44.270Z"
   },
   {
    "duration": 247,
    "start_time": "2022-12-07T10:56:44.300Z"
   },
   {
    "duration": 8,
    "start_time": "2022-12-07T10:56:44.549Z"
   },
   {
    "duration": 11,
    "start_time": "2022-12-07T10:56:44.559Z"
   },
   {
    "duration": 151,
    "start_time": "2022-12-07T10:56:44.572Z"
   },
   {
    "duration": 11,
    "start_time": "2022-12-07T10:56:44.724Z"
   },
   {
    "duration": 8,
    "start_time": "2022-12-07T10:56:44.737Z"
   },
   {
    "duration": 190,
    "start_time": "2022-12-07T10:56:44.746Z"
   },
   {
    "duration": 9,
    "start_time": "2022-12-07T10:56:44.938Z"
   },
   {
    "duration": 168,
    "start_time": "2022-12-07T10:56:44.948Z"
   },
   {
    "duration": 10,
    "start_time": "2022-12-07T10:56:45.119Z"
   },
   {
    "duration": 14,
    "start_time": "2022-12-07T10:56:45.130Z"
   },
   {
    "duration": 205,
    "start_time": "2022-12-07T10:56:45.145Z"
   },
   {
    "duration": 10,
    "start_time": "2022-12-07T10:56:45.352Z"
   },
   {
    "duration": 12,
    "start_time": "2022-12-07T10:56:45.363Z"
   },
   {
    "duration": 188,
    "start_time": "2022-12-07T10:56:45.377Z"
   },
   {
    "duration": 8,
    "start_time": "2022-12-07T10:56:45.567Z"
   },
   {
    "duration": 21,
    "start_time": "2022-12-07T10:56:45.577Z"
   },
   {
    "duration": 211,
    "start_time": "2022-12-07T10:56:45.601Z"
   },
   {
    "duration": 11,
    "start_time": "2022-12-07T10:56:45.814Z"
   },
   {
    "duration": 11,
    "start_time": "2022-12-07T10:56:45.827Z"
   },
   {
    "duration": 216,
    "start_time": "2022-12-07T10:56:45.840Z"
   },
   {
    "duration": 10,
    "start_time": "2022-12-07T10:56:46.058Z"
   },
   {
    "duration": 55,
    "start_time": "2022-12-07T10:56:46.070Z"
   },
   {
    "duration": 241,
    "start_time": "2022-12-07T10:56:46.127Z"
   },
   {
    "duration": 8,
    "start_time": "2022-12-07T10:56:46.370Z"
   },
   {
    "duration": 18,
    "start_time": "2022-12-07T10:56:46.379Z"
   },
   {
    "duration": 166,
    "start_time": "2022-12-07T10:56:46.400Z"
   },
   {
    "duration": 290,
    "start_time": "2022-12-07T10:56:46.569Z"
   },
   {
    "duration": 311,
    "start_time": "2022-12-07T10:56:46.861Z"
   },
   {
    "duration": 198,
    "start_time": "2022-12-07T10:56:47.174Z"
   },
   {
    "duration": 203,
    "start_time": "2022-12-07T10:56:47.374Z"
   },
   {
    "duration": 181,
    "start_time": "2022-12-07T10:56:47.578Z"
   },
   {
    "duration": 184,
    "start_time": "2022-12-07T10:56:47.760Z"
   },
   {
    "duration": 193,
    "start_time": "2022-12-07T10:56:47.946Z"
   },
   {
    "duration": 481,
    "start_time": "2022-12-07T10:56:48.144Z"
   },
   {
    "duration": 22,
    "start_time": "2022-12-07T10:56:48.628Z"
   },
   {
    "duration": 616,
    "start_time": "2022-12-07T10:56:48.652Z"
   },
   {
    "duration": 314,
    "start_time": "2022-12-07T10:56:49.270Z"
   },
   {
    "duration": 540,
    "start_time": "2022-12-07T10:56:49.586Z"
   },
   {
    "duration": 482,
    "start_time": "2022-12-07T10:56:50.127Z"
   },
   {
    "duration": 0,
    "start_time": "2022-12-07T10:56:50.611Z"
   },
   {
    "duration": 711,
    "start_time": "2022-12-07T11:04:18.816Z"
   },
   {
    "duration": 720,
    "start_time": "2022-12-07T11:06:49.537Z"
   },
   {
    "duration": 142,
    "start_time": "2022-12-07T11:08:20.224Z"
   },
   {
    "duration": 8,
    "start_time": "2022-12-07T11:09:29.786Z"
   },
   {
    "duration": 43,
    "start_time": "2022-12-07T11:10:36.099Z"
   },
   {
    "duration": 48,
    "start_time": "2022-12-07T11:11:00.898Z"
   },
   {
    "duration": 49,
    "start_time": "2022-12-07T11:11:13.850Z"
   },
   {
    "duration": 45,
    "start_time": "2022-12-07T11:11:23.474Z"
   },
   {
    "duration": 10,
    "start_time": "2022-12-07T11:12:08.370Z"
   },
   {
    "duration": 10,
    "start_time": "2022-12-07T11:12:31.906Z"
   },
   {
    "duration": 117,
    "start_time": "2022-12-07T11:12:49.954Z"
   },
   {
    "duration": 46,
    "start_time": "2022-12-07T11:19:21.342Z"
   },
   {
    "duration": 49,
    "start_time": "2022-12-07T11:20:16.168Z"
   },
   {
    "duration": 72,
    "start_time": "2022-12-07T11:20:26.229Z"
   },
   {
    "duration": 17,
    "start_time": "2022-12-07T11:29:18.533Z"
   },
   {
    "duration": 13,
    "start_time": "2022-12-07T11:29:42.784Z"
   },
   {
    "duration": 3,
    "start_time": "2022-12-07T11:32:39.446Z"
   },
   {
    "duration": 18,
    "start_time": "2022-12-07T11:33:23.766Z"
   },
   {
    "duration": 4,
    "start_time": "2022-12-07T11:34:32.218Z"
   },
   {
    "duration": 21,
    "start_time": "2022-12-07T11:34:37.877Z"
   },
   {
    "duration": 21,
    "start_time": "2022-12-07T11:35:29.378Z"
   },
   {
    "duration": 13,
    "start_time": "2022-12-07T11:35:50.169Z"
   },
   {
    "duration": 3,
    "start_time": "2022-12-07T11:42:30.649Z"
   },
   {
    "duration": 225,
    "start_time": "2022-12-07T11:42:33.971Z"
   },
   {
    "duration": 9,
    "start_time": "2022-12-07T11:42:37.359Z"
   },
   {
    "duration": 3,
    "start_time": "2022-12-07T11:46:13.200Z"
   },
   {
    "duration": 16,
    "start_time": "2022-12-07T11:46:19.433Z"
   },
   {
    "duration": 49,
    "start_time": "2022-12-07T11:46:31.015Z"
   },
   {
    "duration": 15,
    "start_time": "2022-12-07T11:48:15.969Z"
   },
   {
    "duration": 13,
    "start_time": "2022-12-07T11:48:37.762Z"
   },
   {
    "duration": 15,
    "start_time": "2022-12-07T11:48:46.135Z"
   },
   {
    "duration": 3,
    "start_time": "2022-12-07T11:48:50.992Z"
   },
   {
    "duration": 328,
    "start_time": "2022-12-07T11:48:54.183Z"
   },
   {
    "duration": 8,
    "start_time": "2022-12-07T11:48:56.919Z"
   },
   {
    "duration": 10,
    "start_time": "2022-12-07T11:50:36.945Z"
   },
   {
    "duration": 11,
    "start_time": "2022-12-07T11:50:48.090Z"
   },
   {
    "duration": 14,
    "start_time": "2022-12-07T11:51:07.916Z"
   },
   {
    "duration": 3,
    "start_time": "2022-12-07T11:51:12.449Z"
   },
   {
    "duration": 310,
    "start_time": "2022-12-07T11:51:19.124Z"
   },
   {
    "duration": 12,
    "start_time": "2022-12-07T11:51:36.859Z"
   },
   {
    "duration": 12,
    "start_time": "2022-12-07T11:52:15.339Z"
   },
   {
    "duration": 3,
    "start_time": "2022-12-07T11:53:03.468Z"
   },
   {
    "duration": 222,
    "start_time": "2022-12-07T11:53:06.804Z"
   },
   {
    "duration": 15,
    "start_time": "2022-12-07T11:53:09.714Z"
   },
   {
    "duration": 16,
    "start_time": "2022-12-07T11:53:34.240Z"
   },
   {
    "duration": 213,
    "start_time": "2022-12-07T11:54:53.623Z"
   },
   {
    "duration": 13,
    "start_time": "2022-12-07T11:56:58.545Z"
   },
   {
    "duration": 10,
    "start_time": "2022-12-07T11:57:12.480Z"
   },
   {
    "duration": 10,
    "start_time": "2022-12-07T11:57:31.490Z"
   },
   {
    "duration": 9,
    "start_time": "2022-12-07T12:00:12.233Z"
   },
   {
    "duration": 182,
    "start_time": "2022-12-07T12:00:54.594Z"
   },
   {
    "duration": 1363,
    "start_time": "2022-12-07T12:01:54.874Z"
   },
   {
    "duration": 95,
    "start_time": "2022-12-07T12:01:56.239Z"
   },
   {
    "duration": 31,
    "start_time": "2022-12-07T12:01:56.336Z"
   },
   {
    "duration": 26,
    "start_time": "2022-12-07T12:01:56.370Z"
   },
   {
    "duration": 79,
    "start_time": "2022-12-07T12:01:56.398Z"
   },
   {
    "duration": 1988,
    "start_time": "2022-12-07T12:01:56.478Z"
   },
   {
    "duration": 5,
    "start_time": "2022-12-07T12:01:58.467Z"
   },
   {
    "duration": 21,
    "start_time": "2022-12-07T12:01:58.473Z"
   },
   {
    "duration": 25,
    "start_time": "2022-12-07T12:01:58.496Z"
   },
   {
    "duration": 109,
    "start_time": "2022-12-07T12:01:58.524Z"
   },
   {
    "duration": 15,
    "start_time": "2022-12-07T12:01:58.635Z"
   },
   {
    "duration": 56,
    "start_time": "2022-12-07T12:01:58.652Z"
   },
   {
    "duration": 11,
    "start_time": "2022-12-07T12:01:58.710Z"
   },
   {
    "duration": 10,
    "start_time": "2022-12-07T12:01:58.723Z"
   },
   {
    "duration": 391,
    "start_time": "2022-12-07T12:01:58.734Z"
   },
   {
    "duration": 12,
    "start_time": "2022-12-07T12:01:59.127Z"
   },
   {
    "duration": 26,
    "start_time": "2022-12-07T12:01:59.141Z"
   },
   {
    "duration": 33,
    "start_time": "2022-12-07T12:01:59.168Z"
   },
   {
    "duration": 12,
    "start_time": "2022-12-07T12:01:59.203Z"
   },
   {
    "duration": 9,
    "start_time": "2022-12-07T12:01:59.216Z"
   },
   {
    "duration": 10,
    "start_time": "2022-12-07T12:01:59.227Z"
   },
   {
    "duration": 59,
    "start_time": "2022-12-07T12:01:59.239Z"
   },
   {
    "duration": 113,
    "start_time": "2022-12-07T12:01:59.300Z"
   },
   {
    "duration": 3,
    "start_time": "2022-12-07T12:01:59.415Z"
   },
   {
    "duration": 15,
    "start_time": "2022-12-07T12:01:59.420Z"
   },
   {
    "duration": 337,
    "start_time": "2022-12-07T12:01:59.437Z"
   },
   {
    "duration": 6,
    "start_time": "2022-12-07T12:01:59.775Z"
   },
   {
    "duration": 15,
    "start_time": "2022-12-07T12:01:59.785Z"
   },
   {
    "duration": 24,
    "start_time": "2022-12-07T12:01:59.802Z"
   },
   {
    "duration": 4,
    "start_time": "2022-12-07T12:01:59.828Z"
   },
   {
    "duration": 10,
    "start_time": "2022-12-07T12:01:59.833Z"
   },
   {
    "duration": 9,
    "start_time": "2022-12-07T12:01:59.844Z"
   },
   {
    "duration": 178,
    "start_time": "2022-12-07T12:01:59.855Z"
   },
   {
    "duration": 8,
    "start_time": "2022-12-07T12:02:00.034Z"
   },
   {
    "duration": 16,
    "start_time": "2022-12-07T12:02:00.044Z"
   },
   {
    "duration": 172,
    "start_time": "2022-12-07T12:02:00.061Z"
   },
   {
    "duration": 8,
    "start_time": "2022-12-07T12:02:00.235Z"
   },
   {
    "duration": 43,
    "start_time": "2022-12-07T12:02:00.245Z"
   },
   {
    "duration": 196,
    "start_time": "2022-12-07T12:02:00.290Z"
   },
   {
    "duration": 15,
    "start_time": "2022-12-07T12:02:00.488Z"
   },
   {
    "duration": 48,
    "start_time": "2022-12-07T12:02:00.505Z"
   },
   {
    "duration": 39,
    "start_time": "2022-12-07T12:02:00.554Z"
   },
   {
    "duration": 28,
    "start_time": "2022-12-07T12:02:00.595Z"
   },
   {
    "duration": 211,
    "start_time": "2022-12-07T12:02:00.625Z"
   },
   {
    "duration": 190,
    "start_time": "2022-12-07T12:02:00.838Z"
   },
   {
    "duration": 6,
    "start_time": "2022-12-07T12:02:01.030Z"
   },
   {
    "duration": 41,
    "start_time": "2022-12-07T12:02:01.038Z"
   },
   {
    "duration": 262,
    "start_time": "2022-12-07T12:02:01.081Z"
   },
   {
    "duration": 9,
    "start_time": "2022-12-07T12:02:01.345Z"
   },
   {
    "duration": 48,
    "start_time": "2022-12-07T12:02:01.356Z"
   },
   {
    "duration": 193,
    "start_time": "2022-12-07T12:02:01.406Z"
   },
   {
    "duration": 9,
    "start_time": "2022-12-07T12:02:01.601Z"
   },
   {
    "duration": 51,
    "start_time": "2022-12-07T12:02:01.612Z"
   },
   {
    "duration": 161,
    "start_time": "2022-12-07T12:02:01.665Z"
   },
   {
    "duration": 10,
    "start_time": "2022-12-07T12:02:01.828Z"
   },
   {
    "duration": 156,
    "start_time": "2022-12-07T12:02:01.840Z"
   },
   {
    "duration": 8,
    "start_time": "2022-12-07T12:02:01.998Z"
   },
   {
    "duration": 14,
    "start_time": "2022-12-07T12:02:02.007Z"
   },
   {
    "duration": 167,
    "start_time": "2022-12-07T12:02:02.023Z"
   },
   {
    "duration": 12,
    "start_time": "2022-12-07T12:02:02.196Z"
   },
   {
    "duration": 12,
    "start_time": "2022-12-07T12:02:02.209Z"
   },
   {
    "duration": 165,
    "start_time": "2022-12-07T12:02:02.222Z"
   },
   {
    "duration": 14,
    "start_time": "2022-12-07T12:02:02.389Z"
   },
   {
    "duration": 20,
    "start_time": "2022-12-07T12:02:02.405Z"
   },
   {
    "duration": 198,
    "start_time": "2022-12-07T12:02:02.426Z"
   },
   {
    "duration": 10,
    "start_time": "2022-12-07T12:02:02.626Z"
   },
   {
    "duration": 13,
    "start_time": "2022-12-07T12:02:02.637Z"
   },
   {
    "duration": 196,
    "start_time": "2022-12-07T12:02:02.652Z"
   },
   {
    "duration": 9,
    "start_time": "2022-12-07T12:02:02.850Z"
   },
   {
    "duration": 10,
    "start_time": "2022-12-07T12:02:02.861Z"
   },
   {
    "duration": 202,
    "start_time": "2022-12-07T12:02:02.872Z"
   },
   {
    "duration": 9,
    "start_time": "2022-12-07T12:02:03.075Z"
   },
   {
    "duration": 12,
    "start_time": "2022-12-07T12:02:03.096Z"
   },
   {
    "duration": 172,
    "start_time": "2022-12-07T12:02:03.110Z"
   },
   {
    "duration": 301,
    "start_time": "2022-12-07T12:02:03.284Z"
   },
   {
    "duration": 282,
    "start_time": "2022-12-07T12:02:03.597Z"
   },
   {
    "duration": 212,
    "start_time": "2022-12-07T12:02:03.881Z"
   },
   {
    "duration": 172,
    "start_time": "2022-12-07T12:02:04.096Z"
   },
   {
    "duration": 165,
    "start_time": "2022-12-07T12:02:04.270Z"
   },
   {
    "duration": 178,
    "start_time": "2022-12-07T12:02:04.436Z"
   },
   {
    "duration": 197,
    "start_time": "2022-12-07T12:02:04.616Z"
   },
   {
    "duration": 496,
    "start_time": "2022-12-07T12:02:04.818Z"
   },
   {
    "duration": 13,
    "start_time": "2022-12-07T12:02:05.316Z"
   },
   {
    "duration": 3,
    "start_time": "2022-12-07T12:02:05.331Z"
   },
   {
    "duration": 247,
    "start_time": "2022-12-07T12:02:05.335Z"
   },
   {
    "duration": 14,
    "start_time": "2022-12-07T12:02:05.583Z"
   },
   {
    "duration": 13,
    "start_time": "2022-12-07T12:02:05.599Z"
   },
   {
    "duration": 203,
    "start_time": "2022-12-07T12:02:05.614Z"
   },
   {
    "duration": 10,
    "start_time": "2022-12-07T12:02:05.819Z"
   },
   {
    "duration": 9,
    "start_time": "2022-12-07T12:02:05.830Z"
   },
   {
    "duration": 248,
    "start_time": "2022-12-07T12:02:05.841Z"
   },
   {
    "duration": 307,
    "start_time": "2022-12-07T12:02:06.091Z"
   },
   {
    "duration": 535,
    "start_time": "2022-12-07T12:02:06.399Z"
   },
   {
    "duration": 472,
    "start_time": "2022-12-07T12:02:06.935Z"
   },
   {
    "duration": 0,
    "start_time": "2022-12-07T12:02:07.409Z"
   },
   {
    "duration": 357,
    "start_time": "2022-12-07T12:03:48.775Z"
   },
   {
    "duration": 357,
    "start_time": "2022-12-07T12:04:28.049Z"
   },
   {
    "duration": 367,
    "start_time": "2022-12-07T12:04:50.749Z"
   },
   {
    "duration": 480,
    "start_time": "2022-12-07T12:05:10.677Z"
   },
   {
    "duration": 395,
    "start_time": "2022-12-07T12:05:36.582Z"
   },
   {
    "duration": 376,
    "start_time": "2022-12-07T12:06:04.156Z"
   },
   {
    "duration": 188,
    "start_time": "2022-12-07T12:08:34.752Z"
   },
   {
    "duration": 62,
    "start_time": "2022-12-07T12:10:33.240Z"
   },
   {
    "duration": 1172,
    "start_time": "2022-12-07T12:10:43.642Z"
   },
   {
    "duration": 94,
    "start_time": "2022-12-07T12:10:44.816Z"
   },
   {
    "duration": 31,
    "start_time": "2022-12-07T12:10:44.911Z"
   },
   {
    "duration": 19,
    "start_time": "2022-12-07T12:10:44.944Z"
   },
   {
    "duration": 99,
    "start_time": "2022-12-07T12:10:44.965Z"
   },
   {
    "duration": 2088,
    "start_time": "2022-12-07T12:10:45.066Z"
   },
   {
    "duration": 5,
    "start_time": "2022-12-07T12:10:47.155Z"
   },
   {
    "duration": 10,
    "start_time": "2022-12-07T12:10:47.161Z"
   },
   {
    "duration": 30,
    "start_time": "2022-12-07T12:10:47.173Z"
   },
   {
    "duration": 14,
    "start_time": "2022-12-07T12:10:47.206Z"
   },
   {
    "duration": 103,
    "start_time": "2022-12-07T12:10:47.221Z"
   },
   {
    "duration": 41,
    "start_time": "2022-12-07T12:10:47.326Z"
   },
   {
    "duration": 11,
    "start_time": "2022-12-07T12:10:47.369Z"
   },
   {
    "duration": 10,
    "start_time": "2022-12-07T12:10:47.397Z"
   },
   {
    "duration": 412,
    "start_time": "2022-12-07T12:10:47.409Z"
   },
   {
    "duration": 17,
    "start_time": "2022-12-07T12:10:47.823Z"
   },
   {
    "duration": 57,
    "start_time": "2022-12-07T12:10:47.841Z"
   },
   {
    "duration": 13,
    "start_time": "2022-12-07T12:10:47.901Z"
   },
   {
    "duration": 17,
    "start_time": "2022-12-07T12:10:47.916Z"
   },
   {
    "duration": 9,
    "start_time": "2022-12-07T12:10:47.934Z"
   },
   {
    "duration": 9,
    "start_time": "2022-12-07T12:10:47.945Z"
   },
   {
    "duration": 75,
    "start_time": "2022-12-07T12:10:47.955Z"
   },
   {
    "duration": 111,
    "start_time": "2022-12-07T12:10:48.031Z"
   },
   {
    "duration": 4,
    "start_time": "2022-12-07T12:10:48.144Z"
   },
   {
    "duration": 16,
    "start_time": "2022-12-07T12:10:48.150Z"
   },
   {
    "duration": 351,
    "start_time": "2022-12-07T12:10:48.168Z"
   },
   {
    "duration": 5,
    "start_time": "2022-12-07T12:10:48.522Z"
   },
   {
    "duration": 8,
    "start_time": "2022-12-07T12:10:48.532Z"
   },
   {
    "duration": 27,
    "start_time": "2022-12-07T12:10:48.541Z"
   },
   {
    "duration": 26,
    "start_time": "2022-12-07T12:10:48.570Z"
   },
   {
    "duration": 11,
    "start_time": "2022-12-07T12:10:48.598Z"
   },
   {
    "duration": 12,
    "start_time": "2022-12-07T12:10:48.611Z"
   },
   {
    "duration": 175,
    "start_time": "2022-12-07T12:10:48.625Z"
   },
   {
    "duration": 8,
    "start_time": "2022-12-07T12:10:48.802Z"
   },
   {
    "duration": 10,
    "start_time": "2022-12-07T12:10:48.811Z"
   },
   {
    "duration": 175,
    "start_time": "2022-12-07T12:10:48.822Z"
   },
   {
    "duration": 8,
    "start_time": "2022-12-07T12:10:48.998Z"
   },
   {
    "duration": 9,
    "start_time": "2022-12-07T12:10:49.008Z"
   },
   {
    "duration": 202,
    "start_time": "2022-12-07T12:10:49.018Z"
   },
   {
    "duration": 10,
    "start_time": "2022-12-07T12:10:49.222Z"
   },
   {
    "duration": 10,
    "start_time": "2022-12-07T12:10:49.233Z"
   },
   {
    "duration": 15,
    "start_time": "2022-12-07T12:10:49.245Z"
   },
   {
    "duration": 35,
    "start_time": "2022-12-07T12:10:49.262Z"
   },
   {
    "duration": 162,
    "start_time": "2022-12-07T12:10:49.299Z"
   },
   {
    "duration": 174,
    "start_time": "2022-12-07T12:10:49.463Z"
   },
   {
    "duration": 8,
    "start_time": "2022-12-07T12:10:49.638Z"
   },
   {
    "duration": 8,
    "start_time": "2022-12-07T12:10:49.648Z"
   },
   {
    "duration": 263,
    "start_time": "2022-12-07T12:10:49.657Z"
   },
   {
    "duration": 9,
    "start_time": "2022-12-07T12:10:49.921Z"
   },
   {
    "duration": 9,
    "start_time": "2022-12-07T12:10:49.932Z"
   },
   {
    "duration": 156,
    "start_time": "2022-12-07T12:10:49.943Z"
   },
   {
    "duration": 9,
    "start_time": "2022-12-07T12:10:50.100Z"
   },
   {
    "duration": 21,
    "start_time": "2022-12-07T12:10:50.111Z"
   },
   {
    "duration": 158,
    "start_time": "2022-12-07T12:10:50.134Z"
   },
   {
    "duration": 9,
    "start_time": "2022-12-07T12:10:50.294Z"
   },
   {
    "duration": 147,
    "start_time": "2022-12-07T12:10:50.305Z"
   },
   {
    "duration": 9,
    "start_time": "2022-12-07T12:10:50.454Z"
   },
   {
    "duration": 8,
    "start_time": "2022-12-07T12:10:50.464Z"
   },
   {
    "duration": 169,
    "start_time": "2022-12-07T12:10:50.474Z"
   },
   {
    "duration": 8,
    "start_time": "2022-12-07T12:10:50.644Z"
   },
   {
    "duration": 9,
    "start_time": "2022-12-07T12:10:50.654Z"
   },
   {
    "duration": 168,
    "start_time": "2022-12-07T12:10:50.665Z"
   },
   {
    "duration": 9,
    "start_time": "2022-12-07T12:10:50.834Z"
   },
   {
    "duration": 9,
    "start_time": "2022-12-07T12:10:50.844Z"
   },
   {
    "duration": 220,
    "start_time": "2022-12-07T12:10:50.854Z"
   },
   {
    "duration": 9,
    "start_time": "2022-12-07T12:10:51.075Z"
   },
   {
    "duration": 10,
    "start_time": "2022-12-07T12:10:51.097Z"
   },
   {
    "duration": 181,
    "start_time": "2022-12-07T12:10:51.109Z"
   },
   {
    "duration": 8,
    "start_time": "2022-12-07T12:10:51.296Z"
   },
   {
    "duration": 11,
    "start_time": "2022-12-07T12:10:51.305Z"
   },
   {
    "duration": 190,
    "start_time": "2022-12-07T12:10:51.318Z"
   },
   {
    "duration": 9,
    "start_time": "2022-12-07T12:10:51.509Z"
   },
   {
    "duration": 9,
    "start_time": "2022-12-07T12:10:51.520Z"
   },
   {
    "duration": 170,
    "start_time": "2022-12-07T12:10:51.531Z"
   },
   {
    "duration": 316,
    "start_time": "2022-12-07T12:10:51.703Z"
   },
   {
    "duration": 288,
    "start_time": "2022-12-07T12:10:52.021Z"
   },
   {
    "duration": 201,
    "start_time": "2022-12-07T12:10:52.310Z"
   },
   {
    "duration": 184,
    "start_time": "2022-12-07T12:10:52.513Z"
   },
   {
    "duration": 163,
    "start_time": "2022-12-07T12:10:52.699Z"
   },
   {
    "duration": 178,
    "start_time": "2022-12-07T12:10:52.864Z"
   },
   {
    "duration": 191,
    "start_time": "2022-12-07T12:10:53.043Z"
   },
   {
    "duration": 470,
    "start_time": "2022-12-07T12:10:53.240Z"
   },
   {
    "duration": 13,
    "start_time": "2022-12-07T12:10:53.712Z"
   },
   {
    "duration": 5,
    "start_time": "2022-12-07T12:10:53.727Z"
   },
   {
    "duration": 267,
    "start_time": "2022-12-07T12:10:53.734Z"
   },
   {
    "duration": 12,
    "start_time": "2022-12-07T12:10:54.003Z"
   },
   {
    "duration": 13,
    "start_time": "2022-12-07T12:10:54.017Z"
   },
   {
    "duration": 210,
    "start_time": "2022-12-07T12:10:54.032Z"
   },
   {
    "duration": 9,
    "start_time": "2022-12-07T12:10:54.243Z"
   },
   {
    "duration": 8,
    "start_time": "2022-12-07T12:10:54.254Z"
   },
   {
    "duration": 200,
    "start_time": "2022-12-07T12:10:54.264Z"
   },
   {
    "duration": 288,
    "start_time": "2022-12-07T12:10:54.466Z"
   },
   {
    "duration": 552,
    "start_time": "2022-12-07T12:10:54.756Z"
   },
   {
    "duration": 76,
    "start_time": "2022-12-07T12:10:55.310Z"
   },
   {
    "duration": 0,
    "start_time": "2022-12-07T12:10:55.388Z"
   },
   {
    "duration": 51,
    "start_time": "2022-12-07T12:11:56.891Z"
   },
   {
    "duration": 477,
    "start_time": "2022-12-07T12:13:20.212Z"
   },
   {
    "duration": 356,
    "start_time": "2022-12-07T12:17:58.125Z"
   },
   {
    "duration": 370,
    "start_time": "2022-12-07T12:18:52.228Z"
   },
   {
    "duration": 397,
    "start_time": "2022-12-07T12:19:43.683Z"
   },
   {
    "duration": 502,
    "start_time": "2022-12-07T12:21:33.721Z"
   },
   {
    "duration": 378,
    "start_time": "2022-12-07T12:21:57.383Z"
   },
   {
    "duration": 1301,
    "start_time": "2022-12-07T12:23:14.275Z"
   },
   {
    "duration": 97,
    "start_time": "2022-12-07T12:23:15.578Z"
   },
   {
    "duration": 42,
    "start_time": "2022-12-07T12:23:15.677Z"
   },
   {
    "duration": 22,
    "start_time": "2022-12-07T12:23:15.722Z"
   },
   {
    "duration": 96,
    "start_time": "2022-12-07T12:23:15.746Z"
   },
   {
    "duration": 2378,
    "start_time": "2022-12-07T12:23:15.844Z"
   },
   {
    "duration": 6,
    "start_time": "2022-12-07T12:23:18.224Z"
   },
   {
    "duration": 14,
    "start_time": "2022-12-07T12:23:18.232Z"
   },
   {
    "duration": 28,
    "start_time": "2022-12-07T12:23:18.249Z"
   },
   {
    "duration": 100,
    "start_time": "2022-12-07T12:23:18.280Z"
   },
   {
    "duration": 20,
    "start_time": "2022-12-07T12:23:18.382Z"
   },
   {
    "duration": 44,
    "start_time": "2022-12-07T12:23:18.403Z"
   },
   {
    "duration": 11,
    "start_time": "2022-12-07T12:23:18.449Z"
   },
   {
    "duration": 37,
    "start_time": "2022-12-07T12:23:18.461Z"
   },
   {
    "duration": 410,
    "start_time": "2022-12-07T12:23:18.499Z"
   },
   {
    "duration": 14,
    "start_time": "2022-12-07T12:23:18.911Z"
   },
   {
    "duration": 31,
    "start_time": "2022-12-07T12:23:18.927Z"
   },
   {
    "duration": 10,
    "start_time": "2022-12-07T12:23:18.960Z"
   },
   {
    "duration": 15,
    "start_time": "2022-12-07T12:23:18.997Z"
   },
   {
    "duration": 10,
    "start_time": "2022-12-07T12:23:19.014Z"
   },
   {
    "duration": 13,
    "start_time": "2022-12-07T12:23:19.026Z"
   },
   {
    "duration": 63,
    "start_time": "2022-12-07T12:23:19.042Z"
   },
   {
    "duration": 135,
    "start_time": "2022-12-07T12:23:19.107Z"
   },
   {
    "duration": 4,
    "start_time": "2022-12-07T12:23:19.244Z"
   },
   {
    "duration": 17,
    "start_time": "2022-12-07T12:23:19.250Z"
   },
   {
    "duration": 343,
    "start_time": "2022-12-07T12:23:19.268Z"
   },
   {
    "duration": 6,
    "start_time": "2022-12-07T12:23:19.613Z"
   },
   {
    "duration": 8,
    "start_time": "2022-12-07T12:23:19.623Z"
   },
   {
    "duration": 31,
    "start_time": "2022-12-07T12:23:19.632Z"
   },
   {
    "duration": 5,
    "start_time": "2022-12-07T12:23:19.664Z"
   },
   {
    "duration": 34,
    "start_time": "2022-12-07T12:23:19.670Z"
   },
   {
    "duration": 11,
    "start_time": "2022-12-07T12:23:19.706Z"
   },
   {
    "duration": 185,
    "start_time": "2022-12-07T12:23:19.719Z"
   },
   {
    "duration": 11,
    "start_time": "2022-12-07T12:23:19.905Z"
   },
   {
    "duration": 11,
    "start_time": "2022-12-07T12:23:19.918Z"
   },
   {
    "duration": 182,
    "start_time": "2022-12-07T12:23:19.931Z"
   },
   {
    "duration": 8,
    "start_time": "2022-12-07T12:23:20.115Z"
   },
   {
    "duration": 9,
    "start_time": "2022-12-07T12:23:20.125Z"
   },
   {
    "duration": 195,
    "start_time": "2022-12-07T12:23:20.136Z"
   },
   {
    "duration": 9,
    "start_time": "2022-12-07T12:23:20.333Z"
   },
   {
    "duration": 9,
    "start_time": "2022-12-07T12:23:20.344Z"
   },
   {
    "duration": 13,
    "start_time": "2022-12-07T12:23:20.355Z"
   },
   {
    "duration": 34,
    "start_time": "2022-12-07T12:23:20.370Z"
   },
   {
    "duration": 175,
    "start_time": "2022-12-07T12:23:20.405Z"
   },
   {
    "duration": 181,
    "start_time": "2022-12-07T12:23:20.581Z"
   },
   {
    "duration": 9,
    "start_time": "2022-12-07T12:23:20.763Z"
   },
   {
    "duration": 24,
    "start_time": "2022-12-07T12:23:20.773Z"
   },
   {
    "duration": 259,
    "start_time": "2022-12-07T12:23:20.800Z"
   },
   {
    "duration": 9,
    "start_time": "2022-12-07T12:23:21.060Z"
   },
   {
    "duration": 27,
    "start_time": "2022-12-07T12:23:21.070Z"
   },
   {
    "duration": 148,
    "start_time": "2022-12-07T12:23:21.099Z"
   },
   {
    "duration": 7,
    "start_time": "2022-12-07T12:23:21.249Z"
   },
   {
    "duration": 9,
    "start_time": "2022-12-07T12:23:21.258Z"
   },
   {
    "duration": 166,
    "start_time": "2022-12-07T12:23:21.269Z"
   },
   {
    "duration": 11,
    "start_time": "2022-12-07T12:23:21.437Z"
   },
   {
    "duration": 146,
    "start_time": "2022-12-07T12:23:21.450Z"
   },
   {
    "duration": 8,
    "start_time": "2022-12-07T12:23:21.597Z"
   },
   {
    "duration": 13,
    "start_time": "2022-12-07T12:23:21.607Z"
   },
   {
    "duration": 165,
    "start_time": "2022-12-07T12:23:21.621Z"
   },
   {
    "duration": 12,
    "start_time": "2022-12-07T12:23:21.787Z"
   },
   {
    "duration": 8,
    "start_time": "2022-12-07T12:23:21.801Z"
   },
   {
    "duration": 176,
    "start_time": "2022-12-07T12:23:21.811Z"
   },
   {
    "duration": 14,
    "start_time": "2022-12-07T12:23:21.989Z"
   },
   {
    "duration": 10,
    "start_time": "2022-12-07T12:23:22.005Z"
   },
   {
    "duration": 211,
    "start_time": "2022-12-07T12:23:22.017Z"
   },
   {
    "duration": 10,
    "start_time": "2022-12-07T12:23:22.230Z"
   },
   {
    "duration": 10,
    "start_time": "2022-12-07T12:23:22.242Z"
   },
   {
    "duration": 198,
    "start_time": "2022-12-07T12:23:22.254Z"
   },
   {
    "duration": 8,
    "start_time": "2022-12-07T12:23:22.454Z"
   },
   {
    "duration": 9,
    "start_time": "2022-12-07T12:23:22.464Z"
   },
   {
    "duration": 192,
    "start_time": "2022-12-07T12:23:22.475Z"
   },
   {
    "duration": 8,
    "start_time": "2022-12-07T12:23:22.669Z"
   },
   {
    "duration": 20,
    "start_time": "2022-12-07T12:23:22.678Z"
   },
   {
    "duration": 159,
    "start_time": "2022-12-07T12:23:22.700Z"
   },
   {
    "duration": 292,
    "start_time": "2022-12-07T12:23:22.861Z"
   },
   {
    "duration": 277,
    "start_time": "2022-12-07T12:23:23.155Z"
   },
   {
    "duration": 208,
    "start_time": "2022-12-07T12:23:23.434Z"
   },
   {
    "duration": 175,
    "start_time": "2022-12-07T12:23:23.643Z"
   },
   {
    "duration": 173,
    "start_time": "2022-12-07T12:23:23.820Z"
   },
   {
    "duration": 175,
    "start_time": "2022-12-07T12:23:23.994Z"
   },
   {
    "duration": 192,
    "start_time": "2022-12-07T12:23:24.171Z"
   },
   {
    "duration": 469,
    "start_time": "2022-12-07T12:23:24.368Z"
   },
   {
    "duration": 13,
    "start_time": "2022-12-07T12:23:24.839Z"
   },
   {
    "duration": 5,
    "start_time": "2022-12-07T12:23:24.853Z"
   },
   {
    "duration": 252,
    "start_time": "2022-12-07T12:23:24.859Z"
   },
   {
    "duration": 12,
    "start_time": "2022-12-07T12:23:25.113Z"
   },
   {
    "duration": 42,
    "start_time": "2022-12-07T12:23:25.127Z"
   },
   {
    "duration": 190,
    "start_time": "2022-12-07T12:23:25.170Z"
   },
   {
    "duration": 10,
    "start_time": "2022-12-07T12:23:25.361Z"
   },
   {
    "duration": 23,
    "start_time": "2022-12-07T12:23:25.373Z"
   },
   {
    "duration": 191,
    "start_time": "2022-12-07T12:23:25.398Z"
   },
   {
    "duration": 293,
    "start_time": "2022-12-07T12:23:25.591Z"
   },
   {
    "duration": 538,
    "start_time": "2022-12-07T12:23:25.886Z"
   },
   {
    "duration": 510,
    "start_time": "2022-12-07T12:23:26.425Z"
   },
   {
    "duration": 0,
    "start_time": "2022-12-07T12:23:26.938Z"
   },
   {
    "duration": 1190,
    "start_time": "2022-12-07T13:59:17.549Z"
   },
   {
    "duration": 90,
    "start_time": "2022-12-07T13:59:18.741Z"
   },
   {
    "duration": 30,
    "start_time": "2022-12-07T13:59:18.833Z"
   },
   {
    "duration": 16,
    "start_time": "2022-12-07T13:59:18.865Z"
   },
   {
    "duration": 81,
    "start_time": "2022-12-07T13:59:18.896Z"
   },
   {
    "duration": 2539,
    "start_time": "2022-12-07T13:59:18.979Z"
   },
   {
    "duration": 5,
    "start_time": "2022-12-07T13:59:21.520Z"
   },
   {
    "duration": 15,
    "start_time": "2022-12-07T13:59:21.527Z"
   },
   {
    "duration": 29,
    "start_time": "2022-12-07T13:59:21.544Z"
   },
   {
    "duration": 29,
    "start_time": "2022-12-07T13:59:21.576Z"
   },
   {
    "duration": 19,
    "start_time": "2022-12-07T13:59:21.607Z"
   },
   {
    "duration": 51,
    "start_time": "2022-12-07T13:59:21.627Z"
   },
   {
    "duration": 22,
    "start_time": "2022-12-07T13:59:21.680Z"
   },
   {
    "duration": 10,
    "start_time": "2022-12-07T13:59:21.704Z"
   },
   {
    "duration": 427,
    "start_time": "2022-12-07T13:59:21.715Z"
   },
   {
    "duration": 18,
    "start_time": "2022-12-07T13:59:22.147Z"
   },
   {
    "duration": 43,
    "start_time": "2022-12-07T13:59:22.167Z"
   },
   {
    "duration": 10,
    "start_time": "2022-12-07T13:59:22.211Z"
   },
   {
    "duration": 14,
    "start_time": "2022-12-07T13:59:22.223Z"
   },
   {
    "duration": 9,
    "start_time": "2022-12-07T13:59:22.238Z"
   },
   {
    "duration": 9,
    "start_time": "2022-12-07T13:59:22.249Z"
   },
   {
    "duration": 59,
    "start_time": "2022-12-07T13:59:22.297Z"
   },
   {
    "duration": 125,
    "start_time": "2022-12-07T13:59:22.359Z"
   },
   {
    "duration": 10,
    "start_time": "2022-12-07T13:59:22.486Z"
   },
   {
    "duration": 13,
    "start_time": "2022-12-07T13:59:22.498Z"
   },
   {
    "duration": 353,
    "start_time": "2022-12-07T13:59:22.513Z"
   },
   {
    "duration": 5,
    "start_time": "2022-12-07T13:59:22.868Z"
   },
   {
    "duration": 19,
    "start_time": "2022-12-07T13:59:22.878Z"
   },
   {
    "duration": 26,
    "start_time": "2022-12-07T13:59:22.899Z"
   },
   {
    "duration": 12,
    "start_time": "2022-12-07T13:59:22.926Z"
   },
   {
    "duration": 12,
    "start_time": "2022-12-07T13:59:22.940Z"
   },
   {
    "duration": 9,
    "start_time": "2022-12-07T13:59:22.953Z"
   },
   {
    "duration": 189,
    "start_time": "2022-12-07T13:59:22.964Z"
   },
   {
    "duration": 9,
    "start_time": "2022-12-07T13:59:23.156Z"
   },
   {
    "duration": 10,
    "start_time": "2022-12-07T13:59:23.166Z"
   },
   {
    "duration": 178,
    "start_time": "2022-12-07T13:59:23.178Z"
   },
   {
    "duration": 10,
    "start_time": "2022-12-07T13:59:23.358Z"
   },
   {
    "duration": 10,
    "start_time": "2022-12-07T13:59:23.369Z"
   },
   {
    "duration": 256,
    "start_time": "2022-12-07T13:59:23.398Z"
   },
   {
    "duration": 9,
    "start_time": "2022-12-07T13:59:23.655Z"
   },
   {
    "duration": 8,
    "start_time": "2022-12-07T13:59:23.666Z"
   },
   {
    "duration": 28,
    "start_time": "2022-12-07T13:59:23.676Z"
   },
   {
    "duration": 9,
    "start_time": "2022-12-07T13:59:23.706Z"
   },
   {
    "duration": 208,
    "start_time": "2022-12-07T13:59:23.716Z"
   },
   {
    "duration": 222,
    "start_time": "2022-12-07T13:59:23.926Z"
   },
   {
    "duration": 9,
    "start_time": "2022-12-07T13:59:24.150Z"
   },
   {
    "duration": 9,
    "start_time": "2022-12-07T13:59:24.160Z"
   },
   {
    "duration": 206,
    "start_time": "2022-12-07T13:59:24.171Z"
   },
   {
    "duration": 18,
    "start_time": "2022-12-07T13:59:24.379Z"
   },
   {
    "duration": 10,
    "start_time": "2022-12-07T13:59:24.399Z"
   },
   {
    "duration": 177,
    "start_time": "2022-12-07T13:59:24.410Z"
   },
   {
    "duration": 14,
    "start_time": "2022-12-07T13:59:24.588Z"
   },
   {
    "duration": 9,
    "start_time": "2022-12-07T13:59:24.603Z"
   },
   {
    "duration": 184,
    "start_time": "2022-12-07T13:59:24.614Z"
   },
   {
    "duration": 9,
    "start_time": "2022-12-07T13:59:24.800Z"
   },
   {
    "duration": 156,
    "start_time": "2022-12-07T13:59:24.810Z"
   },
   {
    "duration": 9,
    "start_time": "2022-12-07T13:59:24.970Z"
   },
   {
    "duration": 21,
    "start_time": "2022-12-07T13:59:24.980Z"
   },
   {
    "duration": 196,
    "start_time": "2022-12-07T13:59:25.003Z"
   },
   {
    "duration": 10,
    "start_time": "2022-12-07T13:59:25.201Z"
   },
   {
    "duration": 9,
    "start_time": "2022-12-07T13:59:25.213Z"
   },
   {
    "duration": 186,
    "start_time": "2022-12-07T13:59:25.224Z"
   },
   {
    "duration": 9,
    "start_time": "2022-12-07T13:59:25.411Z"
   },
   {
    "duration": 9,
    "start_time": "2022-12-07T13:59:25.421Z"
   },
   {
    "duration": 238,
    "start_time": "2022-12-07T13:59:25.432Z"
   },
   {
    "duration": 10,
    "start_time": "2022-12-07T13:59:25.672Z"
   },
   {
    "duration": 25,
    "start_time": "2022-12-07T13:59:25.684Z"
   },
   {
    "duration": 219,
    "start_time": "2022-12-07T13:59:25.711Z"
   },
   {
    "duration": 10,
    "start_time": "2022-12-07T13:59:25.933Z"
   },
   {
    "duration": 12,
    "start_time": "2022-12-07T13:59:25.945Z"
   },
   {
    "duration": 208,
    "start_time": "2022-12-07T13:59:25.959Z"
   },
   {
    "duration": 8,
    "start_time": "2022-12-07T13:59:26.169Z"
   },
   {
    "duration": 21,
    "start_time": "2022-12-07T13:59:26.178Z"
   },
   {
    "duration": 352,
    "start_time": "2022-12-07T13:59:26.201Z"
   },
   {
    "duration": 292,
    "start_time": "2022-12-07T13:59:26.556Z"
   },
   {
    "duration": 170,
    "start_time": "2022-12-07T13:59:26.850Z"
   },
   {
    "duration": 207,
    "start_time": "2022-12-07T13:59:27.022Z"
   },
   {
    "duration": 184,
    "start_time": "2022-12-07T13:59:27.231Z"
   },
   {
    "duration": 165,
    "start_time": "2022-12-07T13:59:27.417Z"
   },
   {
    "duration": 180,
    "start_time": "2022-12-07T13:59:27.584Z"
   },
   {
    "duration": 190,
    "start_time": "2022-12-07T13:59:27.765Z"
   },
   {
    "duration": 478,
    "start_time": "2022-12-07T13:59:27.960Z"
   },
   {
    "duration": 15,
    "start_time": "2022-12-07T13:59:28.440Z"
   },
   {
    "duration": 11,
    "start_time": "2022-12-07T13:59:28.457Z"
   },
   {
    "duration": 337,
    "start_time": "2022-12-07T13:59:28.469Z"
   },
   {
    "duration": 12,
    "start_time": "2022-12-07T13:59:28.807Z"
   },
   {
    "duration": 18,
    "start_time": "2022-12-07T13:59:28.820Z"
   },
   {
    "duration": 219,
    "start_time": "2022-12-07T13:59:28.839Z"
   },
   {
    "duration": 9,
    "start_time": "2022-12-07T13:59:29.059Z"
   },
   {
    "duration": 9,
    "start_time": "2022-12-07T13:59:29.070Z"
   },
   {
    "duration": 234,
    "start_time": "2022-12-07T13:59:29.081Z"
   },
   {
    "duration": 175,
    "start_time": "2022-12-07T13:59:29.317Z"
   },
   {
    "duration": 518,
    "start_time": "2022-12-07T13:59:29.496Z"
   },
   {
    "duration": 483,
    "start_time": "2022-12-07T13:59:30.016Z"
   },
   {
    "duration": 0,
    "start_time": "2022-12-07T13:59:30.501Z"
   },
   {
    "duration": 340,
    "start_time": "2022-12-07T14:04:32.819Z"
   },
   {
    "duration": 476,
    "start_time": "2022-12-07T14:06:39.228Z"
   },
   {
    "duration": 343,
    "start_time": "2022-12-07T14:06:50.319Z"
   },
   {
    "duration": 1221,
    "start_time": "2022-12-07T14:07:01.422Z"
   },
   {
    "duration": 92,
    "start_time": "2022-12-07T14:07:02.645Z"
   },
   {
    "duration": 32,
    "start_time": "2022-12-07T14:07:02.739Z"
   },
   {
    "duration": 29,
    "start_time": "2022-12-07T14:07:02.773Z"
   },
   {
    "duration": 75,
    "start_time": "2022-12-07T14:07:02.804Z"
   },
   {
    "duration": 2470,
    "start_time": "2022-12-07T14:07:02.896Z"
   },
   {
    "duration": 6,
    "start_time": "2022-12-07T14:07:05.368Z"
   },
   {
    "duration": 9,
    "start_time": "2022-12-07T14:07:05.376Z"
   },
   {
    "duration": 24,
    "start_time": "2022-12-07T14:07:05.387Z"
   },
   {
    "duration": 16,
    "start_time": "2022-12-07T14:07:05.413Z"
   },
   {
    "duration": 11,
    "start_time": "2022-12-07T14:07:05.430Z"
   },
   {
    "duration": 56,
    "start_time": "2022-12-07T14:07:05.442Z"
   },
   {
    "duration": 10,
    "start_time": "2022-12-07T14:07:05.500Z"
   },
   {
    "duration": 11,
    "start_time": "2022-12-07T14:07:05.512Z"
   },
   {
    "duration": 391,
    "start_time": "2022-12-07T14:07:05.524Z"
   },
   {
    "duration": 13,
    "start_time": "2022-12-07T14:07:05.917Z"
   },
   {
    "duration": 26,
    "start_time": "2022-12-07T14:07:05.932Z"
   },
   {
    "duration": 8,
    "start_time": "2022-12-07T14:07:05.960Z"
   },
   {
    "duration": 37,
    "start_time": "2022-12-07T14:07:05.969Z"
   },
   {
    "duration": 11,
    "start_time": "2022-12-07T14:07:06.007Z"
   },
   {
    "duration": 10,
    "start_time": "2022-12-07T14:07:06.020Z"
   },
   {
    "duration": 71,
    "start_time": "2022-12-07T14:07:06.032Z"
   },
   {
    "duration": 133,
    "start_time": "2022-12-07T14:07:06.105Z"
   },
   {
    "duration": 5,
    "start_time": "2022-12-07T14:07:06.240Z"
   },
   {
    "duration": 24,
    "start_time": "2022-12-07T14:07:06.247Z"
   },
   {
    "duration": 349,
    "start_time": "2022-12-07T14:07:06.273Z"
   },
   {
    "duration": 7,
    "start_time": "2022-12-07T14:07:06.624Z"
   },
   {
    "duration": 13,
    "start_time": "2022-12-07T14:07:06.636Z"
   },
   {
    "duration": 45,
    "start_time": "2022-12-07T14:07:06.651Z"
   },
   {
    "duration": 4,
    "start_time": "2022-12-07T14:07:06.698Z"
   },
   {
    "duration": 17,
    "start_time": "2022-12-07T14:07:06.704Z"
   },
   {
    "duration": 9,
    "start_time": "2022-12-07T14:07:06.723Z"
   },
   {
    "duration": 181,
    "start_time": "2022-12-07T14:07:06.733Z"
   },
   {
    "duration": 9,
    "start_time": "2022-12-07T14:07:06.915Z"
   },
   {
    "duration": 11,
    "start_time": "2022-12-07T14:07:06.925Z"
   },
   {
    "duration": 177,
    "start_time": "2022-12-07T14:07:06.938Z"
   },
   {
    "duration": 8,
    "start_time": "2022-12-07T14:07:07.116Z"
   },
   {
    "duration": 8,
    "start_time": "2022-12-07T14:07:07.126Z"
   },
   {
    "duration": 267,
    "start_time": "2022-12-07T14:07:07.136Z"
   },
   {
    "duration": 9,
    "start_time": "2022-12-07T14:07:07.405Z"
   },
   {
    "duration": 9,
    "start_time": "2022-12-07T14:07:07.416Z"
   },
   {
    "duration": 10,
    "start_time": "2022-12-07T14:07:07.427Z"
   },
   {
    "duration": 10,
    "start_time": "2022-12-07T14:07:07.440Z"
   },
   {
    "duration": 223,
    "start_time": "2022-12-07T14:07:07.452Z"
   },
   {
    "duration": 191,
    "start_time": "2022-12-07T14:07:07.677Z"
   },
   {
    "duration": 7,
    "start_time": "2022-12-07T14:07:07.869Z"
   },
   {
    "duration": 26,
    "start_time": "2022-12-07T14:07:07.878Z"
   },
   {
    "duration": 195,
    "start_time": "2022-12-07T14:07:07.906Z"
   },
   {
    "duration": 8,
    "start_time": "2022-12-07T14:07:08.103Z"
   },
   {
    "duration": 8,
    "start_time": "2022-12-07T14:07:08.113Z"
   },
   {
    "duration": 178,
    "start_time": "2022-12-07T14:07:08.123Z"
   },
   {
    "duration": 8,
    "start_time": "2022-12-07T14:07:08.303Z"
   },
   {
    "duration": 9,
    "start_time": "2022-12-07T14:07:08.313Z"
   },
   {
    "duration": 190,
    "start_time": "2022-12-07T14:07:08.324Z"
   },
   {
    "duration": 9,
    "start_time": "2022-12-07T14:07:08.516Z"
   },
   {
    "duration": 143,
    "start_time": "2022-12-07T14:07:08.526Z"
   },
   {
    "duration": 8,
    "start_time": "2022-12-07T14:07:08.670Z"
   },
   {
    "duration": 23,
    "start_time": "2022-12-07T14:07:08.680Z"
   },
   {
    "duration": 183,
    "start_time": "2022-12-07T14:07:08.705Z"
   },
   {
    "duration": 13,
    "start_time": "2022-12-07T14:07:08.891Z"
   },
   {
    "duration": 10,
    "start_time": "2022-12-07T14:07:08.906Z"
   },
   {
    "duration": 186,
    "start_time": "2022-12-07T14:07:08.918Z"
   },
   {
    "duration": 8,
    "start_time": "2022-12-07T14:07:09.106Z"
   },
   {
    "duration": 9,
    "start_time": "2022-12-07T14:07:09.116Z"
   },
   {
    "duration": 236,
    "start_time": "2022-12-07T14:07:09.126Z"
   },
   {
    "duration": 9,
    "start_time": "2022-12-07T14:07:09.364Z"
   },
   {
    "duration": 23,
    "start_time": "2022-12-07T14:07:09.375Z"
   },
   {
    "duration": 205,
    "start_time": "2022-12-07T14:07:09.399Z"
   },
   {
    "duration": 8,
    "start_time": "2022-12-07T14:07:09.606Z"
   },
   {
    "duration": 8,
    "start_time": "2022-12-07T14:07:09.615Z"
   },
   {
    "duration": 188,
    "start_time": "2022-12-07T14:07:09.625Z"
   },
   {
    "duration": 9,
    "start_time": "2022-12-07T14:07:09.814Z"
   },
   {
    "duration": 8,
    "start_time": "2022-12-07T14:07:09.824Z"
   },
   {
    "duration": 291,
    "start_time": "2022-12-07T14:07:09.833Z"
   },
   {
    "duration": 292,
    "start_time": "2022-12-07T14:07:10.125Z"
   },
   {
    "duration": 164,
    "start_time": "2022-12-07T14:07:10.418Z"
   },
   {
    "duration": 196,
    "start_time": "2022-12-07T14:07:10.584Z"
   },
   {
    "duration": 177,
    "start_time": "2022-12-07T14:07:10.782Z"
   },
   {
    "duration": 164,
    "start_time": "2022-12-07T14:07:10.962Z"
   },
   {
    "duration": 178,
    "start_time": "2022-12-07T14:07:11.129Z"
   },
   {
    "duration": 189,
    "start_time": "2022-12-07T14:07:11.309Z"
   },
   {
    "duration": 476,
    "start_time": "2022-12-07T14:07:11.503Z"
   },
   {
    "duration": 21,
    "start_time": "2022-12-07T14:07:11.982Z"
   },
   {
    "duration": 3,
    "start_time": "2022-12-07T14:07:12.005Z"
   },
   {
    "duration": 345,
    "start_time": "2022-12-07T14:07:12.011Z"
   },
   {
    "duration": 10,
    "start_time": "2022-12-07T14:07:12.357Z"
   },
   {
    "duration": 14,
    "start_time": "2022-12-07T14:07:12.369Z"
   },
   {
    "duration": 215,
    "start_time": "2022-12-07T14:07:12.384Z"
   },
   {
    "duration": 9,
    "start_time": "2022-12-07T14:07:12.601Z"
   },
   {
    "duration": 7,
    "start_time": "2022-12-07T14:07:12.612Z"
   },
   {
    "duration": 225,
    "start_time": "2022-12-07T14:07:12.621Z"
   },
   {
    "duration": 173,
    "start_time": "2022-12-07T14:07:12.848Z"
   },
   {
    "duration": 502,
    "start_time": "2022-12-07T14:07:13.023Z"
   },
   {
    "duration": 458,
    "start_time": "2022-12-07T14:07:13.527Z"
   },
   {
    "duration": 0,
    "start_time": "2022-12-07T14:07:13.987Z"
   },
   {
    "duration": 191,
    "start_time": "2022-12-07T14:10:07.180Z"
   },
   {
    "duration": 178,
    "start_time": "2022-12-07T14:10:29.342Z"
   },
   {
    "duration": 306,
    "start_time": "2022-12-07T14:11:05.461Z"
   },
   {
    "duration": 169,
    "start_time": "2022-12-07T14:11:38.227Z"
   },
   {
    "duration": 162,
    "start_time": "2022-12-07T14:12:27.957Z"
   },
   {
    "duration": 366,
    "start_time": "2022-12-07T14:12:54.892Z"
   },
   {
    "duration": 352,
    "start_time": "2022-12-07T14:13:39.871Z"
   },
   {
    "duration": 1258,
    "start_time": "2022-12-07T14:14:30.777Z"
   },
   {
    "duration": 94,
    "start_time": "2022-12-07T14:14:32.037Z"
   },
   {
    "duration": 19,
    "start_time": "2022-12-07T14:14:32.132Z"
   },
   {
    "duration": 40,
    "start_time": "2022-12-07T14:14:32.153Z"
   },
   {
    "duration": 71,
    "start_time": "2022-12-07T14:14:32.195Z"
   },
   {
    "duration": 2923,
    "start_time": "2022-12-07T14:14:32.267Z"
   },
   {
    "duration": 7,
    "start_time": "2022-12-07T14:14:35.192Z"
   },
   {
    "duration": 10,
    "start_time": "2022-12-07T14:14:35.202Z"
   },
   {
    "duration": 19,
    "start_time": "2022-12-07T14:14:35.213Z"
   },
   {
    "duration": 11,
    "start_time": "2022-12-07T14:14:35.235Z"
   },
   {
    "duration": 12,
    "start_time": "2022-12-07T14:14:35.248Z"
   },
   {
    "duration": 61,
    "start_time": "2022-12-07T14:14:35.262Z"
   },
   {
    "duration": 11,
    "start_time": "2022-12-07T14:14:35.324Z"
   },
   {
    "duration": 14,
    "start_time": "2022-12-07T14:14:35.337Z"
   },
   {
    "duration": 422,
    "start_time": "2022-12-07T14:14:35.353Z"
   },
   {
    "duration": 21,
    "start_time": "2022-12-07T14:14:35.777Z"
   },
   {
    "duration": 27,
    "start_time": "2022-12-07T14:14:35.800Z"
   },
   {
    "duration": 9,
    "start_time": "2022-12-07T14:14:35.829Z"
   },
   {
    "duration": 14,
    "start_time": "2022-12-07T14:14:35.840Z"
   },
   {
    "duration": 10,
    "start_time": "2022-12-07T14:14:35.856Z"
   },
   {
    "duration": 9,
    "start_time": "2022-12-07T14:14:35.897Z"
   },
   {
    "duration": 49,
    "start_time": "2022-12-07T14:14:35.908Z"
   },
   {
    "duration": 143,
    "start_time": "2022-12-07T14:14:35.959Z"
   },
   {
    "duration": 4,
    "start_time": "2022-12-07T14:14:36.104Z"
   },
   {
    "duration": 17,
    "start_time": "2022-12-07T14:14:36.110Z"
   },
   {
    "duration": 355,
    "start_time": "2022-12-07T14:14:36.130Z"
   },
   {
    "duration": 13,
    "start_time": "2022-12-07T14:14:36.487Z"
   },
   {
    "duration": 9,
    "start_time": "2022-12-07T14:14:36.505Z"
   },
   {
    "duration": 22,
    "start_time": "2022-12-07T14:14:36.516Z"
   },
   {
    "duration": 8,
    "start_time": "2022-12-07T14:14:36.539Z"
   },
   {
    "duration": 10,
    "start_time": "2022-12-07T14:14:36.548Z"
   },
   {
    "duration": 37,
    "start_time": "2022-12-07T14:14:36.560Z"
   },
   {
    "duration": 197,
    "start_time": "2022-12-07T14:14:36.599Z"
   },
   {
    "duration": 8,
    "start_time": "2022-12-07T14:14:36.798Z"
   },
   {
    "duration": 8,
    "start_time": "2022-12-07T14:14:36.808Z"
   },
   {
    "duration": 216,
    "start_time": "2022-12-07T14:14:36.818Z"
   },
   {
    "duration": 9,
    "start_time": "2022-12-07T14:14:37.036Z"
   },
   {
    "duration": 8,
    "start_time": "2022-12-07T14:14:37.047Z"
   },
   {
    "duration": 218,
    "start_time": "2022-12-07T14:14:37.057Z"
   },
   {
    "duration": 8,
    "start_time": "2022-12-07T14:14:37.277Z"
   },
   {
    "duration": 16,
    "start_time": "2022-12-07T14:14:37.286Z"
   },
   {
    "duration": 9,
    "start_time": "2022-12-07T14:14:37.304Z"
   },
   {
    "duration": 9,
    "start_time": "2022-12-07T14:14:37.314Z"
   },
   {
    "duration": 345,
    "start_time": "2022-12-07T14:14:37.325Z"
   },
   {
    "duration": 238,
    "start_time": "2022-12-07T14:14:37.672Z"
   },
   {
    "duration": 10,
    "start_time": "2022-12-07T14:14:37.911Z"
   },
   {
    "duration": 9,
    "start_time": "2022-12-07T14:14:37.923Z"
   },
   {
    "duration": 220,
    "start_time": "2022-12-07T14:14:37.934Z"
   },
   {
    "duration": 8,
    "start_time": "2022-12-07T14:14:38.156Z"
   },
   {
    "duration": 9,
    "start_time": "2022-12-07T14:14:38.166Z"
   },
   {
    "duration": 216,
    "start_time": "2022-12-07T14:14:38.177Z"
   },
   {
    "duration": 7,
    "start_time": "2022-12-07T14:14:38.395Z"
   },
   {
    "duration": 8,
    "start_time": "2022-12-07T14:14:38.403Z"
   },
   {
    "duration": 226,
    "start_time": "2022-12-07T14:14:38.413Z"
   },
   {
    "duration": 9,
    "start_time": "2022-12-07T14:14:38.641Z"
   },
   {
    "duration": 159,
    "start_time": "2022-12-07T14:14:38.652Z"
   },
   {
    "duration": 8,
    "start_time": "2022-12-07T14:14:38.812Z"
   },
   {
    "duration": 8,
    "start_time": "2022-12-07T14:14:38.822Z"
   },
   {
    "duration": 235,
    "start_time": "2022-12-07T14:14:38.831Z"
   },
   {
    "duration": 10,
    "start_time": "2022-12-07T14:14:39.068Z"
   },
   {
    "duration": 22,
    "start_time": "2022-12-07T14:14:39.079Z"
   },
   {
    "duration": 210,
    "start_time": "2022-12-07T14:14:39.102Z"
   },
   {
    "duration": 8,
    "start_time": "2022-12-07T14:14:39.314Z"
   },
   {
    "duration": 9,
    "start_time": "2022-12-07T14:14:39.323Z"
   },
   {
    "duration": 276,
    "start_time": "2022-12-07T14:14:39.334Z"
   },
   {
    "duration": 9,
    "start_time": "2022-12-07T14:14:39.612Z"
   },
   {
    "duration": 9,
    "start_time": "2022-12-07T14:14:39.622Z"
   },
   {
    "duration": 255,
    "start_time": "2022-12-07T14:14:39.632Z"
   },
   {
    "duration": 13,
    "start_time": "2022-12-07T14:14:39.889Z"
   },
   {
    "duration": 9,
    "start_time": "2022-12-07T14:14:39.904Z"
   },
   {
    "duration": 227,
    "start_time": "2022-12-07T14:14:39.915Z"
   },
   {
    "duration": 7,
    "start_time": "2022-12-07T14:14:40.144Z"
   },
   {
    "duration": 9,
    "start_time": "2022-12-07T14:14:40.153Z"
   },
   {
    "duration": 205,
    "start_time": "2022-12-07T14:14:40.163Z"
   },
   {
    "duration": 435,
    "start_time": "2022-12-07T14:14:40.370Z"
   },
   {
    "duration": 193,
    "start_time": "2022-12-07T14:14:40.807Z"
   },
   {
    "duration": 224,
    "start_time": "2022-12-07T14:14:41.002Z"
   },
   {
    "duration": 211,
    "start_time": "2022-12-07T14:14:41.228Z"
   },
   {
    "duration": 190,
    "start_time": "2022-12-07T14:14:41.440Z"
   },
   {
    "duration": 198,
    "start_time": "2022-12-07T14:14:41.631Z"
   },
   {
    "duration": 191,
    "start_time": "2022-12-07T14:14:41.831Z"
   },
   {
    "duration": 528,
    "start_time": "2022-12-07T14:14:42.027Z"
   },
   {
    "duration": 12,
    "start_time": "2022-12-07T14:14:42.557Z"
   },
   {
    "duration": 3,
    "start_time": "2022-12-07T14:14:42.570Z"
   },
   {
    "duration": 351,
    "start_time": "2022-12-07T14:14:42.574Z"
   },
   {
    "duration": 11,
    "start_time": "2022-12-07T14:14:42.927Z"
   },
   {
    "duration": 10,
    "start_time": "2022-12-07T14:14:42.940Z"
   },
   {
    "duration": 237,
    "start_time": "2022-12-07T14:14:42.951Z"
   },
   {
    "duration": 15,
    "start_time": "2022-12-07T14:14:43.189Z"
   },
   {
    "duration": 8,
    "start_time": "2022-12-07T14:14:43.205Z"
   },
   {
    "duration": 260,
    "start_time": "2022-12-07T14:14:43.215Z"
   },
   {
    "duration": 209,
    "start_time": "2022-12-07T14:14:43.477Z"
   },
   {
    "duration": 590,
    "start_time": "2022-12-07T14:14:43.687Z"
   },
   {
    "duration": 476,
    "start_time": "2022-12-07T14:14:44.279Z"
   },
   {
    "duration": 0,
    "start_time": "2022-12-07T14:14:44.757Z"
   },
   {
    "duration": 378,
    "start_time": "2022-12-07T14:18:02.272Z"
   },
   {
    "duration": 1255,
    "start_time": "2022-12-07T14:20:29.395Z"
   },
   {
    "duration": 95,
    "start_time": "2022-12-07T14:20:30.651Z"
   },
   {
    "duration": 30,
    "start_time": "2022-12-07T14:20:30.748Z"
   },
   {
    "duration": 18,
    "start_time": "2022-12-07T14:20:30.796Z"
   },
   {
    "duration": 96,
    "start_time": "2022-12-07T14:20:30.816Z"
   },
   {
    "duration": 2495,
    "start_time": "2022-12-07T14:20:30.914Z"
   },
   {
    "duration": 5,
    "start_time": "2022-12-07T14:20:33.412Z"
   },
   {
    "duration": 9,
    "start_time": "2022-12-07T14:20:33.419Z"
   },
   {
    "duration": 29,
    "start_time": "2022-12-07T14:20:33.430Z"
   },
   {
    "duration": 36,
    "start_time": "2022-12-07T14:20:33.461Z"
   },
   {
    "duration": 13,
    "start_time": "2022-12-07T14:20:33.499Z"
   },
   {
    "duration": 44,
    "start_time": "2022-12-07T14:20:33.514Z"
   },
   {
    "duration": 40,
    "start_time": "2022-12-07T14:20:33.560Z"
   },
   {
    "duration": 10,
    "start_time": "2022-12-07T14:20:33.602Z"
   },
   {
    "duration": 398,
    "start_time": "2022-12-07T14:20:33.614Z"
   },
   {
    "duration": 13,
    "start_time": "2022-12-07T14:20:34.013Z"
   },
   {
    "duration": 26,
    "start_time": "2022-12-07T14:20:34.027Z"
   },
   {
    "duration": 8,
    "start_time": "2022-12-07T14:20:34.055Z"
   },
   {
    "duration": 41,
    "start_time": "2022-12-07T14:20:34.064Z"
   },
   {
    "duration": 9,
    "start_time": "2022-12-07T14:20:34.107Z"
   },
   {
    "duration": 9,
    "start_time": "2022-12-07T14:20:34.117Z"
   },
   {
    "duration": 38,
    "start_time": "2022-12-07T14:20:34.128Z"
   },
   {
    "duration": 119,
    "start_time": "2022-12-07T14:20:34.167Z"
   },
   {
    "duration": 4,
    "start_time": "2022-12-07T14:20:34.297Z"
   },
   {
    "duration": 16,
    "start_time": "2022-12-07T14:20:34.302Z"
   },
   {
    "duration": 342,
    "start_time": "2022-12-07T14:20:34.320Z"
   },
   {
    "duration": 6,
    "start_time": "2022-12-07T14:20:34.663Z"
   },
   {
    "duration": 7,
    "start_time": "2022-12-07T14:20:34.672Z"
   },
   {
    "duration": 38,
    "start_time": "2022-12-07T14:20:34.681Z"
   },
   {
    "duration": 4,
    "start_time": "2022-12-07T14:20:34.720Z"
   },
   {
    "duration": 10,
    "start_time": "2022-12-07T14:20:34.726Z"
   },
   {
    "duration": 9,
    "start_time": "2022-12-07T14:20:34.737Z"
   },
   {
    "duration": 186,
    "start_time": "2022-12-07T14:20:34.747Z"
   },
   {
    "duration": 7,
    "start_time": "2022-12-07T14:20:34.935Z"
   },
   {
    "duration": 9,
    "start_time": "2022-12-07T14:20:34.944Z"
   },
   {
    "duration": 178,
    "start_time": "2022-12-07T14:20:34.955Z"
   },
   {
    "duration": 8,
    "start_time": "2022-12-07T14:20:35.134Z"
   },
   {
    "duration": 11,
    "start_time": "2022-12-07T14:20:35.144Z"
   },
   {
    "duration": 273,
    "start_time": "2022-12-07T14:20:35.156Z"
   },
   {
    "duration": 8,
    "start_time": "2022-12-07T14:20:35.431Z"
   },
   {
    "duration": 7,
    "start_time": "2022-12-07T14:20:35.441Z"
   },
   {
    "duration": 8,
    "start_time": "2022-12-07T14:20:35.449Z"
   },
   {
    "duration": 8,
    "start_time": "2022-12-07T14:20:35.459Z"
   },
   {
    "duration": 213,
    "start_time": "2022-12-07T14:20:35.469Z"
   },
   {
    "duration": 201,
    "start_time": "2022-12-07T14:20:35.684Z"
   },
   {
    "duration": 15,
    "start_time": "2022-12-07T14:20:35.887Z"
   },
   {
    "duration": 9,
    "start_time": "2022-12-07T14:20:35.904Z"
   },
   {
    "duration": 180,
    "start_time": "2022-12-07T14:20:35.914Z"
   },
   {
    "duration": 9,
    "start_time": "2022-12-07T14:20:36.097Z"
   },
   {
    "duration": 10,
    "start_time": "2022-12-07T14:20:36.107Z"
   },
   {
    "duration": 168,
    "start_time": "2022-12-07T14:20:36.118Z"
   },
   {
    "duration": 14,
    "start_time": "2022-12-07T14:20:36.288Z"
   },
   {
    "duration": 8,
    "start_time": "2022-12-07T14:20:36.303Z"
   },
   {
    "duration": 178,
    "start_time": "2022-12-07T14:20:36.313Z"
   },
   {
    "duration": 10,
    "start_time": "2022-12-07T14:20:36.495Z"
   },
   {
    "duration": 141,
    "start_time": "2022-12-07T14:20:36.506Z"
   },
   {
    "duration": 9,
    "start_time": "2022-12-07T14:20:36.650Z"
   },
   {
    "duration": 20,
    "start_time": "2022-12-07T14:20:36.662Z"
   },
   {
    "duration": 211,
    "start_time": "2022-12-07T14:20:36.696Z"
   },
   {
    "duration": 9,
    "start_time": "2022-12-07T14:20:36.909Z"
   },
   {
    "duration": 8,
    "start_time": "2022-12-07T14:20:36.920Z"
   },
   {
    "duration": 181,
    "start_time": "2022-12-07T14:20:36.930Z"
   },
   {
    "duration": 9,
    "start_time": "2022-12-07T14:20:37.112Z"
   },
   {
    "duration": 9,
    "start_time": "2022-12-07T14:20:37.122Z"
   },
   {
    "duration": 225,
    "start_time": "2022-12-07T14:20:37.132Z"
   },
   {
    "duration": 8,
    "start_time": "2022-12-07T14:20:37.359Z"
   },
   {
    "duration": 8,
    "start_time": "2022-12-07T14:20:37.368Z"
   },
   {
    "duration": 203,
    "start_time": "2022-12-07T14:20:37.377Z"
   },
   {
    "duration": 15,
    "start_time": "2022-12-07T14:20:37.582Z"
   },
   {
    "duration": 8,
    "start_time": "2022-12-07T14:20:37.598Z"
   },
   {
    "duration": 210,
    "start_time": "2022-12-07T14:20:37.608Z"
   },
   {
    "duration": 9,
    "start_time": "2022-12-07T14:20:37.820Z"
   },
   {
    "duration": 10,
    "start_time": "2022-12-07T14:20:37.831Z"
   },
   {
    "duration": 288,
    "start_time": "2022-12-07T14:20:37.842Z"
   },
   {
    "duration": 283,
    "start_time": "2022-12-07T14:20:38.132Z"
   },
   {
    "duration": 164,
    "start_time": "2022-12-07T14:20:38.417Z"
   },
   {
    "duration": 187,
    "start_time": "2022-12-07T14:20:38.582Z"
   },
   {
    "duration": 176,
    "start_time": "2022-12-07T14:20:38.771Z"
   },
   {
    "duration": 157,
    "start_time": "2022-12-07T14:20:38.949Z"
   },
   {
    "duration": 172,
    "start_time": "2022-12-07T14:20:39.108Z"
   },
   {
    "duration": 194,
    "start_time": "2022-12-07T14:20:39.281Z"
   },
   {
    "duration": 473,
    "start_time": "2022-12-07T14:20:39.481Z"
   },
   {
    "duration": 15,
    "start_time": "2022-12-07T14:20:39.956Z"
   },
   {
    "duration": 3,
    "start_time": "2022-12-07T14:20:39.972Z"
   },
   {
    "duration": 364,
    "start_time": "2022-12-07T14:20:39.977Z"
   },
   {
    "duration": 12,
    "start_time": "2022-12-07T14:20:40.344Z"
   },
   {
    "duration": 14,
    "start_time": "2022-12-07T14:20:40.358Z"
   },
   {
    "duration": 247,
    "start_time": "2022-12-07T14:20:40.373Z"
   },
   {
    "duration": 10,
    "start_time": "2022-12-07T14:20:40.622Z"
   },
   {
    "duration": 8,
    "start_time": "2022-12-07T14:20:40.633Z"
   },
   {
    "duration": 233,
    "start_time": "2022-12-07T14:20:40.643Z"
   },
   {
    "duration": 181,
    "start_time": "2022-12-07T14:20:40.878Z"
   },
   {
    "duration": 500,
    "start_time": "2022-12-07T14:20:41.061Z"
   },
   {
    "duration": 422,
    "start_time": "2022-12-07T14:20:41.563Z"
   },
   {
    "duration": 0,
    "start_time": "2022-12-07T14:20:41.987Z"
   },
   {
    "duration": 1167,
    "start_time": "2022-12-07T14:27:12.461Z"
   },
   {
    "duration": 95,
    "start_time": "2022-12-07T14:27:13.630Z"
   },
   {
    "duration": 29,
    "start_time": "2022-12-07T14:27:13.727Z"
   },
   {
    "duration": 15,
    "start_time": "2022-12-07T14:27:13.758Z"
   },
   {
    "duration": 72,
    "start_time": "2022-12-07T14:27:13.796Z"
   },
   {
    "duration": 2453,
    "start_time": "2022-12-07T14:27:13.869Z"
   },
   {
    "duration": 4,
    "start_time": "2022-12-07T14:27:16.325Z"
   },
   {
    "duration": 23,
    "start_time": "2022-12-07T14:27:16.331Z"
   },
   {
    "duration": 36,
    "start_time": "2022-12-07T14:27:16.357Z"
   },
   {
    "duration": 16,
    "start_time": "2022-12-07T14:27:16.395Z"
   },
   {
    "duration": 14,
    "start_time": "2022-12-07T14:27:16.413Z"
   },
   {
    "duration": 42,
    "start_time": "2022-12-07T14:27:16.429Z"
   },
   {
    "duration": 24,
    "start_time": "2022-12-07T14:27:16.473Z"
   },
   {
    "duration": 10,
    "start_time": "2022-12-07T14:27:16.499Z"
   },
   {
    "duration": 392,
    "start_time": "2022-12-07T14:27:16.511Z"
   },
   {
    "duration": 14,
    "start_time": "2022-12-07T14:27:16.905Z"
   },
   {
    "duration": 28,
    "start_time": "2022-12-07T14:27:16.921Z"
   },
   {
    "duration": 9,
    "start_time": "2022-12-07T14:27:16.951Z"
   },
   {
    "duration": 41,
    "start_time": "2022-12-07T14:27:16.961Z"
   },
   {
    "duration": 9,
    "start_time": "2022-12-07T14:27:17.004Z"
   },
   {
    "duration": 9,
    "start_time": "2022-12-07T14:27:17.015Z"
   },
   {
    "duration": 40,
    "start_time": "2022-12-07T14:27:17.025Z"
   },
   {
    "duration": 132,
    "start_time": "2022-12-07T14:27:17.067Z"
   },
   {
    "duration": 4,
    "start_time": "2022-12-07T14:27:17.200Z"
   },
   {
    "duration": 19,
    "start_time": "2022-12-07T14:27:17.205Z"
   },
   {
    "duration": 346,
    "start_time": "2022-12-07T14:27:17.225Z"
   },
   {
    "duration": 5,
    "start_time": "2022-12-07T14:27:17.573Z"
   },
   {
    "duration": 15,
    "start_time": "2022-12-07T14:27:17.582Z"
   },
   {
    "duration": 25,
    "start_time": "2022-12-07T14:27:17.599Z"
   },
   {
    "duration": 4,
    "start_time": "2022-12-07T14:27:17.625Z"
   },
   {
    "duration": 11,
    "start_time": "2022-12-07T14:27:17.631Z"
   },
   {
    "duration": 8,
    "start_time": "2022-12-07T14:27:17.644Z"
   },
   {
    "duration": 185,
    "start_time": "2022-12-07T14:27:17.653Z"
   },
   {
    "duration": 8,
    "start_time": "2022-12-07T14:27:17.840Z"
   },
   {
    "duration": 10,
    "start_time": "2022-12-07T14:27:17.850Z"
   },
   {
    "duration": 177,
    "start_time": "2022-12-07T14:27:17.862Z"
   },
   {
    "duration": 8,
    "start_time": "2022-12-07T14:27:18.041Z"
   },
   {
    "duration": 9,
    "start_time": "2022-12-07T14:27:18.050Z"
   },
   {
    "duration": 267,
    "start_time": "2022-12-07T14:27:18.060Z"
   },
   {
    "duration": 10,
    "start_time": "2022-12-07T14:27:18.329Z"
   },
   {
    "duration": 8,
    "start_time": "2022-12-07T14:27:18.340Z"
   },
   {
    "duration": 19,
    "start_time": "2022-12-07T14:27:18.350Z"
   },
   {
    "duration": 26,
    "start_time": "2022-12-07T14:27:18.371Z"
   },
   {
    "duration": 199,
    "start_time": "2022-12-07T14:27:18.399Z"
   },
   {
    "duration": 207,
    "start_time": "2022-12-07T14:27:18.600Z"
   },
   {
    "duration": 8,
    "start_time": "2022-12-07T14:27:18.808Z"
   },
   {
    "duration": 11,
    "start_time": "2022-12-07T14:27:18.818Z"
   },
   {
    "duration": 189,
    "start_time": "2022-12-07T14:27:18.830Z"
   },
   {
    "duration": 8,
    "start_time": "2022-12-07T14:27:19.021Z"
   },
   {
    "duration": 9,
    "start_time": "2022-12-07T14:27:19.031Z"
   },
   {
    "duration": 187,
    "start_time": "2022-12-07T14:27:19.042Z"
   },
   {
    "duration": 8,
    "start_time": "2022-12-07T14:27:19.232Z"
   },
   {
    "duration": 15,
    "start_time": "2022-12-07T14:27:19.242Z"
   },
   {
    "duration": 188,
    "start_time": "2022-12-07T14:27:19.258Z"
   },
   {
    "duration": 9,
    "start_time": "2022-12-07T14:27:19.448Z"
   },
   {
    "duration": 133,
    "start_time": "2022-12-07T14:27:19.458Z"
   },
   {
    "duration": 8,
    "start_time": "2022-12-07T14:27:19.595Z"
   },
   {
    "duration": 8,
    "start_time": "2022-12-07T14:27:19.605Z"
   },
   {
    "duration": 198,
    "start_time": "2022-12-07T14:27:19.615Z"
   },
   {
    "duration": 9,
    "start_time": "2022-12-07T14:27:19.814Z"
   },
   {
    "duration": 9,
    "start_time": "2022-12-07T14:27:19.825Z"
   },
   {
    "duration": 199,
    "start_time": "2022-12-07T14:27:19.835Z"
   },
   {
    "duration": 8,
    "start_time": "2022-12-07T14:27:20.036Z"
   },
   {
    "duration": 10,
    "start_time": "2022-12-07T14:27:20.046Z"
   },
   {
    "duration": 239,
    "start_time": "2022-12-07T14:27:20.057Z"
   },
   {
    "duration": 10,
    "start_time": "2022-12-07T14:27:20.298Z"
   },
   {
    "duration": 12,
    "start_time": "2022-12-07T14:27:20.310Z"
   },
   {
    "duration": 229,
    "start_time": "2022-12-07T14:27:20.324Z"
   },
   {
    "duration": 9,
    "start_time": "2022-12-07T14:27:20.555Z"
   },
   {
    "duration": 13,
    "start_time": "2022-12-07T14:27:20.566Z"
   },
   {
    "duration": 182,
    "start_time": "2022-12-07T14:27:20.581Z"
   },
   {
    "duration": 7,
    "start_time": "2022-12-07T14:27:20.765Z"
   },
   {
    "duration": 25,
    "start_time": "2022-12-07T14:27:20.774Z"
   },
   {
    "duration": 282,
    "start_time": "2022-12-07T14:27:20.800Z"
   },
   {
    "duration": 279,
    "start_time": "2022-12-07T14:27:21.084Z"
   },
   {
    "duration": 175,
    "start_time": "2022-12-07T14:27:21.364Z"
   },
   {
    "duration": 189,
    "start_time": "2022-12-07T14:27:21.541Z"
   },
   {
    "duration": 185,
    "start_time": "2022-12-07T14:27:21.732Z"
   },
   {
    "duration": 158,
    "start_time": "2022-12-07T14:27:21.919Z"
   },
   {
    "duration": 178,
    "start_time": "2022-12-07T14:27:22.079Z"
   },
   {
    "duration": 195,
    "start_time": "2022-12-07T14:27:22.259Z"
   },
   {
    "duration": 508,
    "start_time": "2022-12-07T14:27:22.459Z"
   },
   {
    "duration": 16,
    "start_time": "2022-12-07T14:27:22.969Z"
   },
   {
    "duration": 9,
    "start_time": "2022-12-07T14:27:22.997Z"
   },
   {
    "duration": 357,
    "start_time": "2022-12-07T14:27:23.008Z"
   },
   {
    "duration": 11,
    "start_time": "2022-12-07T14:27:23.367Z"
   },
   {
    "duration": 25,
    "start_time": "2022-12-07T14:27:23.380Z"
   },
   {
    "duration": 223,
    "start_time": "2022-12-07T14:27:23.407Z"
   },
   {
    "duration": 9,
    "start_time": "2022-12-07T14:27:23.632Z"
   },
   {
    "duration": 24,
    "start_time": "2022-12-07T14:27:23.643Z"
   },
   {
    "duration": 227,
    "start_time": "2022-12-07T14:27:23.669Z"
   },
   {
    "duration": 184,
    "start_time": "2022-12-07T14:27:23.898Z"
   },
   {
    "duration": 533,
    "start_time": "2022-12-07T14:27:24.084Z"
   },
   {
    "duration": 357,
    "start_time": "2022-12-07T14:27:24.619Z"
   },
   {
    "duration": 77,
    "start_time": "2022-12-08T13:59:59.485Z"
   },
   {
    "duration": 1513,
    "start_time": "2022-12-08T14:00:15.502Z"
   },
   {
    "duration": 170,
    "start_time": "2022-12-08T14:00:17.028Z"
   },
   {
    "duration": 45,
    "start_time": "2022-12-08T14:00:17.201Z"
   },
   {
    "duration": 22,
    "start_time": "2022-12-08T14:00:17.249Z"
   },
   {
    "duration": 96,
    "start_time": "2022-12-08T14:00:17.273Z"
   },
   {
    "duration": 2622,
    "start_time": "2022-12-08T14:00:17.371Z"
   },
   {
    "duration": 4,
    "start_time": "2022-12-08T14:00:19.995Z"
   },
   {
    "duration": 36,
    "start_time": "2022-12-08T14:00:20.001Z"
   },
   {
    "duration": 37,
    "start_time": "2022-12-08T14:00:20.039Z"
   },
   {
    "duration": 17,
    "start_time": "2022-12-08T14:00:20.079Z"
   },
   {
    "duration": 39,
    "start_time": "2022-12-08T14:00:20.098Z"
   },
   {
    "duration": 47,
    "start_time": "2022-12-08T14:00:20.139Z"
   },
   {
    "duration": 12,
    "start_time": "2022-12-08T14:00:20.188Z"
   },
   {
    "duration": 41,
    "start_time": "2022-12-08T14:00:20.203Z"
   },
   {
    "duration": 494,
    "start_time": "2022-12-08T14:00:20.249Z"
   },
   {
    "duration": 14,
    "start_time": "2022-12-08T14:00:20.745Z"
   },
   {
    "duration": 29,
    "start_time": "2022-12-08T14:00:20.761Z"
   },
   {
    "duration": 39,
    "start_time": "2022-12-08T14:00:20.791Z"
   },
   {
    "duration": 14,
    "start_time": "2022-12-08T14:00:20.831Z"
   },
   {
    "duration": 29,
    "start_time": "2022-12-08T14:00:20.847Z"
   },
   {
    "duration": 20,
    "start_time": "2022-12-08T14:00:20.878Z"
   },
   {
    "duration": 67,
    "start_time": "2022-12-08T14:00:20.900Z"
   },
   {
    "duration": 120,
    "start_time": "2022-12-08T14:00:20.969Z"
   },
   {
    "duration": 5,
    "start_time": "2022-12-08T14:00:21.090Z"
   },
   {
    "duration": 47,
    "start_time": "2022-12-08T14:00:21.097Z"
   },
   {
    "duration": 351,
    "start_time": "2022-12-08T14:00:21.146Z"
   },
   {
    "duration": 5,
    "start_time": "2022-12-08T14:00:21.500Z"
   },
   {
    "duration": 23,
    "start_time": "2022-12-08T14:00:21.516Z"
   },
   {
    "duration": 27,
    "start_time": "2022-12-08T14:00:21.541Z"
   },
   {
    "duration": 6,
    "start_time": "2022-12-08T14:00:21.570Z"
   },
   {
    "duration": 11,
    "start_time": "2022-12-08T14:00:21.578Z"
   },
   {
    "duration": 26,
    "start_time": "2022-12-08T14:00:21.590Z"
   },
   {
    "duration": 165,
    "start_time": "2022-12-08T14:00:21.621Z"
   },
   {
    "duration": 9,
    "start_time": "2022-12-08T14:00:21.788Z"
   },
   {
    "duration": 16,
    "start_time": "2022-12-08T14:00:21.814Z"
   },
   {
    "duration": 248,
    "start_time": "2022-12-08T14:00:21.832Z"
   },
   {
    "duration": 8,
    "start_time": "2022-12-08T14:00:22.082Z"
   },
   {
    "duration": 31,
    "start_time": "2022-12-08T14:00:22.092Z"
   },
   {
    "duration": 185,
    "start_time": "2022-12-08T14:00:22.126Z"
   },
   {
    "duration": 12,
    "start_time": "2022-12-08T14:00:22.321Z"
   },
   {
    "duration": 20,
    "start_time": "2022-12-08T14:00:22.335Z"
   },
   {
    "duration": 14,
    "start_time": "2022-12-08T14:00:22.357Z"
   },
   {
    "duration": 14,
    "start_time": "2022-12-08T14:00:22.373Z"
   },
   {
    "duration": 248,
    "start_time": "2022-12-08T14:00:22.391Z"
   },
   {
    "duration": 217,
    "start_time": "2022-12-08T14:00:22.641Z"
   },
   {
    "duration": 8,
    "start_time": "2022-12-08T14:00:22.859Z"
   },
   {
    "duration": 13,
    "start_time": "2022-12-08T14:00:22.869Z"
   },
   {
    "duration": 209,
    "start_time": "2022-12-08T14:00:22.884Z"
   },
   {
    "duration": 33,
    "start_time": "2022-12-08T14:00:23.095Z"
   },
   {
    "duration": 10,
    "start_time": "2022-12-08T14:00:23.130Z"
   },
   {
    "duration": 167,
    "start_time": "2022-12-08T14:00:23.142Z"
   },
   {
    "duration": 15,
    "start_time": "2022-12-08T14:00:23.312Z"
   },
   {
    "duration": 15,
    "start_time": "2022-12-08T14:00:23.329Z"
   },
   {
    "duration": 189,
    "start_time": "2022-12-08T14:00:23.346Z"
   },
   {
    "duration": 13,
    "start_time": "2022-12-08T14:00:23.538Z"
   },
   {
    "duration": 177,
    "start_time": "2022-12-08T14:00:23.553Z"
   },
   {
    "duration": 8,
    "start_time": "2022-12-08T14:00:23.731Z"
   },
   {
    "duration": 10,
    "start_time": "2022-12-08T14:00:23.741Z"
   },
   {
    "duration": 185,
    "start_time": "2022-12-08T14:00:23.753Z"
   },
   {
    "duration": 9,
    "start_time": "2022-12-08T14:00:23.940Z"
   },
   {
    "duration": 10,
    "start_time": "2022-12-08T14:00:23.951Z"
   },
   {
    "duration": 207,
    "start_time": "2022-12-08T14:00:23.963Z"
   },
   {
    "duration": 10,
    "start_time": "2022-12-08T14:00:24.171Z"
   },
   {
    "duration": 11,
    "start_time": "2022-12-08T14:00:24.183Z"
   },
   {
    "duration": 237,
    "start_time": "2022-12-08T14:00:24.216Z"
   },
   {
    "duration": 10,
    "start_time": "2022-12-08T14:00:24.455Z"
   },
   {
    "duration": 13,
    "start_time": "2022-12-08T14:00:24.467Z"
   },
   {
    "duration": 254,
    "start_time": "2022-12-08T14:00:24.482Z"
   },
   {
    "duration": 10,
    "start_time": "2022-12-08T14:00:24.740Z"
   },
   {
    "duration": 13,
    "start_time": "2022-12-08T14:00:24.752Z"
   },
   {
    "duration": 321,
    "start_time": "2022-12-08T14:00:24.766Z"
   },
   {
    "duration": 8,
    "start_time": "2022-12-08T14:00:25.090Z"
   },
   {
    "duration": 27,
    "start_time": "2022-12-08T14:00:25.100Z"
   },
   {
    "duration": 163,
    "start_time": "2022-12-08T14:00:25.129Z"
   },
   {
    "duration": 320,
    "start_time": "2022-12-08T14:00:25.294Z"
   },
   {
    "duration": 171,
    "start_time": "2022-12-08T14:00:25.620Z"
   },
   {
    "duration": 212,
    "start_time": "2022-12-08T14:00:25.793Z"
   },
   {
    "duration": 194,
    "start_time": "2022-12-08T14:00:26.006Z"
   },
   {
    "duration": 168,
    "start_time": "2022-12-08T14:00:26.202Z"
   },
   {
    "duration": 185,
    "start_time": "2022-12-08T14:00:26.372Z"
   },
   {
    "duration": 202,
    "start_time": "2022-12-08T14:00:26.559Z"
   },
   {
    "duration": 510,
    "start_time": "2022-12-08T14:00:26.767Z"
   },
   {
    "duration": 14,
    "start_time": "2022-12-08T14:00:27.279Z"
   },
   {
    "duration": 3,
    "start_time": "2022-12-08T14:00:27.294Z"
   },
   {
    "duration": 363,
    "start_time": "2022-12-08T14:00:27.312Z"
   },
   {
    "duration": 12,
    "start_time": "2022-12-08T14:00:27.677Z"
   },
   {
    "duration": 37,
    "start_time": "2022-12-08T14:00:27.690Z"
   },
   {
    "duration": 222,
    "start_time": "2022-12-08T14:00:27.729Z"
   },
   {
    "duration": 10,
    "start_time": "2022-12-08T14:00:27.952Z"
   },
   {
    "duration": 12,
    "start_time": "2022-12-08T14:00:27.964Z"
   },
   {
    "duration": 231,
    "start_time": "2022-12-08T14:00:27.978Z"
   },
   {
    "duration": 181,
    "start_time": "2022-12-08T14:00:28.213Z"
   },
   {
    "duration": 588,
    "start_time": "2022-12-08T14:00:28.395Z"
   },
   {
    "duration": 376,
    "start_time": "2022-12-08T14:00:28.985Z"
   },
   {
    "duration": 290,
    "start_time": "2022-12-08T14:04:34.053Z"
   },
   {
    "duration": 187,
    "start_time": "2022-12-08T14:10:44.036Z"
   },
   {
    "duration": 182,
    "start_time": "2022-12-08T14:14:23.613Z"
   },
   {
    "duration": 176,
    "start_time": "2022-12-08T14:15:21.633Z"
   },
   {
    "duration": 165,
    "start_time": "2022-12-08T14:20:32.034Z"
   },
   {
    "duration": 226,
    "start_time": "2022-12-08T14:21:19.199Z"
   },
   {
    "duration": 586,
    "start_time": "2022-12-08T14:24:30.285Z"
   },
   {
    "duration": 119,
    "start_time": "2022-12-08T14:25:09.342Z"
   },
   {
    "duration": 1461,
    "start_time": "2022-12-09T13:29:00.230Z"
   },
   {
    "duration": 664,
    "start_time": "2022-12-09T13:29:01.693Z"
   },
   {
    "duration": 29,
    "start_time": "2022-12-09T13:29:02.359Z"
   },
   {
    "duration": 15,
    "start_time": "2022-12-09T13:29:02.390Z"
   },
   {
    "duration": 93,
    "start_time": "2022-12-09T13:29:02.407Z"
   },
   {
    "duration": 2474,
    "start_time": "2022-12-09T13:29:02.501Z"
   },
   {
    "duration": 5,
    "start_time": "2022-12-09T13:29:04.976Z"
   },
   {
    "duration": 9,
    "start_time": "2022-12-09T13:29:04.983Z"
   },
   {
    "duration": 24,
    "start_time": "2022-12-09T13:29:04.994Z"
   },
   {
    "duration": 17,
    "start_time": "2022-12-09T13:29:05.021Z"
   },
   {
    "duration": 26,
    "start_time": "2022-12-09T13:29:05.039Z"
   },
   {
    "duration": 38,
    "start_time": "2022-12-09T13:29:05.066Z"
   },
   {
    "duration": 10,
    "start_time": "2022-12-09T13:29:05.105Z"
   },
   {
    "duration": 9,
    "start_time": "2022-12-09T13:29:05.116Z"
   },
   {
    "duration": 384,
    "start_time": "2022-12-09T13:29:05.126Z"
   },
   {
    "duration": 12,
    "start_time": "2022-12-09T13:29:05.512Z"
   },
   {
    "duration": 41,
    "start_time": "2022-12-09T13:29:05.526Z"
   },
   {
    "duration": 9,
    "start_time": "2022-12-09T13:29:05.568Z"
   },
   {
    "duration": 14,
    "start_time": "2022-12-09T13:29:05.578Z"
   },
   {
    "duration": 9,
    "start_time": "2022-12-09T13:29:05.593Z"
   },
   {
    "duration": 13,
    "start_time": "2022-12-09T13:29:05.603Z"
   },
   {
    "duration": 62,
    "start_time": "2022-12-09T13:29:05.618Z"
   },
   {
    "duration": 100,
    "start_time": "2022-12-09T13:29:05.682Z"
   },
   {
    "duration": 3,
    "start_time": "2022-12-09T13:29:05.784Z"
   },
   {
    "duration": 15,
    "start_time": "2022-12-09T13:29:05.789Z"
   },
   {
    "duration": 321,
    "start_time": "2022-12-09T13:29:05.805Z"
   },
   {
    "duration": 5,
    "start_time": "2022-12-09T13:29:06.128Z"
   },
   {
    "duration": 6,
    "start_time": "2022-12-09T13:29:06.137Z"
   },
   {
    "duration": 23,
    "start_time": "2022-12-09T13:29:06.155Z"
   },
   {
    "duration": 4,
    "start_time": "2022-12-09T13:29:06.179Z"
   },
   {
    "duration": 10,
    "start_time": "2022-12-09T13:29:06.184Z"
   },
   {
    "duration": 9,
    "start_time": "2022-12-09T13:29:06.195Z"
   },
   {
    "duration": 176,
    "start_time": "2022-12-09T13:29:06.205Z"
   },
   {
    "duration": 8,
    "start_time": "2022-12-09T13:29:06.382Z"
   },
   {
    "duration": 9,
    "start_time": "2022-12-09T13:29:06.393Z"
   },
   {
    "duration": 253,
    "start_time": "2022-12-09T13:29:06.404Z"
   },
   {
    "duration": 7,
    "start_time": "2022-12-09T13:29:06.659Z"
   },
   {
    "duration": 8,
    "start_time": "2022-12-09T13:29:06.667Z"
   },
   {
    "duration": 173,
    "start_time": "2022-12-09T13:29:06.677Z"
   },
   {
    "duration": 8,
    "start_time": "2022-12-09T13:29:06.854Z"
   },
   {
    "duration": 8,
    "start_time": "2022-12-09T13:29:06.863Z"
   },
   {
    "duration": 9,
    "start_time": "2022-12-09T13:29:06.872Z"
   },
   {
    "duration": 9,
    "start_time": "2022-12-09T13:29:06.883Z"
   },
   {
    "duration": 215,
    "start_time": "2022-12-09T13:29:06.895Z"
   },
   {
    "duration": 189,
    "start_time": "2022-12-09T13:29:07.111Z"
   },
   {
    "duration": 7,
    "start_time": "2022-12-09T13:29:07.302Z"
   },
   {
    "duration": 9,
    "start_time": "2022-12-09T13:29:07.311Z"
   },
   {
    "duration": 194,
    "start_time": "2022-12-09T13:29:07.321Z"
   },
   {
    "duration": 9,
    "start_time": "2022-12-09T13:29:07.517Z"
   },
   {
    "duration": 17,
    "start_time": "2022-12-09T13:29:07.528Z"
   },
   {
    "duration": 157,
    "start_time": "2022-12-09T13:29:07.556Z"
   },
   {
    "duration": 7,
    "start_time": "2022-12-09T13:29:07.715Z"
   },
   {
    "duration": 8,
    "start_time": "2022-12-09T13:29:07.723Z"
   },
   {
    "duration": 175,
    "start_time": "2022-12-09T13:29:07.732Z"
   },
   {
    "duration": 9,
    "start_time": "2022-12-09T13:29:07.909Z"
   },
   {
    "duration": 147,
    "start_time": "2022-12-09T13:29:07.920Z"
   },
   {
    "duration": 9,
    "start_time": "2022-12-09T13:29:08.069Z"
   },
   {
    "duration": 9,
    "start_time": "2022-12-09T13:29:08.079Z"
   },
   {
    "duration": 183,
    "start_time": "2022-12-09T13:29:08.089Z"
   },
   {
    "duration": 8,
    "start_time": "2022-12-09T13:29:08.274Z"
   },
   {
    "duration": 9,
    "start_time": "2022-12-09T13:29:08.284Z"
   },
   {
    "duration": 180,
    "start_time": "2022-12-09T13:29:08.295Z"
   },
   {
    "duration": 8,
    "start_time": "2022-12-09T13:29:08.476Z"
   },
   {
    "duration": 9,
    "start_time": "2022-12-09T13:29:08.486Z"
   },
   {
    "duration": 235,
    "start_time": "2022-12-09T13:29:08.496Z"
   },
   {
    "duration": 9,
    "start_time": "2022-12-09T13:29:08.733Z"
   },
   {
    "duration": 19,
    "start_time": "2022-12-09T13:29:08.744Z"
   },
   {
    "duration": 216,
    "start_time": "2022-12-09T13:29:08.764Z"
   },
   {
    "duration": 8,
    "start_time": "2022-12-09T13:29:08.982Z"
   },
   {
    "duration": 9,
    "start_time": "2022-12-09T13:29:08.992Z"
   },
   {
    "duration": 294,
    "start_time": "2022-12-09T13:29:09.002Z"
   },
   {
    "duration": 8,
    "start_time": "2022-12-09T13:29:09.299Z"
   },
   {
    "duration": 14,
    "start_time": "2022-12-09T13:29:09.309Z"
   },
   {
    "duration": 171,
    "start_time": "2022-12-09T13:29:09.325Z"
   },
   {
    "duration": 285,
    "start_time": "2022-12-09T13:29:09.497Z"
   },
   {
    "duration": 173,
    "start_time": "2022-12-09T13:29:09.783Z"
   },
   {
    "duration": 200,
    "start_time": "2022-12-09T13:29:09.957Z"
   },
   {
    "duration": 183,
    "start_time": "2022-12-09T13:29:10.159Z"
   },
   {
    "duration": 183,
    "start_time": "2022-12-09T13:29:10.344Z"
   },
   {
    "duration": 174,
    "start_time": "2022-12-09T13:29:10.528Z"
   },
   {
    "duration": 128,
    "start_time": "2022-12-09T13:29:10.704Z"
   },
   {
    "duration": 0,
    "start_time": "2022-12-09T13:29:10.834Z"
   },
   {
    "duration": 0,
    "start_time": "2022-12-09T13:29:10.836Z"
   },
   {
    "duration": 0,
    "start_time": "2022-12-09T13:29:10.837Z"
   },
   {
    "duration": 0,
    "start_time": "2022-12-09T13:29:10.838Z"
   },
   {
    "duration": 0,
    "start_time": "2022-12-09T13:29:10.839Z"
   },
   {
    "duration": 0,
    "start_time": "2022-12-09T13:29:10.840Z"
   },
   {
    "duration": 0,
    "start_time": "2022-12-09T13:29:10.855Z"
   },
   {
    "duration": 0,
    "start_time": "2022-12-09T13:29:10.856Z"
   },
   {
    "duration": 0,
    "start_time": "2022-12-09T13:29:10.857Z"
   },
   {
    "duration": 0,
    "start_time": "2022-12-09T13:29:10.858Z"
   },
   {
    "duration": 0,
    "start_time": "2022-12-09T13:29:10.860Z"
   },
   {
    "duration": 0,
    "start_time": "2022-12-09T13:29:10.861Z"
   },
   {
    "duration": 0,
    "start_time": "2022-12-09T13:29:10.862Z"
   },
   {
    "duration": 0,
    "start_time": "2022-12-09T13:29:10.863Z"
   },
   {
    "duration": 0,
    "start_time": "2022-12-09T13:29:10.864Z"
   },
   {
    "duration": 0,
    "start_time": "2022-12-09T13:29:10.865Z"
   },
   {
    "duration": 1241,
    "start_time": "2022-12-09T13:40:56.282Z"
   },
   {
    "duration": 99,
    "start_time": "2022-12-09T13:40:57.525Z"
   },
   {
    "duration": 32,
    "start_time": "2022-12-09T13:40:57.626Z"
   },
   {
    "duration": 17,
    "start_time": "2022-12-09T13:40:57.660Z"
   },
   {
    "duration": 98,
    "start_time": "2022-12-09T13:40:57.679Z"
   },
   {
    "duration": 2511,
    "start_time": "2022-12-09T13:40:57.779Z"
   },
   {
    "duration": 5,
    "start_time": "2022-12-09T13:41:00.292Z"
   },
   {
    "duration": 17,
    "start_time": "2022-12-09T13:41:00.299Z"
   },
   {
    "duration": 40,
    "start_time": "2022-12-09T13:41:00.318Z"
   },
   {
    "duration": 19,
    "start_time": "2022-12-09T13:41:00.360Z"
   },
   {
    "duration": 33,
    "start_time": "2022-12-09T13:41:00.381Z"
   },
   {
    "duration": 70,
    "start_time": "2022-12-09T13:41:00.416Z"
   },
   {
    "duration": 11,
    "start_time": "2022-12-09T13:41:00.488Z"
   },
   {
    "duration": 24,
    "start_time": "2022-12-09T13:41:00.501Z"
   },
   {
    "duration": 425,
    "start_time": "2022-12-09T13:41:00.527Z"
   },
   {
    "duration": 17,
    "start_time": "2022-12-09T13:41:00.953Z"
   },
   {
    "duration": 43,
    "start_time": "2022-12-09T13:41:00.972Z"
   },
   {
    "duration": 12,
    "start_time": "2022-12-09T13:41:01.017Z"
   },
   {
    "duration": 39,
    "start_time": "2022-12-09T13:41:01.031Z"
   },
   {
    "duration": 22,
    "start_time": "2022-12-09T13:41:01.072Z"
   },
   {
    "duration": 12,
    "start_time": "2022-12-09T13:41:01.097Z"
   },
   {
    "duration": 55,
    "start_time": "2022-12-09T13:41:01.111Z"
   },
   {
    "duration": 115,
    "start_time": "2022-12-09T13:41:01.168Z"
   },
   {
    "duration": 4,
    "start_time": "2022-12-09T13:41:01.285Z"
   },
   {
    "duration": 25,
    "start_time": "2022-12-09T13:41:01.290Z"
   },
   {
    "duration": 338,
    "start_time": "2022-12-09T13:41:01.317Z"
   },
   {
    "duration": 5,
    "start_time": "2022-12-09T13:41:01.657Z"
   },
   {
    "duration": 23,
    "start_time": "2022-12-09T13:41:01.666Z"
   },
   {
    "duration": 39,
    "start_time": "2022-12-09T13:41:01.691Z"
   },
   {
    "duration": 18,
    "start_time": "2022-12-09T13:41:01.732Z"
   },
   {
    "duration": 28,
    "start_time": "2022-12-09T13:41:01.751Z"
   },
   {
    "duration": 20,
    "start_time": "2022-12-09T13:41:01.780Z"
   },
   {
    "duration": 159,
    "start_time": "2022-12-09T13:41:01.801Z"
   },
   {
    "duration": 10,
    "start_time": "2022-12-09T13:41:01.962Z"
   },
   {
    "duration": 9,
    "start_time": "2022-12-09T13:41:01.974Z"
   },
   {
    "duration": 183,
    "start_time": "2022-12-09T13:41:01.985Z"
   },
   {
    "duration": 9,
    "start_time": "2022-12-09T13:41:02.169Z"
   },
   {
    "duration": 38,
    "start_time": "2022-12-09T13:41:02.180Z"
   },
   {
    "duration": 247,
    "start_time": "2022-12-09T13:41:02.220Z"
   },
   {
    "duration": 8,
    "start_time": "2022-12-09T13:41:02.469Z"
   },
   {
    "duration": 11,
    "start_time": "2022-12-09T13:41:02.479Z"
   },
   {
    "duration": 11,
    "start_time": "2022-12-09T13:41:02.492Z"
   },
   {
    "duration": 8,
    "start_time": "2022-12-09T13:41:02.505Z"
   },
   {
    "duration": 218,
    "start_time": "2022-12-09T13:41:02.515Z"
   },
   {
    "duration": 219,
    "start_time": "2022-12-09T13:41:02.736Z"
   },
   {
    "duration": 8,
    "start_time": "2022-12-09T13:41:02.957Z"
   },
   {
    "duration": 12,
    "start_time": "2022-12-09T13:41:02.966Z"
   },
   {
    "duration": 178,
    "start_time": "2022-12-09T13:41:02.980Z"
   },
   {
    "duration": 8,
    "start_time": "2022-12-09T13:41:03.159Z"
   },
   {
    "duration": 9,
    "start_time": "2022-12-09T13:41:03.169Z"
   },
   {
    "duration": 177,
    "start_time": "2022-12-09T13:41:03.180Z"
   },
   {
    "duration": 7,
    "start_time": "2022-12-09T13:41:03.359Z"
   },
   {
    "duration": 7,
    "start_time": "2022-12-09T13:41:03.368Z"
   },
   {
    "duration": 179,
    "start_time": "2022-12-09T13:41:03.376Z"
   },
   {
    "duration": 10,
    "start_time": "2022-12-09T13:41:03.556Z"
   },
   {
    "duration": 151,
    "start_time": "2022-12-09T13:41:03.568Z"
   },
   {
    "duration": 8,
    "start_time": "2022-12-09T13:41:03.720Z"
   },
   {
    "duration": 30,
    "start_time": "2022-12-09T13:41:03.730Z"
   },
   {
    "duration": 174,
    "start_time": "2022-12-09T13:41:03.762Z"
   },
   {
    "duration": 9,
    "start_time": "2022-12-09T13:41:03.937Z"
   },
   {
    "duration": 24,
    "start_time": "2022-12-09T13:41:03.955Z"
   },
   {
    "duration": 163,
    "start_time": "2022-12-09T13:41:03.980Z"
   },
   {
    "duration": 15,
    "start_time": "2022-12-09T13:41:04.145Z"
   },
   {
    "duration": 9,
    "start_time": "2022-12-09T13:41:04.162Z"
   },
   {
    "duration": 228,
    "start_time": "2022-12-09T13:41:04.172Z"
   },
   {
    "duration": 8,
    "start_time": "2022-12-09T13:41:04.401Z"
   },
   {
    "duration": 9,
    "start_time": "2022-12-09T13:41:04.411Z"
   },
   {
    "duration": 269,
    "start_time": "2022-12-09T13:41:04.422Z"
   },
   {
    "duration": 9,
    "start_time": "2022-12-09T13:41:04.692Z"
   },
   {
    "duration": 9,
    "start_time": "2022-12-09T13:41:04.703Z"
   },
   {
    "duration": 191,
    "start_time": "2022-12-09T13:41:04.713Z"
   },
   {
    "duration": 8,
    "start_time": "2022-12-09T13:41:04.907Z"
   },
   {
    "duration": 10,
    "start_time": "2022-12-09T13:41:04.917Z"
   },
   {
    "duration": 295,
    "start_time": "2022-12-09T13:41:04.928Z"
   },
   {
    "duration": 301,
    "start_time": "2022-12-09T13:41:05.225Z"
   },
   {
    "duration": 170,
    "start_time": "2022-12-09T13:41:05.528Z"
   },
   {
    "duration": 197,
    "start_time": "2022-12-09T13:41:05.700Z"
   },
   {
    "duration": 182,
    "start_time": "2022-12-09T13:41:05.899Z"
   },
   {
    "duration": 190,
    "start_time": "2022-12-09T13:41:06.083Z"
   },
   {
    "duration": 172,
    "start_time": "2022-12-09T13:41:06.275Z"
   },
   {
    "duration": 475,
    "start_time": "2022-12-09T13:41:06.449Z"
   },
   {
    "duration": 15,
    "start_time": "2022-12-09T13:41:06.930Z"
   },
   {
    "duration": 4,
    "start_time": "2022-12-09T13:41:06.954Z"
   },
   {
    "duration": 359,
    "start_time": "2022-12-09T13:41:06.959Z"
   },
   {
    "duration": 13,
    "start_time": "2022-12-09T13:41:07.320Z"
   },
   {
    "duration": 25,
    "start_time": "2022-12-09T13:41:07.335Z"
   },
   {
    "duration": 215,
    "start_time": "2022-12-09T13:41:07.362Z"
   },
   {
    "duration": 11,
    "start_time": "2022-12-09T13:41:07.579Z"
   },
   {
    "duration": 9,
    "start_time": "2022-12-09T13:41:07.591Z"
   },
   {
    "duration": 247,
    "start_time": "2022-12-09T13:41:07.601Z"
   },
   {
    "duration": 184,
    "start_time": "2022-12-09T13:41:07.855Z"
   },
   {
    "duration": 550,
    "start_time": "2022-12-09T13:41:08.042Z"
   },
   {
    "duration": 375,
    "start_time": "2022-12-09T13:41:08.594Z"
   },
   {
    "duration": 228,
    "start_time": "2022-12-09T14:03:40.544Z"
   },
   {
    "duration": 283,
    "start_time": "2022-12-09T14:04:25.200Z"
   },
   {
    "duration": 604,
    "start_time": "2022-12-09T14:05:14.140Z"
   },
   {
    "duration": 337,
    "start_time": "2022-12-09T14:05:34.519Z"
   },
   {
    "duration": 15,
    "start_time": "2022-12-09T17:08:47.526Z"
   },
   {
    "duration": 8,
    "start_time": "2022-12-09T17:09:50.098Z"
   },
   {
    "duration": 10,
    "start_time": "2022-12-09T17:09:58.399Z"
   },
   {
    "duration": 163,
    "start_time": "2022-12-09T17:10:06.965Z"
   },
   {
    "duration": 157,
    "start_time": "2022-12-09T17:12:07.523Z"
   },
   {
    "duration": 8,
    "start_time": "2022-12-09T17:12:24.437Z"
   },
   {
    "duration": 9,
    "start_time": "2022-12-09T17:12:27.555Z"
   },
   {
    "duration": 13,
    "start_time": "2022-12-09T17:13:35.653Z"
   },
   {
    "duration": 4,
    "start_time": "2022-12-09T17:26:36.111Z"
   },
   {
    "duration": 159,
    "start_time": "2022-12-09T17:26:51.461Z"
   },
   {
    "duration": 164,
    "start_time": "2022-12-09T17:27:52.721Z"
   },
   {
    "duration": 527,
    "start_time": "2022-12-09T17:31:53.438Z"
   },
   {
    "duration": 646,
    "start_time": "2022-12-09T17:32:51.499Z"
   },
   {
    "duration": 1256,
    "start_time": "2022-12-09T17:41:22.239Z"
   },
   {
    "duration": 92,
    "start_time": "2022-12-09T17:41:23.497Z"
   },
   {
    "duration": 36,
    "start_time": "2022-12-09T17:41:23.591Z"
   },
   {
    "duration": 27,
    "start_time": "2022-12-09T17:41:23.629Z"
   },
   {
    "duration": 101,
    "start_time": "2022-12-09T17:41:23.657Z"
   },
   {
    "duration": 2566,
    "start_time": "2022-12-09T17:41:23.760Z"
   },
   {
    "duration": 5,
    "start_time": "2022-12-09T17:41:26.329Z"
   },
   {
    "duration": 13,
    "start_time": "2022-12-09T17:41:26.336Z"
   },
   {
    "duration": 28,
    "start_time": "2022-12-09T17:41:26.351Z"
   },
   {
    "duration": 18,
    "start_time": "2022-12-09T17:41:26.382Z"
   },
   {
    "duration": 19,
    "start_time": "2022-12-09T17:41:26.402Z"
   },
   {
    "duration": 62,
    "start_time": "2022-12-09T17:41:26.423Z"
   },
   {
    "duration": 11,
    "start_time": "2022-12-09T17:41:26.486Z"
   },
   {
    "duration": 11,
    "start_time": "2022-12-09T17:41:26.499Z"
   },
   {
    "duration": 408,
    "start_time": "2022-12-09T17:41:26.512Z"
   },
   {
    "duration": 14,
    "start_time": "2022-12-09T17:41:26.922Z"
   },
   {
    "duration": 41,
    "start_time": "2022-12-09T17:41:26.938Z"
   },
   {
    "duration": 10,
    "start_time": "2022-12-09T17:41:26.982Z"
   },
   {
    "duration": 16,
    "start_time": "2022-12-09T17:41:26.993Z"
   },
   {
    "duration": 13,
    "start_time": "2022-12-09T17:41:27.010Z"
   },
   {
    "duration": 32,
    "start_time": "2022-12-09T17:41:27.025Z"
   },
   {
    "duration": 36,
    "start_time": "2022-12-09T17:41:27.059Z"
   },
   {
    "duration": 116,
    "start_time": "2022-12-09T17:41:27.096Z"
   },
   {
    "duration": 4,
    "start_time": "2022-12-09T17:41:27.214Z"
   },
   {
    "duration": 15,
    "start_time": "2022-12-09T17:41:27.220Z"
   },
   {
    "duration": 326,
    "start_time": "2022-12-09T17:41:27.236Z"
   },
   {
    "duration": 6,
    "start_time": "2022-12-09T17:41:27.563Z"
   },
   {
    "duration": 9,
    "start_time": "2022-12-09T17:41:27.573Z"
   },
   {
    "duration": 28,
    "start_time": "2022-12-09T17:41:27.583Z"
   },
   {
    "duration": 5,
    "start_time": "2022-12-09T17:41:27.612Z"
   },
   {
    "duration": 37,
    "start_time": "2022-12-09T17:41:27.618Z"
   },
   {
    "duration": 10,
    "start_time": "2022-12-09T17:41:27.657Z"
   },
   {
    "duration": 170,
    "start_time": "2022-12-09T17:41:27.670Z"
   },
   {
    "duration": 18,
    "start_time": "2022-12-09T17:41:27.841Z"
   },
   {
    "duration": 9,
    "start_time": "2022-12-09T17:41:27.861Z"
   },
   {
    "duration": 173,
    "start_time": "2022-12-09T17:41:27.871Z"
   },
   {
    "duration": 13,
    "start_time": "2022-12-09T17:41:28.046Z"
   },
   {
    "duration": 9,
    "start_time": "2022-12-09T17:41:28.061Z"
   },
   {
    "duration": 271,
    "start_time": "2022-12-09T17:41:28.071Z"
   },
   {
    "duration": 13,
    "start_time": "2022-12-09T17:41:28.343Z"
   },
   {
    "duration": 9,
    "start_time": "2022-12-09T17:41:28.358Z"
   },
   {
    "duration": 11,
    "start_time": "2022-12-09T17:41:28.369Z"
   },
   {
    "duration": 8,
    "start_time": "2022-12-09T17:41:28.382Z"
   },
   {
    "duration": 202,
    "start_time": "2022-12-09T17:41:28.392Z"
   },
   {
    "duration": 250,
    "start_time": "2022-12-09T17:41:28.596Z"
   },
   {
    "duration": 14,
    "start_time": "2022-12-09T17:41:28.848Z"
   },
   {
    "duration": 13,
    "start_time": "2022-12-09T17:41:28.864Z"
   },
   {
    "duration": 196,
    "start_time": "2022-12-09T17:41:28.879Z"
   },
   {
    "duration": 9,
    "start_time": "2022-12-09T17:41:29.076Z"
   },
   {
    "duration": 8,
    "start_time": "2022-12-09T17:41:29.087Z"
   },
   {
    "duration": 168,
    "start_time": "2022-12-09T17:41:29.096Z"
   },
   {
    "duration": 7,
    "start_time": "2022-12-09T17:41:29.265Z"
   },
   {
    "duration": 7,
    "start_time": "2022-12-09T17:41:29.274Z"
   },
   {
    "duration": 172,
    "start_time": "2022-12-09T17:41:29.283Z"
   },
   {
    "duration": 9,
    "start_time": "2022-12-09T17:41:29.456Z"
   },
   {
    "duration": 131,
    "start_time": "2022-12-09T17:41:29.467Z"
   },
   {
    "duration": 7,
    "start_time": "2022-12-09T17:41:29.599Z"
   },
   {
    "duration": 8,
    "start_time": "2022-12-09T17:41:29.607Z"
   },
   {
    "duration": 178,
    "start_time": "2022-12-09T17:41:29.617Z"
   },
   {
    "duration": 7,
    "start_time": "2022-12-09T17:41:29.797Z"
   },
   {
    "duration": 9,
    "start_time": "2022-12-09T17:41:29.806Z"
   },
   {
    "duration": 176,
    "start_time": "2022-12-09T17:41:29.816Z"
   },
   {
    "duration": 8,
    "start_time": "2022-12-09T17:41:29.993Z"
   },
   {
    "duration": 9,
    "start_time": "2022-12-09T17:41:30.003Z"
   },
   {
    "duration": 229,
    "start_time": "2022-12-09T17:41:30.014Z"
   },
   {
    "duration": 14,
    "start_time": "2022-12-09T17:41:30.245Z"
   },
   {
    "duration": 10,
    "start_time": "2022-12-09T17:41:30.260Z"
   },
   {
    "duration": 218,
    "start_time": "2022-12-09T17:41:30.272Z"
   },
   {
    "duration": 9,
    "start_time": "2022-12-09T17:41:30.492Z"
   },
   {
    "duration": 17,
    "start_time": "2022-12-09T17:41:30.502Z"
   },
   {
    "duration": 188,
    "start_time": "2022-12-09T17:41:30.521Z"
   },
   {
    "duration": 9,
    "start_time": "2022-12-09T17:41:30.711Z"
   },
   {
    "duration": 22,
    "start_time": "2022-12-09T17:41:30.722Z"
   },
   {
    "duration": 280,
    "start_time": "2022-12-09T17:41:30.746Z"
   },
   {
    "duration": 274,
    "start_time": "2022-12-09T17:41:31.028Z"
   },
   {
    "duration": 165,
    "start_time": "2022-12-09T17:41:31.304Z"
   },
   {
    "duration": 191,
    "start_time": "2022-12-09T17:41:31.470Z"
   },
   {
    "duration": 192,
    "start_time": "2022-12-09T17:41:31.663Z"
   },
   {
    "duration": 179,
    "start_time": "2022-12-09T17:41:31.856Z"
   },
   {
    "duration": 163,
    "start_time": "2022-12-09T17:41:32.036Z"
   },
   {
    "duration": 443,
    "start_time": "2022-12-09T17:41:32.201Z"
   },
   {
    "duration": 12,
    "start_time": "2022-12-09T17:41:32.657Z"
   },
   {
    "duration": 3,
    "start_time": "2022-12-09T17:41:32.670Z"
   },
   {
    "duration": 330,
    "start_time": "2022-12-09T17:41:32.674Z"
   },
   {
    "duration": 10,
    "start_time": "2022-12-09T17:41:33.006Z"
   },
   {
    "duration": 10,
    "start_time": "2022-12-09T17:41:33.018Z"
   },
   {
    "duration": 217,
    "start_time": "2022-12-09T17:41:33.030Z"
   },
   {
    "duration": 12,
    "start_time": "2022-12-09T17:41:33.248Z"
   },
   {
    "duration": 9,
    "start_time": "2022-12-09T17:41:33.262Z"
   },
   {
    "duration": 224,
    "start_time": "2022-12-09T17:41:33.272Z"
   },
   {
    "duration": 174,
    "start_time": "2022-12-09T17:41:33.497Z"
   }
  ],
  "kernelspec": {
   "display_name": "Python 3 (ipykernel)",
   "language": "python",
   "name": "python3"
  },
  "language_info": {
   "codemirror_mode": {
    "name": "ipython",
    "version": 3
   },
   "file_extension": ".py",
   "mimetype": "text/x-python",
   "name": "python",
   "nbconvert_exporter": "python",
   "pygments_lexer": "ipython3",
   "version": "3.9.5"
  },
  "toc": {
   "base_numbering": 1,
   "nav_menu": {},
   "number_sections": true,
   "sideBar": true,
   "skip_h1_title": true,
   "title_cell": "Table of Contents",
   "title_sidebar": "Contents",
   "toc_cell": false,
   "toc_position": {},
   "toc_section_display": true,
   "toc_window_display": false
  }
 },
 "nbformat": 4,
 "nbformat_minor": 2
}
